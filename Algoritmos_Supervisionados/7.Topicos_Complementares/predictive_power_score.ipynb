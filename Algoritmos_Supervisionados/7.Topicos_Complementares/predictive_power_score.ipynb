{
 "cells": [
  {
   "cell_type": "markdown",
   "id": "726cdb7e",
   "metadata": {},
   "source": [
    "# PPS – Predictive Power Score\n",
    "\n",
    "O **Predictive Power Score (PPS)** é uma métrica que avalia a **capacidade de uma variável prever outra** dentro de um conjunto de dados. Ele fornece uma pontuação que varia de 0 a 1:\n",
    "\n",
    "- **0** indica nenhuma capacidade de previsão,  \n",
    "- **1** representa uma previsão perfeita.\n",
    "\n",
    "O PPS é calculado com base em uma adaptação da **covariância entre as variáveis** e da **variância da variável alvo**, oferecendo uma medida abrangente de previsibilidade. Essa métrica considera tanto **relações lineares quanto não lineares** entre as variáveis.\n",
    "\n",
    "---\n",
    "\n",
    "## Para que serve?\n",
    "\n",
    "O PPS é uma ferramenta valiosa para:\n",
    "\n",
    "- Identificar a **direção e a força das relações** entre variáveis;\n",
    "- Auxiliar na **seleção de características** relevantes;\n",
    "- Apoiar o **desenvolvimento de modelos preditivos mais eficazes**.\n",
    "\n",
    "Em resumo, o PPS é um recurso poderoso para quem busca extrair mais valor dos dados por meio de previsões precisas e bem fundamentadas.\n"
   ]
  }
 ],
 "metadata": {
  "kernelspec": {
   "display_name": "AIENV",
   "language": "python",
   "name": "python3"
  },
  "language_info": {
   "codemirror_mode": {
    "name": "ipython",
    "version": 3
   },
   "file_extension": ".py",
   "mimetype": "text/x-python",
   "name": "python",
   "nbconvert_exporter": "python",
   "pygments_lexer": "ipython3",
   "version": "3.13.2"
  }
 },
 "nbformat": 4,
 "nbformat_minor": 5
}
