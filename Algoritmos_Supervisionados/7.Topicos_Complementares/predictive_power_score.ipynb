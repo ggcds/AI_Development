{
 "cells": [
  {
   "cell_type": "markdown",
   "id": "726cdb7e",
   "metadata": {},
   "source": [
    "# PPS – Predictive Power Score\n",
    "\n",
    "O **Predictive Power Score (PPS)** é uma métrica que avalia a **capacidade de uma variável prever outra** dentro de um conjunto de dados. Ele fornece uma pontuação que varia de 0 a 1:\n",
    "\n",
    "- **0** indica nenhuma capacidade de previsão,  \n",
    "- **1** representa uma previsão perfeita.\n",
    "\n",
    "O PPS é calculado com base em uma adaptação da **covariância entre as variáveis** e da **variância da variável alvo**, oferecendo uma medida abrangente de previsibilidade. Essa métrica considera tanto **relações lineares quanto não lineares** entre as variáveis.\n",
    "\n",
    "---\n",
    "\n",
    "## Para que serve?\n",
    "\n",
    "O PPS é uma ferramenta valiosa para:\n",
    "\n",
    "- Identificar a **direção e a força das relações** entre variáveis;\n",
    "- Auxiliar na **seleção de características** relevantes;\n",
    "- Apoiar o **desenvolvimento de modelos preditivos mais eficazes**.\n",
    "\n",
    "Em resumo, o PPS é um recurso poderoso para quem busca extrair mais valor dos dados por meio de previsões precisas e bem fundamentadas.\n"
   ]
  },
  {
   "cell_type": "markdown",
   "id": "42198b61",
   "metadata": {},
   "source": []
  }
 ],
 "metadata": {
  "kernelspec": {
   "display_name": "projeto_logistico",
   "language": "python",
   "name": "python3"
  },
  "language_info": {
   "name": "python",
   "version": "3.11.11"
  }
 },
 "nbformat": 4,
 "nbformat_minor": 5
}
