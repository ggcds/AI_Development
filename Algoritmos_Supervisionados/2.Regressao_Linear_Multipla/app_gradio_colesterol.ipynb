{
 "cells": [
  {
   "cell_type": "code",
   "execution_count": 2,
   "id": "91e19a69",
   "metadata": {},
   "outputs": [],
   "source": [
    "import gradio as gr\n",
    "import joblib\n",
    "import pandas as pd"
   ]
  },
  {
   "cell_type": "code",
   "execution_count": 3,
   "id": "86027a89",
   "metadata": {},
   "outputs": [],
   "source": [
    "modelo = joblib.load('./modelo_colesterol.pkl')"
   ]
  },
  {
   "cell_type": "code",
   "execution_count": 15,
   "id": "56c50866",
   "metadata": {},
   "outputs": [],
   "source": [
    "def predict(grupo_sanguineo, fumante, nivel_atividade_fisica, idade, peso, altura):\n",
    "    _fumante = 'Sim' if fumante else 'Não'\n",
    "    predicao_individual = {\n",
    "        'grupo_sanguineo': grupo_sanguineo,\n",
    "        'fumante': _fumante,\n",
    "        'nivel_atividade_fisica': nivel_atividade_fisica,\n",
    "        'idade': idade,\n",
    "        'peso': peso,\n",
    "        'altura': altura\n",
    "    }\n",
    "\n",
    "    predict_df = pd.DataFrame(predicao_individual, index=[1])\n",
    "    colesterol = modelo.predict(predict_df)\n",
    "    return colesterol.reshape(-1)"
   ]
  },
  {
   "cell_type": "code",
   "execution_count": 16,
   "id": "7287f514",
   "metadata": {},
   "outputs": [],
   "source": [
    "demo = gr.Interface(\n",
    "    fn=predict,\n",
    "    inputs=[\n",
    "        gr.Radio(['O', 'A', 'B', 'AB']),\n",
    "        'checkbox',\n",
    "        gr.Radio(['Baixo', 'Moderado', 'Alto']),\n",
    "        gr.Slider(20, 80, step=1),\n",
    "        gr.Slider(40, 160, step=0.1),\n",
    "        gr.Slider(150, 200, step=1),\n",
    "    ],\n",
    "    outputs=['number']\n",
    ")\n"
   ]
  },
  {
   "cell_type": "code",
   "execution_count": 19,
   "id": "02661a05",
   "metadata": {},
   "outputs": [
    {
     "name": "stdout",
     "output_type": "stream",
     "text": [
      "Rerunning server... use `close()` to stop if you need to change `launch()` parameters.\n",
      "----\n",
      "\n",
      "Could not create share link. Please check your internet connection or our status page: https://status.gradio.app.\n"
     ]
    },
    {
     "data": {
      "text/html": [
       "<div><iframe src=\"http://127.0.0.1:7863/\" width=\"100%\" height=\"500\" allow=\"autoplay; camera; microphone; clipboard-read; clipboard-write;\" frameborder=\"0\" allowfullscreen></iframe></div>"
      ],
      "text/plain": [
       "<IPython.core.display.HTML object>"
      ]
     },
     "metadata": {},
     "output_type": "display_data"
    },
    {
     "data": {
      "text/plain": []
     },
     "execution_count": 19,
     "metadata": {},
     "output_type": "execute_result"
    }
   ],
   "source": [
    "demo.launch(share=True)"
   ]
  }
 ],
 "metadata": {
  "kernelspec": {
   "display_name": "Projeto_ML",
   "language": "python",
   "name": "python3"
  },
  "language_info": {
   "codemirror_mode": {
    "name": "ipython",
    "version": 3
   },
   "file_extension": ".py",
   "mimetype": "text/x-python",
   "name": "python",
   "nbconvert_exporter": "python",
   "pygments_lexer": "ipython3",
   "version": "3.13.2"
  }
 },
 "nbformat": 4,
 "nbformat_minor": 5
}
