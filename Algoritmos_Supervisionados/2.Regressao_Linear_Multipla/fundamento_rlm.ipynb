{
 "cells": [
  {
   "cell_type": "markdown",
   "id": "db1dc5d7",
   "metadata": {},
   "source": [
    "# Regressão Linear Múltipla\n",
    "\n",
    "## 📘 Linear Regression: Single Variable\n",
    "\n",
    "A equação da regressão linear simples é:\n",
    "\n",
    "```\n",
    "ŷ = β₀ + β₁x + ϵ\n",
    "```\n",
    "\n",
    "- **ŷ**: Predicted output (saída prevista)  \n",
    "- **β₀, β₁**: Coeficientes (incluindo o intercepto)  \n",
    "- **x**: Variável de entrada (input)  \n",
    "- **ϵ**: Erro (resíduo)\n",
    "\n",
    "---\n",
    "\n",
    "## 📗 Linear Regression: Multiple Variables\n",
    "\n",
    "A equação da regressão linear com múltiplas variáveis é:\n",
    "\n",
    "```\n",
    "ŷ = β₀ + β₁x₁ + ... + βₚxₚ + ϵ\n",
    "```\n",
    "\n",
    "- **x₁, x₂, ..., xₚ**: Múltiplas variáveis independentes  \n",
    "- **β₁, β₂, ..., βₚ**: Coeficientes associados a cada variável  \n",
    "- **ϵ**: Termo de erro (ruído)\n",
    "\n",
    "---\n",
    "\n",
    "## 🧮 Método Utilizado\n",
    "\n",
    "**Ordinary Least Squares (OLS)** — Método dos Mínimos Quadrados:\n",
    "\n",
    "- Busca minimizar a soma dos quadrados das diferenças entre os valores observados e os valores previstos pelo modelo.\n",
    "\n",
    "---\n",
    "\n",
    "## 📊 Visualização\n",
    "\n",
    "- A imagem da direita representa uma superfície de regressão linear múltipla ajustada a pontos (em vermelho), com os eixos representando duas variáveis independentes **X₁** e **X₂**, e o eixo vertical representando **Y**.\n"
   ]
  }
 ],
 "metadata": {
  "language_info": {
   "name": "python"
  }
 },
 "nbformat": 4,
 "nbformat_minor": 5
}
