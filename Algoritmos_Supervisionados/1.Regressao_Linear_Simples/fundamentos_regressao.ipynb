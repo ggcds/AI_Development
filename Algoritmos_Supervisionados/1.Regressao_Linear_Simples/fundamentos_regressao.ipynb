{
 "cells": [
  {
   "cell_type": "markdown",
   "id": "61b70a5a",
   "metadata": {},
   "source": [
    "# Algoritmos Supervisionados – Regressão Linear Simples\n",
    "\n",
    "O objetivo deste módulo é apresentar conceitualmente os **principais algoritmos de regressão** para que possamos desenvolver projetos de *machine learning* que fazem previsões de valores.\n",
    "\n",
    "E faremos um projeto explorando o primeiro destes algoritmos, que é o de **regressão linear simples**, onde faremos o **processo completo** desde o EDA até a entrega do modelo através de uma API para consumo por outras aplicações.\n",
    "\n",
    "## O que é Análise de Regressão?\n",
    "\n",
    "A **análise de regressão** é uma abordagem **estatística** que busca **investigar e quantificar as relações** entre variáveis. Ela é usada para entender como uma variável dependente (*target*) está relacionada a uma ou mais variáveis independentes (fatores que acreditamos influenciar a variável dependente).\n",
    "\n",
    "Essa técnica permite construir um **modelo matemático**, geralmente na forma de uma equação linear, que representa essa relação. Ao ajustar o modelo aos dados observados, podemos **estimar** os parâmetros e entender como as **mudanças nas variáveis independentes** afetam a variável dependente.\n",
    "\n",
    "Isso é fundamental para **fazer previsões**, tomar decisões embasadas em evidências e **compreender melhor os padrões em dados do mundo real**.\n",
    "\n",
    "## Um passeio pelos tipos de Regressão\n",
    "\n",
    "### Linear Simples\n",
    "Envolve uma variável independente e uma variável dependente, sendo representada por uma linha reta.  \n",
    "**Exemplo**: Prever pontuação num exame com base no tempo de estudo.\n",
    "\n",
    "### Linear Múltipla\n",
    "Utiliza várias variáveis independentes para prever uma variável dependente, resultando em um modelo linear mais complexo.  \n",
    "**Exemplo**: Prever desempenho de alunos com base em múltiplas variáveis.\n",
    "\n",
    "### Logística\n",
    "Usada geralmente para prever probabil\n",
    "\n",
    "### Poisson\n",
    "Adequada para modelar dados de contagem, como o número de eventos em um determinado período.  \n",
    "É comum em estudos epidemiológicos e de contagem.  \n",
    "**Exemplo**: Número de Reclamações de Sinistros.\n",
    "\n",
    "### Ridge, Lasso e ElasticNet\n",
    "Técnicas de regularização para lidar com multicolinearidade e overfitting.  \n",
    "São usadas em análises onde há muitas variáveis independentes.  \n",
    "**Exemplo**: Estimar preços de casas com base em muitas variáveis.\n",
    "\n",
    "### Gamma\n",
    "Usada quando os dados não seguem uma distribuição normal e exibem uma assimetria positiva (à direita).  \n",
    "Além disso, o *target* é contínuo e positivo.  \n",
    "**Exemplo**: Previsão de tempo de permanência de pacientes em um hospital.\n",
    "\n",
    "### Beta\n",
    "Aplicada quando a variável dependente está restrita ao intervalo [0, 1], comum em análises de proporções e taxas.  \n",
    "**Exemplo**: Taxa de conversão com base numa campanha de marketing.\n",
    "\n"
   ]
  },
  {
   "cell_type": "markdown",
   "id": "7f504dd9",
   "metadata": {},
   "source": []
  }
 ],
 "metadata": {
  "language_info": {
   "name": "python"
  }
 },
 "nbformat": 4,
 "nbformat_minor": 5
}
