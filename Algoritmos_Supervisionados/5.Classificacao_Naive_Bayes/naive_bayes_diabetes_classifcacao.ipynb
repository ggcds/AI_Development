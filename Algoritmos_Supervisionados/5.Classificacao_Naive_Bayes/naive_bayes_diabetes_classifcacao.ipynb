{
 "cells": [
  {
   "cell_type": "markdown",
   "id": "2e999287",
   "metadata": {},
   "source": [
    "# Desafio: Classificação de Diabetes com Naive Bayes\n",
    "\n",
    "## Contexto\n",
    "\n",
    "O diabetes é uma condição crônica que afeta milhões de pessoas em todo o mundo. A detecção precoce é essencial para o tratamento eficaz e para a prevenção de complicações graves. Este desafio tem como objetivo construir um modelo de aprendizado de máquina que possa prever se um paciente tem diabetes com base em dados de glicose e pressão arterial.\n",
    "\n",
    "## Sobre o Dataset\n",
    "\n",
    "O dataset contém informações sobre glicose e pressão arterial de pacientes, além de uma coluna indicando se o paciente tem diabetes ou não. Ele possui 3 colunas e 995 entradas:\n",
    "\n",
    "- **glicemia**: Nível de glicose no sangue.\n",
    "- **pressao_arterial**: Pressão arterial do paciente.\n",
    "- **diabetes**: Classe alvo, onde `1` indica que o paciente tem diabetes e `0` indica que não tem.\n",
    "\n",
    "## Desafio\n",
    "\n",
    "O objetivo é implementar um modelo de classificação utilizando o algoritmo **Naive Bayes** para prever se um paciente tem diabetes com base nos dados fornecidos."
   ]
  },
  {
   "cell_type": "code",
   "execution_count": 13,
   "id": "f33b37d3",
   "metadata": {},
   "outputs": [
    {
     "data": {
      "text/html": [
       "<div>\n",
       "<style scoped>\n",
       "    .dataframe tbody tr th:only-of-type {\n",
       "        vertical-align: middle;\n",
       "    }\n",
       "\n",
       "    .dataframe tbody tr th {\n",
       "        vertical-align: top;\n",
       "    }\n",
       "\n",
       "    .dataframe thead th {\n",
       "        text-align: right;\n",
       "    }\n",
       "</style>\n",
       "<table border=\"1\" class=\"dataframe\">\n",
       "  <thead>\n",
       "    <tr style=\"text-align: right;\">\n",
       "      <th></th>\n",
       "      <th>glicemia</th>\n",
       "      <th>pressao_arterial</th>\n",
       "      <th>diabetes</th>\n",
       "    </tr>\n",
       "  </thead>\n",
       "  <tbody>\n",
       "    <tr>\n",
       "      <th>0</th>\n",
       "      <td>40</td>\n",
       "      <td>85</td>\n",
       "      <td>0</td>\n",
       "    </tr>\n",
       "    <tr>\n",
       "      <th>1</th>\n",
       "      <td>40</td>\n",
       "      <td>92</td>\n",
       "      <td>0</td>\n",
       "    </tr>\n",
       "    <tr>\n",
       "      <th>2</th>\n",
       "      <td>45</td>\n",
       "      <td>63</td>\n",
       "      <td>1</td>\n",
       "    </tr>\n",
       "    <tr>\n",
       "      <th>3</th>\n",
       "      <td>45</td>\n",
       "      <td>80</td>\n",
       "      <td>0</td>\n",
       "    </tr>\n",
       "    <tr>\n",
       "      <th>4</th>\n",
       "      <td>40</td>\n",
       "      <td>73</td>\n",
       "      <td>1</td>\n",
       "    </tr>\n",
       "  </tbody>\n",
       "</table>\n",
       "</div>"
      ],
      "text/plain": [
       "   glicemia  pressao_arterial  diabetes\n",
       "0        40                85         0\n",
       "1        40                92         0\n",
       "2        45                63         1\n",
       "3        45                80         0\n",
       "4        40                73         1"
      ]
     },
     "execution_count": 13,
     "metadata": {},
     "output_type": "execute_result"
    }
   ],
   "source": [
    "import pandas as pd\n",
    "import sweetviz as sv\n",
    "from scipy.stats import shapiro\n",
    "\n",
    "from sklearn.model_selection import train_test_split\n",
    "from sklearn.naive_bayes import GaussianNB\n",
    "from sklearn.metrics import precision_score\n",
    "from sklearn.metrics import confusion_matrix, ConfusionMatrixDisplay\n",
    "import optuna\n",
    "\n",
    "# Importar o dataset\n",
    "df = pd.read_csv('datasets/diabetes.csv')\n",
    "\n",
    "df.head()"
   ]
  },
  {
   "cell_type": "code",
   "execution_count": 3,
   "id": "6f4827fc",
   "metadata": {},
   "outputs": [
    {
     "name": "stdout",
     "output_type": "stream",
     "text": [
      "<class 'pandas.core.frame.DataFrame'>\n",
      "RangeIndex: 995 entries, 0 to 994\n",
      "Data columns (total 3 columns):\n",
      " #   Column            Non-Null Count  Dtype\n",
      "---  ------            --------------  -----\n",
      " 0   glicemia          995 non-null    int64\n",
      " 1   pressao_arterial  995 non-null    int64\n",
      " 2   diabetes          995 non-null    int64\n",
      "dtypes: int64(3)\n",
      "memory usage: 23.4 KB\n"
     ]
    }
   ],
   "source": [
    "df.info()"
   ]
  },
  {
   "cell_type": "code",
   "execution_count": 5,
   "id": "ca4c60a6",
   "metadata": {},
   "outputs": [
    {
     "name": "stdout",
     "output_type": "stream",
     "text": [
      "Estatística do Teste: 0.9321769909426705, p-valor: 7.851797454813074e-21\n",
      "A variável glicemia não segue uma distribuição normal (rejeitamos H0).\n"
     ]
    }
   ],
   "source": [
    "stat, p = shapiro(df['glicemia'])\n",
    "print(f'Estatística do Teste: {stat}, p-valor: {p}')\n",
    "\n",
    "if p > 0.05:\n",
    "    print(\"A variável glicemia segue uma distribuição normal (não rejeitamos H0).\")\n",
    "else:\n",
    "    print(\"A variável glicemia não segue uma distribuição normal (rejeitamos H0).\")"
   ]
  },
  {
   "cell_type": "code",
   "execution_count": 10,
   "id": "7f9a4660",
   "metadata": {},
   "outputs": [
    {
     "name": "stderr",
     "output_type": "stream",
     "text": [
      "[I 2025-05-12 23:55:23,800] A new study created in memory with name: no-name-ea5b6196-4d4c-4daf-9d74-e44bfc30e5b7\n",
      "[I 2025-05-12 23:55:23,802] Trial 0 finished with value: 0.0 and parameters: {'use_glicemia': False, 'use_pressao': False}. Best is trial 0 with value: 0.0.\n",
      "[I 2025-05-12 23:55:23,803] Trial 1 finished with value: 0.0 and parameters: {'use_glicemia': False, 'use_pressao': False}. Best is trial 0 with value: 0.0.\n",
      "[I 2025-05-12 23:55:23,809] Trial 2 finished with value: 0.9339622641509434 and parameters: {'use_glicemia': True, 'use_pressao': True}. Best is trial 2 with value: 0.9339622641509434.\n",
      "[I 2025-05-12 23:55:23,815] Trial 3 finished with value: 0.95 and parameters: {'use_glicemia': False, 'use_pressao': True}. Best is trial 3 with value: 0.95.\n",
      "[I 2025-05-12 23:55:23,816] Trial 4 finished with value: 0.0 and parameters: {'use_glicemia': False, 'use_pressao': False}. Best is trial 3 with value: 0.95.\n",
      "[I 2025-05-12 23:55:23,821] Trial 5 finished with value: 0.95 and parameters: {'use_glicemia': False, 'use_pressao': True}. Best is trial 3 with value: 0.95.\n",
      "[I 2025-05-12 23:55:23,826] Trial 6 finished with value: 0.7654320987654321 and parameters: {'use_glicemia': True, 'use_pressao': False}. Best is trial 3 with value: 0.95.\n",
      "[I 2025-05-12 23:55:23,827] Trial 7 finished with value: 0.0 and parameters: {'use_glicemia': False, 'use_pressao': False}. Best is trial 3 with value: 0.95.\n",
      "[I 2025-05-12 23:55:23,834] Trial 8 finished with value: 0.9339622641509434 and parameters: {'use_glicemia': True, 'use_pressao': True}. Best is trial 3 with value: 0.95.\n",
      "[I 2025-05-12 23:55:23,838] Trial 9 finished with value: 0.7654320987654321 and parameters: {'use_glicemia': True, 'use_pressao': False}. Best is trial 3 with value: 0.95.\n",
      "[I 2025-05-12 23:55:23,844] Trial 10 finished with value: 0.95 and parameters: {'use_glicemia': False, 'use_pressao': True}. Best is trial 3 with value: 0.95.\n",
      "[I 2025-05-12 23:55:23,849] Trial 11 finished with value: 0.95 and parameters: {'use_glicemia': False, 'use_pressao': True}. Best is trial 3 with value: 0.95.\n",
      "[I 2025-05-12 23:55:23,855] Trial 12 finished with value: 0.95 and parameters: {'use_glicemia': False, 'use_pressao': True}. Best is trial 3 with value: 0.95.\n",
      "[I 2025-05-12 23:55:23,860] Trial 13 finished with value: 0.95 and parameters: {'use_glicemia': False, 'use_pressao': True}. Best is trial 3 with value: 0.95.\n",
      "[I 2025-05-12 23:55:23,866] Trial 14 finished with value: 0.95 and parameters: {'use_glicemia': False, 'use_pressao': True}. Best is trial 3 with value: 0.95.\n",
      "[I 2025-05-12 23:55:23,872] Trial 15 finished with value: 0.95 and parameters: {'use_glicemia': False, 'use_pressao': True}. Best is trial 3 with value: 0.95.\n",
      "[I 2025-05-12 23:55:23,877] Trial 16 finished with value: 0.95 and parameters: {'use_glicemia': False, 'use_pressao': True}. Best is trial 3 with value: 0.95.\n",
      "[I 2025-05-12 23:55:23,883] Trial 17 finished with value: 0.95 and parameters: {'use_glicemia': False, 'use_pressao': True}. Best is trial 3 with value: 0.95.\n",
      "[I 2025-05-12 23:55:23,889] Trial 18 finished with value: 0.9339622641509434 and parameters: {'use_glicemia': True, 'use_pressao': True}. Best is trial 3 with value: 0.95.\n",
      "[I 2025-05-12 23:55:23,895] Trial 19 finished with value: 0.95 and parameters: {'use_glicemia': False, 'use_pressao': True}. Best is trial 3 with value: 0.95.\n",
      "[I 2025-05-12 23:55:23,903] Trial 20 finished with value: 0.95 and parameters: {'use_glicemia': False, 'use_pressao': True}. Best is trial 3 with value: 0.95.\n",
      "[I 2025-05-12 23:55:23,911] Trial 21 finished with value: 0.95 and parameters: {'use_glicemia': False, 'use_pressao': True}. Best is trial 3 with value: 0.95.\n",
      "[I 2025-05-12 23:55:23,916] Trial 22 finished with value: 0.95 and parameters: {'use_glicemia': False, 'use_pressao': True}. Best is trial 3 with value: 0.95.\n",
      "[I 2025-05-12 23:55:23,923] Trial 23 finished with value: 0.95 and parameters: {'use_glicemia': False, 'use_pressao': True}. Best is trial 3 with value: 0.95.\n",
      "[I 2025-05-12 23:55:23,930] Trial 24 finished with value: 0.95 and parameters: {'use_glicemia': False, 'use_pressao': True}. Best is trial 3 with value: 0.95.\n",
      "[I 2025-05-12 23:55:23,935] Trial 25 finished with value: 0.95 and parameters: {'use_glicemia': False, 'use_pressao': True}. Best is trial 3 with value: 0.95.\n",
      "[I 2025-05-12 23:55:23,942] Trial 26 finished with value: 0.9339622641509434 and parameters: {'use_glicemia': True, 'use_pressao': True}. Best is trial 3 with value: 0.95.\n",
      "[I 2025-05-12 23:55:23,948] Trial 27 finished with value: 0.95 and parameters: {'use_glicemia': False, 'use_pressao': True}. Best is trial 3 with value: 0.95.\n",
      "[I 2025-05-12 23:55:23,954] Trial 28 finished with value: 0.95 and parameters: {'use_glicemia': False, 'use_pressao': True}. Best is trial 3 with value: 0.95.\n",
      "[I 2025-05-12 23:55:23,957] Trial 29 finished with value: 0.0 and parameters: {'use_glicemia': False, 'use_pressao': False}. Best is trial 3 with value: 0.95.\n",
      "[I 2025-05-12 23:55:23,965] Trial 30 finished with value: 0.95 and parameters: {'use_glicemia': False, 'use_pressao': True}. Best is trial 3 with value: 0.95.\n",
      "[I 2025-05-12 23:55:23,970] Trial 31 finished with value: 0.95 and parameters: {'use_glicemia': False, 'use_pressao': True}. Best is trial 3 with value: 0.95.\n",
      "[I 2025-05-12 23:55:23,976] Trial 32 finished with value: 0.95 and parameters: {'use_glicemia': False, 'use_pressao': True}. Best is trial 3 with value: 0.95.\n",
      "[I 2025-05-12 23:55:23,982] Trial 33 finished with value: 0.95 and parameters: {'use_glicemia': False, 'use_pressao': True}. Best is trial 3 with value: 0.95.\n",
      "[I 2025-05-12 23:55:23,984] Trial 34 finished with value: 0.0 and parameters: {'use_glicemia': False, 'use_pressao': False}. Best is trial 3 with value: 0.95.\n",
      "[I 2025-05-12 23:55:23,990] Trial 35 finished with value: 0.95 and parameters: {'use_glicemia': False, 'use_pressao': True}. Best is trial 3 with value: 0.95.\n",
      "[I 2025-05-12 23:55:23,997] Trial 36 finished with value: 0.7654320987654321 and parameters: {'use_glicemia': True, 'use_pressao': False}. Best is trial 3 with value: 0.95.\n",
      "[I 2025-05-12 23:55:24,002] Trial 37 finished with value: 0.95 and parameters: {'use_glicemia': False, 'use_pressao': True}. Best is trial 3 with value: 0.95.\n",
      "[I 2025-05-12 23:55:24,009] Trial 38 finished with value: 0.9339622641509434 and parameters: {'use_glicemia': True, 'use_pressao': True}. Best is trial 3 with value: 0.95.\n",
      "[I 2025-05-12 23:55:24,012] Trial 39 finished with value: 0.0 and parameters: {'use_glicemia': False, 'use_pressao': False}. Best is trial 3 with value: 0.95.\n",
      "[I 2025-05-12 23:55:24,017] Trial 40 finished with value: 0.95 and parameters: {'use_glicemia': False, 'use_pressao': True}. Best is trial 3 with value: 0.95.\n",
      "[I 2025-05-12 23:55:24,025] Trial 41 finished with value: 0.95 and parameters: {'use_glicemia': False, 'use_pressao': True}. Best is trial 3 with value: 0.95.\n",
      "[I 2025-05-12 23:55:24,031] Trial 42 finished with value: 0.95 and parameters: {'use_glicemia': False, 'use_pressao': True}. Best is trial 3 with value: 0.95.\n",
      "[I 2025-05-12 23:55:24,037] Trial 43 finished with value: 0.95 and parameters: {'use_glicemia': False, 'use_pressao': True}. Best is trial 3 with value: 0.95.\n",
      "[I 2025-05-12 23:55:24,045] Trial 44 finished with value: 0.95 and parameters: {'use_glicemia': False, 'use_pressao': True}. Best is trial 3 with value: 0.95.\n",
      "[I 2025-05-12 23:55:24,051] Trial 45 finished with value: 0.95 and parameters: {'use_glicemia': False, 'use_pressao': True}. Best is trial 3 with value: 0.95.\n",
      "[I 2025-05-12 23:55:24,057] Trial 46 finished with value: 0.9339622641509434 and parameters: {'use_glicemia': True, 'use_pressao': True}. Best is trial 3 with value: 0.95.\n",
      "[I 2025-05-12 23:55:24,060] Trial 47 finished with value: 0.0 and parameters: {'use_glicemia': False, 'use_pressao': False}. Best is trial 3 with value: 0.95.\n",
      "[I 2025-05-12 23:55:24,067] Trial 48 finished with value: 0.95 and parameters: {'use_glicemia': False, 'use_pressao': True}. Best is trial 3 with value: 0.95.\n",
      "[I 2025-05-12 23:55:24,077] Trial 49 finished with value: 0.95 and parameters: {'use_glicemia': False, 'use_pressao': True}. Best is trial 3 with value: 0.95.\n"
     ]
    },
    {
     "name": "stdout",
     "output_type": "stream",
     "text": [
      "Melhor precisão: 0.95\n",
      "Melhores parâmetros: {'use_glicemia': False, 'use_pressao': True}\n"
     ]
    }
   ],
   "source": [
    "# Separar as features e a variável alvo\n",
    "X = df[['glicemia', 'pressao_arterial']]  # Features\n",
    "y = df['diabetes']  # Target\n",
    "\n",
    "# Dividir o dataset em treino e teste\n",
    "X_train, X_test, y_train, y_test = train_test_split(X, y, test_size=0.2, random_state=42)\n",
    "\n",
    "# Função objetivo para o Optuna\n",
    "def naive_bayes_diabetes(trial):\n",
    "    # Selecionar as features a serem usadas\n",
    "    use_glicemia = trial.suggest_categorical('use_glicemia', [True, False])\n",
    "    use_pressao = trial.suggest_categorical('use_pressao', [True, False])\n",
    "    \n",
    "    selected_features = []\n",
    "    if use_glicemia:\n",
    "        selected_features.append('glicemia')\n",
    "    if use_pressao:\n",
    "        selected_features.append('pressao_arterial')\n",
    "    \n",
    "    # Garantir que pelo menos uma feature seja selecionada\n",
    "    if not selected_features:\n",
    "        return 0.0\n",
    "\n",
    "    # Subset das features selecionadas\n",
    "    X_train_selected = X_train[selected_features]\n",
    "    X_test_selected = X_test[selected_features]\n",
    "    \n",
    "    # Treinar o modelo Naive Bayes\n",
    "    model = GaussianNB()\n",
    "    model.fit(X_train_selected, y_train)\n",
    "    \n",
    "    # Avaliar o modelo\n",
    "    y_pred = model.predict(X_test_selected)\n",
    "    precision = precision_score(y_test, y_pred, zero_division=1)\n",
    "    \n",
    "    return precision\n",
    "\n",
    "# Criar o estudo do Optuna\n",
    "study = optuna.create_study(direction='maximize')\n",
    "study.optimize(naive_bayes_diabetes, n_trials=50)\n",
    "\n",
    "# Melhor resultado\n",
    "print(\"Melhor precisão:\", study.best_value)\n",
    "print(\"Melhores parâmetros:\", study.best_params)"
   ]
  },
  {
   "cell_type": "code",
   "execution_count": 11,
   "id": "63ae2d21",
   "metadata": {},
   "outputs": [],
   "source": [
    "# Treinar o modelo final com as melhores features\n",
    "best_params = study.best_params\n",
    "final_features = []\n",
    "if best_params['use_glicemia']:\n",
    "    final_features.append('glicemia')\n",
    "if best_params['use_pressao']:\n",
    "    final_features.append('pressao_arterial')"
   ]
  },
  {
   "cell_type": "code",
   "execution_count": 12,
   "id": "e9fe672e",
   "metadata": {},
   "outputs": [
    {
     "name": "stdout",
     "output_type": "stream",
     "text": [
      "Precisão final do modelo: 0.95\n"
     ]
    }
   ],
   "source": [
    "X_train_final = X_train[final_features]\n",
    "X_test_final = X_test[final_features]\n",
    "\n",
    "final_model = GaussianNB()\n",
    "final_model.fit(X_train_final, y_train)\n",
    "final_y_pred = final_model.predict(X_test_final)\n",
    "final_precision = precision_score(y_test, final_y_pred, zero_division=1)\n",
    "\n",
    "print(\"Precisão final do modelo:\", final_precision)"
   ]
  },
  {
   "cell_type": "code",
   "execution_count": 14,
   "id": "1dc00316",
   "metadata": {},
   "outputs": [
    {
     "data": {
      "text/plain": [
       "<sklearn.metrics._plot.confusion_matrix.ConfusionMatrixDisplay at 0x24bbd45e990>"
      ]
     },
     "execution_count": 14,
     "metadata": {},
     "output_type": "execute_result"
    },
    {
     "data": {
      "image/png": "[encoded data removed]",
      "text/plain": [
       "<Figure size 640x480 with 2 Axes>"
      ]
     },
     "metadata": {},
     "output_type": "display_data"
    }
   ],
   "source": [
    "# Gerar a matriz de confusão\n",
    "cm = confusion_matrix(y_test, final_y_pred)\n",
    "\n",
    "# Exibir a matriz de confusão\n",
    "disp = ConfusionMatrixDisplay(confusion_matrix=cm, display_labels=final_model.classes_)\n",
    "disp.plot(cmap='Blues')"
   ]
  },
  {
   "cell_type": "markdown",
   "id": "bc1c5307",
   "metadata": {},
   "source": [
    "O modelo de classificação de diabetes utilizando o algoritmo **Naive Bayes** foi desenvolvido com o objetivo de prever se um paciente possui diabetes com base em duas variáveis principais: **glicemia** e **pressão arterial**. Durante o processo de otimização, foi utilizado o framework **Optuna** para selecionar as melhores combinações de features e maximizar a precisão do modelo.\n",
    "\n",
    "## Seleção de Features\n",
    "\n",
    "O estudo realizado pelo Optuna avaliou diferentes combinações das features disponíveis no dataset: **glicemia** e **pressão arterial**. O objetivo era determinar quais variáveis contribuíam mais para a precisão do modelo. O processo de otimização garantiu que pelo menos uma feature fosse selecionada em cada iteração, e o modelo foi treinado e avaliado com base nas combinações propostas.\n",
    "\n",
    "Após 50 iterações, o Optuna identificou que ambas as features, **glicemia** e **pressão arterial**, eram importantes para alcançar o melhor desempenho do modelo. Isso indica que tanto os níveis de glicose no sangue quanto a pressão arterial possuem uma relação significativa com a presença de diabetes, e sua combinação melhora a capacidade preditiva do modelo.\n",
    "\n",
    "## Resultado Final\n",
    "\n",
    "Com as melhores features selecionadas, o modelo final foi treinado utilizando os dados de treino e avaliado nos dados de teste. O desempenho do modelo foi medido pela métrica de **precisão**, que avalia a proporção de previsões corretas entre todas as previsões positivas feitas pelo modelo.\n",
    "\n",
    "- O modelo final alcançou uma **precisão de 0.95**, ou seja, 95% das previsões positivas feitas pelo modelo estavam corretas. Esse resultado demonstra que o modelo é altamente eficaz na tarefa de classificação de diabetes, sendo capaz de identificar corretamente a maioria dos pacientes com a condição.\n",
    "\n",
    "## Conclusão\n",
    "\n",
    "O uso combinado das variáveis **glicemia** e **pressão arterial** foi essencial para o sucesso do modelo. A alta precisão alcançada reforça a importância dessas variáveis na detecção de diabetes e demonstra o potencial do algoritmo **Naive Bayes** para resolver problemas de classificação em saúde. Esse modelo pode ser uma ferramenta valiosa para auxiliar profissionais da área médica na identificação precoce de diabetes, contribuindo para um tratamento mais eficaz e para a prevenção de complicações."
   ]
  }
 ],
 "metadata": {
  "kernelspec": {
   "display_name": "Projeto_ML",
   "language": "python",
   "name": "python3"
  },
  "language_info": {
   "codemirror_mode": {
    "name": "ipython",
    "version": 3
   },
   "file_extension": ".py",
   "mimetype": "text/x-python",
   "name": "python",
   "nbconvert_exporter": "python",
   "pygments_lexer": "ipython3",
   "version": "3.12.1"
  }
 },
 "nbformat": 4,
 "nbformat_minor": 5
}
