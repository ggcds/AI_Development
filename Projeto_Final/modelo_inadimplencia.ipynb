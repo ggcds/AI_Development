{
 "cells": [
  {
   "cell_type": "markdown",
   "id": "529933e9",
   "metadata": {},
   "source": [
    "# Análise de Inadimplência e Score para Prospects\n",
    "\n",
    "Este notebook tem como objetivo:\n",
    "\n",
    "1. Desenvolver um modelo preditivo para probabilidade de inadimplência usando a base de clientes  \n",
    "2. Aplicar o modelo de clientes na base prospects  \n",
    "3. Calcular o score para os prospects  \n",
    "4. Gerar arquivo final com score para prospects\n",
    "\n",
    "### Importar bibliotecas necessárias"
   ]
  },
  {
   "cell_type": "code",
   "execution_count": 1,
   "id": "32af9b33",
   "metadata": {},
   "outputs": [],
   "source": [
    "# EDA e Visualização de Dados\n",
    "import pandas as pd\n",
    "import plotly.express as px\n",
    "from plotly.subplots import make_subplots\n",
    "import plotly.graph_objects as go\n",
    "import numpy as np\n",
    "import matplotlib.pyplot as plt\n",
    "import seaborn as sns\n",
    "from scipy.stats import chi2_contingency, f_oneway, ttest_ind\n",
    "from colorama import Fore, Back, Style\n",
    "\n",
    "# Configurar formato de exibição para não usar notação científica\n",
    "pd.set_option('display.float_format', lambda x: '%.5f' % x)\n",
    "np.set_printoptions(suppress=True, precision=5)\n",
    "pd.set_option('display.max_rows', None)\n",
    "pd.set_option('display.max_columns', None)\n",
    "\n",
    "# ML\n",
    "from sklearn.model_selection import train_test_split, cross_val_score\n",
    "from sklearn.ensemble import RandomForestRegressor\n",
    "from sklearn.metrics import root_mean_squared_error\n",
    "\n",
    "# Otimização\n",
    "import optuna\n",
    "\n",
    "# Utilitários\n",
    "import joblib\n",
    "import math"
   ]
  },
  {
   "cell_type": "markdown",
   "id": "bf3bf7d5",
   "metadata": {},
   "source": [
    "### Abrir Base Clientes"
   ]
  },
  {
   "cell_type": "code",
   "execution_count": 2,
   "id": "5d8c327e",
   "metadata": {},
   "outputs": [],
   "source": [
    "df_clientes = pd.read_csv('./datasets/clientes.csv')"
   ]
  },
  {
   "cell_type": "code",
   "execution_count": 3,
   "id": "952a04d8",
   "metadata": {},
   "outputs": [
    {
     "name": "stdout",
     "output_type": "stream",
     "text": [
      "<class 'pandas.core.frame.DataFrame'>\n",
      "RangeIndex: 1000 entries, 0 to 999\n",
      "Data columns (total 26 columns):\n",
      " #   Column                       Non-Null Count  Dtype  \n",
      "---  ------                       --------------  -----  \n",
      " 0   ID_Cliente                   1000 non-null   object \n",
      " 1   Nome                         1000 non-null   object \n",
      " 2   Idade                        1000 non-null   int64  \n",
      " 3   Viagens                      1000 non-null   int64  \n",
      " 4   Restaurantes                 1000 non-null   int64  \n",
      " 5   Entretenimento               1000 non-null   int64  \n",
      " 6   Cashback                     1000 non-null   int64  \n",
      " 7   Compras online               1000 non-null   int64  \n",
      " 8   Farmácias                    1000 non-null   int64  \n",
      " 9   Programas de Milhagem        1000 non-null   int64  \n",
      " 10  Postos de Combustível        1000 non-null   int64  \n",
      " 11  Mercados                     1000 non-null   int64  \n",
      " 12  Cidade                       1000 non-null   object \n",
      " 13  Cargo                        1000 non-null   object \n",
      " 14  Estado Civil                 1000 non-null   object \n",
      " 15  Tempo na Empresa             1000 non-null   int64  \n",
      " 16  Pessoas em Casa              1000 non-null   int64  \n",
      " 17  Moradia                      1000 non-null   object \n",
      " 18  Possui Carro                 1000 non-null   bool   \n",
      " 19  Renda                        1000 non-null   int64  \n",
      " 20  Investimentos                1000 non-null   int64  \n",
      " 21  Ativos                       1000 non-null   int64  \n",
      " 22  Dívidas                      1000 non-null   int64  \n",
      " 23  Probabilidade Inadimplencia  1000 non-null   float64\n",
      " 24  Score                        1000 non-null   int64  \n",
      " 25  Principal Cartão             1000 non-null   object \n",
      "dtypes: bool(1), float64(1), int64(17), object(7)\n",
      "memory usage: 196.4+ KB\n"
     ]
    }
   ],
   "source": [
    "df_clientes.info()"
   ]
  },
  {
   "cell_type": "markdown",
   "id": "4fa6ccfa",
   "metadata": {},
   "source": [
    "### Visualizar primeiros e últimos registros"
   ]
  },
  {
   "cell_type": "code",
   "execution_count": 4,
   "id": "ac40e39e",
   "metadata": {},
   "outputs": [
    {
     "name": "stdout",
     "output_type": "stream",
     "text": [
      "Primeiros registros:\n"
     ]
    },
    {
     "data": {
      "text/html": [
       "<div>\n",
       "<style scoped>\n",
       "    .dataframe tbody tr th:only-of-type {\n",
       "        vertical-align: middle;\n",
       "    }\n",
       "\n",
       "    .dataframe tbody tr th {\n",
       "        vertical-align: top;\n",
       "    }\n",
       "\n",
       "    .dataframe thead th {\n",
       "        text-align: right;\n",
       "    }\n",
       "</style>\n",
       "<table border=\"1\" class=\"dataframe\">\n",
       "  <thead>\n",
       "    <tr style=\"text-align: right;\">\n",
       "      <th></th>\n",
       "      <th>ID_Cliente</th>\n",
       "      <th>Nome</th>\n",
       "      <th>Idade</th>\n",
       "      <th>Viagens</th>\n",
       "      <th>Restaurantes</th>\n",
       "      <th>Entretenimento</th>\n",
       "      <th>Cashback</th>\n",
       "      <th>Compras online</th>\n",
       "      <th>Farmácias</th>\n",
       "      <th>Programas de Milhagem</th>\n",
       "      <th>Postos de Combustível</th>\n",
       "      <th>Mercados</th>\n",
       "      <th>Cidade</th>\n",
       "      <th>Cargo</th>\n",
       "      <th>Estado Civil</th>\n",
       "      <th>Tempo na Empresa</th>\n",
       "      <th>Pessoas em Casa</th>\n",
       "      <th>Moradia</th>\n",
       "      <th>Possui Carro</th>\n",
       "      <th>Renda</th>\n",
       "      <th>Investimentos</th>\n",
       "      <th>Ativos</th>\n",
       "      <th>Dívidas</th>\n",
       "      <th>Probabilidade Inadimplencia</th>\n",
       "      <th>Score</th>\n",
       "      <th>Principal Cartão</th>\n",
       "    </tr>\n",
       "  </thead>\n",
       "  <tbody>\n",
       "    <tr>\n",
       "      <th>0</th>\n",
       "      <td>bc3749c2-932f-462b-a71e-d1a352510f67</td>\n",
       "      <td>Nicole Lopes</td>\n",
       "      <td>32</td>\n",
       "      <td>5</td>\n",
       "      <td>4</td>\n",
       "      <td>2</td>\n",
       "      <td>4</td>\n",
       "      <td>5</td>\n",
       "      <td>3</td>\n",
       "      <td>1</td>\n",
       "      <td>2</td>\n",
       "      <td>4</td>\n",
       "      <td>Brasília</td>\n",
       "      <td>Engenheiro agrônomo</td>\n",
       "      <td>Divorciado</td>\n",
       "      <td>4</td>\n",
       "      <td>2</td>\n",
       "      <td>Próprio</td>\n",
       "      <td>True</td>\n",
       "      <td>34118</td>\n",
       "      <td>631262</td>\n",
       "      <td>55649</td>\n",
       "      <td>294254</td>\n",
       "      <td>0.00000</td>\n",
       "      <td>232</td>\n",
       "      <td>Rocketseat Mastercard Travel Elite</td>\n",
       "    </tr>\n",
       "    <tr>\n",
       "      <th>1</th>\n",
       "      <td>981dffc4-087e-4a99-bbac-062944f9b5a7</td>\n",
       "      <td>Kevin Teixeira</td>\n",
       "      <td>42</td>\n",
       "      <td>1</td>\n",
       "      <td>4</td>\n",
       "      <td>5</td>\n",
       "      <td>1</td>\n",
       "      <td>4</td>\n",
       "      <td>1</td>\n",
       "      <td>5</td>\n",
       "      <td>3</td>\n",
       "      <td>5</td>\n",
       "      <td>Campo Grande</td>\n",
       "      <td>Psicólogo</td>\n",
       "      <td>Divorciado</td>\n",
       "      <td>18</td>\n",
       "      <td>2</td>\n",
       "      <td>Alugado</td>\n",
       "      <td>True</td>\n",
       "      <td>7338</td>\n",
       "      <td>376417</td>\n",
       "      <td>1777324</td>\n",
       "      <td>180331</td>\n",
       "      <td>87.00000</td>\n",
       "      <td>27</td>\n",
       "      <td>Rocketseat Mastercard Life Basic</td>\n",
       "    </tr>\n",
       "    <tr>\n",
       "      <th>2</th>\n",
       "      <td>242f4e94-7f2a-4557-a27a-9227cca55e83</td>\n",
       "      <td>Augusto Sá</td>\n",
       "      <td>67</td>\n",
       "      <td>4</td>\n",
       "      <td>3</td>\n",
       "      <td>4</td>\n",
       "      <td>3</td>\n",
       "      <td>2</td>\n",
       "      <td>3</td>\n",
       "      <td>3</td>\n",
       "      <td>2</td>\n",
       "      <td>3</td>\n",
       "      <td>Goiânia</td>\n",
       "      <td>Intérprete de Bíblias</td>\n",
       "      <td>Solteiro</td>\n",
       "      <td>19</td>\n",
       "      <td>6</td>\n",
       "      <td>Alugado</td>\n",
       "      <td>True</td>\n",
       "      <td>19965</td>\n",
       "      <td>83667</td>\n",
       "      <td>1793731</td>\n",
       "      <td>122049</td>\n",
       "      <td>78.45000</td>\n",
       "      <td>57</td>\n",
       "      <td>Rocketseat Mastercard Travel Basic</td>\n",
       "    </tr>\n",
       "    <tr>\n",
       "      <th>3</th>\n",
       "      <td>e6f16b89-d9bf-4448-9d08-65957cdc1fb3</td>\n",
       "      <td>Ágatha Moura</td>\n",
       "      <td>47</td>\n",
       "      <td>2</td>\n",
       "      <td>3</td>\n",
       "      <td>1</td>\n",
       "      <td>2</td>\n",
       "      <td>1</td>\n",
       "      <td>3</td>\n",
       "      <td>4</td>\n",
       "      <td>3</td>\n",
       "      <td>1</td>\n",
       "      <td>Porto Alegre</td>\n",
       "      <td>Engenheiro de projetos</td>\n",
       "      <td>Divorciado</td>\n",
       "      <td>6</td>\n",
       "      <td>6</td>\n",
       "      <td>Próprio</td>\n",
       "      <td>False</td>\n",
       "      <td>25867</td>\n",
       "      <td>283060</td>\n",
       "      <td>1940685</td>\n",
       "      <td>335544</td>\n",
       "      <td>85.21000</td>\n",
       "      <td>32</td>\n",
       "      <td>Rocketseat Visa Travel Basic</td>\n",
       "    </tr>\n",
       "    <tr>\n",
       "      <th>4</th>\n",
       "      <td>79b7f5b0-e754-4cd9-9150-ed5913fef23a</td>\n",
       "      <td>João Rios</td>\n",
       "      <td>27</td>\n",
       "      <td>3</td>\n",
       "      <td>5</td>\n",
       "      <td>4</td>\n",
       "      <td>5</td>\n",
       "      <td>4</td>\n",
       "      <td>3</td>\n",
       "      <td>2</td>\n",
       "      <td>2</td>\n",
       "      <td>5</td>\n",
       "      <td>Fortaleza</td>\n",
       "      <td>Cantor</td>\n",
       "      <td>Solteiro</td>\n",
       "      <td>1</td>\n",
       "      <td>1</td>\n",
       "      <td>Alugado</td>\n",
       "      <td>True</td>\n",
       "      <td>18359</td>\n",
       "      <td>146413</td>\n",
       "      <td>517215</td>\n",
       "      <td>390588</td>\n",
       "      <td>89.12000</td>\n",
       "      <td>0</td>\n",
       "      <td>Rocketseat Visa Life Basic</td>\n",
       "    </tr>\n",
       "    <tr>\n",
       "      <th>5</th>\n",
       "      <td>c403b04d-6f51-4374-b367-1adce70cdafb</td>\n",
       "      <td>Juliana Sales</td>\n",
       "      <td>56</td>\n",
       "      <td>5</td>\n",
       "      <td>3</td>\n",
       "      <td>5</td>\n",
       "      <td>1</td>\n",
       "      <td>1</td>\n",
       "      <td>5</td>\n",
       "      <td>3</td>\n",
       "      <td>3</td>\n",
       "      <td>1</td>\n",
       "      <td>Curitiba</td>\n",
       "      <td>Tecelão</td>\n",
       "      <td>Viúvo</td>\n",
       "      <td>5</td>\n",
       "      <td>4</td>\n",
       "      <td>Alugado</td>\n",
       "      <td>False</td>\n",
       "      <td>5163</td>\n",
       "      <td>403457</td>\n",
       "      <td>800313</td>\n",
       "      <td>312417</td>\n",
       "      <td>82.44000</td>\n",
       "      <td>0</td>\n",
       "      <td>Rocketseat Mastercard Travel Basic</td>\n",
       "    </tr>\n",
       "    <tr>\n",
       "      <th>6</th>\n",
       "      <td>fd42f59f-18f3-428a-8e04-83263518946a</td>\n",
       "      <td>Sra. Brenda Almeida</td>\n",
       "      <td>50</td>\n",
       "      <td>5</td>\n",
       "      <td>5</td>\n",
       "      <td>2</td>\n",
       "      <td>2</td>\n",
       "      <td>3</td>\n",
       "      <td>2</td>\n",
       "      <td>5</td>\n",
       "      <td>5</td>\n",
       "      <td>1</td>\n",
       "      <td>Manaus</td>\n",
       "      <td>Babysitter</td>\n",
       "      <td>Divorciado</td>\n",
       "      <td>15</td>\n",
       "      <td>1</td>\n",
       "      <td>Alugado</td>\n",
       "      <td>False</td>\n",
       "      <td>7973</td>\n",
       "      <td>912804</td>\n",
       "      <td>1311349</td>\n",
       "      <td>156471</td>\n",
       "      <td>78.36000</td>\n",
       "      <td>74</td>\n",
       "      <td>Rocketseat Visa Travel Basic</td>\n",
       "    </tr>\n",
       "    <tr>\n",
       "      <th>7</th>\n",
       "      <td>e1a94ba9-8c52-4bc0-a7c5-6ea6ab430f6e</td>\n",
       "      <td>Lavínia Rios</td>\n",
       "      <td>33</td>\n",
       "      <td>1</td>\n",
       "      <td>4</td>\n",
       "      <td>1</td>\n",
       "      <td>5</td>\n",
       "      <td>2</td>\n",
       "      <td>2</td>\n",
       "      <td>4</td>\n",
       "      <td>5</td>\n",
       "      <td>2</td>\n",
       "      <td>Curitiba</td>\n",
       "      <td>Astronauta</td>\n",
       "      <td>Viúvo</td>\n",
       "      <td>6</td>\n",
       "      <td>5</td>\n",
       "      <td>Alugado</td>\n",
       "      <td>False</td>\n",
       "      <td>4796</td>\n",
       "      <td>252572</td>\n",
       "      <td>1841319</td>\n",
       "      <td>297458</td>\n",
       "      <td>93.47000</td>\n",
       "      <td>4</td>\n",
       "      <td>Rocketseat Visa Life Basic</td>\n",
       "    </tr>\n",
       "    <tr>\n",
       "      <th>8</th>\n",
       "      <td>bb3e64ba-c46b-4ce7-a915-a5ac5d25fb3e</td>\n",
       "      <td>Rhavi Rezende</td>\n",
       "      <td>60</td>\n",
       "      <td>1</td>\n",
       "      <td>2</td>\n",
       "      <td>2</td>\n",
       "      <td>1</td>\n",
       "      <td>3</td>\n",
       "      <td>1</td>\n",
       "      <td>5</td>\n",
       "      <td>5</td>\n",
       "      <td>2</td>\n",
       "      <td>Manaus</td>\n",
       "      <td>Ferramenteiro</td>\n",
       "      <td>Casado</td>\n",
       "      <td>0</td>\n",
       "      <td>1</td>\n",
       "      <td>Alugado</td>\n",
       "      <td>True</td>\n",
       "      <td>43590</td>\n",
       "      <td>391559</td>\n",
       "      <td>918762</td>\n",
       "      <td>471656</td>\n",
       "      <td>76.12000</td>\n",
       "      <td>43</td>\n",
       "      <td>Rocketseat Mastercard Travel Basic</td>\n",
       "    </tr>\n",
       "    <tr>\n",
       "      <th>9</th>\n",
       "      <td>11278877-2221-4c1c-842a-d8fe968f295e</td>\n",
       "      <td>Otto Correia</td>\n",
       "      <td>75</td>\n",
       "      <td>3</td>\n",
       "      <td>4</td>\n",
       "      <td>2</td>\n",
       "      <td>5</td>\n",
       "      <td>2</td>\n",
       "      <td>5</td>\n",
       "      <td>5</td>\n",
       "      <td>4</td>\n",
       "      <td>2</td>\n",
       "      <td>Florianópolis</td>\n",
       "      <td>Garimpeiro</td>\n",
       "      <td>Viúvo</td>\n",
       "      <td>13</td>\n",
       "      <td>2</td>\n",
       "      <td>Alugado</td>\n",
       "      <td>True</td>\n",
       "      <td>3058</td>\n",
       "      <td>901393</td>\n",
       "      <td>692958</td>\n",
       "      <td>37149</td>\n",
       "      <td>59.74000</td>\n",
       "      <td>135</td>\n",
       "      <td>Rocketseat Visa Life Select</td>\n",
       "    </tr>\n",
       "  </tbody>\n",
       "</table>\n",
       "</div>"
      ],
      "text/plain": [
       "                             ID_Cliente                 Nome  Idade  Viagens  \\\n",
       "0  bc3749c2-932f-462b-a71e-d1a352510f67         Nicole Lopes     32        5   \n",
       "1  981dffc4-087e-4a99-bbac-062944f9b5a7       Kevin Teixeira     42        1   \n",
       "2  242f4e94-7f2a-4557-a27a-9227cca55e83           Augusto Sá     67        4   \n",
       "3  e6f16b89-d9bf-4448-9d08-65957cdc1fb3         Ágatha Moura     47        2   \n",
       "4  79b7f5b0-e754-4cd9-9150-ed5913fef23a            João Rios     27        3   \n",
       "5  c403b04d-6f51-4374-b367-1adce70cdafb        Juliana Sales     56        5   \n",
       "6  fd42f59f-18f3-428a-8e04-83263518946a  Sra. Brenda Almeida     50        5   \n",
       "7  e1a94ba9-8c52-4bc0-a7c5-6ea6ab430f6e         Lavínia Rios     33        1   \n",
       "8  bb3e64ba-c46b-4ce7-a915-a5ac5d25fb3e        Rhavi Rezende     60        1   \n",
       "9  11278877-2221-4c1c-842a-d8fe968f295e         Otto Correia     75        3   \n",
       "\n",
       "   Restaurantes  Entretenimento  Cashback  Compras online  Farmácias  \\\n",
       "0             4               2         4               5          3   \n",
       "1             4               5         1               4          1   \n",
       "2             3               4         3               2          3   \n",
       "3             3               1         2               1          3   \n",
       "4             5               4         5               4          3   \n",
       "5             3               5         1               1          5   \n",
       "6             5               2         2               3          2   \n",
       "7             4               1         5               2          2   \n",
       "8             2               2         1               3          1   \n",
       "9             4               2         5               2          5   \n",
       "\n",
       "   Programas de Milhagem  Postos de Combustível  Mercados         Cidade  \\\n",
       "0                      1                      2         4       Brasília   \n",
       "1                      5                      3         5   Campo Grande   \n",
       "2                      3                      2         3        Goiânia   \n",
       "3                      4                      3         1   Porto Alegre   \n",
       "4                      2                      2         5      Fortaleza   \n",
       "5                      3                      3         1       Curitiba   \n",
       "6                      5                      5         1         Manaus   \n",
       "7                      4                      5         2       Curitiba   \n",
       "8                      5                      5         2         Manaus   \n",
       "9                      5                      4         2  Florianópolis   \n",
       "\n",
       "                    Cargo Estado Civil  Tempo na Empresa  Pessoas em Casa  \\\n",
       "0     Engenheiro agrônomo   Divorciado                 4                2   \n",
       "1               Psicólogo   Divorciado                18                2   \n",
       "2   Intérprete de Bíblias     Solteiro                19                6   \n",
       "3  Engenheiro de projetos   Divorciado                 6                6   \n",
       "4                  Cantor     Solteiro                 1                1   \n",
       "5                 Tecelão        Viúvo                 5                4   \n",
       "6              Babysitter   Divorciado                15                1   \n",
       "7              Astronauta        Viúvo                 6                5   \n",
       "8           Ferramenteiro       Casado                 0                1   \n",
       "9              Garimpeiro        Viúvo                13                2   \n",
       "\n",
       "   Moradia  Possui Carro  Renda  Investimentos   Ativos  Dívidas  \\\n",
       "0  Próprio          True  34118         631262    55649   294254   \n",
       "1  Alugado          True   7338         376417  1777324   180331   \n",
       "2  Alugado          True  19965          83667  1793731   122049   \n",
       "3  Próprio         False  25867         283060  1940685   335544   \n",
       "4  Alugado          True  18359         146413   517215   390588   \n",
       "5  Alugado         False   5163         403457   800313   312417   \n",
       "6  Alugado         False   7973         912804  1311349   156471   \n",
       "7  Alugado         False   4796         252572  1841319   297458   \n",
       "8  Alugado          True  43590         391559   918762   471656   \n",
       "9  Alugado          True   3058         901393   692958    37149   \n",
       "\n",
       "   Probabilidade Inadimplencia  Score                    Principal Cartão  \n",
       "0                      0.00000    232  Rocketseat Mastercard Travel Elite  \n",
       "1                     87.00000     27    Rocketseat Mastercard Life Basic  \n",
       "2                     78.45000     57  Rocketseat Mastercard Travel Basic  \n",
       "3                     85.21000     32        Rocketseat Visa Travel Basic  \n",
       "4                     89.12000      0          Rocketseat Visa Life Basic  \n",
       "5                     82.44000      0  Rocketseat Mastercard Travel Basic  \n",
       "6                     78.36000     74        Rocketseat Visa Travel Basic  \n",
       "7                     93.47000      4          Rocketseat Visa Life Basic  \n",
       "8                     76.12000     43  Rocketseat Mastercard Travel Basic  \n",
       "9                     59.74000    135         Rocketseat Visa Life Select  "
      ]
     },
     "metadata": {},
     "output_type": "display_data"
    }
   ],
   "source": [
    "print(\"Primeiros registros:\")\n",
    "display(df_clientes.head(10))"
   ]
  },
  {
   "cell_type": "code",
   "execution_count": 5,
   "id": "6dc04357",
   "metadata": {},
   "outputs": [
    {
     "name": "stdout",
     "output_type": "stream",
     "text": [
      "\n",
      "Últimos registros:\n"
     ]
    },
    {
     "data": {
      "text/html": [
       "<div>\n",
       "<style scoped>\n",
       "    .dataframe tbody tr th:only-of-type {\n",
       "        vertical-align: middle;\n",
       "    }\n",
       "\n",
       "    .dataframe tbody tr th {\n",
       "        vertical-align: top;\n",
       "    }\n",
       "\n",
       "    .dataframe thead th {\n",
       "        text-align: right;\n",
       "    }\n",
       "</style>\n",
       "<table border=\"1\" class=\"dataframe\">\n",
       "  <thead>\n",
       "    <tr style=\"text-align: right;\">\n",
       "      <th></th>\n",
       "      <th>ID_Cliente</th>\n",
       "      <th>Nome</th>\n",
       "      <th>Idade</th>\n",
       "      <th>Viagens</th>\n",
       "      <th>Restaurantes</th>\n",
       "      <th>Entretenimento</th>\n",
       "      <th>Cashback</th>\n",
       "      <th>Compras online</th>\n",
       "      <th>Farmácias</th>\n",
       "      <th>Programas de Milhagem</th>\n",
       "      <th>Postos de Combustível</th>\n",
       "      <th>Mercados</th>\n",
       "      <th>Cidade</th>\n",
       "      <th>Cargo</th>\n",
       "      <th>Estado Civil</th>\n",
       "      <th>Tempo na Empresa</th>\n",
       "      <th>Pessoas em Casa</th>\n",
       "      <th>Moradia</th>\n",
       "      <th>Possui Carro</th>\n",
       "      <th>Renda</th>\n",
       "      <th>Investimentos</th>\n",
       "      <th>Ativos</th>\n",
       "      <th>Dívidas</th>\n",
       "      <th>Probabilidade Inadimplencia</th>\n",
       "      <th>Score</th>\n",
       "      <th>Principal Cartão</th>\n",
       "    </tr>\n",
       "  </thead>\n",
       "  <tbody>\n",
       "    <tr>\n",
       "      <th>990</th>\n",
       "      <td>16df68db-6590-4b24-a9e1-b148b16764b6</td>\n",
       "      <td>Bento Costela</td>\n",
       "      <td>39</td>\n",
       "      <td>3</td>\n",
       "      <td>3</td>\n",
       "      <td>3</td>\n",
       "      <td>2</td>\n",
       "      <td>1</td>\n",
       "      <td>5</td>\n",
       "      <td>3</td>\n",
       "      <td>3</td>\n",
       "      <td>3</td>\n",
       "      <td>Fortaleza</td>\n",
       "      <td>Salva-vidas</td>\n",
       "      <td>Solteiro</td>\n",
       "      <td>10</td>\n",
       "      <td>4</td>\n",
       "      <td>Alugado</td>\n",
       "      <td>True</td>\n",
       "      <td>34569</td>\n",
       "      <td>616179</td>\n",
       "      <td>156129</td>\n",
       "      <td>235551</td>\n",
       "      <td>23.64000</td>\n",
       "      <td>220</td>\n",
       "      <td>Rocketseat Mastercard Shopping Elite</td>\n",
       "    </tr>\n",
       "    <tr>\n",
       "      <th>991</th>\n",
       "      <td>38d31bbf-e01b-447e-bd2c-d3ffab1fbd80</td>\n",
       "      <td>Ryan Ferreira</td>\n",
       "      <td>26</td>\n",
       "      <td>1</td>\n",
       "      <td>1</td>\n",
       "      <td>1</td>\n",
       "      <td>4</td>\n",
       "      <td>2</td>\n",
       "      <td>3</td>\n",
       "      <td>4</td>\n",
       "      <td>3</td>\n",
       "      <td>1</td>\n",
       "      <td>Fortaleza</td>\n",
       "      <td>Tecnólogo em silvicultura</td>\n",
       "      <td>Casado</td>\n",
       "      <td>6</td>\n",
       "      <td>2</td>\n",
       "      <td>Próprio</td>\n",
       "      <td>False</td>\n",
       "      <td>25062</td>\n",
       "      <td>521084</td>\n",
       "      <td>1741694</td>\n",
       "      <td>31</td>\n",
       "      <td>32.64000</td>\n",
       "      <td>358</td>\n",
       "      <td>Rocketseat Mastercard Life Elite</td>\n",
       "    </tr>\n",
       "    <tr>\n",
       "      <th>992</th>\n",
       "      <td>c4868ee0-7ee0-41cd-8526-9b2da15f4f71</td>\n",
       "      <td>Leandro Nogueira</td>\n",
       "      <td>50</td>\n",
       "      <td>3</td>\n",
       "      <td>1</td>\n",
       "      <td>1</td>\n",
       "      <td>1</td>\n",
       "      <td>4</td>\n",
       "      <td>5</td>\n",
       "      <td>5</td>\n",
       "      <td>2</td>\n",
       "      <td>2</td>\n",
       "      <td>Goiânia</td>\n",
       "      <td>Apicultor</td>\n",
       "      <td>Divorciado</td>\n",
       "      <td>14</td>\n",
       "      <td>2</td>\n",
       "      <td>Alugado</td>\n",
       "      <td>True</td>\n",
       "      <td>11679</td>\n",
       "      <td>964210</td>\n",
       "      <td>1174384</td>\n",
       "      <td>320353</td>\n",
       "      <td>74.71000</td>\n",
       "      <td>62</td>\n",
       "      <td>Rocketseat Visa Shopping Basic</td>\n",
       "    </tr>\n",
       "    <tr>\n",
       "      <th>993</th>\n",
       "      <td>f830a32d-ed3a-4186-a258-7a81c0291a4f</td>\n",
       "      <td>Maria Helena Marques</td>\n",
       "      <td>22</td>\n",
       "      <td>3</td>\n",
       "      <td>1</td>\n",
       "      <td>4</td>\n",
       "      <td>1</td>\n",
       "      <td>1</td>\n",
       "      <td>3</td>\n",
       "      <td>5</td>\n",
       "      <td>1</td>\n",
       "      <td>1</td>\n",
       "      <td>Rio de Janeiro</td>\n",
       "      <td>Alfaiate</td>\n",
       "      <td>Divorciado</td>\n",
       "      <td>0</td>\n",
       "      <td>5</td>\n",
       "      <td>Alugado</td>\n",
       "      <td>False</td>\n",
       "      <td>26525</td>\n",
       "      <td>987336</td>\n",
       "      <td>1958656</td>\n",
       "      <td>284292</td>\n",
       "      <td>86.44000</td>\n",
       "      <td>65</td>\n",
       "      <td>Rocketseat Mastercard Travel Basic</td>\n",
       "    </tr>\n",
       "    <tr>\n",
       "      <th>994</th>\n",
       "      <td>8f486f6f-e825-454b-b8b1-df0920621065</td>\n",
       "      <td>Esther Andrade</td>\n",
       "      <td>80</td>\n",
       "      <td>1</td>\n",
       "      <td>3</td>\n",
       "      <td>2</td>\n",
       "      <td>4</td>\n",
       "      <td>1</td>\n",
       "      <td>5</td>\n",
       "      <td>2</td>\n",
       "      <td>2</td>\n",
       "      <td>1</td>\n",
       "      <td>São Paulo</td>\n",
       "      <td>Apontador de mão-de-obra</td>\n",
       "      <td>Viúvo</td>\n",
       "      <td>2</td>\n",
       "      <td>4</td>\n",
       "      <td>Próprio</td>\n",
       "      <td>True</td>\n",
       "      <td>44053</td>\n",
       "      <td>90359</td>\n",
       "      <td>660568</td>\n",
       "      <td>97480</td>\n",
       "      <td>61.41000</td>\n",
       "      <td>142</td>\n",
       "      <td>Rocketseat Mastercard Shopping Select</td>\n",
       "    </tr>\n",
       "    <tr>\n",
       "      <th>995</th>\n",
       "      <td>c149900a-b482-4fef-b4bb-c3302751a87c</td>\n",
       "      <td>Oliver Freitas</td>\n",
       "      <td>79</td>\n",
       "      <td>1</td>\n",
       "      <td>5</td>\n",
       "      <td>5</td>\n",
       "      <td>3</td>\n",
       "      <td>5</td>\n",
       "      <td>3</td>\n",
       "      <td>3</td>\n",
       "      <td>2</td>\n",
       "      <td>2</td>\n",
       "      <td>Florianópolis</td>\n",
       "      <td>Enfermeiro</td>\n",
       "      <td>Viúvo</td>\n",
       "      <td>13</td>\n",
       "      <td>5</td>\n",
       "      <td>Alugado</td>\n",
       "      <td>False</td>\n",
       "      <td>32710</td>\n",
       "      <td>268881</td>\n",
       "      <td>1900126</td>\n",
       "      <td>367348</td>\n",
       "      <td>77.37000</td>\n",
       "      <td>54</td>\n",
       "      <td>Rocketseat Visa Life Basic</td>\n",
       "    </tr>\n",
       "    <tr>\n",
       "      <th>996</th>\n",
       "      <td>4e5af7db-8c74-4931-8daa-06277afacc45</td>\n",
       "      <td>Ian Peixoto</td>\n",
       "      <td>26</td>\n",
       "      <td>4</td>\n",
       "      <td>1</td>\n",
       "      <td>5</td>\n",
       "      <td>5</td>\n",
       "      <td>2</td>\n",
       "      <td>4</td>\n",
       "      <td>2</td>\n",
       "      <td>3</td>\n",
       "      <td>5</td>\n",
       "      <td>Rio de Janeiro</td>\n",
       "      <td>Cadista</td>\n",
       "      <td>Casado</td>\n",
       "      <td>2</td>\n",
       "      <td>1</td>\n",
       "      <td>Próprio</td>\n",
       "      <td>False</td>\n",
       "      <td>40005</td>\n",
       "      <td>269579</td>\n",
       "      <td>585165</td>\n",
       "      <td>247577</td>\n",
       "      <td>82.07000</td>\n",
       "      <td>47</td>\n",
       "      <td>Rocketseat Mastercard Life Basic</td>\n",
       "    </tr>\n",
       "    <tr>\n",
       "      <th>997</th>\n",
       "      <td>b2bd8201-8bc8-436e-9afd-7ad6a4c65f86</td>\n",
       "      <td>Srta. Marina Borges</td>\n",
       "      <td>27</td>\n",
       "      <td>2</td>\n",
       "      <td>2</td>\n",
       "      <td>1</td>\n",
       "      <td>4</td>\n",
       "      <td>3</td>\n",
       "      <td>2</td>\n",
       "      <td>3</td>\n",
       "      <td>4</td>\n",
       "      <td>3</td>\n",
       "      <td>Recife</td>\n",
       "      <td>Tecnólogo em produção de bebidas</td>\n",
       "      <td>Casado</td>\n",
       "      <td>10</td>\n",
       "      <td>2</td>\n",
       "      <td>Próprio</td>\n",
       "      <td>True</td>\n",
       "      <td>24055</td>\n",
       "      <td>812314</td>\n",
       "      <td>1177509</td>\n",
       "      <td>348120</td>\n",
       "      <td>82.08000</td>\n",
       "      <td>49</td>\n",
       "      <td>Rocketseat Visa Life Basic</td>\n",
       "    </tr>\n",
       "    <tr>\n",
       "      <th>998</th>\n",
       "      <td>f7bb4a7a-2551-4f39-b1b6-f564754580bc</td>\n",
       "      <td>Benjamim Costa</td>\n",
       "      <td>73</td>\n",
       "      <td>4</td>\n",
       "      <td>2</td>\n",
       "      <td>5</td>\n",
       "      <td>5</td>\n",
       "      <td>2</td>\n",
       "      <td>3</td>\n",
       "      <td>3</td>\n",
       "      <td>5</td>\n",
       "      <td>5</td>\n",
       "      <td>Porto Alegre</td>\n",
       "      <td>Gourmet</td>\n",
       "      <td>Divorciado</td>\n",
       "      <td>5</td>\n",
       "      <td>3</td>\n",
       "      <td>Alugado</td>\n",
       "      <td>False</td>\n",
       "      <td>18891</td>\n",
       "      <td>572176</td>\n",
       "      <td>913145</td>\n",
       "      <td>20404</td>\n",
       "      <td>47.23000</td>\n",
       "      <td>210</td>\n",
       "      <td>Rocketseat Visa Life Elite</td>\n",
       "    </tr>\n",
       "    <tr>\n",
       "      <th>999</th>\n",
       "      <td>4477389d-ae32-451c-bd52-359699bf94a8</td>\n",
       "      <td>Sra. Evelyn Machado</td>\n",
       "      <td>43</td>\n",
       "      <td>4</td>\n",
       "      <td>4</td>\n",
       "      <td>3</td>\n",
       "      <td>1</td>\n",
       "      <td>4</td>\n",
       "      <td>3</td>\n",
       "      <td>4</td>\n",
       "      <td>5</td>\n",
       "      <td>3</td>\n",
       "      <td>Brasília</td>\n",
       "      <td>Contabilista</td>\n",
       "      <td>Solteiro</td>\n",
       "      <td>11</td>\n",
       "      <td>4</td>\n",
       "      <td>Alugado</td>\n",
       "      <td>True</td>\n",
       "      <td>10037</td>\n",
       "      <td>566432</td>\n",
       "      <td>99473</td>\n",
       "      <td>173459</td>\n",
       "      <td>2.22000</td>\n",
       "      <td>119</td>\n",
       "      <td>Rocketseat Mastercard Shopping Select</td>\n",
       "    </tr>\n",
       "  </tbody>\n",
       "</table>\n",
       "</div>"
      ],
      "text/plain": [
       "                               ID_Cliente                  Nome  Idade  \\\n",
       "990  16df68db-6590-4b24-a9e1-b148b16764b6         Bento Costela     39   \n",
       "991  38d31bbf-e01b-447e-bd2c-d3ffab1fbd80         Ryan Ferreira     26   \n",
       "992  c4868ee0-7ee0-41cd-8526-9b2da15f4f71      Leandro Nogueira     50   \n",
       "993  f830a32d-ed3a-4186-a258-7a81c0291a4f  Maria Helena Marques     22   \n",
       "994  8f486f6f-e825-454b-b8b1-df0920621065        Esther Andrade     80   \n",
       "995  c149900a-b482-4fef-b4bb-c3302751a87c        Oliver Freitas     79   \n",
       "996  4e5af7db-8c74-4931-8daa-06277afacc45           Ian Peixoto     26   \n",
       "997  b2bd8201-8bc8-436e-9afd-7ad6a4c65f86   Srta. Marina Borges     27   \n",
       "998  f7bb4a7a-2551-4f39-b1b6-f564754580bc        Benjamim Costa     73   \n",
       "999  4477389d-ae32-451c-bd52-359699bf94a8   Sra. Evelyn Machado     43   \n",
       "\n",
       "     Viagens  Restaurantes  Entretenimento  Cashback  Compras online  \\\n",
       "990        3             3               3         2               1   \n",
       "991        1             1               1         4               2   \n",
       "992        3             1               1         1               4   \n",
       "993        3             1               4         1               1   \n",
       "994        1             3               2         4               1   \n",
       "995        1             5               5         3               5   \n",
       "996        4             1               5         5               2   \n",
       "997        2             2               1         4               3   \n",
       "998        4             2               5         5               2   \n",
       "999        4             4               3         1               4   \n",
       "\n",
       "     Farmácias  Programas de Milhagem  Postos de Combustível  Mercados  \\\n",
       "990          5                      3                      3         3   \n",
       "991          3                      4                      3         1   \n",
       "992          5                      5                      2         2   \n",
       "993          3                      5                      1         1   \n",
       "994          5                      2                      2         1   \n",
       "995          3                      3                      2         2   \n",
       "996          4                      2                      3         5   \n",
       "997          2                      3                      4         3   \n",
       "998          3                      3                      5         5   \n",
       "999          3                      4                      5         3   \n",
       "\n",
       "             Cidade                             Cargo Estado Civil  \\\n",
       "990       Fortaleza                       Salva-vidas     Solteiro   \n",
       "991       Fortaleza         Tecnólogo em silvicultura       Casado   \n",
       "992         Goiânia                         Apicultor   Divorciado   \n",
       "993  Rio de Janeiro                          Alfaiate   Divorciado   \n",
       "994       São Paulo          Apontador de mão-de-obra        Viúvo   \n",
       "995   Florianópolis                        Enfermeiro        Viúvo   \n",
       "996  Rio de Janeiro                           Cadista       Casado   \n",
       "997          Recife  Tecnólogo em produção de bebidas       Casado   \n",
       "998    Porto Alegre                           Gourmet   Divorciado   \n",
       "999        Brasília                      Contabilista     Solteiro   \n",
       "\n",
       "     Tempo na Empresa  Pessoas em Casa  Moradia  Possui Carro  Renda  \\\n",
       "990                10                4  Alugado          True  34569   \n",
       "991                 6                2  Próprio         False  25062   \n",
       "992                14                2  Alugado          True  11679   \n",
       "993                 0                5  Alugado         False  26525   \n",
       "994                 2                4  Próprio          True  44053   \n",
       "995                13                5  Alugado         False  32710   \n",
       "996                 2                1  Próprio         False  40005   \n",
       "997                10                2  Próprio          True  24055   \n",
       "998                 5                3  Alugado         False  18891   \n",
       "999                11                4  Alugado          True  10037   \n",
       "\n",
       "     Investimentos   Ativos  Dívidas  Probabilidade Inadimplencia  Score  \\\n",
       "990         616179   156129   235551                     23.64000    220   \n",
       "991         521084  1741694       31                     32.64000    358   \n",
       "992         964210  1174384   320353                     74.71000     62   \n",
       "993         987336  1958656   284292                     86.44000     65   \n",
       "994          90359   660568    97480                     61.41000    142   \n",
       "995         268881  1900126   367348                     77.37000     54   \n",
       "996         269579   585165   247577                     82.07000     47   \n",
       "997         812314  1177509   348120                     82.08000     49   \n",
       "998         572176   913145    20404                     47.23000    210   \n",
       "999         566432    99473   173459                      2.22000    119   \n",
       "\n",
       "                          Principal Cartão  \n",
       "990   Rocketseat Mastercard Shopping Elite  \n",
       "991       Rocketseat Mastercard Life Elite  \n",
       "992         Rocketseat Visa Shopping Basic  \n",
       "993     Rocketseat Mastercard Travel Basic  \n",
       "994  Rocketseat Mastercard Shopping Select  \n",
       "995             Rocketseat Visa Life Basic  \n",
       "996       Rocketseat Mastercard Life Basic  \n",
       "997             Rocketseat Visa Life Basic  \n",
       "998             Rocketseat Visa Life Elite  \n",
       "999  Rocketseat Mastercard Shopping Select  "
      ]
     },
     "metadata": {},
     "output_type": "display_data"
    }
   ],
   "source": [
    "print(\"\\nÚltimos registros:\")\n",
    "display(df_clientes.tail(10))"
   ]
  },
  {
   "cell_type": "markdown",
   "id": "6dfbbeff",
   "metadata": {},
   "source": [
    "### Mostrar estatísticas das variáveis numéricas"
   ]
  },
  {
   "cell_type": "code",
   "execution_count": 6,
   "id": "14440e5d",
   "metadata": {},
   "outputs": [],
   "source": [
    "# Remover colunas únicas\n",
    "df_clientes.drop(columns=['ID_Cliente', 'Nome'], axis=1, inplace=True)"
   ]
  },
  {
   "cell_type": "code",
   "execution_count": 8,
   "id": "b3690b0c",
   "metadata": {},
   "outputs": [
    {
     "data": {
      "text/html": [
       "<div>\n",
       "<style scoped>\n",
       "    .dataframe tbody tr th:only-of-type {\n",
       "        vertical-align: middle;\n",
       "    }\n",
       "\n",
       "    .dataframe tbody tr th {\n",
       "        vertical-align: top;\n",
       "    }\n",
       "\n",
       "    .dataframe thead th {\n",
       "        text-align: right;\n",
       "    }\n",
       "</style>\n",
       "<table border=\"1\" class=\"dataframe\">\n",
       "  <thead>\n",
       "    <tr style=\"text-align: right;\">\n",
       "      <th></th>\n",
       "      <th>count</th>\n",
       "      <th>mean</th>\n",
       "      <th>std</th>\n",
       "      <th>min</th>\n",
       "      <th>25%</th>\n",
       "      <th>50%</th>\n",
       "      <th>75%</th>\n",
       "      <th>max</th>\n",
       "    </tr>\n",
       "  </thead>\n",
       "  <tbody>\n",
       "    <tr>\n",
       "      <th>Idade</th>\n",
       "      <td>1000.00000</td>\n",
       "      <td>49.43200</td>\n",
       "      <td>18.31980</td>\n",
       "      <td>18.00000</td>\n",
       "      <td>34.00000</td>\n",
       "      <td>49.00000</td>\n",
       "      <td>66.00000</td>\n",
       "      <td>80.00000</td>\n",
       "    </tr>\n",
       "    <tr>\n",
       "      <th>Viagens</th>\n",
       "      <td>1000.00000</td>\n",
       "      <td>2.98600</td>\n",
       "      <td>1.40277</td>\n",
       "      <td>1.00000</td>\n",
       "      <td>2.00000</td>\n",
       "      <td>3.00000</td>\n",
       "      <td>4.00000</td>\n",
       "      <td>5.00000</td>\n",
       "    </tr>\n",
       "    <tr>\n",
       "      <th>Restaurantes</th>\n",
       "      <td>1000.00000</td>\n",
       "      <td>3.02300</td>\n",
       "      <td>1.41791</td>\n",
       "      <td>1.00000</td>\n",
       "      <td>2.00000</td>\n",
       "      <td>3.00000</td>\n",
       "      <td>4.00000</td>\n",
       "      <td>5.00000</td>\n",
       "    </tr>\n",
       "    <tr>\n",
       "      <th>Entretenimento</th>\n",
       "      <td>1000.00000</td>\n",
       "      <td>3.07300</td>\n",
       "      <td>1.39198</td>\n",
       "      <td>1.00000</td>\n",
       "      <td>2.00000</td>\n",
       "      <td>3.00000</td>\n",
       "      <td>4.00000</td>\n",
       "      <td>5.00000</td>\n",
       "    </tr>\n",
       "    <tr>\n",
       "      <th>Cashback</th>\n",
       "      <td>1000.00000</td>\n",
       "      <td>2.98500</td>\n",
       "      <td>1.38878</td>\n",
       "      <td>1.00000</td>\n",
       "      <td>2.00000</td>\n",
       "      <td>3.00000</td>\n",
       "      <td>4.00000</td>\n",
       "      <td>5.00000</td>\n",
       "    </tr>\n",
       "    <tr>\n",
       "      <th>Compras online</th>\n",
       "      <td>1000.00000</td>\n",
       "      <td>2.99900</td>\n",
       "      <td>1.42303</td>\n",
       "      <td>1.00000</td>\n",
       "      <td>2.00000</td>\n",
       "      <td>3.00000</td>\n",
       "      <td>4.00000</td>\n",
       "      <td>5.00000</td>\n",
       "    </tr>\n",
       "    <tr>\n",
       "      <th>Farmácias</th>\n",
       "      <td>1000.00000</td>\n",
       "      <td>2.97900</td>\n",
       "      <td>1.38437</td>\n",
       "      <td>1.00000</td>\n",
       "      <td>2.00000</td>\n",
       "      <td>3.00000</td>\n",
       "      <td>4.00000</td>\n",
       "      <td>5.00000</td>\n",
       "    </tr>\n",
       "    <tr>\n",
       "      <th>Programas de Milhagem</th>\n",
       "      <td>1000.00000</td>\n",
       "      <td>3.00300</td>\n",
       "      <td>1.45984</td>\n",
       "      <td>1.00000</td>\n",
       "      <td>2.00000</td>\n",
       "      <td>3.00000</td>\n",
       "      <td>4.00000</td>\n",
       "      <td>5.00000</td>\n",
       "    </tr>\n",
       "    <tr>\n",
       "      <th>Postos de Combustível</th>\n",
       "      <td>1000.00000</td>\n",
       "      <td>3.09100</td>\n",
       "      <td>1.43205</td>\n",
       "      <td>1.00000</td>\n",
       "      <td>2.00000</td>\n",
       "      <td>3.00000</td>\n",
       "      <td>4.00000</td>\n",
       "      <td>5.00000</td>\n",
       "    </tr>\n",
       "    <tr>\n",
       "      <th>Mercados</th>\n",
       "      <td>1000.00000</td>\n",
       "      <td>3.00100</td>\n",
       "      <td>1.43912</td>\n",
       "      <td>1.00000</td>\n",
       "      <td>2.00000</td>\n",
       "      <td>3.00000</td>\n",
       "      <td>4.00000</td>\n",
       "      <td>5.00000</td>\n",
       "    </tr>\n",
       "    <tr>\n",
       "      <th>Tempo na Empresa</th>\n",
       "      <td>1000.00000</td>\n",
       "      <td>10.14400</td>\n",
       "      <td>6.07406</td>\n",
       "      <td>0.00000</td>\n",
       "      <td>5.00000</td>\n",
       "      <td>10.00000</td>\n",
       "      <td>15.00000</td>\n",
       "      <td>20.00000</td>\n",
       "    </tr>\n",
       "    <tr>\n",
       "      <th>Pessoas em Casa</th>\n",
       "      <td>1000.00000</td>\n",
       "      <td>3.56800</td>\n",
       "      <td>1.74712</td>\n",
       "      <td>1.00000</td>\n",
       "      <td>2.00000</td>\n",
       "      <td>4.00000</td>\n",
       "      <td>5.00000</td>\n",
       "      <td>6.00000</td>\n",
       "    </tr>\n",
       "    <tr>\n",
       "      <th>Renda</th>\n",
       "      <td>1000.00000</td>\n",
       "      <td>25556.41600</td>\n",
       "      <td>14468.36266</td>\n",
       "      <td>1000.00000</td>\n",
       "      <td>12695.25000</td>\n",
       "      <td>25494.50000</td>\n",
       "      <td>38384.75000</td>\n",
       "      <td>49996.00000</td>\n",
       "    </tr>\n",
       "    <tr>\n",
       "      <th>Investimentos</th>\n",
       "      <td>1000.00000</td>\n",
       "      <td>485209.92100</td>\n",
       "      <td>289308.84163</td>\n",
       "      <td>89.00000</td>\n",
       "      <td>225495.50000</td>\n",
       "      <td>478102.50000</td>\n",
       "      <td>733778.75000</td>\n",
       "      <td>997209.00000</td>\n",
       "    </tr>\n",
       "    <tr>\n",
       "      <th>Ativos</th>\n",
       "      <td>1000.00000</td>\n",
       "      <td>986604.88900</td>\n",
       "      <td>574234.66550</td>\n",
       "      <td>2538.00000</td>\n",
       "      <td>511514.25000</td>\n",
       "      <td>957918.50000</td>\n",
       "      <td>1492880.75000</td>\n",
       "      <td>1998481.00000</td>\n",
       "    </tr>\n",
       "    <tr>\n",
       "      <th>Dívidas</th>\n",
       "      <td>1000.00000</td>\n",
       "      <td>248727.31200</td>\n",
       "      <td>143546.39812</td>\n",
       "      <td>31.00000</td>\n",
       "      <td>122040.00000</td>\n",
       "      <td>251886.50000</td>\n",
       "      <td>376115.25000</td>\n",
       "      <td>499732.00000</td>\n",
       "    </tr>\n",
       "    <tr>\n",
       "      <th>Probabilidade Inadimplencia</th>\n",
       "      <td>1000.00000</td>\n",
       "      <td>66.72736</td>\n",
       "      <td>22.38149</td>\n",
       "      <td>0.00000</td>\n",
       "      <td>60.74750</td>\n",
       "      <td>74.29000</td>\n",
       "      <td>81.00500</td>\n",
       "      <td>98.21000</td>\n",
       "    </tr>\n",
       "    <tr>\n",
       "      <th>Score</th>\n",
       "      <td>1000.00000</td>\n",
       "      <td>95.74000</td>\n",
       "      <td>104.34459</td>\n",
       "      <td>0.00000</td>\n",
       "      <td>24.00000</td>\n",
       "      <td>62.00000</td>\n",
       "      <td>131.00000</td>\n",
       "      <td>650.00000</td>\n",
       "    </tr>\n",
       "  </tbody>\n",
       "</table>\n",
       "</div>"
      ],
      "text/plain": [
       "                                 count         mean          std        min  \\\n",
       "Idade                       1000.00000     49.43200     18.31980   18.00000   \n",
       "Viagens                     1000.00000      2.98600      1.40277    1.00000   \n",
       "Restaurantes                1000.00000      3.02300      1.41791    1.00000   \n",
       "Entretenimento              1000.00000      3.07300      1.39198    1.00000   \n",
       "Cashback                    1000.00000      2.98500      1.38878    1.00000   \n",
       "Compras online              1000.00000      2.99900      1.42303    1.00000   \n",
       "Farmácias                   1000.00000      2.97900      1.38437    1.00000   \n",
       "Programas de Milhagem       1000.00000      3.00300      1.45984    1.00000   \n",
       "Postos de Combustível       1000.00000      3.09100      1.43205    1.00000   \n",
       "Mercados                    1000.00000      3.00100      1.43912    1.00000   \n",
       "Tempo na Empresa            1000.00000     10.14400      6.07406    0.00000   \n",
       "Pessoas em Casa             1000.00000      3.56800      1.74712    1.00000   \n",
       "Renda                       1000.00000  25556.41600  14468.36266 1000.00000   \n",
       "Investimentos               1000.00000 485209.92100 289308.84163   89.00000   \n",
       "Ativos                      1000.00000 986604.88900 574234.66550 2538.00000   \n",
       "Dívidas                     1000.00000 248727.31200 143546.39812   31.00000   \n",
       "Probabilidade Inadimplencia 1000.00000     66.72736     22.38149    0.00000   \n",
       "Score                       1000.00000     95.74000    104.34459    0.00000   \n",
       "\n",
       "                                     25%          50%           75%  \\\n",
       "Idade                           34.00000     49.00000      66.00000   \n",
       "Viagens                          2.00000      3.00000       4.00000   \n",
       "Restaurantes                     2.00000      3.00000       4.00000   \n",
       "Entretenimento                   2.00000      3.00000       4.00000   \n",
       "Cashback                         2.00000      3.00000       4.00000   \n",
       "Compras online                   2.00000      3.00000       4.00000   \n",
       "Farmácias                        2.00000      3.00000       4.00000   \n",
       "Programas de Milhagem            2.00000      3.00000       4.00000   \n",
       "Postos de Combustível            2.00000      3.00000       4.00000   \n",
       "Mercados                         2.00000      3.00000       4.00000   \n",
       "Tempo na Empresa                 5.00000     10.00000      15.00000   \n",
       "Pessoas em Casa                  2.00000      4.00000       5.00000   \n",
       "Renda                        12695.25000  25494.50000   38384.75000   \n",
       "Investimentos               225495.50000 478102.50000  733778.75000   \n",
       "Ativos                      511514.25000 957918.50000 1492880.75000   \n",
       "Dívidas                     122040.00000 251886.50000  376115.25000   \n",
       "Probabilidade Inadimplencia     60.74750     74.29000      81.00500   \n",
       "Score                           24.00000     62.00000     131.00000   \n",
       "\n",
       "                                      max  \n",
       "Idade                            80.00000  \n",
       "Viagens                           5.00000  \n",
       "Restaurantes                      5.00000  \n",
       "Entretenimento                    5.00000  \n",
       "Cashback                          5.00000  \n",
       "Compras online                    5.00000  \n",
       "Farmácias                         5.00000  \n",
       "Programas de Milhagem             5.00000  \n",
       "Postos de Combustível             5.00000  \n",
       "Mercados                          5.00000  \n",
       "Tempo na Empresa                 20.00000  \n",
       "Pessoas em Casa                   6.00000  \n",
       "Renda                         49996.00000  \n",
       "Investimentos                997209.00000  \n",
       "Ativos                      1998481.00000  \n",
       "Dívidas                      499732.00000  \n",
       "Probabilidade Inadimplencia      98.21000  \n",
       "Score                           650.00000  "
      ]
     },
     "metadata": {},
     "output_type": "display_data"
    }
   ],
   "source": [
    "num_vars = df_clientes.select_dtypes(include=['number']).columns\n",
    "cat_vars = df_clientes.select_dtypes(include=['object']).columns\n",
    "target = 'Probabilidade Inadimplencia'\n",
    "display(df_clientes[num_vars].describe().T)"
   ]
  },
  {
   "cell_type": "markdown",
   "id": "fab0b4c0",
   "metadata": {},
   "source": [
    "### Mostrar valores possíveis para as variáveis categóricas"
   ]
  },
  {
   "cell_type": "code",
   "execution_count": 9,
   "id": "1452cf09",
   "metadata": {},
   "outputs": [
    {
     "name": "stdout",
     "output_type": "stream",
     "text": [
      "\n",
      "Cidade: 15 valores únicos\n",
      "Cidade\n",
      "Goiânia           77\n",
      "Porto Alegre      74\n",
      "Rio de Janeiro    74\n",
      "São Paulo         73\n",
      "Florianópolis     72\n",
      "Belém             71\n",
      "Manaus            71\n",
      "Curitiba          69\n",
      "Brasília          67\n",
      "Fortaleza         67\n",
      "Name: count, dtype: int64\n",
      "\n",
      "Cargo: 565 valores únicos\n",
      "Cargo\n",
      "Gestor de recursos humanos    6\n",
      "Comandante                    6\n",
      "Transcritor                   5\n",
      "Catador de carangueijos       5\n",
      "Jogador de badminton          5\n",
      "Ferramenteiro                 5\n",
      "Vistoriador de sinistros      5\n",
      "Marketeiro                    4\n",
      "Figurante                     4\n",
      "Médico legista                4\n",
      "Name: count, dtype: int64\n",
      "\n",
      "Estado Civil: 4 valores únicos\n",
      "Estado Civil\n",
      "Casado        259\n",
      "Viúvo         257\n",
      "Divorciado    247\n",
      "Solteiro      237\n",
      "Name: count, dtype: int64\n",
      "\n",
      "Moradia: 2 valores únicos\n",
      "Moradia\n",
      "Próprio    507\n",
      "Alugado    493\n",
      "Name: count, dtype: int64\n",
      "\n",
      "Principal Cartão: 24 valores únicos\n",
      "Principal Cartão\n",
      "Rocketseat Mastercard Life Basic         149\n",
      "Rocketseat Visa Life Basic               132\n",
      "Rocketseat Mastercard Travel Basic       108\n",
      "Rocketseat Visa Travel Basic              92\n",
      "Rocketseat Mastercard Shopping Basic      92\n",
      "Rocketseat Visa Shopping Basic            87\n",
      "Rocketseat Visa Life Select               48\n",
      "Rocketseat Mastercard Life Select         44\n",
      "Rocketseat Mastercard Shopping Select     33\n",
      "Rocketseat Mastercard Travel Select       30\n",
      "Name: count, dtype: int64\n"
     ]
    }
   ],
   "source": [
    "for var in cat_vars:\n",
    "    print(f\"\\n{var}: {df_clientes[var].nunique()} valores únicos\")\n",
    "    print(df_clientes[var].value_counts().head(10))"
   ]
  },
  {
   "cell_type": "markdown",
   "id": "52d924d6",
   "metadata": {},
   "source": [
    "### Apresentar histograma das variáveis numéricas"
   ]
  },
  {
   "cell_type": "code",
   "execution_count": 10,
   "id": "da120c35",
   "metadata": {},
   "outputs": [
    {
     "data": {
      "application/vnd.plotly.v1+json": {
       "config": {
        "plotlyServerURL": "https://plot.ly"
       },
       "data": [
        {
         "name": "Idade",
         "type": "histogram",
         "x": {
          "bdata": "ICpDLxs4MiE8SyhJKhU8Sjg1PEQoKisuOS9DLCMdTjYyRkUXQBJOTBJGODA8UEcuPDtCF04jREUYIUgWKC8vKU8TLx8mNisdOi5MTycUQ0tNGSFBPxkYMi4+GUMlHCFCQiRCP0ZGPD8oGExIFz4+JitLPRglJTsfKR5HEkQxExhFLT0vHU40Ihk7EyImJDFDHyQ2RDorPkAhMSJQPz8hIEMzNxwXRxUxKigXTyooUBYnFx01RUQqE0IVRzsyMz0oLC5LLykwRDxIK0MtJxg/OTMrP0I+LhsXKlBEKCVBIkVHKRwwUB0aHBMzIjZITR48LDAwTBUmIxoiSjgrQTMwHCQgSzorPh5AGSAWSjZIIEw9Fz0eHxUyRTY1OCA4Mx0XHR8UTTlFPkxFFx4vHBU/HUZGJSoSHkk/M08aMUJPPRU6UEsSNURBOCMdOR5BJhpKQEVIPjsVSyREGU1AHiklFBkvRh8aFkwzMiQuQiAkNTIYPDIjOkhFSSE+SyM6MB4gExY3TR1JJB9DSjMyLBk+Tys5QE4xHCEuK0NKLzNJThNETxksOU4uFUA4HSNBSEoYSkk4NzIYKUgZFR0tLxhOLUIeIBo4HRYUHT5FJiITQR0lLSQlTT9BPyQqRRM/HElBKzo9PhlJMB0tITsTKig/QzIWHygrGk85GjJMHxQUEhRLJk44GjIWShcXJDBAPyYWEiQ5LxRBGDQ6Tks4KBc1SxoXOyIlOChPSik/GRZHGTYSTBMuTzEdMCI2HiUaLSVPLzUYHSxQTRRIHj02TyxOFTckJj4qQEwlTxQfHEIeODYWQSZPIDFAHh4wJhUsO0RBKjYrPkIkHzRNTzI/HStJMyUfIz4wJRQ8SEIpGxxIGTpMEyMYJiVMLCQmGkBHRBtINzhQMzQnSxhNKEg0PhpBFjdPSUFHGjEYJiQ6Ly1HPRI3Q0pHQz9FQ0geLiwmMT8/FyISSzEoGkNPMTgUJBdJFj0uLSYbNhckTBdINT8dPz8eJC4vEyg5RDlGREImTTUmPidHMU0lHxM0KUYmMSIxFz1LJT8yNUU6OSk0IzpPMEs1ISw4OyMiNSEhRCUrKDpPHi9FSk1ITTk7RD5HGx8kKzcYSURIOzAbKUs0PSMaLk5DE0seFCxLGB1HGyZMIhxEM0o8Q08zSU8nKx9MOkVGTjMyQzhHQytHPCIWOktNKBk3KyInSSsaKCMzQBo9SRJHLkI0TxokGkpDJi88MTg3KEYlKxofNkZOQBQtRRtQLkYVJj1HSCElNDgtOi40FkwjRz5IUCQxSBk/NUwlQTw4SCIbN0c/TE0SUEM4KSUxJxoyFlBPGhtJKw==",
          "dtype": "i1"
         },
         "xaxis": "x",
         "yaxis": "y"
        },
        {
         "name": "Viagens",
         "type": "histogram",
         "x": {
          "bdata": "BQEEAgMFBQEBAwEBBAEDBQMCBAQFAQQCAgUBAgQDAgIEAQMFAgEBAwEFBQIDAwQFBQUDBAMBAQIFBQMCAQQBAQUDBQUCAwICBQUFAQMEAgICBAUBAgQFBQMEAQMDBQEEAwMBBQQBBAMCAgEDBAICBQEEAgEDAgUEBAQBAwIBBAUEAQQDBAEFBQICBAMCAQIBBQEBBAQEAQUBAQQBAwMCAwICAgMDAQQDAQMEBQEDAwEFAgEFBAECBAIEAQUFBQMDAgIBAgMBAwQBBAIEBAEBAgUEBQEDBQUDAQIDBQMFAwICAwIDAwIBBQQEBQICAwEBAwICBQEDAgQDAgMFAgQEAgUEAgEEAwQFAgIFBQMDBQEFAgMBAwMCAQQCAQQFAwQFBAEFBAUCBQIDAwMDAQEEAwEFBQMDBAQDAQUCAQMDAQUDAQEFBAQFAwUEBAQBAgMFBAEEAQIFAQUBAwMBAQQFBAUDAwUDAgMFAQQEBAEDAgQCAQQCAgEEBAUCBAQCAwUDAgIDAwQDAQECAQQFBAQCAgQCAwEFAgMBAwMDBQEEBAMCAQMBBAQCBAUEAgECBAQDBAQFBQICAgMCBQQDAwMEBQUDAwQEAgQDAQQFBAIEAQEFBAIBAwQBAQEEAgMFAQEEAwEFAgIDAQMFAgQBAwQCAgQBAwQFAgUBBAMEBQUEBQIBBAIBAgIBAwMCBAIDAQECAwEEAwUBBAMBAgEFAgQBAwMFBAIFAgQFBQEBAgMBBQQEAgUEBQMEAwMBBQQFAwUEAwIBBQUCBAEBAgIBBQIEBAUBBAEEAQECAwMEBQUDAgIEBAECBQUCAQICAwQBAgIFBQQFBAIDAgUBAgUDAgEBAQUCAwMEBAECBQIFAQQEAwUBAQEBBAEBAQIBBAQFAQUCBAQDBQEDBAIDAQQCAwQFBAICBAUCAgMBAQMBAwQDAgIDAwMFBAQDAwMEAwUBAQIFBAEFBQQFBAIEBAQCAgMBAgQEBQIFAgMCBAQBBQUBAgUCAQMEAQUDAgMDAwIDAgMFAgMDBAICBAQFAwEEAgQEAQUFBAEBBAIDAgMDBQMCAQUEAgQEBAIDAQUCAwEEBAUEAgQBBQQDAgQDAgQEBAUBBAEDAQUFAgEFAQQCAgQBAwQFBQUEAwUBAwICAgEBAQEDBQMFBQIEBAMBAQEBBQMFAwEEBQEEAgEEBAICBAIBBAMBBAMBAgIFAQQFAQIDAwUDAgUEBAEEAwEEBAIFBAQCAwQFAgQDBAECAQQBBAMFAQIDAQMFBQUDAQQCAwIEAgMBAwQEAwUEAwQFBQQCAQQCAQUFBAUBBQUEAQMEBAUBAwEDAwEBBAIEBA==",
          "dtype": "i1"
         },
         "xaxis": "x2",
         "yaxis": "y2"
        },
        {
         "name": "Restaurantes",
         "type": "histogram",
         "x": {
          "bdata": "BAQDAwUDBQQCBAEBBQIEAwUFBQIDBQIBBAUDBAIDAgEBAwUDAgUFBQIFBQMFBQIEAwQBBQQFAwQDBAEDAgEFAQIDBQQEAQEEAQIBAwEFBQQCBQMFAQMEBAMCAwEFAQIBBAMCBQUCBQUFAQQCAwQCBAEBAgIBAwICAwUEBQIFAQUCAQIFBQQFAgUFBAUFAwMEBAIBAwQBAQQDAwUDBQEBAwIDAwIDBQQEAwUBAQUEBQUDAQMEAgQDAQEFBAMFBAUDAwQCAwUDBQIBBAQCBAUDBAQFBAMFAQMDBQQEAQECAwQDAgQBBAQCAgICBQQBAQUBAQICAQUCAQMDAgUBAQUDAwQDBAMFBQMCAgQEAwMFAgIBBAMBBQMFBQUBAwIFAwQEAwUDAQEBBQQEAgMBAgQFBAMDBAMBAgUBBQMFAgQEAQEDAgQFAQEBBAIEAQQEBAICBQUCBQIBAgMCAgIDBQUEAgQEAQUCAQEBBAIEAwEFBAUCBAIDBAIBAwQDBAMDAwQDAwQEBQEFAwEBBAEDBQUCAgIDBAMDAwMBAwQEBQIEAQMCAgIBAQEDAwMFBAIFAwEFAQQCBQIBAwEFBQQFBAIFAQEBBQIEBQIEAQIBAgMCBQICAQQEAQICBAUDAQQBAgMFAgMDAQQBAwEDAgIFBQQEAQEEBQQDAgEDAQMDAQMEBAMDAgIBAwQBAQQBAgEBBQMFBAICBQIDBAUDBAQBBAEDBQUCAwQBAgQDBQMFBQMBBAIBBAQCAwUEAgUCAQECBQIBAQMBBQQDBAQCAQIEBQIFBQUBBQQFAQIEAwMBAQUCBQQDBAIEAQQBAgEDAQQFBQIEAwUCAwQFAgIFAgEBAQUEAQEDAQIFBQQDAwQEAwEFAwQDBAUFAgIBAwEDBAUEBAMFAgQCBAUDAwMCAgUBAwECAQUCBAMBAwUBBAMCBQEFBQUCAQIDBQUDBQIDAQUFBQQBBAMFAgUBBAEFAgUBAQQEBQUEAgIEBAECBAIEAQIBAQEEBQQEBAMCAgEEAwUEAQIDBAQDBQEBBAEFAwUFBAEFBAQDAgQCAQEEAgMDAgIDAwMCAwUCBQUCAgEFBQICAQQDBAMEBQQCAQQBAgEDAwMEAgIDAwMEAQUDAgEBBAMEAwIEBQUDBAQBAQIEAwIFBAEDBQUEAgUDAgQDAQQFAQECAgEEBQMBAgQBAwUBBAEDAQICBAQEAQECBAQDAQIEAQUEAQUDAwMEAwQCBAUCAgEBBQECAgIFAgIEBAQCBAEDAgIBBQEFBAUFAgQEBQICAwEEBAUBAwUDAQQDAwMFAgIBBAMEAgIBBAUCBAUFAQMFAwEBAQMFAQICBA==",
          "dtype": "i1"
         },
         "xaxis": "x3",
         "yaxis": "y3"
        },
        {
         "name": "Entretenimento",
         "type": "histogram",
         "x": {
          "bdata": "AgUEAQQFAgECAgQFBAQDBQQBAgIBBQUDBAMCBAQEBAUEBAEEAgMBBQMDAQQEAQUEAQMBAgMEAwUFBQQCBAQCBAIBAQUFBAUEAwEDBQUDAgMBBAEDAwICAQIEBQQDAQQDAQQBAgMBAwMDBQQEAgUFAQQFBAEFAgEFAgMCAwMBAwQEAwEEAgQBBAQCAQQEAQEFAgQEAwEBAwICAwMEBQQFAwEBAwQCBQECAQEDAwQBBAEDAQQFAgIEAgMEAQMDAwMDBAECBAUEAgEBAgQFAgUDAgUFBQIBBAQDAwEEAwUCAgMBBAMFBAMDBQUEAQUCBQUFBQMEBAMDAwMBAwUBAQIBAQIEBAQCAwUDAQECAgQFAQUCBQIBBAEDAwIDAQIFBAMFAgUDBAQBAwUFBQIFBQECBAUFAwUCAwIBBQUDBQUFAQECBQMDAwECAwQCBQIFAgMFAgEEAwMEBAQDAgEBBAEBAQUDBQUDAQEBAQUFBAQFBAMCBQQBAwQCAQICAQQDAgUEBQMCAwQFAgUDAwQDAwQEAwECAgMCBAQDAQIFBQQEAQIFAQIBAwQFAgMEAQQDBQICAwQFAgECBAEEBAMBAQMCAwICAQUEAQMEAwIDBAIFBAEDBAIFAgQEBQIFBQICAwQBBAIDAwIBAQEFBQUEBAUDAgUEAQIBBAICBQMDAQMFBQECBAQCAwQFAQQCAgICBAQCAwICAwQEAgEEAwMDBAQEBQIBAQEBAwUDAwIEAQMCAwEDAgMDAgMDBQUEBAIBAwQCAwMDAgEFBQQDBQUCBQUCAgEDBAEBBQUEBAEEAQUEAgECAwMFAgQDAgQEAwQFBAECBAEBAgEDBQECAQIFBQEBAgUCBAMBBAQEAQMBBAQEBAIDAQQDBQUEBQQBAgQEBAMDBQUCBAQFAQIDAgQDBAUFBAMDBAQEAwMEBAQCAwEFBQUEBQUEBQUDBQICBAQEBAIFBAQDBAQFBAMFAQMBBQIEAwECBAIBBQMEBAEDAwQBAQQFBAMBBAIDAwQDAgQCAwIEAgEEAgEBBAECBAUEAwUBBAEEBAQBAwIBBQUDAwQEAQMFAQQEAwUEBQUBBAQEAwMCBQUEAwEFAgEEAQUEAgUEBAQEAgECBQEBBQMDBQUCBAEDAgUDAgIDBAIEBQQCBAEEAQMBAgICAwMBBQEBBAUBBAQFAgMFAgICBAMBAgQBBAQEBQUFAgUFAQUFAgUCBAEBAwUFAQMFAgECBQUCAgIBAwMBAQMBAQMBAgUDAwQEAQQBAwQFBQUFAgUDBAMDBQIEBQMDAwQDAQQFBAIDAgEEBAEFAwIBBAEBAwIFBQIFAwEBBAIFBQEFAw==",
          "dtype": "i1"
         },
         "xaxis": "x4",
         "yaxis": "y4"
        },
        {
         "name": "Cashback",
         "type": "histogram",
         "x": {
          "bdata": "BAEDAgUBAgUBBQMBAgEBBQMDAgQBAgUFBAQDBQIDAQIDAgUFBAICAQMEAwQEBQUDBAQDAgIDBAMCAgMFBQQEAQQCAQMCAQEFBAQBBAUEAwEDAQUCAwQEAgEBBQQBAQQEAQMEAwEEBQMFAgIDAQMBBQMCAwQFBAMCAwMCAQECAgMDBQIDAwIBAwMFAgUEBAMCBQEFAwQBAwEFAgUCAwUEAQQBAwMBAwQEBAMFAwUDAQMDAgQCBQICAgUBAgQDAgIFBQIDAwEBAwUBAQEFAQMDAwIDAwUBAQUCBQIEBAUCAgMBBQEDBQECBQEEBQUFAQUDAwQCAwQEAgUEBAQEAwEEBAMDAgMDBAUBAgQCBQQFAwEEAgMCBQEDAgIEBAIFAgQFAQEBBQUBAQMCAwEDAwEBAQQCBAMEAgQFAwMDAgIDBAEBBAIDBAMCAQICAgIBAQIFBQQCAQIFAgUDBQUEAgIBAQQBBQUBBQICBQQBBQEBAgMDAQEDBQMCBAQDBAEFAQMEBAUBBAECAQUEBQMDAwMFBQUEBQMFBQMDAwUBAgQCAwIEBQUFAgECBQMEAgECAQIBBQUDAgMCAgIDAgUCAgMEAgIBAgUFBAIEAgMDAgMBAwIDBAICAwMBAgQEAQUEBAQDBAICBQEBBQIEBQIBAQIEBQIEBAEEAwEEAgQDBQQFBQIDAgUCBAICAgQDAgEBAgIBAgIFAwMCBAUEBQUDAwUEAwQFAwQDAQQFBAQEAwMBAgMCAQMCAQEBBQQBBAMDAgQFBQEEBAUEAgMBAQQBAwMDAQEFAwMDBAMBAgMDBQUDBAIEBAQDAwUCBQEEBAQDAgMFAwMEAwEFBAMBAgUEAwQDBQQCAwUDBQMEBAMCAgQBAwIBAgIFAgUCBQUFBQQBAgMCBAECAQECBAIDAwEEAgEBBQUCAgMEBQEEBQUEAwUCBAEBBQEDBAECAgMDAgUFBQQEBAEBAQQBBAUCAwIBBAQCAQIEAgUCAgMBBAICBAMBAQIDAQUCAgIFBQQFAgMDAwEBAgQBBAMEBAUDBAECAgMEAwUBAQEFAQQEBQUFAgMEAQQFAQECAwUDAQUBAgIBAwUCBQMDBAMDAwMDAQUCAgQEAQUCAQUCAwMEAgMCAgQCBAEDAQUFBAIFAwIBBQMFAgEBAwUFAQQBAwMDBAEDAQMCBAICBAUDAQIFAQUCBQIEBQQDAgQFAgIEAwUBAwUDBQEDAQMDAgEFAQEDAgICBAECAgIFBAUCBQIEAgQEAQEDBQEDBQQDAgUCBAQFBAUEAgMBAQEBBQQCBAQFAQQDAgIFBAQFBAUBAQQDAwQFAgECAgQBAQQDBQQFAQ==",
          "dtype": "i1"
         },
         "xaxis": "x5",
         "yaxis": "y5"
        },
        {
         "name": "Compras online",
         "type": "histogram",
         "x": {
          "bdata": "BQQCAQQBAwIDAgEBAgUBAQEFAgMDAwMFAgUDAQUEBQEEBAIFAwQCBQQBBQMBBAICAQUBBAQCAgEBBAIBAQEEAwICAgEFAwUFBAEDAwUCAQQEAQUBBQQDAQEDAwUDAQQCBAEDBQUDAwEDBAMCAwEFBAEDAgQCAQQEAwQBBQECBQEDAQQEBAMCBAQCAgQFAgIEAgMDAwICAwEFBAQBAgICBQECBAQEAQQCBQUCAwECBAUCAgMEAwUFAwQBBQQBAQUDBAUDAgUFBAECAgQBBAUFAQUFBAEDBAUFBQUEBAICAQIBBQIDAQQFAwIDAQQEBAIFBQMCBQIFBQUBBQQFAwQDAgEEAQIBAgIFAQEFBQQFBAQDBAMFAgMEAgIEAgEFBAECAgIBAQMEAQQFAgUCBQQEAQQCAQQFAgUEBQEDBAQDAQUDAgMDAQEBBQUCAgEBBAECAgIDBQUFAgMEAQUFBAQEAgMDAwUBBQMFAgMCBAIBAwMFAwUFBQMDAgIEAwIBBAICAQUDAgQFAQQEAgIFAgUCBAEDAgIFBAIEBQUBAwECBQQEAwQCBAQCBQQFAQMBAgIFBAUDBAIEBQQDAQQBBAMCBQMFAwMBAQUBBAIFAQQBAQIFAQICBQMBAgQDBQQBAwUBAgIFAQEBAgUCAgEDBQMFAQECBQUEAQMCAQIBAgEBAwICBAIBAgMCAgQBAQEBAgMCAQIFAQUFAwQFBAEBAgUEAwIFAQEDAgIBAQUDAQQDAgMFAwEEBQECAgEDBQUCBQEDAQQEBAMFBQIEAQUFBAEEBAICAQMBAwMEAgUCAgQBBQEFAgMFAgIFBAQEAgQCAwEDBQMDBAQCAQUCAgQDAwUBAgEDBQUBBQUCAgQCAgQCAwECBQMEBAICBQQEBAEBAwIFAgUEBQQDAwQDAwQCAgUFAwIEAgUBBAEEAgUDAgMFAgEFBAEDAQQDAwEFAgQDAQMCAgUCBQEDAQUFAQMCAgUDAQEFAwICAgIFAgMBAgMDBAUFBAIDAwUEAgIFAwIFAwUEBQUCBAICAgQDBQUFBQMFAgICAQMCBQUBAwMFAwIFAQIBAgUCBAUCAQEEBQQCAgMCAwQDBAMFAwUCAQMDBAUFBAMEBAECAQIDBQECAQEDBQQCAwICBQIFAwMCBQQCAgEFBAIBAQICAwUBBQEEBQIEBAQFAQICAgMFAgMFAgQFAQUFAgIEAgMFAgQEBQMEAwQDAQQDAQIEBQUEAQEDAwMDAgICBAQDAgQBAgMEBAICAQEFBAEFAQQFBQEFBQIEAgMFAgMBAQQCAwMEAwMDBAUCBQUFAgECAQMDAQQFAgQDAQIEAQEFAgMCBA==",
          "dtype": "i1"
         },
         "xaxis": "x6",
         "yaxis": "y6"
        },
        {
         "name": "Farmácias",
         "type": "histogram",
         "x": {
          "bdata": "AwEDAwMFAgIBBQICAwIEBQEFAgMCBAQDAgUDBQUDAgMCBQEDBQEFAQEEAQQCAQECBQEDAwQFAgQEAQEDAQECAgEFAgIFAgUEAQMBAgEFBAECBAUDBAMEAgIDBAMCBQQCBQQDAwQEAwUCBAEBBAMEAQUBAwIEBQUCBAQCBAEFAgMBBQMDAwIDBAEDAwUCAgUBAgIDBQIEAgIFBQQCAwMDBAIFAwMEAQIFAwUCAgICBQUBAwIDAwUFBAICAgMEBAIEAgQCAgEDAwECAQQBBAUFBAIDAQMCAwMFBAQEBAEFAwMFAQQFBQQEAgQFBAIDBAUFBQUCAwQDBAEDBQIBBAMFBQIBAgMCAQEEBAMCBAEFAgEEBAUCAQQEAwUDBQIBAwIEAgUBAwQBAwQFAQIDAwQBBAUBAQMEAQQDAQQBBAQDBQIBBQQEBAMCBQEDAQECBQUBBQIEAwEDBQMCAwMCAwQDAwQDAgECAQUEBAQBBAQEBAEBBAIDBAICAgIDAwMBAwEEAQEFAwMBBAEDBAIBAgUBAQQEAwIBAQICBQMDAwEFAwEEBQEDAwIFAwMBAwUFAQMFAQEEAwQFAwEFBAUDAgMCAgUCBAUBAgEBAwICAwECAgIEAwEEBAUBAgEDAwQDAgQFBQEEAgIBBAIFBQMBAwEDAQQDBAUCBAQEAQMBAgQCAwUDAwEDAgMEAwUCAgUFBAEDAwUBAQUEAQECAQQDBQEBAgEBAgQEAQMFAQMDBQEEBQEFBAUCAQIDAgMFAwECBAICAwUCAwEBBQIEAgMFBQIEAQEEAgUFBQUBAgEBAwUCAgQCAgEFAQQDAgUFBAMFAgQDBQIEBAQCAwIDAQQCAQQFAwEBAwMDBAQEAwUEBAEBAQUFAwMFAwUBBAQFAgQCAwUBBAICAQIDBQIDAwQCAwMEAQIDBAEDAgMFAgUBAwIFAwQCAgUBBQQEAwEDAgMBAwUCAwMCAQUFBAUDAgQEAgEFAQUDAgUDBAIFAQMCBAEFAgEEAQIEBQQBBQMCAQUBAQEFAQUFBQIBAQUEAgEDAQQFBQQBAgQCAQUDBAMCBQQFAwICAwMDAQICAQQCBAUCAwMBAgMFBAEEAwMEBQIEAQUFAQICAwEFAwMDAQIFBAEBAwUEAwQEAQICBAQDBQUCAgMDBAQEAwUEAQUDBAUBAgIDBAECAgEFAgUEAQEDBQQFBAUBAQQEAwUDAgQCAgQCBAUCAwIFAQECAgIEBAMDAgIEBQUBBAICAwMDAwQBAgUEAwECBAIFAQIEAQMCAgQCBAMCAwMEBAQFBQQBBAUDAwUDAwUEAQICBQQDAQUBAQMBBQMFAwUDBAIDAw==",
          "dtype": "i1"
         },
         "xaxis": "x7",
         "yaxis": "y7"
        },
        {
         "name": "Programas de Milhagem",
         "type": "histogram",
         "x": {
          "bdata": "AQUDBAIDBQQFBQICAgUFAwQCBAIFAQUBAQQFBAEBBAUEBQIEBQEDAgIDAgUDAgMFBAUDBAEDAgEDBAQCBAMEBQMEBQQDBQIFAQEFBQMCAwQEBQUFBQUBAwQBBQIFAwIBBAEFAgMCBQUBBAEDAgMFBAECAgUFBAUFAQQBAgQEBQQBBQQEBAMCBQQFAQEFBAMCAgIEBQMBBAECBAQBAgICAQUEAwEFAQMCBQIDAgUBAgQBAQMBAQUEAwUDAgQBAwMBAwQBBAEFAgMDAgECBQIDAQIFBQQFBQEEBAEDAQEDBQQBBAIFAgQFAwUFAgMFBQIDAwUDBAEDBAQFBAIBBAMCBQEDBAECBAUCAgUFAwECBAMCBQEDBAICBAUEBQQFBQQFAQMEBAUCAwEEAwICAwIEAQQFAgEDAQUBAwUBBAQDAQQEAQUBAgEBAgIFBQMEBAEEAQMBAQQEAQQFAwMEBQQEAwEFAQQCBAMDAwIDBQUBBAEBBQMEBQMBAQEDAQUCAgMCBAEEBAUFBAQFBAMFAgMDAwUCAQUBAgUEAgIDAwECAQECAQUCAwEEAQIBAwUFAwMEAQMEBQQCAQMEBQEEAwICAwUBBAIDAgQFAgEFBQMDAwECBQEDAgUEAQEDAgUFAwIFAwIBBAQEAQIEAwIDBQUDAwUBAQICBAUBBAEBBAEEAgEBAgICAQIFAgMBAQQCBQEBBAUCAgMBAwMDBQIDBQQDBQIFAQEFAwIEAgICAQUCBAMFAgEFAwUBAQUEAwEEAwUFBQICAwUCBQECAQMDAQQDBQEDAgQDBAQEAgUDBQEEBQMDBQUDAgMDAgUDBAEFAwQEAgEDBQIDBAMCBQQBAwQDAQEEAwEBBAUBAQQCBQMDBQEBAwEEBAMFAgQFAgMDAwMDBAIBAwUFAgIEAQIFBAEFBQICBQQDBAEEAgUFAwMFAQICAQUBAQEBAQIEAgMFBAMCAgEFBQEFAQIBAwEBBQUBBAUCBAMFAwIEBQEDBAQBAgEFAQUCAwIBBQICAQIDBAEBBQQDBQQBBQQCAQUEAgMDBAMCAgUEAQEEAQQDBQQDAQIBBAIDBAEEAwIBAgIBBQMFAQUDBQMBBQUEAQQDAQUCAQUCAQIEAwUEAgEBAgQFBAMCBQUFAQMBBQEBBQQCAQIDAQQBAQECAgUCAQUFBAQDAQMFAgQDAwIDBQEBBAIDAQMBAQIBAwQFBQUCAwIFBQQBAgIDAQMEAgQDAQICAQUBBAEFAgIBAwUFBQMBBAECAgMFBQIBBAEFAwEDAwMFAQQDBQUBBAEFBQIBAgQBBQQFBQIFAQECAQUFAgIEAQMFAwQFBQIDAgMDBA==",
          "dtype": "i1"
         },
         "xaxis": "x8",
         "yaxis": "y8"
        },
        {
         "name": "Postos de Combustível",
         "type": "histogram",
         "x": {
          "bdata": "AgMCAwIDBQUFBAIEAQUFAQMEAQIDAwECAQUBBAQEAwECBAQFBQUBAgMEBAEFAQQEAQEDAwICBQMEBQECBAUDAQUBAQUBBAMFAwUEAQUDBQUEBQUDBAMDAwUFAgUDAgMBAgUDBAUEBAQFAgMDBAUDAgEFAQIEBAEDBQICAQQDBAQBAwMFAwIFBQQEBQMEBQIDAQIEAgICAgUEAwEEAwMEAwMDBAEFAgIFAgUCBAMDAgEEBAUEAQEBAwUEAgMDAwEEAgQEAQEFAQIDAQEFBAQBBQECAQEEAwMFAQIBBAECAQQFAwEFBAIFBAUBAwUFBQEDBAECBQUCAgECAQEDBQQBAwUBAQIEAwIFAQQCAwMBBQUCAgMBBQQBAgIDBAUBAQUEBQUCAgMFBAUCAQECAgUDAwIEAgUEAQQFBQIFAgMBBAUEBAEBAgQDAwEEAQMFAQMFBAMBAQUFAwUCAgQDBQMCBAMBAgQCAQMFAwECAwMEAQUDBAMFAQUDBQIBAgECBAIFAgMCAgQFBAMCAQIBAQQEAQMFBAEEAwQBBAEFBQQEBQUDBQUCBAMFAgMFAgQDBAEBAQEFAwUCAQICAQIFAQUEAQUFAgUEAwECAgECAwEEAwIDBQUDAwQFAgEDAwEEBAICAgQCBAQFBAEDAwMDAwIEBQMDAwQDBQEFBAIFAQQFAwEFBAEFBQQDBAIDAgIFAQEFBQUFBAMCAwQCBQQFAgUCBAUEBQQFAgIEAwUCBAMCAQUDAwMDAgUCAQEFAQQFBQQFBAEFAQQCAwIFAgUBBQECAwECBQMBBAEBBQIFBQUEAwUBBQUBBQEEAwIFBQMBAwIFBAEDBQUFAgEDAgQDAwICAgIDBQUCBAECBAUBAQQFAwIEBQQFAQUDBAICBAUFBAQDAQMFAQUFAgUDAwMDAgUCBAICAQEBAgQCBQMEBAMBBAIEAwMBBQIDAQUCBAMCAgMFAQUEAQMFBAMCAgQCAQICBQECBAQCBAMCAwMDBAECAQIDAwIEAgQEAgMFBAMDAwIBAwICAwMBAQIFAwEBAQIEAQUEAgQFBQIBBAUDAwMFBQUFBQQEBAQDAgIDAQMDAgEEAQUEAwIBAQUDAgEFAwUDAwIDBQIFBAQBAQEBBQUBAgIDAwEFAQEEAgQFAwEBBQUDBQUEAQQDBAUCBQQCAwUDBQIDAwMFAgUBBAIBBAUBAgQEAgUEAgQDBAIDAwICAwICBAMFAgMCBQMDBQIFBQQFAQEEAQUBBAMCAQUBBQQBAgQFBQQFAQEDBQUEBQUEAgIFAgMEAQMBAwMFBAUBBQIFAQQFBQUBAwIEAwMFAgUFAwMCAQICAwQFBQ==",
          "dtype": "i1"
         },
         "xaxis": "x9",
         "yaxis": "y9"
        },
        {
         "name": "Mercados",
         "type": "histogram",
         "x": {
          "bdata": "BAUDAQUBAQICAgUEBQEBAgECAgEBBQMDBAQCAQUBAwUFAwQDAwMCAwUDBQQCBAMCAgIEAQQCAwUBBAIFAwIEBQMCAQEEAwMDAwIDBAIEAQMFAQECAwEFBAQFBQUCBQUDAgUCBQUCAgQFAwUFAwIBBQQEAQEBBQEDAgMFAQQBBQIDBAQCAQQBAgMEAQMEBQQBBQIDBQMFAgQDBQUBAQEDAgEEAwICBAIBAgIDBAUDBAQFAQEBBAEEBAEFAgIDBAQBAQQFAgECBQQEBAMEAQMBAQQCAQUCAgUBAwEEAgUBAgQFBQMCAgUBBQEEBAUBAwMDBAMCAwQEAgIFAQIFAwMFAwECBQEBAgQEAQMFBQUBAQEDBQIDBQUDAQICAwQEBQIBAwUCAQMEBQMFAgQDAwUEBAUBBQEEAgQEAQUCBAIDAwIDAwUDAQEBAgUEBQIFBAIEAQIEBAIDBAUFAwMBBQIFAQUFBQECAwICBQQDAgIEBQEBAwEDBQIDBQIFAwMFBAUCAwUDBQQCAwIDAQUBBQMCAQUCAgEEAwIEBAUDAgIEAgMBAQMDAQUEBQMBAQIFBQEEBQQEAwMEAgMBAgIDAwICBAUEAQQDBQEEAQQFAQUDAgUEAgMFAgUEAgMCBAMCAQMEAQQDAgMCBQUFAgUDBQIFBAICAQEEBAQFBQECAQQEAwMFAQQBAwEFBAIFBAICAgMFAQUEAwEEBQQBAgUBBQUFAgEBAQEFAgMCBAEBAwQBAgIDBQQFBQQBAwICAQMBAgMDAwEDBQEDAgQFAQUCAQUBAwIEAgEFBQUDAQMDBQEDAwQDAQUDBQEFBAIEBAQBBAMBAQUCAQQCAgIFAgMEBQQFBAECBAIEAgICBQECBAMDAgIFBQIDBQQCBAECBQEBAwQFAQEDAgQDAQIEBAUFBAQBAQMDAQECAgEFAgIEBQQFAwQCAwIEAQUEBAMEAgQDAQICAwECAwIFAQEBBAQFBAICBQEDBAUEAgEFBAUEAQMFAQICBQEDAgQDAgEFAQEFAQQCAwIFAgECAQEEBQMCAQMBAwQEBQEDAwICBQQCAgUFBQUFBQQDBAMCBQEEAgQDAQUDAgUEAwQBAQEFAQMCAwIFBQEBBQMBAQMBAwUEBAICAgQEAQIFBQEDAQICBAUFAgECBAECBAMFAgECAQMFBQQEAQEDBQUEBAUFBAQBAgICAgEDAQIEAQUCBAUBAwUEAQECBAUEAwQEAQQDAgIFAwUCAQIEAQIDAQUEAwEFAQQCBQQBBAMEAgQEBAMDBAUFAgMFBAMBAQQEAgUBAwEEBAECBAUFBQQBAgIEAQUEBAMEAwECAQECBQMFAw==",
          "dtype": "i1"
         },
         "xaxis": "x10",
         "yaxis": "y10"
        },
        {
         "name": "Tempo na Empresa",
         "type": "histogram",
         "x": {
          "bdata": "BBITBgEFDwYADQ0MCg0QAwQLDQwLCQ0EEA8MDAILBQsTCg8ICQ4TBQ0OCAgODwABAgcQCRIEBQsBCwEDDggDAxICDQkNAwcEEw4KAAQLCQIABAEPCQIUEwgFAg0TDwoHAREQEhIBEQQBFAoFEg8BEg0HEwcQDA8RABEBBwEIBA0IDQsTEgIKDwEUCxMUDRELEwcCCggAEwoHDwgJCgcSEwwSBhMDAg4PBxEEBQ8ACRMEDwIDEQkHBgYPEBAIAREPFAAFBg0QDw4CEgAFDgcPDhALARQSABAOCgERBBERDg8BEwELEAACBwIPBAkUBQUOBwITEAANDwgJBwgUBAANDQkMDwoUDxETDxMDDQkEAQoSBxMJBQoLEA0DDw4HDgIKDwETCgQKBREKDgAOBRMHCQ8KBAQRDQUEEBMOBgAOCAUIAg8CEhESEgATDgoGEw4SEAAQEwoGDw4FERITDA0GDQgDDwAGCRAFAgUDAwIOEQsADwcMDgMUEA0HDg4TABAGBgkBAQQHCgILDhIFDQQADRQTBQMDAw0UERAUEA4GCQ0MEg8EBwcOCRMDBxIAAA0CDBIEEBMMBQsRFA4OCQAOCgwGDwAMBgwIDgoDDQwMBwcMCA0UAAINDhIMEAMDEQILCQAJAxQIAgITAg0IARIJDRMJCgAGCgkSBwoLCQUMBQoUDhQDAAMEAhEDDRANEQABAA4EDhACDwYKCgYUCQkIBhQOEwwQCBILCxMPAQwREgIUBAwQDAcPDgQKDgsBCA4BAxMTCAQOEgIIEgIICAsADQkLAxMIBQgNFBAUBhARAwQSEgkDAA8KBQgHAAoCAAIOCw8SDQwQAA0QABANEwEKExISAQ4KEwkJBhICCxMNDQ0KAQQPEQkMCQQHEw4LCAQPCQoCDg0DBhQNCgEOBhEICgAOBQwFBQ0JBwsGChAQDwcKCA0HAxQFFBETCQcOAgQADQsLAwcREwEHCwYIAwEKChIMDgsFDxIIDgABDAAUFBELEw0FDRQGAAcBBAoQEQcGEAwAABQICQILEwcEAxQPBggMDggPCQIMAg8LEgQIAxEDDgoHAgIHEQQMCQAOEQ4BCBQIBQwECgQUBAYICg4IAAIJDw8PAgEFEQ8FCwQACwQFDBEMBxIAFAEDDgEHAg8TAQQTEQIDCgMGBw4HBBIIDQgDAQwEDRMMBgATBxEOAg4HEhAMAAcTBhAAEAoHDxINEg0TEhQJBhEPAw0REgMBCBISAxIUBgkIBRIQEAESDgkSFA8CFBARBQgSDhANAA0RCAMGBAALAAASFBQUDgsKCBQTCAUOAg0KERELDg8ICgYOAAINAgoFCw==",
          "dtype": "i1"
         },
         "xaxis": "x11",
         "yaxis": "y11"
        },
        {
         "name": "Pessoas em Casa",
         "type": "histogram",
         "x": {
          "bdata": "AgIGBgEEAQUBAgIBAQYDBgYBBgMGBQUBBAQGBAYCAwUFAgYDAgMFAgEBAgMGBgMDBAYEBgMGAwYDAgMGBQUDBAIGBAIBAgEEBQQBAwIGAQMDAwYGAwQBAgMGAwUFBgYCAQMBAwQGAwMGAQMFBgIFAQIBAQYDAgIGAwQFAgYFBgIBBAMGBQQEAQYCAwIFBgUBBQYGBgEBBgIEAQEGBAYDAgYBAgECAwIFAwMFBgIBAQQBBAYEAwUBBAEFAQUDBQICAgEBBgQGAwEDBgYBAwQCBgQGBgUFAwECBQEBBgUEAwUFBgYFBgICBAQCBAUBBgEEAwQDAwYGAQQDAwYEBgEFAgMBBAEBBgMDBQMGBgECBgUGAQIEAQQGBgICBAIFBgMFBAIGBQUDAgUGBQMGAQMCAwQFBgMCAgQGBAEDBQMGAgMCAQQEAgIBAgQGBgUGBAQEAQQBAQMEAwMGAwYGAgICAgIFBAQCBgUDAwECAQYEBgYFAQUDAgIBBgMDBgYGAQQEBgQCAgEEAQEFBgECBQEBBAQGBQUFAgQCBQMBBgEEAwQCBQEDBQUFAQMDAgYEBAEBBAIBBQMCAgMDBQIFBQMDAgIBBgIFBAMCBgICAwUCBgUEBAQGAQECBgEFBAYEBgEGBQUEAwYGBQEFBQIBAgYGBgQDAwIBBAQGAwIGBgUFAgEDAgQFAQIGAQQBAwYGBQIBBQIDBgQDAQEDBgYEBgQDBQMGAQMGAwUGAgIBBQMBBAECBAUEBAIFBAMEBgYEAgMEBgEBBAQGBQEEBQQEBgECAQEFAwQFBAYBAQQDBAUFAQEFBQMDBQMBBgUBAwYGAQECBQUFBgEFAwUFAwECAwMGAgYDBQMGAwUDBAEDBgQBAQMGAwMFAwUFBAUCAwQEBQYFAgUGAQUCAwUBBQECBgQEBAUBAgEFAwEEBgYGBQICBAQBAQQFAgMCAgUFAgMDBgUGAwEBAwQGBAMGBAQGAgUGAwYDBAYEAwQGAQUDAwIDBQUGBgQCBAIDAwYGBAUBAQICBAECAQEBBgUDAwYGAgUBBQUGBAYBAgQEBQMDBQMBBgMBAgEEBAYBAwIFAQIEAwQBBgYBBQUFAQEGBgMEAQYDBQMFBgYFAgMGBQEGAgUEAgMEAQQEBAQEBQEBBAIFBAEGBQMFBQIDBQMFBQUGAQIBAQMCAQUDBQMFBQEGBgECBQEEBQIEAwQFBQQGBAQDBgIEBQEDBgYGAQQCBgIDBAIDAwYEAQIFBgIBBgYBAQQEAwMBAQUGBgECBQEGBQUBAwMFBQEEAwMDBgEFBAIDBAYCAwYBAgUEAwUBAwYBBgQCBAICBQQFAQIDBA==",
          "dtype": "i1"
         },
         "xaxis": "x12",
         "yaxis": "y12"
        },
        {
         "name": "Renda",
         "type": "histogram",
         "x": {
          "bdata": "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",
          "dtype": "i4"
         },
         "xaxis": "x13",
         "yaxis": "y13"
        },
        {
         "name": "Investimentos",
         "type": "histogram",
         "x": {
          "bdata": "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",
          "dtype": "i4"
         },
         "xaxis": "x14",
         "yaxis": "y14"
        },
        {
         "name": "Ativos",
         "type": "histogram",
         "x": {
          "bdata": "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",
          "dtype": "i4"
         },
         "xaxis": "x15",
         "yaxis": "y15"
        },
        {
         "name": "Dívidas",
         "type": "histogram",
         "x": {
          "bdata": "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",
          "dtype": "i4"
         },
         "xaxis": "x16",
         "yaxis": "y16"
        },
        {
         "name": "Probabilidade Inadimplencia",
         "type": "histogram",
         "x": {
          "bdata": "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",
          "dtype": "f8"
         },
         "xaxis": "x17",
         "yaxis": "y17"
        },
        {
         "name": "Score",
         "type": "histogram",
         "x": {
          "bdata": "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",
          "dtype": "i2"
         },
         "xaxis": "x18",
         "yaxis": "y18"
        }
       ],
       "layout": {
        "annotations": [
         {
          "font": {
           "size": 16
          },
          "showarrow": false,
          "text": "Idade",
          "x": 0.14444444444444446,
          "xanchor": "center",
          "xref": "paper",
          "y": 0.9999999999999999,
          "yanchor": "bottom",
          "yref": "paper"
         },
         {
          "font": {
           "size": 16
          },
          "showarrow": false,
          "text": "Viagens",
          "x": 0.5,
          "xanchor": "center",
          "xref": "paper",
          "y": 0.9999999999999999,
          "yanchor": "bottom",
          "yref": "paper"
         },
         {
          "font": {
           "size": 16
          },
          "showarrow": false,
          "text": "Restaurantes",
          "x": 0.8555555555555556,
          "xanchor": "center",
          "xref": "paper",
          "y": 0.9999999999999999,
          "yanchor": "bottom",
          "yref": "paper"
         },
         {
          "font": {
           "size": 16
          },
          "showarrow": false,
          "text": "Entretenimento",
          "x": 0.14444444444444446,
          "xanchor": "center",
          "xref": "paper",
          "y": 0.8194444444444444,
          "yanchor": "bottom",
          "yref": "paper"
         },
         {
          "font": {
           "size": 16
          },
          "showarrow": false,
          "text": "Cashback",
          "x": 0.5,
          "xanchor": "center",
          "xref": "paper",
          "y": 0.8194444444444444,
          "yanchor": "bottom",
          "yref": "paper"
         },
         {
          "font": {
           "size": 16
          },
          "showarrow": false,
          "text": "Compras online",
          "x": 0.8555555555555556,
          "xanchor": "center",
          "xref": "paper",
          "y": 0.8194444444444444,
          "yanchor": "bottom",
          "yref": "paper"
         },
         {
          "font": {
           "size": 16
          },
          "showarrow": false,
          "text": "Farmácias",
          "x": 0.14444444444444446,
          "xanchor": "center",
          "xref": "paper",
          "y": 0.638888888888889,
          "yanchor": "bottom",
          "yref": "paper"
         },
         {
          "font": {
           "size": 16
          },
          "showarrow": false,
          "text": "Programas de Milhagem",
          "x": 0.5,
          "xanchor": "center",
          "xref": "paper",
          "y": 0.638888888888889,
          "yanchor": "bottom",
          "yref": "paper"
         },
         {
          "font": {
           "size": 16
          },
          "showarrow": false,
          "text": "Postos de Combustível",
          "x": 0.8555555555555556,
          "xanchor": "center",
          "xref": "paper",
          "y": 0.638888888888889,
          "yanchor": "bottom",
          "yref": "paper"
         },
         {
          "font": {
           "size": 16
          },
          "showarrow": false,
          "text": "Mercados",
          "x": 0.14444444444444446,
          "xanchor": "center",
          "xref": "paper",
          "y": 0.4583333333333333,
          "yanchor": "bottom",
          "yref": "paper"
         },
         {
          "font": {
           "size": 16
          },
          "showarrow": false,
          "text": "Tempo na Empresa",
          "x": 0.5,
          "xanchor": "center",
          "xref": "paper",
          "y": 0.4583333333333333,
          "yanchor": "bottom",
          "yref": "paper"
         },
         {
          "font": {
           "size": 16
          },
          "showarrow": false,
          "text": "Pessoas em Casa",
          "x": 0.8555555555555556,
          "xanchor": "center",
          "xref": "paper",
          "y": 0.4583333333333333,
          "yanchor": "bottom",
          "yref": "paper"
         },
         {
          "font": {
           "size": 16
          },
          "showarrow": false,
          "text": "Renda",
          "x": 0.14444444444444446,
          "xanchor": "center",
          "xref": "paper",
          "y": 0.2777777777777778,
          "yanchor": "bottom",
          "yref": "paper"
         },
         {
          "font": {
           "size": 16
          },
          "showarrow": false,
          "text": "Investimentos",
          "x": 0.5,
          "xanchor": "center",
          "xref": "paper",
          "y": 0.2777777777777778,
          "yanchor": "bottom",
          "yref": "paper"
         },
         {
          "font": {
           "size": 16
          },
          "showarrow": false,
          "text": "Ativos",
          "x": 0.8555555555555556,
          "xanchor": "center",
          "xref": "paper",
          "y": 0.2777777777777778,
          "yanchor": "bottom",
          "yref": "paper"
         },
         {
          "font": {
           "size": 16
          },
          "showarrow": false,
          "text": "Dívidas",
          "x": 0.14444444444444446,
          "xanchor": "center",
          "xref": "paper",
          "y": 0.09722222222222222,
          "yanchor": "bottom",
          "yref": "paper"
         },
         {
          "font": {
           "size": 16
          },
          "showarrow": false,
          "text": "Probabilidade Inadimplencia",
          "x": 0.5,
          "xanchor": "center",
          "xref": "paper",
          "y": 0.09722222222222222,
          "yanchor": "bottom",
          "yref": "paper"
         },
         {
          "font": {
           "size": 16
          },
          "showarrow": false,
          "text": "Score",
          "x": 0.8555555555555556,
          "xanchor": "center",
          "xref": "paper",
          "y": 0.09722222222222222,
          "yanchor": "bottom",
          "yref": "paper"
         }
        ],
        "height": 1800,
        "showlegend": false,
        "template": {
         "data": {
          "bar": [
           {
            "error_x": {
             "color": "#2a3f5f"
            },
            "error_y": {
             "color": "#2a3f5f"
            },
            "marker": {
             "line": {
              "color": "#E5ECF6",
              "width": 0.5
             },
             "pattern": {
              "fillmode": "overlay",
              "size": 10,
              "solidity": 0.2
             }
            },
            "type": "bar"
           }
          ],
          "barpolar": [
           {
            "marker": {
             "line": {
              "color": "#E5ECF6",
              "width": 0.5
             },
             "pattern": {
              "fillmode": "overlay",
              "size": 10,
              "solidity": 0.2
             }
            },
            "type": "barpolar"
           }
          ],
          "carpet": [
           {
            "aaxis": {
             "endlinecolor": "#2a3f5f",
             "gridcolor": "white",
             "linecolor": "white",
             "minorgridcolor": "white",
             "startlinecolor": "#2a3f5f"
            },
            "baxis": {
             "endlinecolor": "#2a3f5f",
             "gridcolor": "white",
             "linecolor": "white",
             "minorgridcolor": "white",
             "startlinecolor": "#2a3f5f"
            },
            "type": "carpet"
           }
          ],
          "choropleth": [
           {
            "colorbar": {
             "outlinewidth": 0,
             "ticks": ""
            },
            "type": "choropleth"
           }
          ],
          "contour": [
           {
            "colorbar": {
             "outlinewidth": 0,
             "ticks": ""
            },
            "colorscale": [
             [
              0,
              "#0d0887"
             ],
             [
              0.1111111111111111,
              "#46039f"
             ],
             [
              0.2222222222222222,
              "#7201a8"
             ],
             [
              0.3333333333333333,
              "#9c179e"
             ],
             [
              0.4444444444444444,
              "#bd3786"
             ],
             [
              0.5555555555555556,
              "#d8576b"
             ],
             [
              0.6666666666666666,
              "#ed7953"
             ],
             [
              0.7777777777777778,
              "#fb9f3a"
             ],
             [
              0.8888888888888888,
              "#fdca26"
             ],
             [
              1,
              "#f0f921"
             ]
            ],
            "type": "contour"
           }
          ],
          "contourcarpet": [
           {
            "colorbar": {
             "outlinewidth": 0,
             "ticks": ""
            },
            "type": "contourcarpet"
           }
          ],
          "heatmap": [
           {
            "colorbar": {
             "outlinewidth": 0,
             "ticks": ""
            },
            "colorscale": [
             [
              0,
              "#0d0887"
             ],
             [
              0.1111111111111111,
              "#46039f"
             ],
             [
              0.2222222222222222,
              "#7201a8"
             ],
             [
              0.3333333333333333,
              "#9c179e"
             ],
             [
              0.4444444444444444,
              "#bd3786"
             ],
             [
              0.5555555555555556,
              "#d8576b"
             ],
             [
              0.6666666666666666,
              "#ed7953"
             ],
             [
              0.7777777777777778,
              "#fb9f3a"
             ],
             [
              0.8888888888888888,
              "#fdca26"
             ],
             [
              1,
              "#f0f921"
             ]
            ],
            "type": "heatmap"
           }
          ],
          "histogram": [
           {
            "marker": {
             "pattern": {
              "fillmode": "overlay",
              "size": 10,
              "solidity": 0.2
             }
            },
            "type": "histogram"
           }
          ],
          "histogram2d": [
           {
            "colorbar": {
             "outlinewidth": 0,
             "ticks": ""
            },
            "colorscale": [
             [
              0,
              "#0d0887"
             ],
             [
              0.1111111111111111,
              "#46039f"
             ],
             [
              0.2222222222222222,
              "#7201a8"
             ],
             [
              0.3333333333333333,
              "#9c179e"
             ],
             [
              0.4444444444444444,
              "#bd3786"
             ],
             [
              0.5555555555555556,
              "#d8576b"
             ],
             [
              0.6666666666666666,
              "#ed7953"
             ],
             [
              0.7777777777777778,
              "#fb9f3a"
             ],
             [
              0.8888888888888888,
              "#fdca26"
             ],
             [
              1,
              "#f0f921"
             ]
            ],
            "type": "histogram2d"
           }
          ],
          "histogram2dcontour": [
           {
            "colorbar": {
             "outlinewidth": 0,
             "ticks": ""
            },
            "colorscale": [
             [
              0,
              "#0d0887"
             ],
             [
              0.1111111111111111,
              "#46039f"
             ],
             [
              0.2222222222222222,
              "#7201a8"
             ],
             [
              0.3333333333333333,
              "#9c179e"
             ],
             [
              0.4444444444444444,
              "#bd3786"
             ],
             [
              0.5555555555555556,
              "#d8576b"
             ],
             [
              0.6666666666666666,
              "#ed7953"
             ],
             [
              0.7777777777777778,
              "#fb9f3a"
             ],
             [
              0.8888888888888888,
              "#fdca26"
             ],
             [
              1,
              "#f0f921"
             ]
            ],
            "type": "histogram2dcontour"
           }
          ],
          "mesh3d": [
           {
            "colorbar": {
             "outlinewidth": 0,
             "ticks": ""
            },
            "type": "mesh3d"
           }
          ],
          "parcoords": [
           {
            "line": {
             "colorbar": {
              "outlinewidth": 0,
              "ticks": ""
             }
            },
            "type": "parcoords"
           }
          ],
          "pie": [
           {
            "automargin": true,
            "type": "pie"
           }
          ],
          "scatter": [
           {
            "fillpattern": {
             "fillmode": "overlay",
             "size": 10,
             "solidity": 0.2
            },
            "type": "scatter"
           }
          ],
          "scatter3d": [
           {
            "line": {
             "colorbar": {
              "outlinewidth": 0,
              "ticks": ""
             }
            },
            "marker": {
             "colorbar": {
              "outlinewidth": 0,
              "ticks": ""
             }
            },
            "type": "scatter3d"
           }
          ],
          "scattercarpet": [
           {
            "marker": {
             "colorbar": {
              "outlinewidth": 0,
              "ticks": ""
             }
            },
            "type": "scattercarpet"
           }
          ],
          "scattergeo": [
           {
            "marker": {
             "colorbar": {
              "outlinewidth": 0,
              "ticks": ""
             }
            },
            "type": "scattergeo"
           }
          ],
          "scattergl": [
           {
            "marker": {
             "colorbar": {
              "outlinewidth": 0,
              "ticks": ""
             }
            },
            "type": "scattergl"
           }
          ],
          "scattermap": [
           {
            "marker": {
             "colorbar": {
              "outlinewidth": 0,
              "ticks": ""
             }
            },
            "type": "scattermap"
           }
          ],
          "scattermapbox": [
           {
            "marker": {
             "colorbar": {
              "outlinewidth": 0,
              "ticks": ""
             }
            },
            "type": "scattermapbox"
           }
          ],
          "scatterpolar": [
           {
            "marker": {
             "colorbar": {
              "outlinewidth": 0,
              "ticks": ""
             }
            },
            "type": "scatterpolar"
           }
          ],
          "scatterpolargl": [
           {
            "marker": {
             "colorbar": {
              "outlinewidth": 0,
              "ticks": ""
             }
            },
            "type": "scatterpolargl"
           }
          ],
          "scatterternary": [
           {
            "marker": {
             "colorbar": {
              "outlinewidth": 0,
              "ticks": ""
             }
            },
            "type": "scatterternary"
           }
          ],
          "surface": [
           {
            "colorbar": {
             "outlinewidth": 0,
             "ticks": ""
            },
            "colorscale": [
             [
              0,
              "#0d0887"
             ],
             [
              0.1111111111111111,
              "#46039f"
             ],
             [
              0.2222222222222222,
              "#7201a8"
             ],
             [
              0.3333333333333333,
              "#9c179e"
             ],
             [
              0.4444444444444444,
              "#bd3786"
             ],
             [
              0.5555555555555556,
              "#d8576b"
             ],
             [
              0.6666666666666666,
              "#ed7953"
             ],
             [
              0.7777777777777778,
              "#fb9f3a"
             ],
             [
              0.8888888888888888,
              "#fdca26"
             ],
             [
              1,
              "#f0f921"
             ]
            ],
            "type": "surface"
           }
          ],
          "table": [
           {
            "cells": {
             "fill": {
              "color": "#EBF0F8"
             },
             "line": {
              "color": "white"
             }
            },
            "header": {
             "fill": {
              "color": "#C8D4E3"
             },
             "line": {
              "color": "white"
             }
            },
            "type": "table"
           }
          ]
         },
         "layout": {
          "annotationdefaults": {
           "arrowcolor": "#2a3f5f",
           "arrowhead": 0,
           "arrowwidth": 1
          },
          "autotypenumbers": "strict",
          "coloraxis": {
           "colorbar": {
            "outlinewidth": 0,
            "ticks": ""
           }
          },
          "colorscale": {
           "diverging": [
            [
             0,
             "#8e0152"
            ],
            [
             0.1,
             "#c51b7d"
            ],
            [
             0.2,
             "#de77ae"
            ],
            [
             0.3,
             "#f1b6da"
            ],
            [
             0.4,
             "#fde0ef"
            ],
            [
             0.5,
             "#f7f7f7"
            ],
            [
             0.6,
             "#e6f5d0"
            ],
            [
             0.7,
             "#b8e186"
            ],
            [
             0.8,
             "#7fbc41"
            ],
            [
             0.9,
             "#4d9221"
            ],
            [
             1,
             "#276419"
            ]
           ],
           "sequential": [
            [
             0,
             "#0d0887"
            ],
            [
             0.1111111111111111,
             "#46039f"
            ],
            [
             0.2222222222222222,
             "#7201a8"
            ],
            [
             0.3333333333333333,
             "#9c179e"
            ],
            [
             0.4444444444444444,
             "#bd3786"
            ],
            [
             0.5555555555555556,
             "#d8576b"
            ],
            [
             0.6666666666666666,
             "#ed7953"
            ],
            [
             0.7777777777777778,
             "#fb9f3a"
            ],
            [
             0.8888888888888888,
             "#fdca26"
            ],
            [
             1,
             "#f0f921"
            ]
           ],
           "sequentialminus": [
            [
             0,
             "#0d0887"
            ],
            [
             0.1111111111111111,
             "#46039f"
            ],
            [
             0.2222222222222222,
             "#7201a8"
            ],
            [
             0.3333333333333333,
             "#9c179e"
            ],
            [
             0.4444444444444444,
             "#bd3786"
            ],
            [
             0.5555555555555556,
             "#d8576b"
            ],
            [
             0.6666666666666666,
             "#ed7953"
            ],
            [
             0.7777777777777778,
             "#fb9f3a"
            ],
            [
             0.8888888888888888,
             "#fdca26"
            ],
            [
             1,
             "#f0f921"
            ]
           ]
          },
          "colorway": [
           "#636efa",
           "#EF553B",
           "#00cc96",
           "#ab63fa",
           "#FFA15A",
           "#19d3f3",
           "#FF6692",
           "#B6E880",
           "#FF97FF",
           "#FECB52"
          ],
          "font": {
           "color": "#2a3f5f"
          },
          "geo": {
           "bgcolor": "white",
           "lakecolor": "white",
           "landcolor": "#E5ECF6",
           "showlakes": true,
           "showland": true,
           "subunitcolor": "white"
          },
          "hoverlabel": {
           "align": "left"
          },
          "hovermode": "closest",
          "mapbox": {
           "style": "light"
          },
          "paper_bgcolor": "white",
          "plot_bgcolor": "#E5ECF6",
          "polar": {
           "angularaxis": {
            "gridcolor": "white",
            "linecolor": "white",
            "ticks": ""
           },
           "bgcolor": "#E5ECF6",
           "radialaxis": {
            "gridcolor": "white",
            "linecolor": "white",
            "ticks": ""
           }
          },
          "scene": {
           "xaxis": {
            "backgroundcolor": "#E5ECF6",
            "gridcolor": "white",
            "gridwidth": 2,
            "linecolor": "white",
            "showbackground": true,
            "ticks": "",
            "zerolinecolor": "white"
           },
           "yaxis": {
            "backgroundcolor": "#E5ECF6",
            "gridcolor": "white",
            "gridwidth": 2,
            "linecolor": "white",
            "showbackground": true,
            "ticks": "",
            "zerolinecolor": "white"
           },
           "zaxis": {
            "backgroundcolor": "#E5ECF6",
            "gridcolor": "white",
            "gridwidth": 2,
            "linecolor": "white",
            "showbackground": true,
            "ticks": "",
            "zerolinecolor": "white"
           }
          },
          "shapedefaults": {
           "line": {
            "color": "#2a3f5f"
           }
          },
          "ternary": {
           "aaxis": {
            "gridcolor": "white",
            "linecolor": "white",
            "ticks": ""
           },
           "baxis": {
            "gridcolor": "white",
            "linecolor": "white",
            "ticks": ""
           },
           "bgcolor": "#E5ECF6",
           "caxis": {
            "gridcolor": "white",
            "linecolor": "white",
            "ticks": ""
           }
          },
          "title": {
           "x": 0.05
          },
          "xaxis": {
           "automargin": true,
           "gridcolor": "white",
           "linecolor": "white",
           "ticks": "",
           "title": {
            "standoff": 15
           },
           "zerolinecolor": "white",
           "zerolinewidth": 2
          },
          "yaxis": {
           "automargin": true,
           "gridcolor": "white",
           "linecolor": "white",
           "ticks": "",
           "title": {
            "standoff": 15
           },
           "zerolinecolor": "white",
           "zerolinewidth": 2
          }
         }
        },
        "title": {
         "text": "Histogramas das Variáveis Numéricas"
        },
        "width": 1200,
        "xaxis": {
         "anchor": "y",
         "domain": [
          0,
          0.2888888888888889
         ]
        },
        "xaxis10": {
         "anchor": "y10",
         "domain": [
          0,
          0.2888888888888889
         ]
        },
        "xaxis11": {
         "anchor": "y11",
         "domain": [
          0.35555555555555557,
          0.6444444444444445
         ]
        },
        "xaxis12": {
         "anchor": "y12",
         "domain": [
          0.7111111111111111,
          1
         ]
        },
        "xaxis13": {
         "anchor": "y13",
         "domain": [
          0,
          0.2888888888888889
         ]
        },
        "xaxis14": {
         "anchor": "y14",
         "domain": [
          0.35555555555555557,
          0.6444444444444445
         ]
        },
        "xaxis15": {
         "anchor": "y15",
         "domain": [
          0.7111111111111111,
          1
         ]
        },
        "xaxis16": {
         "anchor": "y16",
         "domain": [
          0,
          0.2888888888888889
         ]
        },
        "xaxis17": {
         "anchor": "y17",
         "domain": [
          0.35555555555555557,
          0.6444444444444445
         ]
        },
        "xaxis18": {
         "anchor": "y18",
         "domain": [
          0.7111111111111111,
          1
         ]
        },
        "xaxis2": {
         "anchor": "y2",
         "domain": [
          0.35555555555555557,
          0.6444444444444445
         ]
        },
        "xaxis3": {
         "anchor": "y3",
         "domain": [
          0.7111111111111111,
          1
         ]
        },
        "xaxis4": {
         "anchor": "y4",
         "domain": [
          0,
          0.2888888888888889
         ]
        },
        "xaxis5": {
         "anchor": "y5",
         "domain": [
          0.35555555555555557,
          0.6444444444444445
         ]
        },
        "xaxis6": {
         "anchor": "y6",
         "domain": [
          0.7111111111111111,
          1
         ]
        },
        "xaxis7": {
         "anchor": "y7",
         "domain": [
          0,
          0.2888888888888889
         ]
        },
        "xaxis8": {
         "anchor": "y8",
         "domain": [
          0.35555555555555557,
          0.6444444444444445
         ]
        },
        "xaxis9": {
         "anchor": "y9",
         "domain": [
          0.7111111111111111,
          1
         ]
        },
        "yaxis": {
         "anchor": "x",
         "domain": [
          0.9027777777777777,
          0.9999999999999999
         ]
        },
        "yaxis10": {
         "anchor": "x10",
         "domain": [
          0.3611111111111111,
          0.4583333333333333
         ]
        },
        "yaxis11": {
         "anchor": "x11",
         "domain": [
          0.3611111111111111,
          0.4583333333333333
         ]
        },
        "yaxis12": {
         "anchor": "x12",
         "domain": [
          0.3611111111111111,
          0.4583333333333333
         ]
        },
        "yaxis13": {
         "anchor": "x13",
         "domain": [
          0.18055555555555555,
          0.2777777777777778
         ]
        },
        "yaxis14": {
         "anchor": "x14",
         "domain": [
          0.18055555555555555,
          0.2777777777777778
         ]
        },
        "yaxis15": {
         "anchor": "x15",
         "domain": [
          0.18055555555555555,
          0.2777777777777778
         ]
        },
        "yaxis16": {
         "anchor": "x16",
         "domain": [
          0,
          0.09722222222222222
         ]
        },
        "yaxis17": {
         "anchor": "x17",
         "domain": [
          0,
          0.09722222222222222
         ]
        },
        "yaxis18": {
         "anchor": "x18",
         "domain": [
          0,
          0.09722222222222222
         ]
        },
        "yaxis2": {
         "anchor": "x2",
         "domain": [
          0.9027777777777777,
          0.9999999999999999
         ]
        },
        "yaxis3": {
         "anchor": "x3",
         "domain": [
          0.9027777777777777,
          0.9999999999999999
         ]
        },
        "yaxis4": {
         "anchor": "x4",
         "domain": [
          0.7222222222222222,
          0.8194444444444444
         ]
        },
        "yaxis5": {
         "anchor": "x5",
         "domain": [
          0.7222222222222222,
          0.8194444444444444
         ]
        },
        "yaxis6": {
         "anchor": "x6",
         "domain": [
          0.7222222222222222,
          0.8194444444444444
         ]
        },
        "yaxis7": {
         "anchor": "x7",
         "domain": [
          0.5416666666666667,
          0.638888888888889
         ]
        },
        "yaxis8": {
         "anchor": "x8",
         "domain": [
          0.5416666666666667,
          0.638888888888889
         ]
        },
        "yaxis9": {
         "anchor": "x9",
         "domain": [
          0.5416666666666667,
          0.638888888888889
         ]
        }
       }
      }
     },
     "metadata": {},
     "output_type": "display_data"
    }
   ],
   "source": [
    "# Número de colunas desejadas\n",
    "num_cols = 3\n",
    "\n",
    "# Calcular o número de linhas necessárias\n",
    "num_rows = math.ceil(len(num_vars) / num_cols)\n",
    "\n",
    "# Criar subplots\n",
    "fig = make_subplots(rows=num_rows, cols=num_cols, subplot_titles=num_vars)\n",
    "\n",
    "# Adicionar histogramas para cada variável numérica\n",
    "for i, var in enumerate(num_vars):\n",
    "    row = (i // num_cols) + 1\n",
    "    col = (i % num_cols) + 1\n",
    "    fig.add_trace(\n",
    "        go.Histogram(x=df_clientes[var], name=var),\n",
    "        row=row, col=col\n",
    "    )\n",
    "\n",
    "# Atualizar layout para remover a legenda\n",
    "fig.update_layout(\n",
    "    height=300*num_rows,\n",
    "    width=1200,\n",
    "    title_text=\"Histogramas das Variáveis Numéricas\",\n",
    "    showlegend=False\n",
    ")\n",
    "\n",
    "fig.show()\n"
   ]
  },
  {
   "cell_type": "markdown",
   "id": "aef307be",
   "metadata": {},
   "source": [
    "### Gráfico de barras para variáveis categóricas"
   ]
  },
  {
   "cell_type": "code",
   "execution_count": 11,
   "id": "f527d33c",
   "metadata": {},
   "outputs": [
    {
     "data": {
      "application/vnd.plotly.v1+json": {
       "config": {
        "plotlyServerURL": "https://plot.ly"
       },
       "data": [
        {
         "name": "Cidade",
         "type": "bar",
         "x": [
          "Goiânia",
          "Porto Alegre",
          "Rio de Janeiro",
          "São Paulo",
          "Florianópolis",
          "Belém",
          "Manaus",
          "Curitiba",
          "Brasília",
          "Fortaleza"
         ],
         "xaxis": "x",
         "y": {
          "bdata": "TUpKSUhHR0VDQw==",
          "dtype": "i1"
         },
         "yaxis": "y"
        },
        {
         "name": "Cargo",
         "type": "bar",
         "x": [
          "Gestor de recursos humanos",
          "Comandante",
          "Transcritor",
          "Catador de carangueijos",
          "Jogador de badminton",
          "Ferramenteiro",
          "Vistoriador de sinistros",
          "Marketeiro",
          "Figurante",
          "Médico legista"
         ],
         "xaxis": "x2",
         "y": {
          "bdata": "BgYFBQUFBQQEBA==",
          "dtype": "i1"
         },
         "yaxis": "y2"
        },
        {
         "name": "Estado Civil",
         "type": "bar",
         "x": [
          "Casado",
          "Viúvo",
          "Divorciado",
          "Solteiro"
         ],
         "xaxis": "x3",
         "y": {
          "bdata": "AwEBAfcA7QA=",
          "dtype": "i2"
         },
         "yaxis": "y3"
        },
        {
         "name": "Moradia",
         "type": "bar",
         "x": [
          "Próprio",
          "Alugado"
         ],
         "xaxis": "x4",
         "y": {
          "bdata": "+wHtAQ==",
          "dtype": "i2"
         },
         "yaxis": "y4"
        },
        {
         "name": "Principal Cartão",
         "type": "bar",
         "x": [
          "Rocketseat Mastercard Life Basic",
          "Rocketseat Visa Life Basic",
          "Rocketseat Mastercard Travel Basic",
          "Rocketseat Visa Travel Basic",
          "Rocketseat Mastercard Shopping Basic",
          "Rocketseat Visa Shopping Basic",
          "Rocketseat Visa Life Select",
          "Rocketseat Mastercard Life Select",
          "Rocketseat Mastercard Shopping Select",
          "Rocketseat Mastercard Travel Select"
         ],
         "xaxis": "x5",
         "y": {
          "bdata": "lQCEAGwAXABcAFcAMAAsACEAHgA=",
          "dtype": "i2"
         },
         "yaxis": "y5"
        }
       ],
       "layout": {
        "annotations": [
         {
          "font": {
           "size": 16
          },
          "showarrow": false,
          "text": "Cidade",
          "x": 0.14444444444444446,
          "xanchor": "center",
          "xref": "paper",
          "y": 1,
          "yanchor": "bottom",
          "yref": "paper"
         },
         {
          "font": {
           "size": 16
          },
          "showarrow": false,
          "text": "Cargo",
          "x": 0.5,
          "xanchor": "center",
          "xref": "paper",
          "y": 1,
          "yanchor": "bottom",
          "yref": "paper"
         },
         {
          "font": {
           "size": 16
          },
          "showarrow": false,
          "text": "Estado Civil",
          "x": 0.8555555555555556,
          "xanchor": "center",
          "xref": "paper",
          "y": 1,
          "yanchor": "bottom",
          "yref": "paper"
         },
         {
          "font": {
           "size": 16
          },
          "showarrow": false,
          "text": "Moradia",
          "x": 0.14444444444444446,
          "xanchor": "center",
          "xref": "paper",
          "y": 0.375,
          "yanchor": "bottom",
          "yref": "paper"
         },
         {
          "font": {
           "size": 16
          },
          "showarrow": false,
          "text": "Principal Cartão",
          "x": 0.5,
          "xanchor": "center",
          "xref": "paper",
          "y": 0.375,
          "yanchor": "bottom",
          "yref": "paper"
         }
        ],
        "height": 1000,
        "showlegend": false,
        "template": {
         "data": {
          "bar": [
           {
            "error_x": {
             "color": "#2a3f5f"
            },
            "error_y": {
             "color": "#2a3f5f"
            },
            "marker": {
             "line": {
              "color": "#E5ECF6",
              "width": 0.5
             },
             "pattern": {
              "fillmode": "overlay",
              "size": 10,
              "solidity": 0.2
             }
            },
            "type": "bar"
           }
          ],
          "barpolar": [
           {
            "marker": {
             "line": {
              "color": "#E5ECF6",
              "width": 0.5
             },
             "pattern": {
              "fillmode": "overlay",
              "size": 10,
              "solidity": 0.2
             }
            },
            "type": "barpolar"
           }
          ],
          "carpet": [
           {
            "aaxis": {
             "endlinecolor": "#2a3f5f",
             "gridcolor": "white",
             "linecolor": "white",
             "minorgridcolor": "white",
             "startlinecolor": "#2a3f5f"
            },
            "baxis": {
             "endlinecolor": "#2a3f5f",
             "gridcolor": "white",
             "linecolor": "white",
             "minorgridcolor": "white",
             "startlinecolor": "#2a3f5f"
            },
            "type": "carpet"
           }
          ],
          "choropleth": [
           {
            "colorbar": {
             "outlinewidth": 0,
             "ticks": ""
            },
            "type": "choropleth"
           }
          ],
          "contour": [
           {
            "colorbar": {
             "outlinewidth": 0,
             "ticks": ""
            },
            "colorscale": [
             [
              0,
              "#0d0887"
             ],
             [
              0.1111111111111111,
              "#46039f"
             ],
             [
              0.2222222222222222,
              "#7201a8"
             ],
             [
              0.3333333333333333,
              "#9c179e"
             ],
             [
              0.4444444444444444,
              "#bd3786"
             ],
             [
              0.5555555555555556,
              "#d8576b"
             ],
             [
              0.6666666666666666,
              "#ed7953"
             ],
             [
              0.7777777777777778,
              "#fb9f3a"
             ],
             [
              0.8888888888888888,
              "#fdca26"
             ],
             [
              1,
              "#f0f921"
             ]
            ],
            "type": "contour"
           }
          ],
          "contourcarpet": [
           {
            "colorbar": {
             "outlinewidth": 0,
             "ticks": ""
            },
            "type": "contourcarpet"
           }
          ],
          "heatmap": [
           {
            "colorbar": {
             "outlinewidth": 0,
             "ticks": ""
            },
            "colorscale": [
             [
              0,
              "#0d0887"
             ],
             [
              0.1111111111111111,
              "#46039f"
             ],
             [
              0.2222222222222222,
              "#7201a8"
             ],
             [
              0.3333333333333333,
              "#9c179e"
             ],
             [
              0.4444444444444444,
              "#bd3786"
             ],
             [
              0.5555555555555556,
              "#d8576b"
             ],
             [
              0.6666666666666666,
              "#ed7953"
             ],
             [
              0.7777777777777778,
              "#fb9f3a"
             ],
             [
              0.8888888888888888,
              "#fdca26"
             ],
             [
              1,
              "#f0f921"
             ]
            ],
            "type": "heatmap"
           }
          ],
          "histogram": [
           {
            "marker": {
             "pattern": {
              "fillmode": "overlay",
              "size": 10,
              "solidity": 0.2
             }
            },
            "type": "histogram"
           }
          ],
          "histogram2d": [
           {
            "colorbar": {
             "outlinewidth": 0,
             "ticks": ""
            },
            "colorscale": [
             [
              0,
              "#0d0887"
             ],
             [
              0.1111111111111111,
              "#46039f"
             ],
             [
              0.2222222222222222,
              "#7201a8"
             ],
             [
              0.3333333333333333,
              "#9c179e"
             ],
             [
              0.4444444444444444,
              "#bd3786"
             ],
             [
              0.5555555555555556,
              "#d8576b"
             ],
             [
              0.6666666666666666,
              "#ed7953"
             ],
             [
              0.7777777777777778,
              "#fb9f3a"
             ],
             [
              0.8888888888888888,
              "#fdca26"
             ],
             [
              1,
              "#f0f921"
             ]
            ],
            "type": "histogram2d"
           }
          ],
          "histogram2dcontour": [
           {
            "colorbar": {
             "outlinewidth": 0,
             "ticks": ""
            },
            "colorscale": [
             [
              0,
              "#0d0887"
             ],
             [
              0.1111111111111111,
              "#46039f"
             ],
             [
              0.2222222222222222,
              "#7201a8"
             ],
             [
              0.3333333333333333,
              "#9c179e"
             ],
             [
              0.4444444444444444,
              "#bd3786"
             ],
             [
              0.5555555555555556,
              "#d8576b"
             ],
             [
              0.6666666666666666,
              "#ed7953"
             ],
             [
              0.7777777777777778,
              "#fb9f3a"
             ],
             [
              0.8888888888888888,
              "#fdca26"
             ],
             [
              1,
              "#f0f921"
             ]
            ],
            "type": "histogram2dcontour"
           }
          ],
          "mesh3d": [
           {
            "colorbar": {
             "outlinewidth": 0,
             "ticks": ""
            },
            "type": "mesh3d"
           }
          ],
          "parcoords": [
           {
            "line": {
             "colorbar": {
              "outlinewidth": 0,
              "ticks": ""
             }
            },
            "type": "parcoords"
           }
          ],
          "pie": [
           {
            "automargin": true,
            "type": "pie"
           }
          ],
          "scatter": [
           {
            "fillpattern": {
             "fillmode": "overlay",
             "size": 10,
             "solidity": 0.2
            },
            "type": "scatter"
           }
          ],
          "scatter3d": [
           {
            "line": {
             "colorbar": {
              "outlinewidth": 0,
              "ticks": ""
             }
            },
            "marker": {
             "colorbar": {
              "outlinewidth": 0,
              "ticks": ""
             }
            },
            "type": "scatter3d"
           }
          ],
          "scattercarpet": [
           {
            "marker": {
             "colorbar": {
              "outlinewidth": 0,
              "ticks": ""
             }
            },
            "type": "scattercarpet"
           }
          ],
          "scattergeo": [
           {
            "marker": {
             "colorbar": {
              "outlinewidth": 0,
              "ticks": ""
             }
            },
            "type": "scattergeo"
           }
          ],
          "scattergl": [
           {
            "marker": {
             "colorbar": {
              "outlinewidth": 0,
              "ticks": ""
             }
            },
            "type": "scattergl"
           }
          ],
          "scattermap": [
           {
            "marker": {
             "colorbar": {
              "outlinewidth": 0,
              "ticks": ""
             }
            },
            "type": "scattermap"
           }
          ],
          "scattermapbox": [
           {
            "marker": {
             "colorbar": {
              "outlinewidth": 0,
              "ticks": ""
             }
            },
            "type": "scattermapbox"
           }
          ],
          "scatterpolar": [
           {
            "marker": {
             "colorbar": {
              "outlinewidth": 0,
              "ticks": ""
             }
            },
            "type": "scatterpolar"
           }
          ],
          "scatterpolargl": [
           {
            "marker": {
             "colorbar": {
              "outlinewidth": 0,
              "ticks": ""
             }
            },
            "type": "scatterpolargl"
           }
          ],
          "scatterternary": [
           {
            "marker": {
             "colorbar": {
              "outlinewidth": 0,
              "ticks": ""
             }
            },
            "type": "scatterternary"
           }
          ],
          "surface": [
           {
            "colorbar": {
             "outlinewidth": 0,
             "ticks": ""
            },
            "colorscale": [
             [
              0,
              "#0d0887"
             ],
             [
              0.1111111111111111,
              "#46039f"
             ],
             [
              0.2222222222222222,
              "#7201a8"
             ],
             [
              0.3333333333333333,
              "#9c179e"
             ],
             [
              0.4444444444444444,
              "#bd3786"
             ],
             [
              0.5555555555555556,
              "#d8576b"
             ],
             [
              0.6666666666666666,
              "#ed7953"
             ],
             [
              0.7777777777777778,
              "#fb9f3a"
             ],
             [
              0.8888888888888888,
              "#fdca26"
             ],
             [
              1,
              "#f0f921"
             ]
            ],
            "type": "surface"
           }
          ],
          "table": [
           {
            "cells": {
             "fill": {
              "color": "#EBF0F8"
             },
             "line": {
              "color": "white"
             }
            },
            "header": {
             "fill": {
              "color": "#C8D4E3"
             },
             "line": {
              "color": "white"
             }
            },
            "type": "table"
           }
          ]
         },
         "layout": {
          "annotationdefaults": {
           "arrowcolor": "#2a3f5f",
           "arrowhead": 0,
           "arrowwidth": 1
          },
          "autotypenumbers": "strict",
          "coloraxis": {
           "colorbar": {
            "outlinewidth": 0,
            "ticks": ""
           }
          },
          "colorscale": {
           "diverging": [
            [
             0,
             "#8e0152"
            ],
            [
             0.1,
             "#c51b7d"
            ],
            [
             0.2,
             "#de77ae"
            ],
            [
             0.3,
             "#f1b6da"
            ],
            [
             0.4,
             "#fde0ef"
            ],
            [
             0.5,
             "#f7f7f7"
            ],
            [
             0.6,
             "#e6f5d0"
            ],
            [
             0.7,
             "#b8e186"
            ],
            [
             0.8,
             "#7fbc41"
            ],
            [
             0.9,
             "#4d9221"
            ],
            [
             1,
             "#276419"
            ]
           ],
           "sequential": [
            [
             0,
             "#0d0887"
            ],
            [
             0.1111111111111111,
             "#46039f"
            ],
            [
             0.2222222222222222,
             "#7201a8"
            ],
            [
             0.3333333333333333,
             "#9c179e"
            ],
            [
             0.4444444444444444,
             "#bd3786"
            ],
            [
             0.5555555555555556,
             "#d8576b"
            ],
            [
             0.6666666666666666,
             "#ed7953"
            ],
            [
             0.7777777777777778,
             "#fb9f3a"
            ],
            [
             0.8888888888888888,
             "#fdca26"
            ],
            [
             1,
             "#f0f921"
            ]
           ],
           "sequentialminus": [
            [
             0,
             "#0d0887"
            ],
            [
             0.1111111111111111,
             "#46039f"
            ],
            [
             0.2222222222222222,
             "#7201a8"
            ],
            [
             0.3333333333333333,
             "#9c179e"
            ],
            [
             0.4444444444444444,
             "#bd3786"
            ],
            [
             0.5555555555555556,
             "#d8576b"
            ],
            [
             0.6666666666666666,
             "#ed7953"
            ],
            [
             0.7777777777777778,
             "#fb9f3a"
            ],
            [
             0.8888888888888888,
             "#fdca26"
            ],
            [
             1,
             "#f0f921"
            ]
           ]
          },
          "colorway": [
           "#636efa",
           "#EF553B",
           "#00cc96",
           "#ab63fa",
           "#FFA15A",
           "#19d3f3",
           "#FF6692",
           "#B6E880",
           "#FF97FF",
           "#FECB52"
          ],
          "font": {
           "color": "#2a3f5f"
          },
          "geo": {
           "bgcolor": "white",
           "lakecolor": "white",
           "landcolor": "#E5ECF6",
           "showlakes": true,
           "showland": true,
           "subunitcolor": "white"
          },
          "hoverlabel": {
           "align": "left"
          },
          "hovermode": "closest",
          "mapbox": {
           "style": "light"
          },
          "paper_bgcolor": "white",
          "plot_bgcolor": "#E5ECF6",
          "polar": {
           "angularaxis": {
            "gridcolor": "white",
            "linecolor": "white",
            "ticks": ""
           },
           "bgcolor": "#E5ECF6",
           "radialaxis": {
            "gridcolor": "white",
            "linecolor": "white",
            "ticks": ""
           }
          },
          "scene": {
           "xaxis": {
            "backgroundcolor": "#E5ECF6",
            "gridcolor": "white",
            "gridwidth": 2,
            "linecolor": "white",
            "showbackground": true,
            "ticks": "",
            "zerolinecolor": "white"
           },
           "yaxis": {
            "backgroundcolor": "#E5ECF6",
            "gridcolor": "white",
            "gridwidth": 2,
            "linecolor": "white",
            "showbackground": true,
            "ticks": "",
            "zerolinecolor": "white"
           },
           "zaxis": {
            "backgroundcolor": "#E5ECF6",
            "gridcolor": "white",
            "gridwidth": 2,
            "linecolor": "white",
            "showbackground": true,
            "ticks": "",
            "zerolinecolor": "white"
           }
          },
          "shapedefaults": {
           "line": {
            "color": "#2a3f5f"
           }
          },
          "ternary": {
           "aaxis": {
            "gridcolor": "white",
            "linecolor": "white",
            "ticks": ""
           },
           "baxis": {
            "gridcolor": "white",
            "linecolor": "white",
            "ticks": ""
           },
           "bgcolor": "#E5ECF6",
           "caxis": {
            "gridcolor": "white",
            "linecolor": "white",
            "ticks": ""
           }
          },
          "title": {
           "x": 0.05
          },
          "xaxis": {
           "automargin": true,
           "gridcolor": "white",
           "linecolor": "white",
           "ticks": "",
           "title": {
            "standoff": 15
           },
           "zerolinecolor": "white",
           "zerolinewidth": 2
          },
          "yaxis": {
           "automargin": true,
           "gridcolor": "white",
           "linecolor": "white",
           "ticks": "",
           "title": {
            "standoff": 15
           },
           "zerolinecolor": "white",
           "zerolinewidth": 2
          }
         }
        },
        "title": {
         "text": "Gráficos de Barras das Variáveis Categóricas"
        },
        "width": 1200,
        "xaxis": {
         "anchor": "y",
         "domain": [
          0,
          0.2888888888888889
         ]
        },
        "xaxis2": {
         "anchor": "y2",
         "domain": [
          0.35555555555555557,
          0.6444444444444445
         ]
        },
        "xaxis3": {
         "anchor": "y3",
         "domain": [
          0.7111111111111111,
          1
         ]
        },
        "xaxis4": {
         "anchor": "y4",
         "domain": [
          0,
          0.2888888888888889
         ]
        },
        "xaxis5": {
         "anchor": "y5",
         "domain": [
          0.35555555555555557,
          0.6444444444444445
         ]
        },
        "xaxis6": {
         "anchor": "y6",
         "domain": [
          0.7111111111111111,
          1
         ]
        },
        "yaxis": {
         "anchor": "x",
         "domain": [
          0.625,
          1
         ]
        },
        "yaxis2": {
         "anchor": "x2",
         "domain": [
          0.625,
          1
         ]
        },
        "yaxis3": {
         "anchor": "x3",
         "domain": [
          0.625,
          1
         ]
        },
        "yaxis4": {
         "anchor": "x4",
         "domain": [
          0,
          0.375
         ]
        },
        "yaxis5": {
         "anchor": "x5",
         "domain": [
          0,
          0.375
         ]
        },
        "yaxis6": {
         "anchor": "x6",
         "domain": [
          0,
          0.375
         ]
        }
       }
      }
     },
     "metadata": {},
     "output_type": "display_data"
    }
   ],
   "source": [
    "# Número de colunas desejadas\n",
    "num_cols = 3\n",
    "\n",
    "# Calcular o número de linhas necessárias\n",
    "num_rows = math.ceil(len(cat_vars) / num_cols)\n",
    "\n",
    "# Criar subplots\n",
    "fig = make_subplots(rows=num_rows, cols=num_cols, subplot_titles=cat_vars)\n",
    "\n",
    "# Adicionar gráficos de barras para cada variável categórica\n",
    "for i, var in enumerate(cat_vars):\n",
    "    row = (i // num_cols) + 1\n",
    "    col = (i % num_cols) + 1\n",
    "    fig.add_trace(\n",
    "        go.Bar(x=df_clientes[var].value_counts().index[:10],\n",
    "               y=df_clientes[var].value_counts().values[:10],\n",
    "               name=var),\n",
    "        row=row, col=col\n",
    "    )\n",
    "\n",
    "# Atualizar layout\n",
    "fig.update_layout(\n",
    "    height=500*num_rows,\n",
    "    width=1200,\n",
    "    title_text=\"Gráficos de Barras das Variáveis Categóricas\",\n",
    "    showlegend=False\n",
    ")\n",
    "\n",
    "fig.show()\n"
   ]
  },
  {
   "cell_type": "markdown",
   "id": "262028db",
   "metadata": {},
   "source": [
    "### Boxplot entre variáveis categóricas e target"
   ]
  },
  {
   "cell_type": "code",
   "execution_count": 12,
   "id": "4c24e8a9",
   "metadata": {},
   "outputs": [
    {
     "data": {
      "application/vnd.plotly.v1+json": {
       "config": {
        "plotlyServerURL": "https://plot.ly"
       },
       "data": [
        {
         "name": "Cidade",
         "type": "box",
         "x": [
          "Brasília",
          "Campo Grande",
          "Goiânia",
          "Porto Alegre",
          "Fortaleza",
          "Curitiba",
          "Manaus",
          "Curitiba",
          "Manaus",
          "Florianópolis",
          "Fortaleza",
          "Fortaleza",
          "Goiânia",
          "Manaus",
          "Rio de Janeiro",
          "Curitiba",
          "São Paulo",
          "São Paulo",
          "Goiânia",
          "Belém",
          "Rio de Janeiro",
          "Brasília",
          "Curitiba",
          "Porto Alegre",
          "Porto Alegre",
          "Campo Grande",
          "Belo Horizonte",
          "Brasília",
          "Manaus",
          "Goiânia",
          "Belo Horizonte",
          "Florianópolis",
          "Belém",
          "São Paulo",
          "Recife",
          "Brasília",
          "Rio de Janeiro",
          "Fortaleza",
          "Rio de Janeiro",
          "Belém",
          "Belém",
          "Recife",
          "Belém",
          "Rio de Janeiro",
          "Campo Grande",
          "Rio de Janeiro",
          "Campo Grande",
          "Vitória",
          "Salvador",
          "Belém",
          "Belo Horizonte",
          "Campo Grande",
          "Manaus",
          "Manaus",
          "Recife",
          "Rio de Janeiro",
          "Belo Horizonte",
          "Curitiba",
          "Belém",
          "Curitiba",
          "Recife",
          "Rio de Janeiro",
          "Salvador",
          "Recife",
          "Rio de Janeiro",
          "Goiânia",
          "Curitiba",
          "São Paulo",
          "Vitória",
          "Rio de Janeiro",
          "Goiânia",
          "Vitória",
          "Rio de Janeiro",
          "São Paulo",
          "Curitiba",
          "Recife",
          "Manaus",
          "Campo Grande",
          "Goiânia",
          "Porto Alegre",
          "São Paulo",
          "Belém",
          "Salvador",
          "Vitória",
          "São Paulo",
          "Goiânia",
          "Salvador",
          "Manaus",
          "Campo Grande",
          "Curitiba",
          "Campo Grande",
          "Belo Horizonte",
          "Belém",
          "Salvador",
          "Belo Horizonte",
          "Salvador",
          "Manaus",
          "Porto Alegre",
          "Porto Alegre",
          "Goiânia",
          "Porto Alegre",
          "Salvador",
          "Porto Alegre",
          "Vitória",
          "Porto Alegre",
          "Brasília",
          "Manaus",
          "Belém",
          "Brasília",
          "Porto Alegre",
          "Campo Grande",
          "Salvador",
          "São Paulo",
          "Recife",
          "Florianópolis",
          "Belo Horizonte",
          "Brasília",
          "Recife",
          "Porto Alegre",
          "Salvador",
          "Goiânia",
          "Belo Horizonte",
          "Fortaleza",
          "Recife",
          "Recife",
          "Campo Grande",
          "Brasília",
          "Brasília",
          "Fortaleza",
          "São Paulo",
          "Florianópolis",
          "Curitiba",
          "Campo Grande",
          "Florianópolis",
          "Manaus",
          "Brasília",
          "Rio de Janeiro",
          "Porto Alegre",
          "Florianópolis",
          "Vitória",
          "Belo Horizonte",
          "Belém",
          "Manaus",
          "Fortaleza",
          "Brasília",
          "Goiânia",
          "Manaus",
          "Vitória",
          "Rio de Janeiro",
          "Porto Alegre",
          "Rio de Janeiro",
          "Brasília",
          "Belém",
          "Belém",
          "Recife",
          "Fortaleza",
          "Florianópolis",
          "Campo Grande",
          "Curitiba",
          "Curitiba",
          "Brasília",
          "Goiânia",
          "Porto Alegre",
          "Florianópolis",
          "Rio de Janeiro",
          "Florianópolis",
          "Curitiba",
          "Salvador",
          "Rio de Janeiro",
          "Vitória",
          "São Paulo",
          "Belém",
          "Porto Alegre",
          "Florianópolis",
          "Rio de Janeiro",
          "Belém",
          "Recife",
          "Curitiba",
          "Belo Horizonte",
          "Recife",
          "Recife",
          "Manaus",
          "Campo Grande",
          "Manaus",
          "Belo Horizonte",
          "Fortaleza",
          "Curitiba",
          "Fortaleza",
          "Belém",
          "Salvador",
          "Belo Horizonte",
          "Vitória",
          "Fortaleza",
          "Fortaleza",
          "Manaus",
          "Porto Alegre",
          "Goiânia",
          "Salvador",
          "Fortaleza",
          "Curitiba",
          "Manaus",
          "Campo Grande",
          "Belém",
          "Vitória",
          "Vitória",
          "Brasília",
          "Campo Grande",
          "Florianópolis",
          "Belém",
          "Porto Alegre",
          "Salvador",
          "Vitória",
          "Campo Grande",
          "Belo Horizonte",
          "Porto Alegre",
          "Rio de Janeiro",
          "Campo Grande",
          "Fortaleza",
          "Belém",
          "Recife",
          "Manaus",
          "Belo Horizonte",
          "Brasília",
          "Brasília",
          "Salvador",
          "São Paulo",
          "Brasília",
          "Salvador",
          "Porto Alegre",
          "Belo Horizonte",
          "Campo Grande",
          "Manaus",
          "Campo Grande",
          "Belo Horizonte",
          "Brasília",
          "Fortaleza",
          "Belo Horizonte",
          "Goiânia",
          "Porto Alegre",
          "Porto Alegre",
          "Manaus",
          "Porto Alegre",
          "Porto Alegre",
          "Fortaleza",
          "Brasília",
          "Salvador",
          "Florianópolis",
          "São Paulo",
          "Manaus",
          "Belo Horizonte",
          "Goiânia",
          "Belo Horizonte",
          "Recife",
          "Belo Horizonte",
          "Brasília",
          "Belém",
          "Belo Horizonte",
          "São Paulo",
          "Belém",
          "Porto Alegre",
          "Belém",
          "Curitiba",
          "Curitiba",
          "Florianópolis",
          "Manaus",
          "Florianópolis",
          "Goiânia",
          "Brasília",
          "São Paulo",
          "Fortaleza",
          "Manaus",
          "Brasília",
          "Rio de Janeiro",
          "Manaus",
          "Brasília",
          "Goiânia",
          "São Paulo",
          "Goiânia",
          "Belém",
          "Goiânia",
          "Curitiba",
          "Florianópolis",
          "Belo Horizonte",
          "Goiânia",
          "Fortaleza",
          "Campo Grande",
          "Campo Grande",
          "Florianópolis",
          "São Paulo",
          "Vitória",
          "Belém",
          "Goiânia",
          "Recife",
          "Salvador",
          "Manaus",
          "Manaus",
          "Rio de Janeiro",
          "Campo Grande",
          "Salvador",
          "Curitiba",
          "Manaus",
          "Belém",
          "Fortaleza",
          "Fortaleza",
          "Porto Alegre",
          "Manaus",
          "Campo Grande",
          "Manaus",
          "Salvador",
          "Goiânia",
          "Brasília",
          "Goiânia",
          "Fortaleza",
          "São Paulo",
          "Campo Grande",
          "Goiânia",
          "Recife",
          "Belém",
          "Porto Alegre",
          "Campo Grande",
          "São Paulo",
          "Rio de Janeiro",
          "Goiânia",
          "Recife",
          "Porto Alegre",
          "Porto Alegre",
          "Fortaleza",
          "Florianópolis",
          "Salvador",
          "Porto Alegre",
          "Brasília",
          "Salvador",
          "Brasília",
          "Belo Horizonte",
          "Rio de Janeiro",
          "Vitória",
          "São Paulo",
          "Belém",
          "Campo Grande",
          "Brasília",
          "Florianópolis",
          "Florianópolis",
          "Belém",
          "Vitória",
          "Curitiba",
          "Fortaleza",
          "Florianópolis",
          "Brasília",
          "São Paulo",
          "Florianópolis",
          "Fortaleza",
          "Belém",
          "Goiânia",
          "Porto Alegre",
          "Curitiba",
          "Rio de Janeiro",
          "Curitiba",
          "São Paulo",
          "Vitória",
          "Fortaleza",
          "Goiânia",
          "Belém",
          "Porto Alegre",
          "Florianópolis",
          "Curitiba",
          "Brasília",
          "Belém",
          "Belo Horizonte",
          "Brasília",
          "Manaus",
          "Curitiba",
          "Porto Alegre",
          "Porto Alegre",
          "Salvador",
          "Belém",
          "Campo Grande",
          "Curitiba",
          "São Paulo",
          "Porto Alegre",
          "Salvador",
          "Goiânia",
          "Vitória",
          "Rio de Janeiro",
          "Vitória",
          "Goiânia",
          "Manaus",
          "Rio de Janeiro",
          "Vitória",
          "Fortaleza",
          "Salvador",
          "Manaus",
          "Porto Alegre",
          "Belém",
          "Recife",
          "Salvador",
          "Goiânia",
          "Curitiba",
          "Rio de Janeiro",
          "Fortaleza",
          "Belém",
          "Rio de Janeiro",
          "Manaus",
          "Belo Horizonte",
          "Brasília",
          "Vitória",
          "Vitória",
          "Belo Horizonte",
          "Florianópolis",
          "Belém",
          "Recife",
          "Rio de Janeiro",
          "Goiânia",
          "Fortaleza",
          "Belo Horizonte",
          "Rio de Janeiro",
          "Rio de Janeiro",
          "Florianópolis",
          "Porto Alegre",
          "Salvador",
          "Florianópolis",
          "São Paulo",
          "Manaus",
          "São Paulo",
          "Manaus",
          "Porto Alegre",
          "Campo Grande",
          "Vitória",
          "Recife",
          "Campo Grande",
          "Fortaleza",
          "São Paulo",
          "Manaus",
          "São Paulo",
          "Recife",
          "Belo Horizonte",
          "Brasília",
          "Vitória",
          "Goiânia",
          "Porto Alegre",
          "Fortaleza",
          "Florianópolis",
          "Recife",
          "Campo Grande",
          "Porto Alegre",
          "Campo Grande",
          "Vitória",
          "Recife",
          "Florianópolis",
          "Vitória",
          "São Paulo",
          "Belo Horizonte",
          "Curitiba",
          "Goiânia",
          "Curitiba",
          "Belém",
          "Belo Horizonte",
          "Campo Grande",
          "São Paulo",
          "Salvador",
          "Rio de Janeiro",
          "Campo Grande",
          "Porto Alegre",
          "Porto Alegre",
          "Recife",
          "Rio de Janeiro",
          "Recife",
          "Fortaleza",
          "Goiânia",
          "Manaus",
          "Curitiba",
          "Belém",
          "Curitiba",
          "Florianópolis",
          "Brasília",
          "Manaus",
          "Salvador",
          "Campo Grande",
          "Belém",
          "Rio de Janeiro",
          "Salvador",
          "Manaus",
          "Curitiba",
          "Florianópolis",
          "Campo Grande",
          "Goiânia",
          "São Paulo",
          "Vitória",
          "Curitiba",
          "Campo Grande",
          "Goiânia",
          "Belém",
          "Belo Horizonte",
          "Curitiba",
          "Belo Horizonte",
          "Goiânia",
          "Florianópolis",
          "Goiânia",
          "Vitória",
          "Manaus",
          "Campo Grande",
          "São Paulo",
          "Florianópolis",
          "Fortaleza",
          "Belo Horizonte",
          "Curitiba",
          "São Paulo",
          "Brasília",
          "Recife",
          "Recife",
          "Recife",
          "Recife",
          "Belém",
          "Rio de Janeiro",
          "Fortaleza",
          "Porto Alegre",
          "Florianópolis",
          "Belém",
          "Fortaleza",
          "Belo Horizonte",
          "Goiânia",
          "Salvador",
          "Fortaleza",
          "Goiânia",
          "Fortaleza",
          "São Paulo",
          "Salvador",
          "Manaus",
          "São Paulo",
          "Recife",
          "Campo Grande",
          "Rio de Janeiro",
          "Fortaleza",
          "Belém",
          "Vitória",
          "Fortaleza",
          "Porto Alegre",
          "Rio de Janeiro",
          "Rio de Janeiro",
          "Rio de Janeiro",
          "Goiânia",
          "Salvador",
          "Florianópolis",
          "Curitiba",
          "Recife",
          "Belém",
          "Goiânia",
          "Rio de Janeiro",
          "Porto Alegre",
          "São Paulo",
          "Rio de Janeiro",
          "Salvador",
          "Manaus",
          "Florianópolis",
          "Salvador",
          "Florianópolis",
          "Belo Horizonte",
          "Manaus",
          "Porto Alegre",
          "Brasília",
          "Belém",
          "Goiânia",
          "Belém",
          "Porto Alegre",
          "Manaus",
          "Goiânia",
          "Goiânia",
          "Manaus",
          "Florianópolis",
          "Salvador",
          "Curitiba",
          "Fortaleza",
          "São Paulo",
          "Curitiba",
          "Belém",
          "Recife",
          "Belo Horizonte",
          "Vitória",
          "São Paulo",
          "Vitória",
          "Fortaleza",
          "Campo Grande",
          "Belém",
          "Goiânia",
          "Florianópolis",
          "Porto Alegre",
          "Brasília",
          "Vitória",
          "Vitória",
          "Manaus",
          "Campo Grande",
          "Campo Grande",
          "Porto Alegre",
          "Fortaleza",
          "Goiânia",
          "Curitiba",
          "São Paulo",
          "Florianópolis",
          "Goiânia",
          "Curitiba",
          "Fortaleza",
          "Porto Alegre",
          "Rio de Janeiro",
          "Brasília",
          "Goiânia",
          "Manaus",
          "Rio de Janeiro",
          "Brasília",
          "Goiânia",
          "Campo Grande",
          "Belo Horizonte",
          "Manaus",
          "Curitiba",
          "Florianópolis",
          "Fortaleza",
          "Belém",
          "Belo Horizonte",
          "São Paulo",
          "Curitiba",
          "Belém",
          "Goiânia",
          "Florianópolis",
          "Porto Alegre",
          "Vitória",
          "Curitiba",
          "Fortaleza",
          "Belo Horizonte",
          "São Paulo",
          "Campo Grande",
          "Belo Horizonte",
          "Florianópolis",
          "Fortaleza",
          "Curitiba",
          "Rio de Janeiro",
          "Belo Horizonte",
          "Curitiba",
          "Florianópolis",
          "Campo Grande",
          "Goiânia",
          "Goiânia",
          "São Paulo",
          "Belo Horizonte",
          "Curitiba",
          "Vitória",
          "Curitiba",
          "Fortaleza",
          "Curitiba",
          "Recife",
          "Campo Grande",
          "Belém",
          "Brasília",
          "Curitiba",
          "Florianópolis",
          "Goiânia",
          "Porto Alegre",
          "Curitiba",
          "Belém",
          "Goiânia",
          "Recife",
          "São Paulo",
          "Recife",
          "Rio de Janeiro",
          "Salvador",
          "Vitória",
          "Florianópolis",
          "Manaus",
          "Fortaleza",
          "Belém",
          "Goiânia",
          "Goiânia",
          "Florianópolis",
          "Belém",
          "Goiânia",
          "Brasília",
          "Salvador",
          "Recife",
          "Fortaleza",
          "São Paulo",
          "Belém",
          "Florianópolis",
          "Brasília",
          "Manaus",
          "Florianópolis",
          "Manaus",
          "Porto Alegre",
          "Brasília",
          "São Paulo",
          "Florianópolis",
          "São Paulo",
          "Belo Horizonte",
          "São Paulo",
          "Belo Horizonte",
          "Salvador",
          "Vitória",
          "Campo Grande",
          "Goiânia",
          "Florianópolis",
          "Florianópolis",
          "Brasília",
          "Vitória",
          "Fortaleza",
          "Salvador",
          "Brasília",
          "Salvador",
          "Vitória",
          "Belém",
          "São Paulo",
          "Vitória",
          "Porto Alegre",
          "Manaus",
          "Belo Horizonte",
          "Goiânia",
          "Brasília",
          "Campo Grande",
          "Rio de Janeiro",
          "Belo Horizonte",
          "Brasília",
          "Goiânia",
          "Belém",
          "Manaus",
          "Vitória",
          "Brasília",
          "Recife",
          "Recife",
          "Campo Grande",
          "Brasília",
          "Recife",
          "Brasília",
          "Recife",
          "Fortaleza",
          "Vitória",
          "Salvador",
          "Brasília",
          "Fortaleza",
          "Goiânia",
          "Belém",
          "São Paulo",
          "Belém",
          "Belém",
          "Fortaleza",
          "Vitória",
          "Campo Grande",
          "Vitória",
          "Brasília",
          "Recife",
          "Manaus",
          "Florianópolis",
          "Salvador",
          "Goiânia",
          "Vitória",
          "Belém",
          "Salvador",
          "Curitiba",
          "Salvador",
          "Florianópolis",
          "Goiânia",
          "São Paulo",
          "Fortaleza",
          "São Paulo",
          "Salvador",
          "Fortaleza",
          "Fortaleza",
          "Rio de Janeiro",
          "Brasília",
          "Rio de Janeiro",
          "Florianópolis",
          "Fortaleza",
          "São Paulo",
          "Manaus",
          "Recife",
          "Rio de Janeiro",
          "São Paulo",
          "Rio de Janeiro",
          "Curitiba",
          "Fortaleza",
          "Florianópolis",
          "Curitiba",
          "Brasília",
          "Campo Grande",
          "Campo Grande",
          "Belém",
          "São Paulo",
          "Salvador",
          "Salvador",
          "Curitiba",
          "Florianópolis",
          "Porto Alegre",
          "Manaus",
          "Rio de Janeiro",
          "Recife",
          "Manaus",
          "Vitória",
          "Belém",
          "São Paulo",
          "Salvador",
          "Manaus",
          "Florianópolis",
          "Fortaleza",
          "Salvador",
          "Curitiba",
          "Manaus",
          "Curitiba",
          "Vitória",
          "Florianópolis",
          "Porto Alegre",
          "Campo Grande",
          "São Paulo",
          "Recife",
          "Rio de Janeiro",
          "Fortaleza",
          "Recife",
          "Rio de Janeiro",
          "Porto Alegre",
          "São Paulo",
          "Rio de Janeiro",
          "Manaus",
          "Salvador",
          "Vitória",
          "Campo Grande",
          "São Paulo",
          "Rio de Janeiro",
          "Campo Grande",
          "Rio de Janeiro",
          "Belo Horizonte",
          "Vitória",
          "Curitiba",
          "Fortaleza",
          "Belo Horizonte",
          "São Paulo",
          "Florianópolis",
          "Salvador",
          "Porto Alegre",
          "Vitória",
          "Belém",
          "Florianópolis",
          "Fortaleza",
          "Belo Horizonte",
          "Goiânia",
          "Brasília",
          "São Paulo",
          "Curitiba",
          "Curitiba",
          "São Paulo",
          "Porto Alegre",
          "Porto Alegre",
          "Goiânia",
          "Goiânia",
          "Porto Alegre",
          "Rio de Janeiro",
          "Salvador",
          "Curitiba",
          "São Paulo",
          "Brasília",
          "Campo Grande",
          "Curitiba",
          "Recife",
          "Goiânia",
          "Manaus",
          "Belém",
          "Belo Horizonte",
          "Rio de Janeiro",
          "Vitória",
          "Manaus",
          "Rio de Janeiro",
          "Rio de Janeiro",
          "Fortaleza",
          "Porto Alegre",
          "Porto Alegre",
          "Curitiba",
          "Porto Alegre",
          "Salvador",
          "Goiânia",
          "Florianópolis",
          "Porto Alegre",
          "Manaus",
          "Salvador",
          "Recife",
          "Florianópolis",
          "Brasília",
          "Rio de Janeiro",
          "Rio de Janeiro",
          "Belo Horizonte",
          "Goiânia",
          "Goiânia",
          "Florianópolis",
          "Belém",
          "Salvador",
          "Porto Alegre",
          "Florianópolis",
          "Rio de Janeiro",
          "Florianópolis",
          "Salvador",
          "São Paulo",
          "Brasília",
          "Porto Alegre",
          "Belém",
          "Porto Alegre",
          "Curitiba",
          "Campo Grande",
          "Campo Grande",
          "Goiânia",
          "Salvador",
          "São Paulo",
          "Curitiba",
          "Salvador",
          "Manaus",
          "Goiânia",
          "Curitiba",
          "Campo Grande",
          "Manaus",
          "Manaus",
          "Porto Alegre",
          "Brasília",
          "Manaus",
          "Florianópolis",
          "Brasília",
          "Brasília",
          "São Paulo",
          "Fortaleza",
          "Goiânia",
          "Belo Horizonte",
          "Recife",
          "Goiânia",
          "Manaus",
          "Porto Alegre",
          "Curitiba",
          "Campo Grande",
          "Belo Horizonte",
          "Porto Alegre",
          "Belém",
          "Rio de Janeiro",
          "Manaus",
          "São Paulo",
          "São Paulo",
          "Florianópolis",
          "Brasília",
          "Porto Alegre",
          "Brasília",
          "Brasília",
          "São Paulo",
          "Recife",
          "Rio de Janeiro",
          "São Paulo",
          "Salvador",
          "Salvador",
          "Vitória",
          "Belém",
          "São Paulo",
          "Florianópolis",
          "Belém",
          "São Paulo",
          "Campo Grande",
          "Rio de Janeiro",
          "Porto Alegre",
          "Rio de Janeiro",
          "São Paulo",
          "Belo Horizonte",
          "Manaus",
          "Fortaleza",
          "Rio de Janeiro",
          "Manaus",
          "Belém",
          "Florianópolis",
          "Porto Alegre",
          "São Paulo",
          "Curitiba",
          "Belo Horizonte",
          "Campo Grande",
          "Rio de Janeiro",
          "Rio de Janeiro",
          "Vitória",
          "Fortaleza",
          "Curitiba",
          "Belém",
          "Campo Grande",
          "Curitiba",
          "Brasília",
          "Rio de Janeiro",
          "Florianópolis",
          "Goiânia",
          "São Paulo",
          "Rio de Janeiro",
          "Brasília",
          "Brasília",
          "Vitória",
          "Florianópolis",
          "Belo Horizonte",
          "Florianópolis",
          "Campo Grande",
          "Rio de Janeiro",
          "Belo Horizonte",
          "Fortaleza",
          "Fortaleza",
          "Goiânia",
          "Rio de Janeiro",
          "São Paulo",
          "Florianópolis",
          "Rio de Janeiro",
          "Recife",
          "Porto Alegre",
          "Brasília"
         ],
         "xaxis": "x",
         "y": {
          "bdata": "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",
          "dtype": "f8"
         },
         "yaxis": "y"
        },
        {
         "name": "Cargo",
         "type": "box",
         "x": [
          "Engenheiro agrônomo",
          "Psicólogo",
          "Intérprete de Bíblias",
          "Engenheiro de projetos",
          "Cantor",
          "Tecelão",
          "Babysitter",
          "Astronauta",
          "Ferramenteiro",
          "Garimpeiro",
          "Contábil",
          "Assessor de imprensa",
          "Lanterneiro",
          "Intérprete e tradutor de língua de sinais",
          "Meeiro",
          "Lavador",
          "Cancerologista ou Oncologista",
          "Ambientalista",
          "Almoxarife",
          "Jogador de basquete",
          "Barman",
          "Escoteiro",
          "Gerente de riscos em seguros",
          "Parteira tradicional",
          "Produtor de multimídia",
          "Restaurador",
          "Office-boy",
          "Estampador de tecidos",
          "Biomédico",
          "Geógrafo",
          "Coronel",
          "Químico",
          "Servente-de-obras",
          "Gestor ambiental",
          "Tecnólogo em geoprocessamento",
          "Instalador de linha telefônica",
          "Viveirista",
          "Toxicologista",
          "Pescador",
          "Coloproctologista",
          "Médico cirurgião",
          "Estofador",
          "Vistoriador de sinistros",
          "Letrista",
          "Odontologista estético",
          "Ciclista",
          "Seguidor de compras",
          "Balconista",
          "Tecnólogo em desenvolvimento social",
          "Instalador de painéis",
          "Delegado",
          "Violonista",
          "Mestre cervejeiro",
          "Vistoriador de sinistros",
          "Aeronauta",
          "Jogador de basquete",
          "Capelão",
          "Telegrafista",
          "Faxineiro",
          "Museólogo",
          "Assessor parlamentar",
          "Meteorologista",
          "Juiz de futebol",
          "Massoterapeuta",
          "Profissional de tecnologia de laticínios",
          "Político",
          "Jogador de badminton",
          "Militar do Exército",
          "Portuário",
          "Triatleta",
          "Pintor",
          "Corretor da bolsa de valores",
          "Profissional de cinema",
          "Servente-de-obras",
          "Engenheiro sanitarista",
          "Amolador de ferramentas",
          "Engenheiro de projetos",
          "Preparador de máquinas",
          "Taxidermista/Embalsamador",
          "Artista plástico",
          "Clap loader",
          "Faturista",
          "Engenheiro de ergonomia",
          "Engenheiro mecatrônico",
          "Tecnólogo em negócios imobiliários",
          "Cineasta",
          "Pizzaiolo",
          "Gerente de banco",
          "Surfista",
          "Perfusionista",
          "Projetista mecânico",
          "Representante comercial",
          "Escoteiro",
          "Juiz de direito",
          "Guincheiro",
          "Copeiro",
          "Engenheiro metalúrgico",
          "Caixa",
          "Aeromoça",
          "Ciclista",
          "Técnico em taquigrafia",
          "Perito judicial",
          "Gravurista",
          "Ministro",
          "Tenista",
          "Consultor de radiestesia",
          "Comandante",
          "Engenheiro agrimensor",
          "Datilógrafo",
          "Ourives",
          "Modelo",
          "Assessor parlamentar",
          "Químico",
          "Técnico tributarista",
          "Marceneiro",
          "Pianista",
          "Ferramenteiro",
          "Dedetizador",
          "Engenheiro de segurança do trabalho",
          "Ambulante",
          "Separador",
          "Dançarino",
          "Terapeuta ocupacional",
          "Metalúrgico",
          "Pintor",
          "Tapeceiro",
          "Fotógrafo",
          "Neurologista",
          "Personal trainer",
          "Lenhador",
          "Pneumologista",
          "Cirurgião dentista",
          "Consultor de moda",
          "Serralheiro",
          "Cientista",
          "Motorista",
          "Filósofo",
          "Ator",
          "Comandante",
          "Juiz de futebol",
          "Topógrafo",
          "Gestor de qualidade",
          "Orçamentista",
          "Engenheiro de aquicultura",
          "Patologista",
          "DJ",
          "Engenheiro mecânico",
          "Engenheiro petroquímico",
          "Recreador",
          "Inspetor",
          "Cineasta",
          "Mototaxista",
          "Pediatra",
          "Técnico em desporto",
          "Bombeiro",
          "Cobrador de ônibus",
          "Sushiman",
          "Armador",
          "Tecnólogo em irrigação e drenagem",
          "Continuista",
          "Vereador",
          "Operador de bombas",
          "Tecelão",
          "Promotor de eventos",
          "Agente funerário",
          "Ginasta rítmica",
          "Encarregado de manutenção predial",
          "Comandante",
          "Figurinista",
          "Gestor de recursos humanos",
          "Bartender",
          "Angiologista",
          "Lutador de jiu-jitsu",
          "Cenotécnico",
          "Eletricista de automóveis",
          "Psicopedagogo",
          "Levantador de peso",
          "Biomédico",
          "Escultor",
          "Ortoptista",
          "Violonista",
          "Defensor Público",
          "Barman",
          "Piloto automobilístico",
          "Biólogo",
          "Profissional de relações internacionais",
          "Cartazeiro",
          "Procurador de justiça",
          "Musicoterapeuta",
          "Treinador",
          "Surfista",
          "Designer de interiores",
          "Editor",
          "Engenheiro de materiais",
          "Aeromoça",
          "Odontologista preventivo e social",
          "Tecnólogo em processos químicos",
          "Jogador de badminton",
          "Prensista",
          "Veterinário",
          "Datilógrafo",
          "Transcritor",
          "Karateca",
          "Retificador",
          "Engenheiro de petróleo",
          "Bedel",
          "Guarda roupeiro",
          "Operador de bombas",
          "Baixista",
          "Geriatra",
          "Jogador de handebol",
          "Paparazzo",
          "Cinegrafista",
          "Orçamentista",
          "Aeroviário",
          "Instalador de linha telefônica",
          "Polidor de produção",
          "Engenheiro de segurança do trabalho",
          "Dogueiro",
          "Jóquei",
          "Necromaquiador",
          "Médico cirurgião",
          "Personal trainer",
          "Diretor de produção",
          "Promotor de vendas",
          "Esgrimista",
          "Sexólogo",
          "Profissional de marketing",
          "Grafologista",
          "Maquinista",
          "Instrumentista musical",
          "Trilheiro ou músico de cinema",
          "Intérprete de Bíblias",
          "Massagista",
          "Transcritor",
          "Policial civil",
          "Diretor de fotografia",
          "Engenheiro cartográfico",
          "Massoterapeuta",
          "Contatólogo",
          "Telegrafista",
          "Artista de circo",
          "Recreador",
          "Armador",
          "Odontologista estético",
          "Engenheiro naval",
          "Figurante",
          "Otorrinolaringologista",
          "Obstetra",
          "Arrumadeira",
          "Garçom",
          "Oftalmologista",
          "Estoquista",
          "Estatístico",
          "Gerente de riscos em seguros",
          "Corregedor de justiça",
          "Militar da Aeronáutica",
          "Médico legista",
          "Artista de circo",
          "Profissional de educação física",
          "Surfista",
          "Tecnólogo em desenvolvimento social",
          "Empacotador",
          "Levantador de peso",
          "Militar do Exército",
          "Músico",
          "Aviador",
          "Lixeiro/Coletor de lixo",
          "Necromaquiador",
          "Tecnólogo em negócios imobiliários",
          "Supervisor",
          "Tecnólogo em recursos pesqueiros",
          "Angiologista",
          "Prefeito",
          "Ortesista",
          "Professor",
          "Jóquei",
          "Gourmet",
          "Montador de negativos",
          "Ginasta rítmica",
          "Soldador",
          "Papiloscopista",
          "Cientista",
          "Baterista",
          "Hostess",
          "Ferroviário",
          "Timoneiro",
          "Militar da Marinha",
          "Médico legista",
          "Gestor público",
          "Odontopediatra",
          "Ciclista",
          "Operador de vídeo",
          "Ferramenteiro",
          "Clarinetista",
          "Radiooperador de vôo",
          "Gerente de banco",
          "Imunologista",
          "Boxeador",
          "Windsurfer",
          "Controller",
          "Tecnólogo em Ciências das plantas medicinais",
          "Delegado",
          "Deputado",
          "Sociólogo",
          "Técnico em desporto",
          "Barbeiro",
          "Coveiro/Sepultador",
          "Digitador",
          "Optometrista",
          "Tecnólogo em irrigação e drenagem",
          "Bioquímico",
          "Químico",
          "Kite-surfer",
          "Sonoplasta",
          "Angiologista",
          "Médico nuclear",
          "Instrumentista musical",
          "Tesoureiro",
          "Tecnólogo em produção moveleira",
          "Engenheiro mecatrônico",
          "Estivador",
          "Pescador",
          "Engenheiro cartográfico",
          "Plastimodelista",
          "Regente",
          "Preparador de máquinas",
          "Digitador",
          "Investigador de Polícia",
          "Dublê",
          "Engenheiro industrial",
          "Comandante",
          "Técnico em taquigrafia",
          "Técnico em segurança do trabalho",
          "Profissional de educação física",
          "Cadista",
          "Técnico em higiene dentária",
          "Engenheiro de energia",
          "Viveirista",
          "Contra regra",
          "Webmaster",
          "Ferreiro",
          "Sushiman",
          "Inspetor",
          "Levantador de peso",
          "Vistoriador de sinistros",
          "Infectologista",
          "Operador de vídeo",
          "Somelier",
          "Economista",
          "Ortopedista",
          "Caça-talentos/Olheiro",
          "Dentista",
          "Agente penitenciário",
          "Traumatologista",
          "Torreiro/Torrista",
          "Fiscal",
          "Figurante",
          "Profissional de manutenção industrial",
          "Moldureiro",
          "Engenheiro aeronáutico",
          "Arranjador musical",
          "Infectologista",
          "Transcritor",
          "Policial militar",
          "Profissional de marketing",
          "Pizzaiolo",
          "Cientista social",
          "Major",
          "Selecionador de pessoal",
          "Empacotador",
          "Gestor de recursos humanos",
          "Geógrafo",
          "Coordenador",
          "Químico farmacêutico",
          "Preparador de máquinas",
          "Panificador/Padeiro",
          "Maestro",
          "Massagista",
          "Terapeuta ocupacional",
          "Esgrimista",
          "Turismólogo",
          "Subprefeito",
          "Engenheiro físico",
          "Maestro",
          "Retificador",
          "Operador de vídeo",
          "Engenheiro mecânico",
          "Oculista",
          "Gestor de recursos humanos",
          "Fotógrafo",
          "Técnico em higiene dentária",
          "Moleiro",
          "Degustador",
          "Árbitro e mediador",
          "Engenheiro mecatrônico",
          "Ceramista",
          "Contra regra",
          "Jogador de handebol",
          "Engenheiro de aquicultura",
          "Biomédico",
          "Promotor de vendas",
          "Penhorista",
          "Estoquista",
          "Engenheiro aeronáutico",
          "Corretor de imóveis",
          "Corregedor de justiça",
          "Continuista",
          "Cumim",
          "Locutor",
          "Flanelinha",
          "Atleta de nado sincronizado",
          "Percursionista",
          "Geofísico",
          "Radiologista",
          "Jogador de futebol",
          "Ferroviário",
          "Gestor de recursos humanos",
          "Bombeiro",
          "Cabeleireiro",
          "Capitão",
          "Redator",
          "Embaixador",
          "Panfleteiro",
          "Pesquisador",
          "Profissional de cinema",
          "Traumatologista",
          "Guarda roupeiro",
          "Tecnólogo em Ciências das plantas medicinais",
          "Oftalmologista",
          "Jogador de basquete",
          "Pedreiro",
          "Degustador",
          "Pediatra",
          "Broker/Corretor da bolsa de valores",
          "Técnico em óptica",
          "Office-boy",
          "Chaveiro",
          "Ortopedista",
          "Analista de sistemas",
          "Militar do Exército",
          "Produtor de audio visual",
          "Coach",
          "Vigia parlamentar",
          "Relações públicas",
          "Seguidor de compras",
          "Desenhista",
          "Instrumentador cirúrgico",
          "Montador",
          "Artesão",
          "Farmacêutico",
          "Pneumologista",
          "Bombeiro",
          "Gestor de tecnologia da informação",
          "Forneiro",
          "Laboratorista",
          "Servente-de-obras",
          "Cirurgião bucal",
          "Profissional de cinema",
          "Tenista",
          "Profissional de recursos humanos",
          "Metalúrgico",
          "Auxiliar de reprografia",
          "Hematologista",
          "Cantor",
          "Ceramista",
          "Radiologista",
          "Líder comunitário",
          "Tecnólogo em recursos pesqueiros",
          "Jogador de vôlei",
          "Pesquisador",
          "Embalsamador",
          "Juiz ou árbitro de futebol",
          "Funileiro",
          "Faxineiro",
          "Secretária",
          "Marinheiro",
          "Assessor de imprensa",
          "Serventuário",
          "Homeopata",
          "Atleta de tiro com arco",
          "Agente penitenciário",
          "Radialista programador",
          "Profissional de relações públicas",
          "Leiloeiro",
          "Militar da Aeronáutica",
          "Publicitário",
          "Operador de telemarketing",
          "Odontopediatra",
          "Lutador de kung fu",
          "Patologista oral",
          "Soldado",
          "Leão de chácara",
          "Florista",
          "Embalsamador",
          "Médico",
          "Promotor de eventos",
          "Estilista",
          "Desembargador de justiça",
          "Meeiro",
          "Trompetista",
          "Profissional de reciclagem",
          "Assistente de produção",
          "Porteiro",
          "Remador",
          "Massagista",
          "Boxeador",
          "Engenheiro de projetos",
          "Manicure",
          "Notário",
          "Engenheiro de segurança do trabalho",
          "Tecnólogo em processos químicos",
          "Tosador",
          "Tecnólogo em papel e celulose",
          "Torneiro mecânico",
          "Apresentador",
          "Mestre-de-obras",
          "Administrador de banco de dados DBA",
          "Transcritor",
          "Administrador",
          "Torreiro/Torrista",
          "Prensista",
          "Engenheiro agrônomo",
          "Corretor de imóveis",
          "Marketeiro",
          "Ombudsman",
          "Infectologista",
          "Leão de chácara",
          "Profissional de rádio e tv",
          "Marketeiro",
          "Cientista de alimentos",
          "Técnico em óptica",
          "Engenheiro agrônomo",
          "Neurocirurgião",
          "Cambista",
          "Intérprete de Bíblias",
          "Veterinário",
          "Tabelião",
          "Astrofísico",
          "Gandula",
          "Agente de defesa sanitária",
          "Digitador",
          "Gestor de recursos humanos",
          "Gestor de qualidade",
          "Designer de interiores",
          "Bancário",
          "Penhorista",
          "Judoca",
          "Caldeireiro",
          "Jóquei",
          "Petroleiro",
          "Corregedor de justiça",
          "Gestor público",
          "Professor",
          "Profissional de cinema",
          "Endocrinologista",
          "Seringueiro",
          "Engenheiro agrimensor",
          "Auxiliar de reprografia",
          "Escultor",
          "Instrumentista musical",
          "Implantodontista",
          "Profissional de áudio",
          "Engenheiro cartográfico",
          "Servente-de-obras",
          "Assistente de câmera",
          "Turismólogo",
          "Operador de telemarketing",
          "Meredeira",
          "Personal trainer",
          "Corretor de seguros",
          "Contatólogo",
          "Atleta de nado sincronizado",
          "Podólogo",
          "Broker/Corretor da bolsa de valores",
          "Produtor de eventos",
          "Xilógrafo",
          "Guarda ou policial rodoviário",
          "Turismólogo",
          "Cartunista",
          "Pintor",
          "Terapeuta floral",
          "Atleta de arremesso de peso",
          "Antropólogo",
          "Embalsamador",
          "Dialoguista",
          "Cancerologista ou Oncologista",
          "Engenheiro de telecomunicações",
          "Auditor",
          "Astronauta",
          "Ventríloquo",
          "Serralheiro",
          "Prefeito",
          "Técnico em segurança do trabalho",
          "Separador",
          "Tecnólogo em geoprocessamento",
          "Tecnólogo em geoprocessamento",
          "Tecnólogo em esporte e lazer",
          "Clarinetista",
          "Ginasta artística",
          "Mergulhador",
          "Engenheiro de telecomunicações",
          "Lanterneiro",
          "Tecnólogo em desenvolvimento social",
          "Aeromoça",
          "Modelista",
          "Agente de viagens",
          "Policial civil",
          "Investigador de Polícia",
          "Arquiteto",
          "Modelista",
          "Flanelinha",
          "Delegado",
          "Engenheiro de ergonomia",
          "Médico legista",
          "Tecnólogo em produção Sucroalcooleira",
          "Instrutor",
          "Técnico em óptica",
          "Astrólogo",
          "Panificador/Padeiro",
          "Ourives",
          "Gerente de banco",
          "Profissional de comércio exterior",
          "Catador de carangueijos",
          "Plastimodelista",
          "Médico legista",
          "Cartunista",
          "Frentista",
          "Cinegrafista",
          "Microfonista",
          "Transcritor",
          "Açougueiro",
          "Engenheiro de petróleo",
          "Separador",
          "Aeronauta",
          "Tecnólogo em Ciências das plantas medicinais",
          "Personal trainer",
          "Físico",
          "Dublador",
          "Engenheiro mecânico",
          "Catador de carangueijos",
          "Piloto automobilístico",
          "Pianista",
          "Alpinista",
          "Cartazeiro",
          "Triatleta",
          "Tecnólogo em negócios imobiliários",
          "Cenógrafo",
          "Químico farmacêutico",
          "Clínico geral",
          "Tenista",
          "Radiooperador de vôo",
          "Enólogo",
          "Matemático",
          "Estoquista",
          "Profissional de hotelaria",
          "Almirante",
          "Prático",
          "Recepcionista",
          "Plastimodelista",
          "Procurador de justiça",
          "Motorista",
          "Cientista de alimentos",
          "Repórter",
          "Procurador de justiça",
          "Caldeireiro",
          "Técnico de som",
          "Pedreiro",
          "Funileiro",
          "Jogador de badminton",
          "Educador",
          "Lanterneiro",
          "Especialista em agronegócios",
          "Vistoriador de sinistros",
          "Parteira tradicional",
          "Epidemiólogo",
          "Fisiculturista",
          "Acupunturista",
          "Webdesigner",
          "Engenheiro de controle e automação",
          "Engenheiro sanitarista",
          "Profissional de recursos humanos",
          "Urbanista",
          "Engenheiro de petróleo",
          "Profissional de relações públicas",
          "Cumim",
          "Esteticista",
          "Dedetizador",
          "Matemático",
          "Engenheiro mecatrônico",
          "Prensista",
          "Teólogo",
          "Capoeirista",
          "Lavador",
          "Torreiro/Torrista",
          "Lutador de karatê",
          "Letrista",
          "Administrador de redes",
          "Tapeceiro",
          "Capitão",
          "Relações públicas",
          "Aviador",
          "Profissional de linguística",
          "Cabeleireiro",
          "Moldureiro",
          "Estampador de tecidos",
          "Lanterneiro",
          "Policial civil",
          "Tecnólogo em processos químicos",
          "Fisioterapeuta",
          "Profissional de linguística",
          "Figurante",
          "Produtor de multimídia",
          "Técnico em hardware",
          "Pianista",
          "Ufólogo",
          "Lutador de taekwondo",
          "Astrônomo",
          "Técnico em aviação",
          "Engenheiro de horticultura",
          "Instrutor",
          "Catador de material reciclável",
          "Endocrinologista",
          "Ciclista",
          "Meeiro",
          "Manobrista",
          "Viveirista",
          "Dentista",
          "Engenheiro de energia",
          "Engenheiro ambiental",
          "Designer de jóia",
          "Diretor de produção",
          "Sargento",
          "Técnico em tratamento de água",
          "Gestor público",
          "Bombeiro",
          "Guitarrista",
          "Chargista",
          "Ortesista",
          "Flanelinha",
          "Ortodontista",
          "Pedreiro",
          "Anestesiologista",
          "Lubrificador de máquinas",
          "Cirurgião dentista",
          "Costureira",
          "Veterinário",
          "Prático",
          "Terapeuta ocupacional",
          "Endocrinologista",
          "Catador de carangueijos",
          "Catador de carangueijos",
          "Paramédico",
          "Cadeirinha",
          "Jogador de badminton",
          "Boticário",
          "Sacoleira",
          "Lamboteiro",
          "Jogador de badminton",
          "Coloproctologista",
          "Técnico em tratamento de água",
          "Engenheiro petroquímico",
          "Figurante",
          "Retificador",
          "Ceramista",
          "Taxista",
          "Cenógrafo",
          "Paramédico",
          "Almoxarife",
          "Profissional de hotelaria",
          "Florista",
          "Cantor",
          "Eletricista",
          "Auxiliar administrativo",
          "Patinador",
          "Cancerologista ou Oncologista",
          "Pesquisador",
          "Dermatologista",
          "Gastroenterologista",
          "Gandula",
          "Desenhista",
          "Oficial de justiça",
          "Assistente administrativo",
          "Ferroviário",
          "Catador de carangueijos",
          "Engenheiro florestal",
          "Armeiro",
          "Gerente de banco",
          "Estivador",
          "General",
          "Tecnólogo em papel e celulose",
          "Paisagista",
          "Apontador de mão-de-obra",
          "Pescador",
          "Luthier",
          "Defensor Público",
          "Viveirista",
          "Cientista social",
          "Salgadeira",
          "Jangadeiro",
          "Cobrador de ônibus",
          "Fresador",
          "Vistoriador de sinistros",
          "Conferente de expedição",
          "Frentista",
          "Procurador de justiça",
          "Headhunter",
          "Pedicure",
          "Mergulhador",
          "Técnico em edificações",
          "Meeiro",
          "Fresador",
          "Sargento",
          "Cobaia Médica",
          "Guarda ou policial rodoviário",
          "Administrador de banco de dados DBA",
          "Serventuário",
          "Embaixador",
          "Violonista",
          "Ministro",
          "Pneumologista",
          "Caça-talentos/Olheiro",
          "Carteiro",
          "Urbanista",
          "Pintor",
          "Gestor de qualidade",
          "Marketeiro",
          "Ferreiro",
          "Nefrologista",
          "Engenheiro industrial",
          "Técnico em aviação",
          "Marechal",
          "Profissional de linguística",
          "Tecnólogo em desenvolvimento social",
          "Assistente de produção",
          "Massoterapeuta",
          "Educador",
          "Técnico em hardware",
          "Musicoterapeuta",
          "Economista",
          "Cantor",
          "Clap loader",
          "Nutricionista",
          "Fisioterapeuta",
          "Odontologista estético",
          "Engenheiro de minas",
          "Babá",
          "Classificador contábil",
          "Meteorologista",
          "Tecnólogo em produção de bebidas",
          "Cadeirinha",
          "Locutor",
          "Orientador educacional",
          "Polidor de produção",
          "Técnico em rede",
          "Desembargador de justiça",
          "Psicopedagogo",
          "Tecnólogo em esporte e lazer",
          "Cardiologista",
          "Tecnólogo em produção Sucroalcooleira",
          "Panificador/Padeiro",
          "Neurologista",
          "Arquivista",
          "Cinematográfo",
          "Odontologista legal",
          "Leão de chácara",
          "Gestor de recursos humanos",
          "Jóquei",
          "Endodontista",
          "Pediatra",
          "Produtor de eventos",
          "Aeronauta",
          "Estatístico",
          "Cientista da informação e documentação",
          "Hematologista",
          "Quitandeiro",
          "Recreador",
          "Promotor público/de justiça",
          "Comandante",
          "Comandante",
          "Engenheiro de ergonomia",
          "Psiquiatra",
          "Catador de material reciclável",
          "Conferente de carga e descarga",
          "Confeiteiro",
          "Ortopedista",
          "Hematologista",
          "Pastilheiro",
          "Advogado",
          "Tecnólogo em silvicultura",
          "Babysitter",
          "Assessor parlamentar",
          "Artista de circo",
          "Técnico em agropecuária",
          "Somelier",
          "Profissional de relações públicas",
          "Transportador",
          "Telefonista",
          "Atendente",
          "Maestro",
          "Lixeiro/Coletor de lixo",
          "Intérprete e tradutor de língua de sinais",
          "Perito criminal",
          "Investigador de Polícia",
          "Acompanhante",
          "Ourives",
          "Impressor",
          "Jangadeiro",
          "Ourives",
          "Datilógrafo",
          "Biólogo",
          "Sonoplasta",
          "Flanelinha",
          "Subprefeito",
          "Limpador de vidros",
          "Jardineiro",
          "Designer de produto ou desenhista industrial",
          "Odontologista legal",
          "Notário",
          "Levantador de peso",
          "Ferramenteiro",
          "Deputado",
          "Tabelião",
          "Gerente de inovações ou novos negócios",
          "Governanta",
          "Leiteiro",
          "Cardiologista",
          "Operador de vídeo",
          "Designer de jóia",
          "Manicure",
          "Contramestre em transporte marítimo",
          "Engenheiro de processos",
          "Profissional de logística",
          "Roteirista",
          "Leiteiro",
          "Tecnólogo em recursos pesqueiros",
          "Leão de chácara",
          "Capataz",
          "Escriturário",
          "Contábil",
          "Marketeiro",
          "Escrivão",
          "Nadador",
          "Engenheiro de aquicultura",
          "Ortopedista",
          "Redator",
          "Hostess",
          "Ambulante",
          "Imunologista",
          "Retificador",
          "Jogador de futebol",
          "Somelier",
          "Engenheiro químico",
          "Lixeiro/Coletor de lixo",
          "Diretor de fotografia",
          "Atuário",
          "Regente",
          "Escritor",
          "Sushiman",
          "Lubrificador de máquinas",
          "Ferramenteiro",
          "Designer de produto ou desenhista industrial",
          "Gandula",
          "Traumatologista",
          "Reumatologista",
          "Geofísico",
          "Orçamentista",
          "Agricultor",
          "Jogador de hóquei",
          "Escritor",
          "Mergulhador",
          "Arquivista",
          "Oceanógrafo",
          "Engenheiro petroquímico",
          "Chargista",
          "Ginasta rítmica",
          "Pára-quedista",
          "Governador",
          "Assistente social",
          "Amolador de ferramentas",
          "Profissional de comércio exterior",
          "Jornalista",
          "Crítico",
          "Copeiro",
          "Saxofonista",
          "Projetista mecânico",
          "Especialista em agronegócios",
          "Harpista",
          "Bailarina",
          "DJ",
          "Salva-vidas",
          "Tecnólogo em silvicultura",
          "Apicultor",
          "Alfaiate",
          "Apontador de mão-de-obra",
          "Enfermeiro",
          "Cadista",
          "Tecnólogo em produção de bebidas",
          "Gourmet",
          "Contabilista"
         ],
         "xaxis": "x2",
         "y": {
          "bdata": "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",
          "dtype": "f8"
         },
         "yaxis": "y2"
        },
        {
         "name": "Estado Civil",
         "type": "box",
         "x": [
          "Divorciado",
          "Divorciado",
          "Solteiro",
          "Divorciado",
          "Solteiro",
          "Viúvo",
          "Divorciado",
          "Viúvo",
          "Casado",
          "Viúvo",
          "Casado",
          "Casado",
          "Solteiro",
          "Solteiro",
          "Casado",
          "Solteiro",
          "Divorciado",
          "Divorciado",
          "Divorciado",
          "Casado",
          "Viúvo",
          "Solteiro",
          "Casado",
          "Casado",
          "Casado",
          "Casado",
          "Casado",
          "Divorciado",
          "Solteiro",
          "Solteiro",
          "Solteiro",
          "Solteiro",
          "Divorciado",
          "Viúvo",
          "Casado",
          "Viúvo",
          "Casado",
          "Viúvo",
          "Viúvo",
          "Solteiro",
          "Casado",
          "Viúvo",
          "Viúvo",
          "Divorciado",
          "Divorciado",
          "Casado",
          "Divorciado",
          "Viúvo",
          "Casado",
          "Divorciado",
          "Casado",
          "Viúvo",
          "Divorciado",
          "Divorciado",
          "Divorciado",
          "Viúvo",
          "Solteiro",
          "Solteiro",
          "Solteiro",
          "Casado",
          "Solteiro",
          "Casado",
          "Viúvo",
          "Divorciado",
          "Divorciado",
          "Solteiro",
          "Viúvo",
          "Casado",
          "Solteiro",
          "Viúvo",
          "Casado",
          "Divorciado",
          "Solteiro",
          "Casado",
          "Casado",
          "Divorciado",
          "Viúvo",
          "Casado",
          "Solteiro",
          "Viúvo",
          "Solteiro",
          "Casado",
          "Viúvo",
          "Viúvo",
          "Casado",
          "Viúvo",
          "Divorciado",
          "Solteiro",
          "Solteiro",
          "Divorciado",
          "Solteiro",
          "Casado",
          "Divorciado",
          "Solteiro",
          "Divorciado",
          "Viúvo",
          "Divorciado",
          "Divorciado",
          "Viúvo",
          "Divorciado",
          "Solteiro",
          "Viúvo",
          "Divorciado",
          "Divorciado",
          "Casado",
          "Divorciado",
          "Solteiro",
          "Casado",
          "Divorciado",
          "Casado",
          "Solteiro",
          "Viúvo",
          "Divorciado",
          "Casado",
          "Viúvo",
          "Divorciado",
          "Viúvo",
          "Casado",
          "Casado",
          "Viúvo",
          "Casado",
          "Casado",
          "Divorciado",
          "Casado",
          "Viúvo",
          "Solteiro",
          "Viúvo",
          "Viúvo",
          "Divorciado",
          "Divorciado",
          "Solteiro",
          "Divorciado",
          "Casado",
          "Viúvo",
          "Viúvo",
          "Solteiro",
          "Divorciado",
          "Viúvo",
          "Casado",
          "Viúvo",
          "Viúvo",
          "Viúvo",
          "Viúvo",
          "Divorciado",
          "Divorciado",
          "Divorciado",
          "Solteiro",
          "Viúvo",
          "Divorciado",
          "Viúvo",
          "Solteiro",
          "Viúvo",
          "Solteiro",
          "Casado",
          "Casado",
          "Solteiro",
          "Solteiro",
          "Solteiro",
          "Solteiro",
          "Divorciado",
          "Solteiro",
          "Solteiro",
          "Solteiro",
          "Divorciado",
          "Viúvo",
          "Casado",
          "Divorciado",
          "Divorciado",
          "Casado",
          "Viúvo",
          "Solteiro",
          "Divorciado",
          "Solteiro",
          "Solteiro",
          "Solteiro",
          "Casado",
          "Viúvo",
          "Viúvo",
          "Solteiro",
          "Casado",
          "Viúvo",
          "Solteiro",
          "Divorciado",
          "Solteiro",
          "Casado",
          "Casado",
          "Viúvo",
          "Divorciado",
          "Divorciado",
          "Viúvo",
          "Divorciado",
          "Solteiro",
          "Divorciado",
          "Viúvo",
          "Divorciado",
          "Casado",
          "Solteiro",
          "Solteiro",
          "Casado",
          "Divorciado",
          "Divorciado",
          "Viúvo",
          "Divorciado",
          "Viúvo",
          "Viúvo",
          "Solteiro",
          "Casado",
          "Viúvo",
          "Divorciado",
          "Divorciado",
          "Casado",
          "Casado",
          "Divorciado",
          "Divorciado",
          "Casado",
          "Divorciado",
          "Casado",
          "Divorciado",
          "Solteiro",
          "Casado",
          "Viúvo",
          "Solteiro",
          "Viúvo",
          "Divorciado",
          "Casado",
          "Casado",
          "Casado",
          "Viúvo",
          "Solteiro",
          "Viúvo",
          "Divorciado",
          "Solteiro",
          "Solteiro",
          "Divorciado",
          "Solteiro",
          "Divorciado",
          "Viúvo",
          "Solteiro",
          "Solteiro",
          "Casado",
          "Viúvo",
          "Divorciado",
          "Casado",
          "Casado",
          "Solteiro",
          "Casado",
          "Casado",
          "Casado",
          "Casado",
          "Divorciado",
          "Casado",
          "Solteiro",
          "Viúvo",
          "Divorciado",
          "Casado",
          "Divorciado",
          "Solteiro",
          "Divorciado",
          "Casado",
          "Viúvo",
          "Divorciado",
          "Solteiro",
          "Divorciado",
          "Casado",
          "Viúvo",
          "Solteiro",
          "Viúvo",
          "Divorciado",
          "Casado",
          "Divorciado",
          "Divorciado",
          "Casado",
          "Viúvo",
          "Casado",
          "Viúvo",
          "Solteiro",
          "Divorciado",
          "Solteiro",
          "Divorciado",
          "Viúvo",
          "Casado",
          "Casado",
          "Viúvo",
          "Divorciado",
          "Solteiro",
          "Casado",
          "Viúvo",
          "Casado",
          "Viúvo",
          "Casado",
          "Divorciado",
          "Divorciado",
          "Divorciado",
          "Solteiro",
          "Solteiro",
          "Divorciado",
          "Divorciado",
          "Solteiro",
          "Solteiro",
          "Divorciado",
          "Casado",
          "Viúvo",
          "Casado",
          "Casado",
          "Casado",
          "Viúvo",
          "Solteiro",
          "Viúvo",
          "Viúvo",
          "Viúvo",
          "Casado",
          "Solteiro",
          "Viúvo",
          "Divorciado",
          "Casado",
          "Casado",
          "Viúvo",
          "Viúvo",
          "Divorciado",
          "Solteiro",
          "Divorciado",
          "Solteiro",
          "Viúvo",
          "Divorciado",
          "Solteiro",
          "Viúvo",
          "Casado",
          "Solteiro",
          "Casado",
          "Casado",
          "Casado",
          "Divorciado",
          "Viúvo",
          "Casado",
          "Viúvo",
          "Casado",
          "Viúvo",
          "Solteiro",
          "Divorciado",
          "Viúvo",
          "Casado",
          "Solteiro",
          "Casado",
          "Viúvo",
          "Casado",
          "Casado",
          "Casado",
          "Solteiro",
          "Divorciado",
          "Viúvo",
          "Casado",
          "Divorciado",
          "Solteiro",
          "Casado",
          "Divorciado",
          "Casado",
          "Casado",
          "Solteiro",
          "Casado",
          "Solteiro",
          "Solteiro",
          "Divorciado",
          "Viúvo",
          "Viúvo",
          "Solteiro",
          "Viúvo",
          "Viúvo",
          "Divorciado",
          "Casado",
          "Solteiro",
          "Viúvo",
          "Viúvo",
          "Divorciado",
          "Casado",
          "Casado",
          "Solteiro",
          "Viúvo",
          "Solteiro",
          "Casado",
          "Divorciado",
          "Casado",
          "Casado",
          "Solteiro",
          "Divorciado",
          "Viúvo",
          "Viúvo",
          "Divorciado",
          "Viúvo",
          "Solteiro",
          "Solteiro",
          "Solteiro",
          "Viúvo",
          "Solteiro",
          "Divorciado",
          "Divorciado",
          "Viúvo",
          "Solteiro",
          "Casado",
          "Viúvo",
          "Viúvo",
          "Divorciado",
          "Divorciado",
          "Casado",
          "Viúvo",
          "Solteiro",
          "Casado",
          "Viúvo",
          "Solteiro",
          "Casado",
          "Divorciado",
          "Solteiro",
          "Viúvo",
          "Casado",
          "Solteiro",
          "Divorciado",
          "Solteiro",
          "Viúvo",
          "Solteiro",
          "Solteiro",
          "Solteiro",
          "Casado",
          "Solteiro",
          "Solteiro",
          "Solteiro",
          "Viúvo",
          "Viúvo",
          "Divorciado",
          "Casado",
          "Viúvo",
          "Divorciado",
          "Viúvo",
          "Solteiro",
          "Divorciado",
          "Divorciado",
          "Casado",
          "Solteiro",
          "Divorciado",
          "Divorciado",
          "Divorciado",
          "Casado",
          "Casado",
          "Viúvo",
          "Casado",
          "Solteiro",
          "Solteiro",
          "Divorciado",
          "Viúvo",
          "Divorciado",
          "Viúvo",
          "Casado",
          "Viúvo",
          "Casado",
          "Divorciado",
          "Solteiro",
          "Viúvo",
          "Viúvo",
          "Casado",
          "Solteiro",
          "Viúvo",
          "Casado",
          "Viúvo",
          "Casado",
          "Solteiro",
          "Casado",
          "Divorciado",
          "Casado",
          "Viúvo",
          "Viúvo",
          "Casado",
          "Viúvo",
          "Divorciado",
          "Viúvo",
          "Solteiro",
          "Viúvo",
          "Viúvo",
          "Viúvo",
          "Viúvo",
          "Casado",
          "Divorciado",
          "Divorciado",
          "Divorciado",
          "Casado",
          "Solteiro",
          "Solteiro",
          "Casado",
          "Viúvo",
          "Viúvo",
          "Solteiro",
          "Divorciado",
          "Viúvo",
          "Casado",
          "Casado",
          "Solteiro",
          "Viúvo",
          "Casado",
          "Solteiro",
          "Solteiro",
          "Solteiro",
          "Viúvo",
          "Viúvo",
          "Divorciado",
          "Casado",
          "Divorciado",
          "Casado",
          "Casado",
          "Solteiro",
          "Divorciado",
          "Divorciado",
          "Solteiro",
          "Viúvo",
          "Solteiro",
          "Divorciado",
          "Viúvo",
          "Casado",
          "Viúvo",
          "Solteiro",
          "Solteiro",
          "Casado",
          "Viúvo",
          "Viúvo",
          "Viúvo",
          "Casado",
          "Solteiro",
          "Casado",
          "Viúvo",
          "Casado",
          "Divorciado",
          "Viúvo",
          "Casado",
          "Divorciado",
          "Solteiro",
          "Divorciado",
          "Viúvo",
          "Viúvo",
          "Casado",
          "Solteiro",
          "Viúvo",
          "Casado",
          "Solteiro",
          "Viúvo",
          "Viúvo",
          "Solteiro",
          "Divorciado",
          "Viúvo",
          "Viúvo",
          "Casado",
          "Viúvo",
          "Viúvo",
          "Casado",
          "Casado",
          "Solteiro",
          "Divorciado",
          "Casado",
          "Divorciado",
          "Viúvo",
          "Viúvo",
          "Solteiro",
          "Divorciado",
          "Casado",
          "Casado",
          "Viúvo",
          "Solteiro",
          "Casado",
          "Viúvo",
          "Viúvo",
          "Divorciado",
          "Divorciado",
          "Divorciado",
          "Casado",
          "Divorciado",
          "Casado",
          "Viúvo",
          "Casado",
          "Casado",
          "Divorciado",
          "Divorciado",
          "Solteiro",
          "Casado",
          "Viúvo",
          "Divorciado",
          "Divorciado",
          "Divorciado",
          "Divorciado",
          "Viúvo",
          "Casado",
          "Viúvo",
          "Casado",
          "Divorciado",
          "Viúvo",
          "Solteiro",
          "Solteiro",
          "Divorciado",
          "Casado",
          "Divorciado",
          "Casado",
          "Divorciado",
          "Divorciado",
          "Divorciado",
          "Divorciado",
          "Casado",
          "Solteiro",
          "Solteiro",
          "Viúvo",
          "Divorciado",
          "Viúvo",
          "Divorciado",
          "Divorciado",
          "Solteiro",
          "Divorciado",
          "Solteiro",
          "Viúvo",
          "Casado",
          "Casado",
          "Viúvo",
          "Solteiro",
          "Viúvo",
          "Viúvo",
          "Solteiro",
          "Casado",
          "Casado",
          "Viúvo",
          "Casado",
          "Solteiro",
          "Divorciado",
          "Viúvo",
          "Casado",
          "Divorciado",
          "Solteiro",
          "Viúvo",
          "Divorciado",
          "Solteiro",
          "Divorciado",
          "Casado",
          "Viúvo",
          "Divorciado",
          "Divorciado",
          "Solteiro",
          "Solteiro",
          "Solteiro",
          "Divorciado",
          "Divorciado",
          "Casado",
          "Casado",
          "Casado",
          "Divorciado",
          "Divorciado",
          "Casado",
          "Casado",
          "Viúvo",
          "Viúvo",
          "Viúvo",
          "Solteiro",
          "Solteiro",
          "Viúvo",
          "Divorciado",
          "Viúvo",
          "Solteiro",
          "Casado",
          "Viúvo",
          "Viúvo",
          "Viúvo",
          "Solteiro",
          "Casado",
          "Viúvo",
          "Casado",
          "Divorciado",
          "Solteiro",
          "Solteiro",
          "Casado",
          "Viúvo",
          "Divorciado",
          "Viúvo",
          "Casado",
          "Solteiro",
          "Divorciado",
          "Solteiro",
          "Divorciado",
          "Viúvo",
          "Casado",
          "Viúvo",
          "Viúvo",
          "Viúvo",
          "Viúvo",
          "Solteiro",
          "Divorciado",
          "Divorciado",
          "Viúvo",
          "Casado",
          "Solteiro",
          "Casado",
          "Solteiro",
          "Viúvo",
          "Casado",
          "Casado",
          "Casado",
          "Solteiro",
          "Casado",
          "Viúvo",
          "Divorciado",
          "Solteiro",
          "Solteiro",
          "Casado",
          "Viúvo",
          "Casado",
          "Divorciado",
          "Viúvo",
          "Viúvo",
          "Viúvo",
          "Solteiro",
          "Solteiro",
          "Divorciado",
          "Viúvo",
          "Divorciado",
          "Divorciado",
          "Solteiro",
          "Divorciado",
          "Casado",
          "Divorciado",
          "Viúvo",
          "Casado",
          "Casado",
          "Solteiro",
          "Casado",
          "Divorciado",
          "Casado",
          "Viúvo",
          "Viúvo",
          "Solteiro",
          "Casado",
          "Casado",
          "Divorciado",
          "Casado",
          "Solteiro",
          "Divorciado",
          "Casado",
          "Casado",
          "Viúvo",
          "Casado",
          "Viúvo",
          "Viúvo",
          "Viúvo",
          "Casado",
          "Divorciado",
          "Viúvo",
          "Casado",
          "Viúvo",
          "Divorciado",
          "Divorciado",
          "Solteiro",
          "Viúvo",
          "Divorciado",
          "Casado",
          "Divorciado",
          "Divorciado",
          "Divorciado",
          "Viúvo",
          "Viúvo",
          "Divorciado",
          "Casado",
          "Viúvo",
          "Casado",
          "Divorciado",
          "Viúvo",
          "Solteiro",
          "Solteiro",
          "Viúvo",
          "Solteiro",
          "Solteiro",
          "Divorciado",
          "Solteiro",
          "Divorciado",
          "Solteiro",
          "Viúvo",
          "Divorciado",
          "Divorciado",
          "Divorciado",
          "Viúvo",
          "Casado",
          "Casado",
          "Viúvo",
          "Divorciado",
          "Viúvo",
          "Solteiro",
          "Viúvo",
          "Solteiro",
          "Solteiro",
          "Solteiro",
          "Solteiro",
          "Divorciado",
          "Solteiro",
          "Casado",
          "Divorciado",
          "Viúvo",
          "Casado",
          "Casado",
          "Viúvo",
          "Divorciado",
          "Casado",
          "Casado",
          "Divorciado",
          "Viúvo",
          "Viúvo",
          "Divorciado",
          "Divorciado",
          "Viúvo",
          "Casado",
          "Solteiro",
          "Viúvo",
          "Casado",
          "Viúvo",
          "Divorciado",
          "Casado",
          "Divorciado",
          "Casado",
          "Solteiro",
          "Casado",
          "Solteiro",
          "Divorciado",
          "Divorciado",
          "Casado",
          "Viúvo",
          "Solteiro",
          "Divorciado",
          "Divorciado",
          "Divorciado",
          "Casado",
          "Viúvo",
          "Casado",
          "Divorciado",
          "Solteiro",
          "Viúvo",
          "Viúvo",
          "Viúvo",
          "Divorciado",
          "Solteiro",
          "Casado",
          "Casado",
          "Viúvo",
          "Solteiro",
          "Divorciado",
          "Solteiro",
          "Solteiro",
          "Casado",
          "Divorciado",
          "Divorciado",
          "Solteiro",
          "Viúvo",
          "Divorciado",
          "Divorciado",
          "Divorciado",
          "Divorciado",
          "Solteiro",
          "Casado",
          "Solteiro",
          "Casado",
          "Solteiro",
          "Casado",
          "Viúvo",
          "Casado",
          "Casado",
          "Solteiro",
          "Viúvo",
          "Casado",
          "Casado",
          "Solteiro",
          "Viúvo",
          "Viúvo",
          "Solteiro",
          "Casado",
          "Casado",
          "Divorciado",
          "Casado",
          "Divorciado",
          "Casado",
          "Solteiro",
          "Solteiro",
          "Divorciado",
          "Solteiro",
          "Solteiro",
          "Casado",
          "Casado",
          "Solteiro",
          "Solteiro",
          "Casado",
          "Casado",
          "Solteiro",
          "Divorciado",
          "Casado",
          "Casado",
          "Casado",
          "Solteiro",
          "Divorciado",
          "Solteiro",
          "Casado",
          "Solteiro",
          "Casado",
          "Solteiro",
          "Viúvo",
          "Solteiro",
          "Solteiro",
          "Divorciado",
          "Divorciado",
          "Divorciado",
          "Viúvo",
          "Viúvo",
          "Divorciado",
          "Casado",
          "Solteiro",
          "Casado",
          "Divorciado",
          "Divorciado",
          "Casado",
          "Solteiro",
          "Viúvo",
          "Divorciado",
          "Casado",
          "Casado",
          "Viúvo",
          "Casado",
          "Casado",
          "Divorciado",
          "Viúvo",
          "Casado",
          "Divorciado",
          "Divorciado",
          "Viúvo",
          "Solteiro",
          "Solteiro",
          "Casado",
          "Casado",
          "Solteiro",
          "Divorciado",
          "Viúvo",
          "Solteiro",
          "Viúvo",
          "Viúvo",
          "Divorciado",
          "Viúvo",
          "Solteiro",
          "Solteiro",
          "Casado",
          "Solteiro",
          "Casado",
          "Solteiro",
          "Divorciado",
          "Casado",
          "Viúvo",
          "Solteiro",
          "Solteiro",
          "Divorciado",
          "Solteiro",
          "Solteiro",
          "Solteiro",
          "Viúvo",
          "Divorciado",
          "Solteiro",
          "Solteiro",
          "Viúvo",
          "Solteiro",
          "Solteiro",
          "Viúvo",
          "Solteiro",
          "Viúvo",
          "Divorciado",
          "Casado",
          "Casado",
          "Solteiro",
          "Viúvo",
          "Viúvo",
          "Casado",
          "Divorciado",
          "Divorciado",
          "Solteiro",
          "Viúvo",
          "Casado",
          "Casado",
          "Solteiro",
          "Casado",
          "Viúvo",
          "Viúvo",
          "Viúvo",
          "Viúvo",
          "Divorciado",
          "Solteiro",
          "Viúvo",
          "Viúvo",
          "Solteiro",
          "Divorciado",
          "Viúvo",
          "Viúvo",
          "Solteiro",
          "Casado",
          "Divorciado",
          "Divorciado",
          "Viúvo",
          "Viúvo",
          "Casado",
          "Casado",
          "Divorciado",
          "Solteiro"
         ],
         "xaxis": "x3",
         "y": {
          "bdata": "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",
          "dtype": "f8"
         },
         "yaxis": "y3"
        },
        {
         "name": "Moradia",
         "type": "box",
         "x": [
          "Próprio",
          "Alugado",
          "Alugado",
          "Próprio",
          "Alugado",
          "Alugado",
          "Alugado",
          "Alugado",
          "Alugado",
          "Alugado",
          "Próprio",
          "Alugado",
          "Alugado",
          "Próprio",
          "Alugado",
          "Alugado",
          "Próprio",
          "Próprio",
          "Alugado",
          "Próprio",
          "Próprio",
          "Próprio",
          "Próprio",
          "Alugado",
          "Alugado",
          "Próprio",
          "Alugado",
          "Alugado",
          "Próprio",
          "Alugado",
          "Alugado",
          "Próprio",
          "Próprio",
          "Próprio",
          "Próprio",
          "Próprio",
          "Próprio",
          "Alugado",
          "Alugado",
          "Alugado",
          "Alugado",
          "Alugado",
          "Próprio",
          "Alugado",
          "Próprio",
          "Próprio",
          "Próprio",
          "Próprio",
          "Próprio",
          "Alugado",
          "Alugado",
          "Alugado",
          "Próprio",
          "Alugado",
          "Próprio",
          "Próprio",
          "Próprio",
          "Próprio",
          "Alugado",
          "Alugado",
          "Alugado",
          "Próprio",
          "Próprio",
          "Próprio",
          "Próprio",
          "Alugado",
          "Próprio",
          "Alugado",
          "Próprio",
          "Próprio",
          "Alugado",
          "Alugado",
          "Próprio",
          "Alugado",
          "Alugado",
          "Próprio",
          "Alugado",
          "Próprio",
          "Alugado",
          "Alugado",
          "Alugado",
          "Próprio",
          "Próprio",
          "Alugado",
          "Alugado",
          "Alugado",
          "Alugado",
          "Próprio",
          "Próprio",
          "Alugado",
          "Próprio",
          "Alugado",
          "Alugado",
          "Próprio",
          "Próprio",
          "Próprio",
          "Próprio",
          "Alugado",
          "Alugado",
          "Próprio",
          "Alugado",
          "Alugado",
          "Alugado",
          "Alugado",
          "Alugado",
          "Alugado",
          "Próprio",
          "Próprio",
          "Alugado",
          "Próprio",
          "Alugado",
          "Próprio",
          "Alugado",
          "Alugado",
          "Alugado",
          "Próprio",
          "Próprio",
          "Próprio",
          "Próprio",
          "Próprio",
          "Próprio",
          "Alugado",
          "Próprio",
          "Próprio",
          "Alugado",
          "Alugado",
          "Alugado",
          "Próprio",
          "Alugado",
          "Alugado",
          "Alugado",
          "Alugado",
          "Alugado",
          "Próprio",
          "Alugado",
          "Próprio",
          "Alugado",
          "Alugado",
          "Alugado",
          "Próprio",
          "Alugado",
          "Próprio",
          "Alugado",
          "Próprio",
          "Alugado",
          "Próprio",
          "Próprio",
          "Alugado",
          "Próprio",
          "Próprio",
          "Alugado",
          "Alugado",
          "Próprio",
          "Alugado",
          "Próprio",
          "Alugado",
          "Próprio",
          "Alugado",
          "Alugado",
          "Próprio",
          "Próprio",
          "Alugado",
          "Alugado",
          "Alugado",
          "Alugado",
          "Alugado",
          "Alugado",
          "Próprio",
          "Alugado",
          "Alugado",
          "Alugado",
          "Próprio",
          "Próprio",
          "Próprio",
          "Próprio",
          "Alugado",
          "Próprio",
          "Próprio",
          "Próprio",
          "Alugado",
          "Próprio",
          "Próprio",
          "Próprio",
          "Alugado",
          "Alugado",
          "Próprio",
          "Alugado",
          "Próprio",
          "Próprio",
          "Alugado",
          "Próprio",
          "Alugado",
          "Próprio",
          "Alugado",
          "Alugado",
          "Alugado",
          "Próprio",
          "Alugado",
          "Alugado",
          "Alugado",
          "Próprio",
          "Próprio",
          "Alugado",
          "Próprio",
          "Alugado",
          "Próprio",
          "Próprio",
          "Alugado",
          "Próprio",
          "Alugado",
          "Alugado",
          "Próprio",
          "Alugado",
          "Próprio",
          "Alugado",
          "Alugado",
          "Alugado",
          "Alugado",
          "Alugado",
          "Próprio",
          "Alugado",
          "Alugado",
          "Próprio",
          "Alugado",
          "Próprio",
          "Alugado",
          "Alugado",
          "Alugado",
          "Próprio",
          "Alugado",
          "Próprio",
          "Próprio",
          "Alugado",
          "Alugado",
          "Próprio",
          "Próprio",
          "Alugado",
          "Próprio",
          "Próprio",
          "Alugado",
          "Próprio",
          "Próprio",
          "Alugado",
          "Próprio",
          "Alugado",
          "Próprio",
          "Alugado",
          "Alugado",
          "Próprio",
          "Próprio",
          "Alugado",
          "Próprio",
          "Alugado",
          "Alugado",
          "Próprio",
          "Alugado",
          "Alugado",
          "Próprio",
          "Próprio",
          "Alugado",
          "Alugado",
          "Próprio",
          "Próprio",
          "Próprio",
          "Próprio",
          "Alugado",
          "Próprio",
          "Próprio",
          "Próprio",
          "Próprio",
          "Próprio",
          "Alugado",
          "Alugado",
          "Próprio",
          "Próprio",
          "Próprio",
          "Próprio",
          "Alugado",
          "Próprio",
          "Alugado",
          "Alugado",
          "Alugado",
          "Alugado",
          "Próprio",
          "Próprio",
          "Próprio",
          "Próprio",
          "Alugado",
          "Alugado",
          "Alugado",
          "Alugado",
          "Próprio",
          "Próprio",
          "Alugado",
          "Próprio",
          "Alugado",
          "Alugado",
          "Alugado",
          "Alugado",
          "Alugado",
          "Próprio",
          "Próprio",
          "Próprio",
          "Alugado",
          "Alugado",
          "Alugado",
          "Alugado",
          "Alugado",
          "Alugado",
          "Alugado",
          "Alugado",
          "Próprio",
          "Próprio",
          "Próprio",
          "Alugado",
          "Próprio",
          "Próprio",
          "Alugado",
          "Alugado",
          "Próprio",
          "Próprio",
          "Próprio",
          "Próprio",
          "Próprio",
          "Próprio",
          "Alugado",
          "Alugado",
          "Próprio",
          "Alugado",
          "Alugado",
          "Alugado",
          "Próprio",
          "Próprio",
          "Alugado",
          "Alugado",
          "Próprio",
          "Próprio",
          "Próprio",
          "Próprio",
          "Próprio",
          "Próprio",
          "Alugado",
          "Próprio",
          "Alugado",
          "Alugado",
          "Alugado",
          "Próprio",
          "Alugado",
          "Próprio",
          "Alugado",
          "Próprio",
          "Próprio",
          "Alugado",
          "Alugado",
          "Próprio",
          "Próprio",
          "Alugado",
          "Alugado",
          "Alugado",
          "Próprio",
          "Próprio",
          "Próprio",
          "Próprio",
          "Próprio",
          "Próprio",
          "Alugado",
          "Próprio",
          "Alugado",
          "Próprio",
          "Alugado",
          "Alugado",
          "Próprio",
          "Alugado",
          "Alugado",
          "Próprio",
          "Próprio",
          "Alugado",
          "Próprio",
          "Próprio",
          "Alugado",
          "Próprio",
          "Alugado",
          "Próprio",
          "Alugado",
          "Próprio",
          "Próprio",
          "Próprio",
          "Alugado",
          "Próprio",
          "Alugado",
          "Próprio",
          "Alugado",
          "Alugado",
          "Alugado",
          "Alugado",
          "Próprio",
          "Alugado",
          "Alugado",
          "Alugado",
          "Próprio",
          "Próprio",
          "Próprio",
          "Próprio",
          "Alugado",
          "Alugado",
          "Próprio",
          "Próprio",
          "Alugado",
          "Próprio",
          "Alugado",
          "Próprio",
          "Alugado",
          "Próprio",
          "Próprio",
          "Próprio",
          "Próprio",
          "Próprio",
          "Alugado",
          "Próprio",
          "Próprio",
          "Alugado",
          "Alugado",
          "Próprio",
          "Próprio",
          "Alugado",
          "Próprio",
          "Próprio",
          "Alugado",
          "Alugado",
          "Alugado",
          "Próprio",
          "Alugado",
          "Alugado",
          "Alugado",
          "Alugado",
          "Alugado",
          "Próprio",
          "Próprio",
          "Próprio",
          "Alugado",
          "Alugado",
          "Próprio",
          "Próprio",
          "Próprio",
          "Alugado",
          "Próprio",
          "Alugado",
          "Próprio",
          "Próprio",
          "Próprio",
          "Alugado",
          "Próprio",
          "Alugado",
          "Próprio",
          "Próprio",
          "Alugado",
          "Alugado",
          "Alugado",
          "Alugado",
          "Próprio",
          "Alugado",
          "Alugado",
          "Alugado",
          "Alugado",
          "Alugado",
          "Próprio",
          "Próprio",
          "Próprio",
          "Alugado",
          "Próprio",
          "Alugado",
          "Alugado",
          "Alugado",
          "Alugado",
          "Alugado",
          "Próprio",
          "Alugado",
          "Próprio",
          "Alugado",
          "Alugado",
          "Alugado",
          "Próprio",
          "Alugado",
          "Próprio",
          "Próprio",
          "Alugado",
          "Alugado",
          "Próprio",
          "Alugado",
          "Próprio",
          "Próprio",
          "Alugado",
          "Próprio",
          "Próprio",
          "Alugado",
          "Alugado",
          "Alugado",
          "Próprio",
          "Próprio",
          "Próprio",
          "Alugado",
          "Próprio",
          "Alugado",
          "Alugado",
          "Próprio",
          "Próprio",
          "Próprio",
          "Próprio",
          "Próprio",
          "Próprio",
          "Alugado",
          "Próprio",
          "Alugado",
          "Alugado",
          "Alugado",
          "Próprio",
          "Alugado",
          "Alugado",
          "Próprio",
          "Próprio",
          "Próprio",
          "Próprio",
          "Alugado",
          "Próprio",
          "Próprio",
          "Alugado",
          "Próprio",
          "Próprio",
          "Próprio",
          "Próprio",
          "Alugado",
          "Alugado",
          "Próprio",
          "Próprio",
          "Próprio",
          "Próprio",
          "Alugado",
          "Próprio",
          "Alugado",
          "Próprio",
          "Próprio",
          "Alugado",
          "Próprio",
          "Próprio",
          "Alugado",
          "Próprio",
          "Alugado",
          "Próprio",
          "Próprio",
          "Próprio",
          "Próprio",
          "Alugado",
          "Alugado",
          "Alugado",
          "Próprio",
          "Alugado",
          "Próprio",
          "Alugado",
          "Próprio",
          "Próprio",
          "Alugado",
          "Alugado",
          "Próprio",
          "Alugado",
          "Alugado",
          "Próprio",
          "Alugado",
          "Próprio",
          "Próprio",
          "Próprio",
          "Alugado",
          "Alugado",
          "Próprio",
          "Próprio",
          "Próprio",
          "Alugado",
          "Alugado",
          "Alugado",
          "Próprio",
          "Próprio",
          "Próprio",
          "Alugado",
          "Próprio",
          "Próprio",
          "Próprio",
          "Alugado",
          "Próprio",
          "Próprio",
          "Alugado",
          "Próprio",
          "Próprio",
          "Alugado",
          "Próprio",
          "Próprio",
          "Alugado",
          "Próprio",
          "Alugado",
          "Próprio",
          "Próprio",
          "Alugado",
          "Alugado",
          "Alugado",
          "Próprio",
          "Alugado",
          "Próprio",
          "Alugado",
          "Próprio",
          "Próprio",
          "Alugado",
          "Próprio",
          "Próprio",
          "Próprio",
          "Alugado",
          "Alugado",
          "Próprio",
          "Próprio",
          "Próprio",
          "Próprio",
          "Próprio",
          "Alugado",
          "Próprio",
          "Alugado",
          "Próprio",
          "Alugado",
          "Alugado",
          "Alugado",
          "Próprio",
          "Alugado",
          "Próprio",
          "Próprio",
          "Alugado",
          "Próprio",
          "Próprio",
          "Alugado",
          "Alugado",
          "Alugado",
          "Alugado",
          "Alugado",
          "Próprio",
          "Próprio",
          "Alugado",
          "Próprio",
          "Próprio",
          "Alugado",
          "Alugado",
          "Próprio",
          "Alugado",
          "Alugado",
          "Próprio",
          "Alugado",
          "Próprio",
          "Alugado",
          "Próprio",
          "Próprio",
          "Próprio",
          "Próprio",
          "Próprio",
          "Próprio",
          "Próprio",
          "Alugado",
          "Alugado",
          "Próprio",
          "Próprio",
          "Alugado",
          "Alugado",
          "Próprio",
          "Alugado",
          "Alugado",
          "Próprio",
          "Próprio",
          "Alugado",
          "Alugado",
          "Alugado",
          "Alugado",
          "Alugado",
          "Próprio",
          "Próprio",
          "Próprio",
          "Próprio",
          "Próprio",
          "Próprio",
          "Alugado",
          "Alugado",
          "Próprio",
          "Próprio",
          "Próprio",
          "Próprio",
          "Alugado",
          "Alugado",
          "Próprio",
          "Alugado",
          "Próprio",
          "Alugado",
          "Alugado",
          "Próprio",
          "Próprio",
          "Alugado",
          "Alugado",
          "Próprio",
          "Próprio",
          "Próprio",
          "Próprio",
          "Próprio",
          "Alugado",
          "Alugado",
          "Próprio",
          "Alugado",
          "Próprio",
          "Próprio",
          "Alugado",
          "Próprio",
          "Próprio",
          "Alugado",
          "Alugado",
          "Alugado",
          "Próprio",
          "Alugado",
          "Próprio",
          "Próprio",
          "Próprio",
          "Próprio",
          "Alugado",
          "Alugado",
          "Alugado",
          "Alugado",
          "Alugado",
          "Próprio",
          "Próprio",
          "Próprio",
          "Alugado",
          "Próprio",
          "Próprio",
          "Alugado",
          "Alugado",
          "Próprio",
          "Alugado",
          "Próprio",
          "Alugado",
          "Próprio",
          "Próprio",
          "Alugado",
          "Alugado",
          "Próprio",
          "Alugado",
          "Próprio",
          "Próprio",
          "Próprio",
          "Próprio",
          "Alugado",
          "Alugado",
          "Alugado",
          "Alugado",
          "Alugado",
          "Alugado",
          "Próprio",
          "Alugado",
          "Alugado",
          "Próprio",
          "Alugado",
          "Alugado",
          "Alugado",
          "Alugado",
          "Próprio",
          "Próprio",
          "Alugado",
          "Próprio",
          "Alugado",
          "Próprio",
          "Alugado",
          "Alugado",
          "Alugado",
          "Alugado",
          "Próprio",
          "Próprio",
          "Próprio",
          "Próprio",
          "Alugado",
          "Alugado",
          "Próprio",
          "Alugado",
          "Alugado",
          "Alugado",
          "Próprio",
          "Próprio",
          "Alugado",
          "Alugado",
          "Próprio",
          "Próprio",
          "Alugado",
          "Próprio",
          "Alugado",
          "Alugado",
          "Alugado",
          "Alugado",
          "Alugado",
          "Alugado",
          "Alugado",
          "Próprio",
          "Próprio",
          "Alugado",
          "Alugado",
          "Alugado",
          "Próprio",
          "Próprio",
          "Próprio",
          "Alugado",
          "Alugado",
          "Alugado",
          "Próprio",
          "Próprio",
          "Próprio",
          "Próprio",
          "Próprio",
          "Alugado",
          "Próprio",
          "Próprio",
          "Próprio",
          "Próprio",
          "Alugado",
          "Próprio",
          "Alugado",
          "Próprio",
          "Alugado",
          "Próprio",
          "Próprio",
          "Alugado",
          "Alugado",
          "Alugado",
          "Alugado",
          "Próprio",
          "Alugado",
          "Próprio",
          "Alugado",
          "Alugado",
          "Próprio",
          "Próprio",
          "Próprio",
          "Alugado",
          "Alugado",
          "Alugado",
          "Próprio",
          "Próprio",
          "Alugado",
          "Próprio",
          "Alugado",
          "Alugado",
          "Alugado",
          "Próprio",
          "Alugado",
          "Alugado",
          "Próprio",
          "Alugado",
          "Alugado",
          "Alugado",
          "Alugado",
          "Alugado",
          "Alugado",
          "Alugado",
          "Alugado",
          "Alugado",
          "Alugado",
          "Alugado",
          "Próprio",
          "Próprio",
          "Alugado",
          "Alugado",
          "Próprio",
          "Alugado",
          "Próprio",
          "Próprio",
          "Alugado",
          "Alugado",
          "Próprio",
          "Alugado",
          "Próprio",
          "Próprio",
          "Alugado",
          "Próprio",
          "Próprio",
          "Alugado",
          "Próprio",
          "Próprio",
          "Próprio",
          "Próprio",
          "Alugado",
          "Alugado",
          "Alugado",
          "Próprio",
          "Próprio",
          "Próprio",
          "Próprio",
          "Próprio",
          "Próprio",
          "Alugado",
          "Alugado",
          "Próprio",
          "Alugado",
          "Alugado",
          "Próprio",
          "Alugado",
          "Próprio",
          "Próprio",
          "Alugado",
          "Alugado",
          "Alugado",
          "Próprio",
          "Próprio",
          "Alugado",
          "Próprio",
          "Próprio",
          "Próprio",
          "Alugado",
          "Próprio",
          "Próprio",
          "Alugado",
          "Alugado",
          "Próprio",
          "Próprio",
          "Alugado",
          "Próprio",
          "Próprio",
          "Próprio",
          "Alugado",
          "Próprio",
          "Alugado",
          "Próprio",
          "Próprio",
          "Alugado",
          "Próprio",
          "Alugado",
          "Próprio",
          "Próprio",
          "Alugado",
          "Próprio",
          "Alugado",
          "Alugado",
          "Alugado",
          "Próprio",
          "Alugado",
          "Próprio",
          "Alugado",
          "Alugado",
          "Próprio",
          "Alugado",
          "Próprio",
          "Alugado",
          "Próprio",
          "Próprio",
          "Próprio",
          "Alugado",
          "Alugado",
          "Próprio",
          "Próprio",
          "Próprio",
          "Próprio",
          "Alugado",
          "Alugado",
          "Alugado",
          "Alugado",
          "Alugado",
          "Próprio",
          "Alugado",
          "Próprio",
          "Próprio",
          "Próprio",
          "Próprio",
          "Próprio",
          "Alugado",
          "Próprio",
          "Alugado",
          "Próprio",
          "Próprio",
          "Próprio",
          "Alugado",
          "Próprio",
          "Próprio",
          "Próprio",
          "Próprio",
          "Próprio",
          "Alugado",
          "Próprio",
          "Alugado",
          "Próprio",
          "Alugado",
          "Alugado",
          "Próprio",
          "Próprio",
          "Alugado",
          "Próprio",
          "Alugado",
          "Alugado",
          "Próprio",
          "Alugado",
          "Alugado",
          "Próprio",
          "Alugado",
          "Próprio",
          "Próprio",
          "Alugado",
          "Alugado"
         ],
         "xaxis": "x4",
         "y": {
          "bdata": "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",
          "dtype": "f8"
         },
         "yaxis": "y4"
        },
        {
         "name": "Principal Cartão",
         "type": "box",
         "x": [
          "Rocketseat Mastercard Travel Elite",
          "Rocketseat Mastercard Life Basic",
          "Rocketseat Mastercard Travel Basic",
          "Rocketseat Visa Travel Basic",
          "Rocketseat Visa Life Basic",
          "Rocketseat Mastercard Travel Basic",
          "Rocketseat Visa Travel Basic",
          "Rocketseat Visa Life Basic",
          "Rocketseat Mastercard Travel Basic",
          "Rocketseat Visa Life Select",
          "Rocketseat Mastercard Shopping Basic",
          "Rocketseat Mastercard Life Basic",
          "Rocketseat Mastercard Life Basic",
          "Rocketseat Mastercard Shopping Basic",
          "Rocketseat Mastercard Travel Select",
          "Rocketseat Visa Travel Basic",
          "Rocketseat Visa Life Select",
          "Rocketseat Mastercard Life Platinum",
          "Rocketseat Mastercard Life Basic",
          "Rocketseat Visa Travel Basic",
          "Rocketseat Mastercard Travel Basic",
          "Rocketseat Visa Life Elite",
          "Rocketseat Visa Life Elite",
          "Rocketseat Visa Life Basic",
          "Rocketseat Mastercard Life Basic",
          "Rocketseat Visa Travel Basic",
          "Rocketseat Mastercard Travel Select",
          "Rocketseat Mastercard Life Basic",
          "Rocketseat Visa Shopping Elite",
          "Rocketseat Mastercard Life Basic",
          "Rocketseat Visa Shopping Elite",
          "Rocketseat Mastercard Life Elite",
          "Rocketseat Visa Shopping Select",
          "Rocketseat Visa Shopping Elite",
          "Rocketseat Mastercard Life Basic",
          "Rocketseat Mastercard Travel Basic",
          "Rocketseat Visa Shopping Basic",
          "Rocketseat Visa Life Elite",
          "Rocketseat Visa Life Elite",
          "Rocketseat Mastercard Life Basic",
          "Rocketseat Visa Shopping Basic",
          "Rocketseat Visa Travel Basic",
          "Rocketseat Mastercard Travel Basic",
          "Rocketseat Mastercard Travel Basic",
          "Rocketseat Mastercard Life Elite",
          "Rocketseat Visa Life Elite",
          "Rocketseat Mastercard Life Basic",
          "Rocketseat Visa Travel Select",
          "Rocketseat Visa Travel Elite",
          "Rocketseat Mastercard Travel Basic",
          "Rocketseat Mastercard Shopping Elite",
          "Rocketseat Visa Life Select",
          "Rocketseat Visa Life Basic",
          "Rocketseat Visa Life Basic",
          "Rocketseat Visa Shopping Basic",
          "Rocketseat Visa Life Select",
          "Rocketseat Mastercard Travel Elite",
          "Rocketseat Mastercard Travel Basic",
          "Rocketseat Mastercard Life Basic",
          "Rocketseat Mastercard Life Basic",
          "Rocketseat Visa Life Elite",
          "Rocketseat Visa Shopping Basic",
          "Rocketseat Visa Life Elite",
          "Rocketseat Mastercard Travel Basic",
          "Rocketseat Visa Travel Select",
          "Rocketseat Visa Shopping Basic",
          "Rocketseat Visa Travel Basic",
          "Rocketseat Visa Travel Basic",
          "Rocketseat Visa Life Basic",
          "Rocketseat Mastercard Travel Basic",
          "Rocketseat Mastercard Life Select",
          "Rocketseat Visa Life Basic",
          "Rocketseat Mastercard Travel Basic",
          "Rocketseat Visa Travel Select",
          "Rocketseat Visa Travel Basic",
          "Rocketseat Mastercard Life Elite",
          "Rocketseat Visa Life Select",
          "Rocketseat Visa Life Basic",
          "Rocketseat Visa Life Basic",
          "Rocketseat Visa Shopping Basic",
          "Rocketseat Visa Shopping Basic",
          "Rocketseat Visa Life Basic",
          "Rocketseat Visa Travel Basic",
          "Rocketseat Mastercard Life Basic",
          "Rocketseat Visa Shopping Basic",
          "Rocketseat Visa Travel Basic",
          "Rocketseat Visa Travel Basic",
          "Rocketseat Visa Travel Elite",
          "Rocketseat Visa Shopping Basic",
          "Rocketseat Mastercard Shopping Select",
          "Rocketseat Visa Life Select",
          "Rocketseat Mastercard Shopping Elite",
          "Rocketseat Mastercard Life Basic",
          "Rocketseat Visa Travel Basic",
          "Rocketseat Mastercard Shopping Select",
          "Rocketseat Mastercard Travel Select",
          "Rocketseat Visa Shopping Basic",
          "Rocketseat Visa Shopping Select",
          "Rocketseat Mastercard Travel Basic",
          "Rocketseat Visa Travel Basic",
          "Rocketseat Mastercard Life Basic",
          "Rocketseat Visa Life Select",
          "Rocketseat Visa Life Select",
          "Rocketseat Mastercard Life Basic",
          "Rocketseat Mastercard Life Basic",
          "Rocketseat Mastercard Life Basic",
          "Rocketseat Mastercard Shopping Basic",
          "Rocketseat Visa Shopping Select",
          "Rocketseat Visa Travel Elite",
          "Rocketseat Visa Life Basic",
          "Rocketseat Mastercard Life Select",
          "Rocketseat Mastercard Travel Basic",
          "Rocketseat Visa Shopping Basic",
          "Rocketseat Visa Life Basic",
          "Rocketseat Mastercard Life Select",
          "Rocketseat Mastercard Travel Basic",
          "Rocketseat Mastercard Life Basic",
          "Rocketseat Visa Shopping Basic",
          "Rocketseat Mastercard Travel Basic",
          "Rocketseat Visa Life Basic",
          "Rocketseat Mastercard Shopping Select",
          "Rocketseat Mastercard Life Basic",
          "Rocketseat Mastercard Shopping Basic",
          "Rocketseat Visa Life Elite",
          "Rocketseat Mastercard Travel Basic",
          "Rocketseat Visa Life Select",
          "Rocketseat Mastercard Shopping Basic",
          "Rocketseat Visa Travel Select",
          "Rocketseat Mastercard Travel Elite",
          "Rocketseat Mastercard Life Basic",
          "Rocketseat Mastercard Travel Basic",
          "Rocketseat Visa Life Basic",
          "Rocketseat Visa Life Basic",
          "Rocketseat Visa Life Basic",
          "Rocketseat Mastercard Travel Basic",
          "Rocketseat Mastercard Travel Basic",
          "Rocketseat Visa Life Basic",
          "Rocketseat Visa Life Basic",
          "Rocketseat Mastercard Shopping Select",
          "Rocketseat Mastercard Life Select",
          "Rocketseat Visa Life Basic",
          "Rocketseat Visa Shopping Basic",
          "Rocketseat Visa Shopping Basic",
          "Rocketseat Mastercard Life Select",
          "Rocketseat Visa Travel Select",
          "Rocketseat Mastercard Life Basic",
          "Rocketseat Mastercard Life Basic",
          "Rocketseat Mastercard Shopping Basic",
          "Rocketseat Mastercard Travel Basic",
          "Rocketseat Visa Shopping Basic",
          "Rocketseat Visa Travel Basic",
          "Rocketseat Mastercard Travel Select",
          "Rocketseat Mastercard Life Basic",
          "Rocketseat Mastercard Shopping Elite",
          "Rocketseat Mastercard Life Basic",
          "Rocketseat Mastercard Life Basic",
          "Rocketseat Visa Life Elite",
          "Rocketseat Mastercard Life Elite",
          "Rocketseat Mastercard Life Basic",
          "Rocketseat Visa Shopping Select",
          "Rocketseat Mastercard Travel Basic",
          "Rocketseat Mastercard Shopping Select",
          "Rocketseat Mastercard Shopping Basic",
          "Rocketseat Mastercard Life Basic",
          "Rocketseat Mastercard Travel Basic",
          "Rocketseat Visa Life Basic",
          "Rocketseat Visa Travel Basic",
          "Rocketseat Visa Shopping Select",
          "Rocketseat Visa Shopping Basic",
          "Rocketseat Mastercard Life Basic",
          "Rocketseat Visa Life Basic",
          "Rocketseat Mastercard Travel Basic",
          "Rocketseat Mastercard Life Select",
          "Rocketseat Visa Life Basic",
          "Rocketseat Mastercard Life Basic",
          "Rocketseat Mastercard Life Basic",
          "Rocketseat Visa Travel Basic",
          "Rocketseat Visa Shopping Basic",
          "Rocketseat Mastercard Shopping Select",
          "Rocketseat Mastercard Travel Basic",
          "Rocketseat Mastercard Life Basic",
          "Rocketseat Visa Shopping Select",
          "Rocketseat Visa Shopping Basic",
          "Rocketseat Visa Travel Basic",
          "Rocketseat Visa Life Select",
          "Rocketseat Mastercard Life Select",
          "Rocketseat Mastercard Shopping Basic",
          "Rocketseat Mastercard Travel Elite",
          "Rocketseat Mastercard Travel Select",
          "Rocketseat Mastercard Travel Basic",
          "Rocketseat Mastercard Life Select",
          "Rocketseat Visa Life Basic",
          "Rocketseat Mastercard Life Basic",
          "Rocketseat Mastercard Shopping Basic",
          "Rocketseat Visa Shopping Select",
          "Rocketseat Mastercard Life Select",
          "Rocketseat Visa Life Platinum",
          "Rocketseat Mastercard Shopping Basic",
          "Rocketseat Mastercard Life Basic",
          "Rocketseat Mastercard Life Basic",
          "Rocketseat Mastercard Shopping Basic",
          "Rocketseat Visa Travel Basic",
          "Rocketseat Mastercard Life Basic",
          "Rocketseat Mastercard Life Select",
          "Rocketseat Mastercard Travel Basic",
          "Rocketseat Visa Life Select",
          "Rocketseat Visa Shopping Basic",
          "Rocketseat Mastercard Shopping Basic",
          "Rocketseat Visa Travel Basic",
          "Rocketseat Visa Life Basic",
          "Rocketseat Visa Travel Basic",
          "Rocketseat Visa Life Basic",
          "Rocketseat Visa Life Select",
          "Rocketseat Mastercard Travel Elite",
          "Rocketseat Visa Travel Basic",
          "Rocketseat Visa Shopping Basic",
          "Rocketseat Mastercard Life Basic",
          "Rocketseat Mastercard Shopping Select",
          "Rocketseat Mastercard Life Basic",
          "Rocketseat Mastercard Travel Basic",
          "Rocketseat Mastercard Life Basic",
          "Rocketseat Mastercard Travel Elite",
          "Rocketseat Visa Travel Basic",
          "Rocketseat Mastercard Life Elite",
          "Rocketseat Mastercard Shopping Select",
          "Rocketseat Visa Life Basic",
          "Rocketseat Visa Life Basic",
          "Rocketseat Visa Life Platinum",
          "Rocketseat Mastercard Life Basic",
          "Rocketseat Mastercard Shopping Basic",
          "Rocketseat Visa Shopping Select",
          "Rocketseat Mastercard Travel Basic",
          "Rocketseat Visa Life Basic",
          "Rocketseat Visa Shopping Elite",
          "Rocketseat Visa Travel Basic",
          "Rocketseat Mastercard Life Basic",
          "Rocketseat Visa Life Select",
          "Rocketseat Mastercard Life Elite",
          "Rocketseat Visa Life Select",
          "Rocketseat Mastercard Life Select",
          "Rocketseat Mastercard Life Select",
          "Rocketseat Mastercard Shopping Basic",
          "Rocketseat Mastercard Life Basic",
          "Rocketseat Mastercard Travel Basic",
          "Rocketseat Mastercard Life Basic",
          "Rocketseat Visa Shopping Select",
          "Rocketseat Visa Shopping Basic",
          "Rocketseat Visa Life Basic",
          "Rocketseat Visa Travel Basic",
          "Rocketseat Visa Shopping Basic",
          "Rocketseat Mastercard Life Basic",
          "Rocketseat Mastercard Travel Basic",
          "Rocketseat Visa Shopping Select",
          "Rocketseat Visa Life Select",
          "Rocketseat Mastercard Shopping Basic",
          "Rocketseat Mastercard Shopping Select",
          "Rocketseat Mastercard Travel Basic",
          "Rocketseat Mastercard Travel Basic",
          "Rocketseat Mastercard Shopping Basic",
          "Rocketseat Mastercard Life Basic",
          "Rocketseat Mastercard Life Basic",
          "Rocketseat Visa Life Platinum",
          "Rocketseat Visa Life Basic",
          "Rocketseat Visa Travel Select",
          "Rocketseat Visa Shopping Basic",
          "Rocketseat Visa Travel Platinum",
          "Rocketseat Visa Travel Select",
          "Rocketseat Mastercard Travel Basic",
          "Rocketseat Mastercard Shopping Basic",
          "Rocketseat Mastercard Life Basic",
          "Rocketseat Mastercard Travel Select",
          "Rocketseat Mastercard Life Basic",
          "Rocketseat Visa Travel Basic",
          "Rocketseat Visa Life Basic",
          "Rocketseat Mastercard Shopping Basic",
          "Rocketseat Visa Shopping Basic",
          "Rocketseat Visa Life Elite",
          "Rocketseat Mastercard Shopping Platinum",
          "Rocketseat Visa Life Basic",
          "Rocketseat Mastercard Life Basic",
          "Rocketseat Mastercard Life Basic",
          "Rocketseat Visa Life Elite",
          "Rocketseat Mastercard Shopping Select",
          "Rocketseat Mastercard Shopping Basic",
          "Rocketseat Visa Travel Select",
          "Rocketseat Mastercard Travel Basic",
          "Rocketseat Mastercard Shopping Basic",
          "Rocketseat Mastercard Travel Basic",
          "Rocketseat Mastercard Shopping Basic",
          "Rocketseat Visa Life Select",
          "Rocketseat Visa Travel Basic",
          "Rocketseat Mastercard Life Basic",
          "Rocketseat Visa Travel Basic",
          "Rocketseat Mastercard Shopping Select",
          "Rocketseat Visa Travel Select",
          "Rocketseat Visa Life Elite",
          "Rocketseat Visa Life Basic",
          "Rocketseat Mastercard Life Select",
          "Rocketseat Visa Shopping Basic",
          "Rocketseat Mastercard Life Basic",
          "Rocketseat Visa Life Basic",
          "Rocketseat Mastercard Shopping Basic",
          "Rocketseat Visa Life Elite",
          "Rocketseat Visa Life Select",
          "Rocketseat Mastercard Life Platinum",
          "Rocketseat Mastercard Travel Basic",
          "Rocketseat Visa Travel Basic",
          "Rocketseat Mastercard Life Select",
          "Rocketseat Mastercard Shopping Select",
          "Rocketseat Visa Travel Basic",
          "Rocketseat Mastercard Life Select",
          "Rocketseat Mastercard Life Basic",
          "Rocketseat Visa Life Basic",
          "Rocketseat Mastercard Travel Select",
          "Rocketseat Mastercard Life Basic",
          "Rocketseat Visa Life Basic",
          "Rocketseat Visa Life Basic",
          "Rocketseat Visa Life Platinum",
          "Rocketseat Mastercard Shopping Basic",
          "Rocketseat Mastercard Travel Basic",
          "Rocketseat Visa Travel Select",
          "Rocketseat Mastercard Life Select",
          "Rocketseat Mastercard Travel Basic",
          "Rocketseat Mastercard Travel Basic",
          "Rocketseat Mastercard Travel Basic",
          "Rocketseat Mastercard Travel Select",
          "Rocketseat Visa Travel Select",
          "Rocketseat Mastercard Shopping Basic",
          "Rocketseat Mastercard Travel Basic",
          "Rocketseat Visa Travel Basic",
          "Rocketseat Mastercard Life Basic",
          "Rocketseat Mastercard Travel Basic",
          "Rocketseat Mastercard Life Select",
          "Rocketseat Visa Shopping Basic",
          "Rocketseat Mastercard Shopping Basic",
          "Rocketseat Mastercard Travel Basic",
          "Rocketseat Visa Life Select",
          "Rocketseat Visa Life Platinum",
          "Rocketseat Visa Travel Platinum",
          "Rocketseat Mastercard Life Basic",
          "Rocketseat Visa Shopping Elite",
          "Rocketseat Visa Travel Basic",
          "Rocketseat Mastercard Shopping Basic",
          "Rocketseat Mastercard Travel Basic",
          "Rocketseat Mastercard Travel Basic",
          "Rocketseat Visa Life Basic",
          "Rocketseat Mastercard Life Basic",
          "Rocketseat Visa Shopping Platinum",
          "Rocketseat Visa Life Basic",
          "Rocketseat Mastercard Life Basic",
          "Rocketseat Visa Travel Select",
          "Rocketseat Mastercard Travel Basic",
          "Rocketseat Visa Travel Basic",
          "Rocketseat Visa Travel Select",
          "Rocketseat Mastercard Life Elite",
          "Rocketseat Visa Travel Basic",
          "Rocketseat Mastercard Travel Basic",
          "Rocketseat Mastercard Life Basic",
          "Rocketseat Mastercard Shopping Basic",
          "Rocketseat Mastercard Travel Select",
          "Rocketseat Visa Life Basic",
          "Rocketseat Visa Life Basic",
          "Rocketseat Visa Life Elite",
          "Rocketseat Visa Life Select",
          "Rocketseat Mastercard Travel Platinum",
          "Rocketseat Mastercard Life Basic",
          "Rocketseat Mastercard Shopping Select",
          "Rocketseat Visa Life Basic",
          "Rocketseat Visa Shopping Basic",
          "Rocketseat Visa Life Basic",
          "Rocketseat Visa Shopping Basic",
          "Rocketseat Mastercard Shopping Basic",
          "Rocketseat Visa Life Elite",
          "Rocketseat Mastercard Shopping Basic",
          "Rocketseat Mastercard Travel Basic",
          "Rocketseat Mastercard Shopping Basic",
          "Rocketseat Visa Travel Basic",
          "Rocketseat Visa Shopping Basic",
          "Rocketseat Mastercard Travel Basic",
          "Rocketseat Mastercard Travel Basic",
          "Rocketseat Visa Life Elite",
          "Rocketseat Visa Shopping Select",
          "Rocketseat Mastercard Travel Select",
          "Rocketseat Mastercard Shopping Basic",
          "Rocketseat Visa Life Basic",
          "Rocketseat Mastercard Life Select",
          "Rocketseat Visa Shopping Basic",
          "Rocketseat Mastercard Life Basic",
          "Rocketseat Mastercard Travel Basic",
          "Rocketseat Mastercard Life Basic",
          "Rocketseat Mastercard Shopping Elite",
          "Rocketseat Visa Life Basic",
          "Rocketseat Visa Travel Basic",
          "Rocketseat Visa Life Basic",
          "Rocketseat Mastercard Shopping Elite",
          "Rocketseat Mastercard Travel Basic",
          "Rocketseat Visa Life Basic",
          "Rocketseat Mastercard Life Basic",
          "Rocketseat Visa Life Elite",
          "Rocketseat Visa Life Basic",
          "Rocketseat Visa Life Basic",
          "Rocketseat Visa Shopping Basic",
          "Rocketseat Visa Life Basic",
          "Rocketseat Mastercard Travel Select",
          "Rocketseat Mastercard Travel Basic",
          "Rocketseat Mastercard Life Basic",
          "Rocketseat Mastercard Travel Basic",
          "Rocketseat Visa Shopping Basic",
          "Rocketseat Visa Shopping Basic",
          "Rocketseat Mastercard Life Elite",
          "Rocketseat Mastercard Life Select",
          "Rocketseat Visa Travel Basic",
          "Rocketseat Visa Life Basic",
          "Rocketseat Mastercard Shopping Basic",
          "Rocketseat Visa Shopping Basic",
          "Rocketseat Visa Shopping Basic",
          "Rocketseat Mastercard Life Basic",
          "Rocketseat Mastercard Life Select",
          "Rocketseat Mastercard Life Elite",
          "Rocketseat Mastercard Life Basic",
          "Rocketseat Visa Travel Basic",
          "Rocketseat Visa Shopping Basic",
          "Rocketseat Mastercard Life Basic",
          "Rocketseat Mastercard Life Basic",
          "Rocketseat Mastercard Travel Select",
          "Rocketseat Visa Life Elite",
          "Rocketseat Mastercard Life Basic",
          "Rocketseat Mastercard Shopping Basic",
          "Rocketseat Visa Life Basic",
          "Rocketseat Mastercard Life Basic",
          "Rocketseat Mastercard Travel Elite",
          "Rocketseat Visa Life Basic",
          "Rocketseat Mastercard Life Elite",
          "Rocketseat Mastercard Life Select",
          "Rocketseat Visa Travel Basic",
          "Rocketseat Mastercard Travel Basic",
          "Rocketseat Mastercard Shopping Platinum",
          "Rocketseat Mastercard Shopping Basic",
          "Rocketseat Visa Shopping Basic",
          "Rocketseat Mastercard Shopping Select",
          "Rocketseat Mastercard Life Basic",
          "Rocketseat Visa Travel Basic",
          "Rocketseat Visa Life Basic",
          "Rocketseat Visa Life Basic",
          "Rocketseat Mastercard Life Basic",
          "Rocketseat Visa Shopping Basic",
          "Rocketseat Mastercard Life Basic",
          "Rocketseat Visa Travel Select",
          "Rocketseat Visa Travel Select",
          "Rocketseat Mastercard Shopping Basic",
          "Rocketseat Mastercard Life Select",
          "Rocketseat Visa Life Basic",
          "Rocketseat Mastercard Life Basic",
          "Rocketseat Visa Life Select",
          "Rocketseat Visa Shopping Basic",
          "Rocketseat Mastercard Travel Basic",
          "Rocketseat Visa Shopping Basic",
          "Rocketseat Mastercard Travel Basic",
          "Rocketseat Visa Travel Select",
          "Rocketseat Mastercard Travel Basic",
          "Rocketseat Mastercard Shopping Basic",
          "Rocketseat Visa Life Elite",
          "Rocketseat Visa Life Basic",
          "Rocketseat Visa Shopping Platinum",
          "Rocketseat Visa Travel Select",
          "Rocketseat Visa Travel Basic",
          "Rocketseat Visa Shopping Basic",
          "Rocketseat Visa Life Elite",
          "Rocketseat Visa Shopping Elite",
          "Rocketseat Visa Shopping Elite",
          "Rocketseat Mastercard Shopping Select",
          "Rocketseat Mastercard Life Basic",
          "Rocketseat Mastercard Life Basic",
          "Rocketseat Visa Life Select",
          "Rocketseat Visa Life Basic",
          "Rocketseat Mastercard Life Elite",
          "Rocketseat Mastercard Travel Basic",
          "Rocketseat Visa Life Platinum",
          "Rocketseat Mastercard Shopping Basic",
          "Rocketseat Mastercard Life Basic",
          "Rocketseat Visa Shopping Basic",
          "Rocketseat Visa Shopping Basic",
          "Rocketseat Visa Travel Basic",
          "Rocketseat Mastercard Life Select",
          "Rocketseat Visa Life Basic",
          "Rocketseat Visa Shopping Basic",
          "Rocketseat Mastercard Life Select",
          "Rocketseat Mastercard Shopping Platinum",
          "Rocketseat Mastercard Travel Basic",
          "Rocketseat Visa Life Basic",
          "Rocketseat Visa Life Basic",
          "Rocketseat Mastercard Life Select",
          "Rocketseat Mastercard Life Select",
          "Rocketseat Visa Life Select",
          "Rocketseat Visa Shopping Basic",
          "Rocketseat Visa Life Select",
          "Rocketseat Mastercard Life Select",
          "Rocketseat Visa Life Select",
          "Rocketseat Mastercard Life Basic",
          "Rocketseat Visa Shopping Basic",
          "Rocketseat Mastercard Travel Basic",
          "Rocketseat Mastercard Shopping Basic",
          "Rocketseat Mastercard Travel Elite",
          "Rocketseat Mastercard Shopping Select",
          "Rocketseat Mastercard Life Basic",
          "Rocketseat Visa Life Elite",
          "Rocketseat Visa Shopping Select",
          "Rocketseat Mastercard Travel Basic",
          "Rocketseat Visa Travel Basic",
          "Rocketseat Mastercard Life Basic",
          "Rocketseat Visa Travel Basic",
          "Rocketseat Visa Shopping Basic",
          "Rocketseat Mastercard Shopping Elite",
          "Rocketseat Visa Travel Basic",
          "Rocketseat Mastercard Life Select",
          "Rocketseat Mastercard Shopping Select",
          "Rocketseat Mastercard Shopping Basic",
          "Rocketseat Visa Life Basic",
          "Rocketseat Visa Life Select",
          "Rocketseat Mastercard Shopping Basic",
          "Rocketseat Visa Shopping Basic",
          "Rocketseat Mastercard Shopping Basic",
          "Rocketseat Mastercard Travel Basic",
          "Rocketseat Visa Shopping Platinum",
          "Rocketseat Visa Shopping Basic",
          "Rocketseat Visa Life Select",
          "Rocketseat Mastercard Life Basic",
          "Rocketseat Visa Life Basic",
          "Rocketseat Mastercard Shopping Basic",
          "Rocketseat Visa Shopping Basic",
          "Rocketseat Mastercard Life Basic",
          "Rocketseat Visa Life Basic",
          "Rocketseat Mastercard Travel Select",
          "Rocketseat Visa Shopping Basic",
          "Rocketseat Mastercard Shopping Basic",
          "Rocketseat Visa Life Select",
          "Rocketseat Visa Shopping Basic",
          "Rocketseat Mastercard Life Basic",
          "Rocketseat Mastercard Life Elite",
          "Rocketseat Visa Travel Basic",
          "Rocketseat Mastercard Shopping Basic",
          "Rocketseat Visa Life Basic",
          "Rocketseat Mastercard Shopping Basic",
          "Rocketseat Visa Life Select",
          "Rocketseat Mastercard Life Select",
          "Rocketseat Mastercard Travel Basic",
          "Rocketseat Visa Shopping Basic",
          "Rocketseat Mastercard Life Basic",
          "Rocketseat Mastercard Travel Basic",
          "Rocketseat Mastercard Life Basic",
          "Rocketseat Mastercard Life Select",
          "Rocketseat Mastercard Travel Basic",
          "Rocketseat Visa Travel Basic",
          "Rocketseat Visa Shopping Select",
          "Rocketseat Mastercard Life Select",
          "Rocketseat Mastercard Life Basic",
          "Rocketseat Mastercard Travel Basic",
          "Rocketseat Mastercard Shopping Elite",
          "Rocketseat Mastercard Travel Select",
          "Rocketseat Mastercard Shopping Select",
          "Rocketseat Mastercard Shopping Basic",
          "Rocketseat Mastercard Shopping Basic",
          "Rocketseat Mastercard Travel Select",
          "Rocketseat Mastercard Travel Select",
          "Rocketseat Visa Travel Basic",
          "Rocketseat Mastercard Life Basic",
          "Rocketseat Mastercard Travel Select",
          "Rocketseat Visa Life Basic",
          "Rocketseat Mastercard Life Basic",
          "Rocketseat Visa Shopping Elite",
          "Rocketseat Mastercard Travel Basic",
          "Rocketseat Visa Shopping Basic",
          "Rocketseat Visa Travel Basic",
          "Rocketseat Visa Life Select",
          "Rocketseat Visa Travel Basic",
          "Rocketseat Mastercard Life Basic",
          "Rocketseat Mastercard Life Elite",
          "Rocketseat Mastercard Shopping Elite",
          "Rocketseat Mastercard Shopping Basic",
          "Rocketseat Visa Travel Basic",
          "Rocketseat Mastercard Travel Basic",
          "Rocketseat Visa Life Basic",
          "Rocketseat Mastercard Life Basic",
          "Rocketseat Mastercard Life Basic",
          "Rocketseat Mastercard Shopping Basic",
          "Rocketseat Mastercard Life Basic",
          "Rocketseat Mastercard Life Select",
          "Rocketseat Mastercard Shopping Basic",
          "Rocketseat Visa Travel Basic",
          "Rocketseat Visa Life Basic",
          "Rocketseat Visa Life Select",
          "Rocketseat Mastercard Life Basic",
          "Rocketseat Mastercard Travel Basic",
          "Rocketseat Visa Life Basic",
          "Rocketseat Mastercard Life Elite",
          "Rocketseat Visa Shopping Basic",
          "Rocketseat Visa Life Basic",
          "Rocketseat Mastercard Life Select",
          "Rocketseat Mastercard Life Basic",
          "Rocketseat Visa Life Basic",
          "Rocketseat Visa Shopping Basic",
          "Rocketseat Mastercard Shopping Elite",
          "Rocketseat Mastercard Shopping Basic",
          "Rocketseat Visa Travel Basic",
          "Rocketseat Visa Travel Basic",
          "Rocketseat Visa Life Select",
          "Rocketseat Mastercard Life Basic",
          "Rocketseat Mastercard Shopping Basic",
          "Rocketseat Mastercard Shopping Basic",
          "Rocketseat Visa Travel Basic",
          "Rocketseat Mastercard Travel Basic",
          "Rocketseat Visa Life Basic",
          "Rocketseat Mastercard Travel Basic",
          "Rocketseat Visa Travel Basic",
          "Rocketseat Visa Shopping Basic",
          "Rocketseat Mastercard Life Basic",
          "Rocketseat Visa Shopping Select",
          "Rocketseat Visa Shopping Basic",
          "Rocketseat Visa Shopping Select",
          "Rocketseat Visa Travel Select",
          "Rocketseat Mastercard Life Basic",
          "Rocketseat Visa Life Basic",
          "Rocketseat Mastercard Shopping Basic",
          "Rocketseat Visa Travel Elite",
          "Rocketseat Mastercard Travel Select",
          "Rocketseat Mastercard Life Basic",
          "Rocketseat Visa Travel Select",
          "Rocketseat Mastercard Travel Basic",
          "Rocketseat Visa Shopping Basic",
          "Rocketseat Visa Life Select",
          "Rocketseat Mastercard Life Basic",
          "Rocketseat Visa Travel Elite",
          "Rocketseat Visa Life Basic",
          "Rocketseat Mastercard Travel Select",
          "Rocketseat Visa Travel Basic",
          "Rocketseat Visa Life Basic",
          "Rocketseat Visa Life Basic",
          "Rocketseat Mastercard Life Basic",
          "Rocketseat Visa Shopping Basic",
          "Rocketseat Mastercard Life Basic",
          "Rocketseat Mastercard Travel Select",
          "Rocketseat Mastercard Travel Elite",
          "Rocketseat Mastercard Shopping Basic",
          "Rocketseat Mastercard Life Basic",
          "Rocketseat Visa Life Basic",
          "Rocketseat Visa Life Basic",
          "Rocketseat Mastercard Shopping Basic",
          "Rocketseat Mastercard Life Platinum",
          "Rocketseat Mastercard Travel Basic",
          "Rocketseat Mastercard Shopping Basic",
          "Rocketseat Visa Travel Basic",
          "Rocketseat Mastercard Travel Basic",
          "Rocketseat Visa Travel Basic",
          "Rocketseat Mastercard Life Basic",
          "Rocketseat Visa Travel Elite",
          "Rocketseat Mastercard Travel Basic",
          "Rocketseat Visa Shopping Select",
          "Rocketseat Visa Shopping Basic",
          "Rocketseat Visa Life Elite",
          "Rocketseat Visa Life Basic",
          "Rocketseat Visa Life Select",
          "Rocketseat Visa Life Basic",
          "Rocketseat Mastercard Travel Basic",
          "Rocketseat Visa Life Basic",
          "Rocketseat Mastercard Life Basic",
          "Rocketseat Visa Life Basic",
          "Rocketseat Visa Life Select",
          "Rocketseat Visa Life Basic",
          "Rocketseat Mastercard Travel Platinum",
          "Rocketseat Mastercard Life Select",
          "Rocketseat Visa Travel Elite",
          "Rocketseat Mastercard Life Select",
          "Rocketseat Visa Life Basic",
          "Rocketseat Mastercard Life Elite",
          "Rocketseat Mastercard Shopping Basic",
          "Rocketseat Mastercard Travel Basic",
          "Rocketseat Mastercard Life Basic",
          "Rocketseat Visa Life Basic",
          "Rocketseat Visa Shopping Select",
          "Rocketseat Mastercard Shopping Basic",
          "Rocketseat Visa Travel Basic",
          "Rocketseat Visa Shopping Elite",
          "Rocketseat Visa Life Basic",
          "Rocketseat Visa Travel Select",
          "Rocketseat Mastercard Life Basic",
          "Rocketseat Mastercard Life Basic",
          "Rocketseat Visa Travel Basic",
          "Rocketseat Mastercard Life Basic",
          "Rocketseat Visa Life Select",
          "Rocketseat Visa Shopping Basic",
          "Rocketseat Visa Travel Elite",
          "Rocketseat Visa Travel Basic",
          "Rocketseat Mastercard Life Basic",
          "Rocketseat Mastercard Life Elite",
          "Rocketseat Mastercard Life Basic",
          "Rocketseat Mastercard Shopping Basic",
          "Rocketseat Visa Life Basic",
          "Rocketseat Visa Life Basic",
          "Rocketseat Mastercard Travel Select",
          "Rocketseat Visa Life Basic",
          "Rocketseat Mastercard Life Select",
          "Rocketseat Mastercard Life Platinum",
          "Rocketseat Visa Life Basic",
          "Rocketseat Visa Life Basic",
          "Rocketseat Mastercard Shopping Basic",
          "Rocketseat Mastercard Life Elite",
          "Rocketseat Visa Life Select",
          "Rocketseat Mastercard Travel Select",
          "Rocketseat Visa Life Select",
          "Rocketseat Visa Life Basic",
          "Rocketseat Visa Shopping Basic",
          "Rocketseat Visa Life Basic",
          "Rocketseat Mastercard Shopping Select",
          "Rocketseat Mastercard Shopping Basic",
          "Rocketseat Visa Life Basic",
          "Rocketseat Mastercard Travel Select",
          "Rocketseat Visa Life Basic",
          "Rocketseat Mastercard Life Basic",
          "Rocketseat Mastercard Shopping Basic",
          "Rocketseat Visa Travel Basic",
          "Rocketseat Mastercard Travel Basic",
          "Rocketseat Mastercard Shopping Basic",
          "Rocketseat Mastercard Travel Select",
          "Rocketseat Mastercard Travel Basic",
          "Rocketseat Mastercard Life Basic",
          "Rocketseat Visa Travel Basic",
          "Rocketseat Visa Travel Select",
          "Rocketseat Visa Life Elite",
          "Rocketseat Mastercard Life Basic",
          "Rocketseat Mastercard Travel Basic",
          "Rocketseat Visa Life Basic",
          "Rocketseat Visa Shopping Elite",
          "Rocketseat Mastercard Life Basic",
          "Rocketseat Visa Shopping Platinum",
          "Rocketseat Visa Shopping Select",
          "Rocketseat Mastercard Life Basic",
          "Rocketseat Visa Life Select",
          "Rocketseat Mastercard Shopping Basic",
          "Rocketseat Visa Travel Basic",
          "Rocketseat Visa Life Basic",
          "Rocketseat Visa Travel Basic",
          "Rocketseat Mastercard Life Basic",
          "Rocketseat Mastercard Travel Basic",
          "Rocketseat Mastercard Shopping Basic",
          "Rocketseat Visa Travel Elite",
          "Rocketseat Visa Shopping Basic",
          "Rocketseat Visa Life Basic",
          "Rocketseat Visa Travel Basic",
          "Rocketseat Mastercard Travel Basic",
          "Rocketseat Mastercard Shopping Basic",
          "Rocketseat Mastercard Shopping Basic",
          "Rocketseat Mastercard Travel Select",
          "Rocketseat Visa Life Basic",
          "Rocketseat Visa Life Basic",
          "Rocketseat Visa Life Basic",
          "Rocketseat Mastercard Travel Select",
          "Rocketseat Mastercard Shopping Select",
          "Rocketseat Visa Travel Basic",
          "Rocketseat Visa Life Basic",
          "Rocketseat Mastercard Life Basic",
          "Rocketseat Visa Life Basic",
          "Rocketseat Mastercard Life Elite",
          "Rocketseat Visa Shopping Basic",
          "Rocketseat Mastercard Life Basic",
          "Rocketseat Mastercard Shopping Elite",
          "Rocketseat Mastercard Travel Basic",
          "Rocketseat Visa Shopping Basic",
          "Rocketseat Visa Travel Basic",
          "Rocketseat Visa Shopping Basic",
          "Rocketseat Visa Shopping Basic",
          "Rocketseat Mastercard Shopping Select",
          "Rocketseat Visa Life Select",
          "Rocketseat Mastercard Travel Basic",
          "Rocketseat Mastercard Life Basic",
          "Rocketseat Visa Travel Basic",
          "Rocketseat Visa Life Select",
          "Rocketseat Visa Travel Basic",
          "Rocketseat Mastercard Shopping Basic",
          "Rocketseat Mastercard Life Basic",
          "Rocketseat Mastercard Life Select",
          "Rocketseat Mastercard Shopping Basic",
          "Rocketseat Mastercard Life Elite",
          "Rocketseat Mastercard Life Select",
          "Rocketseat Mastercard Shopping Basic",
          "Rocketseat Mastercard Travel Basic",
          "Rocketseat Mastercard Travel Select",
          "Rocketseat Mastercard Shopping Basic",
          "Rocketseat Visa Travel Select",
          "Rocketseat Mastercard Life Basic",
          "Rocketseat Visa Shopping Basic",
          "Rocketseat Mastercard Shopping Basic",
          "Rocketseat Visa Life Select",
          "Rocketseat Mastercard Life Select",
          "Rocketseat Visa Life Basic",
          "Rocketseat Visa Life Elite",
          "Rocketseat Visa Travel Basic",
          "Rocketseat Mastercard Shopping Basic",
          "Rocketseat Mastercard Shopping Select",
          "Rocketseat Mastercard Shopping Select",
          "Rocketseat Mastercard Travel Platinum",
          "Rocketseat Mastercard Life Select",
          "Rocketseat Mastercard Shopping Basic",
          "Rocketseat Visa Life Elite",
          "Rocketseat Mastercard Travel Basic",
          "Rocketseat Mastercard Life Basic",
          "Rocketseat Mastercard Life Select",
          "Rocketseat Visa Life Basic",
          "Rocketseat Mastercard Life Basic",
          "Rocketseat Visa Travel Basic",
          "Rocketseat Visa Life Select",
          "Rocketseat Visa Life Basic",
          "Rocketseat Visa Shopping Basic",
          "Rocketseat Visa Travel Select",
          "Rocketseat Mastercard Travel Elite",
          "Rocketseat Mastercard Travel Elite",
          "Rocketseat Mastercard Travel Select",
          "Rocketseat Mastercard Life Basic",
          "Rocketseat Visa Life Basic",
          "Rocketseat Mastercard Shopping Elite",
          "Rocketseat Visa Travel Select",
          "Rocketseat Visa Travel Basic",
          "Rocketseat Mastercard Life Basic",
          "Rocketseat Mastercard Travel Platinum",
          "Rocketseat Mastercard Shopping Basic",
          "Rocketseat Mastercard Shopping Elite",
          "Rocketseat Visa Shopping Select",
          "Rocketseat Mastercard Life Basic",
          "Rocketseat Visa Shopping Basic",
          "Rocketseat Mastercard Travel Select",
          "Rocketseat Mastercard Travel Basic",
          "Rocketseat Visa Shopping Basic",
          "Rocketseat Visa Shopping Basic",
          "Rocketseat Mastercard Life Basic",
          "Rocketseat Mastercard Life Basic",
          "Rocketseat Visa Shopping Elite",
          "Rocketseat Visa Travel Basic",
          "Rocketseat Visa Travel Select",
          "Rocketseat Mastercard Life Elite",
          "Rocketseat Visa Life Basic",
          "Rocketseat Mastercard Travel Basic",
          "Rocketseat Mastercard Life Basic",
          "Rocketseat Visa Shopping Elite",
          "Rocketseat Mastercard Shopping Basic",
          "Rocketseat Visa Life Select",
          "Rocketseat Mastercard Life Basic",
          "Rocketseat Mastercard Travel Basic",
          "Rocketseat Visa Shopping Basic",
          "Rocketseat Visa Shopping Select",
          "Rocketseat Mastercard Travel Basic",
          "Rocketseat Mastercard Travel Basic",
          "Rocketseat Visa Travel Basic",
          "Rocketseat Visa Life Basic",
          "Rocketseat Visa Shopping Basic",
          "Rocketseat Visa Travel Platinum",
          "Rocketseat Visa Life Basic",
          "Rocketseat Mastercard Travel Basic",
          "Rocketseat Visa Shopping Basic",
          "Rocketseat Mastercard Shopping Select",
          "Rocketseat Visa Life Basic",
          "Rocketseat Visa Shopping Basic",
          "Rocketseat Mastercard Life Select",
          "Rocketseat Visa Shopping Basic",
          "Rocketseat Mastercard Shopping Select",
          "Rocketseat Visa Shopping Platinum",
          "Rocketseat Visa Travel Basic",
          "Rocketseat Visa Life Basic",
          "Rocketseat Mastercard Travel Basic",
          "Rocketseat Visa Travel Basic",
          "Rocketseat Mastercard Life Basic",
          "Rocketseat Visa Shopping Basic",
          "Rocketseat Mastercard Travel Basic",
          "Rocketseat Visa Shopping Elite",
          "Rocketseat Mastercard Life Basic",
          "Rocketseat Visa Life Select",
          "Rocketseat Mastercard Shopping Basic",
          "Rocketseat Visa Life Select",
          "Rocketseat Mastercard Travel Basic",
          "Rocketseat Mastercard Life Basic",
          "Rocketseat Visa Travel Select",
          "Rocketseat Mastercard Shopping Select",
          "Rocketseat Visa Life Basic",
          "Rocketseat Visa Life Basic",
          "Rocketseat Mastercard Travel Basic",
          "Rocketseat Visa Life Basic",
          "Rocketseat Mastercard Life Basic",
          "Rocketseat Mastercard Shopping Select",
          "Rocketseat Mastercard Shopping Basic",
          "Rocketseat Visa Life Basic",
          "Rocketseat Mastercard Travel Basic",
          "Rocketseat Visa Life Basic",
          "Rocketseat Visa Shopping Basic",
          "Rocketseat Mastercard Life Basic",
          "Rocketseat Visa Shopping Basic",
          "Rocketseat Visa Shopping Basic",
          "Rocketseat Visa Life Platinum",
          "Rocketseat Visa Shopping Basic",
          "Rocketseat Mastercard Shopping Basic",
          "Rocketseat Mastercard Life Basic",
          "Rocketseat Mastercard Life Elite",
          "Rocketseat Mastercard Life Basic",
          "Rocketseat Visa Shopping Select",
          "Rocketseat Mastercard Life Select",
          "Rocketseat Visa Travel Basic",
          "Rocketseat Visa Travel Basic",
          "Rocketseat Visa Life Select",
          "Rocketseat Visa Travel Basic",
          "Rocketseat Mastercard Shopping Basic",
          "Rocketseat Mastercard Life Basic",
          "Rocketseat Mastercard Travel Elite",
          "Rocketseat Mastercard Life Basic",
          "Rocketseat Mastercard Travel Basic",
          "Rocketseat Visa Life Basic",
          "Rocketseat Mastercard Shopping Basic",
          "Rocketseat Visa Travel Basic",
          "Rocketseat Visa Life Basic",
          "Rocketseat Mastercard Travel Platinum",
          "Rocketseat Mastercard Shopping Basic",
          "Rocketseat Mastercard Life Basic",
          "Rocketseat Mastercard Shopping Basic",
          "Rocketseat Mastercard Shopping Basic",
          "Rocketseat Mastercard Travel Basic",
          "Rocketseat Mastercard Life Basic",
          "Rocketseat Visa Life Basic",
          "Rocketseat Mastercard Travel Basic",
          "Rocketseat Visa Shopping Basic",
          "Rocketseat Mastercard Travel Elite",
          "Rocketseat Visa Shopping Select",
          "Rocketseat Mastercard Life Basic",
          "Rocketseat Mastercard Shopping Select",
          "Rocketseat Mastercard Travel Basic",
          "Rocketseat Mastercard Life Basic",
          "Rocketseat Visa Life Basic",
          "Rocketseat Mastercard Life Basic",
          "Rocketseat Visa Life Elite",
          "Rocketseat Visa Travel Select",
          "Rocketseat Visa Travel Basic",
          "Rocketseat Visa Travel Basic",
          "Rocketseat Visa Life Basic",
          "Rocketseat Mastercard Shopping Select",
          "Rocketseat Mastercard Shopping Select",
          "Rocketseat Mastercard Shopping Basic",
          "Rocketseat Visa Travel Basic",
          "Rocketseat Visa Life Basic",
          "Rocketseat Mastercard Life Basic",
          "Rocketseat Mastercard Shopping Basic",
          "Rocketseat Visa Life Basic",
          "Rocketseat Mastercard Life Basic",
          "Rocketseat Visa Travel Basic",
          "Rocketseat Mastercard Travel Elite",
          "Rocketseat Visa Travel Basic",
          "Rocketseat Visa Life Basic",
          "Rocketseat Mastercard Shopping Basic",
          "Rocketseat Visa Life Basic",
          "Rocketseat Visa Life Basic",
          "Rocketseat Mastercard Life Basic",
          "Rocketseat Visa Life Basic",
          "Rocketseat Visa Travel Select",
          "Rocketseat Mastercard Life Basic",
          "Rocketseat Visa Travel Basic",
          "Rocketseat Visa Shopping Basic",
          "Rocketseat Visa Life Select",
          "Rocketseat Mastercard Life Select",
          "Rocketseat Visa Travel Elite",
          "Rocketseat Mastercard Life Platinum",
          "Rocketseat Visa Travel Basic",
          "Rocketseat Mastercard Shopping Basic",
          "Rocketseat Mastercard Shopping Select",
          "Rocketseat Visa Shopping Basic",
          "Rocketseat Visa Travel Basic",
          "Rocketseat Mastercard Travel Basic",
          "Rocketseat Mastercard Shopping Basic",
          "Rocketseat Visa Life Basic",
          "Rocketseat Mastercard Travel Basic",
          "Rocketseat Mastercard Shopping Basic",
          "Rocketseat Mastercard Life Elite",
          "Rocketseat Visa Shopping Select",
          "Rocketseat Mastercard Travel Basic",
          "Rocketseat Visa Travel Basic",
          "Rocketseat Mastercard Shopping Basic",
          "Rocketseat Mastercard Travel Select",
          "Rocketseat Mastercard Shopping Elite",
          "Rocketseat Visa Travel Basic",
          "Rocketseat Mastercard Travel Basic",
          "Rocketseat Visa Travel Elite",
          "Rocketseat Visa Life Select",
          "Rocketseat Visa Life Elite",
          "Rocketseat Mastercard Life Elite",
          "Rocketseat Mastercard Life Elite",
          "Rocketseat Mastercard Travel Elite",
          "Rocketseat Visa Life Basic",
          "Rocketseat Mastercard Shopping Elite",
          "Rocketseat Mastercard Life Elite",
          "Rocketseat Visa Shopping Basic",
          "Rocketseat Mastercard Travel Basic",
          "Rocketseat Mastercard Shopping Select",
          "Rocketseat Visa Life Basic",
          "Rocketseat Mastercard Life Basic",
          "Rocketseat Visa Life Basic",
          "Rocketseat Visa Life Elite",
          "Rocketseat Mastercard Shopping Select"
         ],
         "xaxis": "x5",
         "y": {
          "bdata": "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",
          "dtype": "f8"
         },
         "yaxis": "y5"
        }
       ],
       "layout": {
        "annotations": [
         {
          "font": {
           "size": 16
          },
          "showarrow": false,
          "text": "Cidade",
          "x": 0.225,
          "xanchor": "center",
          "xref": "paper",
          "y": 1,
          "yanchor": "bottom",
          "yref": "paper"
         },
         {
          "font": {
           "size": 16
          },
          "showarrow": false,
          "text": "Cargo",
          "x": 0.775,
          "xanchor": "center",
          "xref": "paper",
          "y": 1,
          "yanchor": "bottom",
          "yref": "paper"
         },
         {
          "font": {
           "size": 16
          },
          "showarrow": false,
          "text": "Estado Civil",
          "x": 0.225,
          "xanchor": "center",
          "xref": "paper",
          "y": 0.6111111111111112,
          "yanchor": "bottom",
          "yref": "paper"
         },
         {
          "font": {
           "size": 16
          },
          "showarrow": false,
          "text": "Moradia",
          "x": 0.775,
          "xanchor": "center",
          "xref": "paper",
          "y": 0.6111111111111112,
          "yanchor": "bottom",
          "yref": "paper"
         },
         {
          "font": {
           "size": 16
          },
          "showarrow": false,
          "text": "Principal Cartão",
          "x": 0.225,
          "xanchor": "center",
          "xref": "paper",
          "y": 0.22222222222222224,
          "yanchor": "bottom",
          "yref": "paper"
         }
        ],
        "height": 1800,
        "showlegend": false,
        "template": {
         "data": {
          "bar": [
           {
            "error_x": {
             "color": "#2a3f5f"
            },
            "error_y": {
             "color": "#2a3f5f"
            },
            "marker": {
             "line": {
              "color": "#E5ECF6",
              "width": 0.5
             },
             "pattern": {
              "fillmode": "overlay",
              "size": 10,
              "solidity": 0.2
             }
            },
            "type": "bar"
           }
          ],
          "barpolar": [
           {
            "marker": {
             "line": {
              "color": "#E5ECF6",
              "width": 0.5
             },
             "pattern": {
              "fillmode": "overlay",
              "size": 10,
              "solidity": 0.2
             }
            },
            "type": "barpolar"
           }
          ],
          "carpet": [
           {
            "aaxis": {
             "endlinecolor": "#2a3f5f",
             "gridcolor": "white",
             "linecolor": "white",
             "minorgridcolor": "white",
             "startlinecolor": "#2a3f5f"
            },
            "baxis": {
             "endlinecolor": "#2a3f5f",
             "gridcolor": "white",
             "linecolor": "white",
             "minorgridcolor": "white",
             "startlinecolor": "#2a3f5f"
            },
            "type": "carpet"
           }
          ],
          "choropleth": [
           {
            "colorbar": {
             "outlinewidth": 0,
             "ticks": ""
            },
            "type": "choropleth"
           }
          ],
          "contour": [
           {
            "colorbar": {
             "outlinewidth": 0,
             "ticks": ""
            },
            "colorscale": [
             [
              0,
              "#0d0887"
             ],
             [
              0.1111111111111111,
              "#46039f"
             ],
             [
              0.2222222222222222,
              "#7201a8"
             ],
             [
              0.3333333333333333,
              "#9c179e"
             ],
             [
              0.4444444444444444,
              "#bd3786"
             ],
             [
              0.5555555555555556,
              "#d8576b"
             ],
             [
              0.6666666666666666,
              "#ed7953"
             ],
             [
              0.7777777777777778,
              "#fb9f3a"
             ],
             [
              0.8888888888888888,
              "#fdca26"
             ],
             [
              1,
              "#f0f921"
             ]
            ],
            "type": "contour"
           }
          ],
          "contourcarpet": [
           {
            "colorbar": {
             "outlinewidth": 0,
             "ticks": ""
            },
            "type": "contourcarpet"
           }
          ],
          "heatmap": [
           {
            "colorbar": {
             "outlinewidth": 0,
             "ticks": ""
            },
            "colorscale": [
             [
              0,
              "#0d0887"
             ],
             [
              0.1111111111111111,
              "#46039f"
             ],
             [
              0.2222222222222222,
              "#7201a8"
             ],
             [
              0.3333333333333333,
              "#9c179e"
             ],
             [
              0.4444444444444444,
              "#bd3786"
             ],
             [
              0.5555555555555556,
              "#d8576b"
             ],
             [
              0.6666666666666666,
              "#ed7953"
             ],
             [
              0.7777777777777778,
              "#fb9f3a"
             ],
             [
              0.8888888888888888,
              "#fdca26"
             ],
             [
              1,
              "#f0f921"
             ]
            ],
            "type": "heatmap"
           }
          ],
          "histogram": [
           {
            "marker": {
             "pattern": {
              "fillmode": "overlay",
              "size": 10,
              "solidity": 0.2
             }
            },
            "type": "histogram"
           }
          ],
          "histogram2d": [
           {
            "colorbar": {
             "outlinewidth": 0,
             "ticks": ""
            },
            "colorscale": [
             [
              0,
              "#0d0887"
             ],
             [
              0.1111111111111111,
              "#46039f"
             ],
             [
              0.2222222222222222,
              "#7201a8"
             ],
             [
              0.3333333333333333,
              "#9c179e"
             ],
             [
              0.4444444444444444,
              "#bd3786"
             ],
             [
              0.5555555555555556,
              "#d8576b"
             ],
             [
              0.6666666666666666,
              "#ed7953"
             ],
             [
              0.7777777777777778,
              "#fb9f3a"
             ],
             [
              0.8888888888888888,
              "#fdca26"
             ],
             [
              1,
              "#f0f921"
             ]
            ],
            "type": "histogram2d"
           }
          ],
          "histogram2dcontour": [
           {
            "colorbar": {
             "outlinewidth": 0,
             "ticks": ""
            },
            "colorscale": [
             [
              0,
              "#0d0887"
             ],
             [
              0.1111111111111111,
              "#46039f"
             ],
             [
              0.2222222222222222,
              "#7201a8"
             ],
             [
              0.3333333333333333,
              "#9c179e"
             ],
             [
              0.4444444444444444,
              "#bd3786"
             ],
             [
              0.5555555555555556,
              "#d8576b"
             ],
             [
              0.6666666666666666,
              "#ed7953"
             ],
             [
              0.7777777777777778,
              "#fb9f3a"
             ],
             [
              0.8888888888888888,
              "#fdca26"
             ],
             [
              1,
              "#f0f921"
             ]
            ],
            "type": "histogram2dcontour"
           }
          ],
          "mesh3d": [
           {
            "colorbar": {
             "outlinewidth": 0,
             "ticks": ""
            },
            "type": "mesh3d"
           }
          ],
          "parcoords": [
           {
            "line": {
             "colorbar": {
              "outlinewidth": 0,
              "ticks": ""
             }
            },
            "type": "parcoords"
           }
          ],
          "pie": [
           {
            "automargin": true,
            "type": "pie"
           }
          ],
          "scatter": [
           {
            "fillpattern": {
             "fillmode": "overlay",
             "size": 10,
             "solidity": 0.2
            },
            "type": "scatter"
           }
          ],
          "scatter3d": [
           {
            "line": {
             "colorbar": {
              "outlinewidth": 0,
              "ticks": ""
             }
            },
            "marker": {
             "colorbar": {
              "outlinewidth": 0,
              "ticks": ""
             }
            },
            "type": "scatter3d"
           }
          ],
          "scattercarpet": [
           {
            "marker": {
             "colorbar": {
              "outlinewidth": 0,
              "ticks": ""
             }
            },
            "type": "scattercarpet"
           }
          ],
          "scattergeo": [
           {
            "marker": {
             "colorbar": {
              "outlinewidth": 0,
              "ticks": ""
             }
            },
            "type": "scattergeo"
           }
          ],
          "scattergl": [
           {
            "marker": {
             "colorbar": {
              "outlinewidth": 0,
              "ticks": ""
             }
            },
            "type": "scattergl"
           }
          ],
          "scattermap": [
           {
            "marker": {
             "colorbar": {
              "outlinewidth": 0,
              "ticks": ""
             }
            },
            "type": "scattermap"
           }
          ],
          "scattermapbox": [
           {
            "marker": {
             "colorbar": {
              "outlinewidth": 0,
              "ticks": ""
             }
            },
            "type": "scattermapbox"
           }
          ],
          "scatterpolar": [
           {
            "marker": {
             "colorbar": {
              "outlinewidth": 0,
              "ticks": ""
             }
            },
            "type": "scatterpolar"
           }
          ],
          "scatterpolargl": [
           {
            "marker": {
             "colorbar": {
              "outlinewidth": 0,
              "ticks": ""
             }
            },
            "type": "scatterpolargl"
           }
          ],
          "scatterternary": [
           {
            "marker": {
             "colorbar": {
              "outlinewidth": 0,
              "ticks": ""
             }
            },
            "type": "scatterternary"
           }
          ],
          "surface": [
           {
            "colorbar": {
             "outlinewidth": 0,
             "ticks": ""
            },
            "colorscale": [
             [
              0,
              "#0d0887"
             ],
             [
              0.1111111111111111,
              "#46039f"
             ],
             [
              0.2222222222222222,
              "#7201a8"
             ],
             [
              0.3333333333333333,
              "#9c179e"
             ],
             [
              0.4444444444444444,
              "#bd3786"
             ],
             [
              0.5555555555555556,
              "#d8576b"
             ],
             [
              0.6666666666666666,
              "#ed7953"
             ],
             [
              0.7777777777777778,
              "#fb9f3a"
             ],
             [
              0.8888888888888888,
              "#fdca26"
             ],
             [
              1,
              "#f0f921"
             ]
            ],
            "type": "surface"
           }
          ],
          "table": [
           {
            "cells": {
             "fill": {
              "color": "#EBF0F8"
             },
             "line": {
              "color": "white"
             }
            },
            "header": {
             "fill": {
              "color": "#C8D4E3"
             },
             "line": {
              "color": "white"
             }
            },
            "type": "table"
           }
          ]
         },
         "layout": {
          "annotationdefaults": {
           "arrowcolor": "#2a3f5f",
           "arrowhead": 0,
           "arrowwidth": 1
          },
          "autotypenumbers": "strict",
          "coloraxis": {
           "colorbar": {
            "outlinewidth": 0,
            "ticks": ""
           }
          },
          "colorscale": {
           "diverging": [
            [
             0,
             "#8e0152"
            ],
            [
             0.1,
             "#c51b7d"
            ],
            [
             0.2,
             "#de77ae"
            ],
            [
             0.3,
             "#f1b6da"
            ],
            [
             0.4,
             "#fde0ef"
            ],
            [
             0.5,
             "#f7f7f7"
            ],
            [
             0.6,
             "#e6f5d0"
            ],
            [
             0.7,
             "#b8e186"
            ],
            [
             0.8,
             "#7fbc41"
            ],
            [
             0.9,
             "#4d9221"
            ],
            [
             1,
             "#276419"
            ]
           ],
           "sequential": [
            [
             0,
             "#0d0887"
            ],
            [
             0.1111111111111111,
             "#46039f"
            ],
            [
             0.2222222222222222,
             "#7201a8"
            ],
            [
             0.3333333333333333,
             "#9c179e"
            ],
            [
             0.4444444444444444,
             "#bd3786"
            ],
            [
             0.5555555555555556,
             "#d8576b"
            ],
            [
             0.6666666666666666,
             "#ed7953"
            ],
            [
             0.7777777777777778,
             "#fb9f3a"
            ],
            [
             0.8888888888888888,
             "#fdca26"
            ],
            [
             1,
             "#f0f921"
            ]
           ],
           "sequentialminus": [
            [
             0,
             "#0d0887"
            ],
            [
             0.1111111111111111,
             "#46039f"
            ],
            [
             0.2222222222222222,
             "#7201a8"
            ],
            [
             0.3333333333333333,
             "#9c179e"
            ],
            [
             0.4444444444444444,
             "#bd3786"
            ],
            [
             0.5555555555555556,
             "#d8576b"
            ],
            [
             0.6666666666666666,
             "#ed7953"
            ],
            [
             0.7777777777777778,
             "#fb9f3a"
            ],
            [
             0.8888888888888888,
             "#fdca26"
            ],
            [
             1,
             "#f0f921"
            ]
           ]
          },
          "colorway": [
           "#636efa",
           "#EF553B",
           "#00cc96",
           "#ab63fa",
           "#FFA15A",
           "#19d3f3",
           "#FF6692",
           "#B6E880",
           "#FF97FF",
           "#FECB52"
          ],
          "font": {
           "color": "#2a3f5f"
          },
          "geo": {
           "bgcolor": "white",
           "lakecolor": "white",
           "landcolor": "#E5ECF6",
           "showlakes": true,
           "showland": true,
           "subunitcolor": "white"
          },
          "hoverlabel": {
           "align": "left"
          },
          "hovermode": "closest",
          "mapbox": {
           "style": "light"
          },
          "paper_bgcolor": "white",
          "plot_bgcolor": "#E5ECF6",
          "polar": {
           "angularaxis": {
            "gridcolor": "white",
            "linecolor": "white",
            "ticks": ""
           },
           "bgcolor": "#E5ECF6",
           "radialaxis": {
            "gridcolor": "white",
            "linecolor": "white",
            "ticks": ""
           }
          },
          "scene": {
           "xaxis": {
            "backgroundcolor": "#E5ECF6",
            "gridcolor": "white",
            "gridwidth": 2,
            "linecolor": "white",
            "showbackground": true,
            "ticks": "",
            "zerolinecolor": "white"
           },
           "yaxis": {
            "backgroundcolor": "#E5ECF6",
            "gridcolor": "white",
            "gridwidth": 2,
            "linecolor": "white",
            "showbackground": true,
            "ticks": "",
            "zerolinecolor": "white"
           },
           "zaxis": {
            "backgroundcolor": "#E5ECF6",
            "gridcolor": "white",
            "gridwidth": 2,
            "linecolor": "white",
            "showbackground": true,
            "ticks": "",
            "zerolinecolor": "white"
           }
          },
          "shapedefaults": {
           "line": {
            "color": "#2a3f5f"
           }
          },
          "ternary": {
           "aaxis": {
            "gridcolor": "white",
            "linecolor": "white",
            "ticks": ""
           },
           "baxis": {
            "gridcolor": "white",
            "linecolor": "white",
            "ticks": ""
           },
           "bgcolor": "#E5ECF6",
           "caxis": {
            "gridcolor": "white",
            "linecolor": "white",
            "ticks": ""
           }
          },
          "title": {
           "x": 0.05
          },
          "xaxis": {
           "automargin": true,
           "gridcolor": "white",
           "linecolor": "white",
           "ticks": "",
           "title": {
            "standoff": 15
           },
           "zerolinecolor": "white",
           "zerolinewidth": 2
          },
          "yaxis": {
           "automargin": true,
           "gridcolor": "white",
           "linecolor": "white",
           "ticks": "",
           "title": {
            "standoff": 15
           },
           "zerolinecolor": "white",
           "zerolinewidth": 2
          }
         }
        },
        "title": {
         "text": "BoxPlots das Variáveis Categóricas vs Probabilidade de Inadimplência"
        },
        "width": 1200,
        "xaxis": {
         "anchor": "y",
         "domain": [
          0,
          0.45
         ]
        },
        "xaxis2": {
         "anchor": "y2",
         "domain": [
          0.55,
          1
         ]
        },
        "xaxis3": {
         "anchor": "y3",
         "domain": [
          0,
          0.45
         ]
        },
        "xaxis4": {
         "anchor": "y4",
         "domain": [
          0.55,
          1
         ]
        },
        "xaxis5": {
         "anchor": "y5",
         "domain": [
          0,
          0.45
         ]
        },
        "xaxis6": {
         "anchor": "y6",
         "domain": [
          0.55,
          1
         ]
        },
        "yaxis": {
         "anchor": "x",
         "domain": [
          0.7777777777777778,
          1
         ]
        },
        "yaxis2": {
         "anchor": "x2",
         "domain": [
          0.7777777777777778,
          1
         ]
        },
        "yaxis3": {
         "anchor": "x3",
         "domain": [
          0.3888888888888889,
          0.6111111111111112
         ]
        },
        "yaxis4": {
         "anchor": "x4",
         "domain": [
          0.3888888888888889,
          0.6111111111111112
         ]
        },
        "yaxis5": {
         "anchor": "x5",
         "domain": [
          0,
          0.22222222222222224
         ]
        },
        "yaxis6": {
         "anchor": "x6",
         "domain": [
          0,
          0.22222222222222224
         ]
        }
       }
      }
     },
     "metadata": {},
     "output_type": "display_data"
    }
   ],
   "source": [
    "# Calcular o número de linhas necessárias\n",
    "num_cols = 2\n",
    "num_rows = math.ceil(len(cat_vars) / num_cols)\n",
    "\n",
    "# Criar subplots\n",
    "fig = make_subplots(rows=num_rows, cols=num_cols, subplot_titles=cat_vars)\n",
    "\n",
    "# Adicionar boxplots para cada variável categórica\n",
    "for i, var in enumerate(cat_vars):\n",
    "    row = (i // num_cols) + 1\n",
    "    col = (i % num_cols) + 1\n",
    "    fig.add_trace(\n",
    "        go.Box(y=df_clientes[target], x=df_clientes[var], name=var),\n",
    "        row=row, col=col\n",
    "    )\n",
    "\n",
    "# Atualizar layout\n",
    "fig.update_layout(\n",
    "    height=600*num_rows,\n",
    "    width=1200,\n",
    "    title_text=\"BoxPlots das Variáveis Categóricas vs Probabilidade de Inadimplência\",\n",
    "    showlegend=False\n",
    ")\n",
    "\n",
    "fig.show()\n"
   ]
  },
  {
   "cell_type": "markdown",
   "id": "377d2774",
   "metadata": {},
   "source": [
    "### Matriz de correlação"
   ]
  },
  {
   "cell_type": "code",
   "execution_count": 13,
   "id": "fff26a52",
   "metadata": {},
   "outputs": [
    {
     "data": {
      "image/png": "[encoded data removed]",
      "text/plain": [
       "<Figure size 1200x800 with 2 Axes>"
      ]
     },
     "metadata": {},
     "output_type": "display_data"
    }
   ],
   "source": [
    "plt.figure(figsize=(12, 8))\n",
    "sns.heatmap(df_clientes[num_vars].corr(), annot=True, cmap='coolwarm', fmt=\".2f\")\n",
    "plt.title(\"Matriz de Correlação\")\n",
    "plt.show()"
   ]
  },
  {
   "cell_type": "markdown",
   "id": "6e0cf55d",
   "metadata": {},
   "source": [
    "### Testes de hipóteses"
   ]
  },
  {
   "cell_type": "code",
   "execution_count": 15,
   "id": "331c9d75",
   "metadata": {},
   "outputs": [
    {
     "name": "stdout",
     "output_type": "stream",
     "text": [
      "\u001b[37mTeste Qui-Quadrado entre Cidade e Probabilidade Inadimplencia: p-valor = 0.3840071939383141\n",
      "\u001b[37mTeste Qui-Quadrado entre Cargo e Probabilidade Inadimplencia: p-valor = 0.1253795359986711\n",
      "\u001b[37mTeste Qui-Quadrado entre Estado Civil e Probabilidade Inadimplencia: p-valor = 0.48352948196643847\n",
      "\u001b[37mTeste Qui-Quadrado entre Moradia e Probabilidade Inadimplencia: p-valor = 0.37283145381687693\n",
      "\u001b[37mTeste Qui-Quadrado entre Principal Cartão e Probabilidade Inadimplencia: p-valor = 1.0\n"
     ]
    }
   ],
   "source": [
    "# Testes de hipóteses para variáveis categóricas (Qui-quadrado)\n",
    "for cat_col in cat_vars:\n",
    "    contingency_table = pd.crosstab(df_clientes[cat_col], df_clientes[target])\n",
    "    chi2, p, dof, _ = chi2_contingency(contingency_table)\n",
    "    print(f\"{Fore.RED if p < 0.05 else Fore.WHITE}\"\n",
    "          f\"Teste Qui-Quadrado entre {cat_col} e {target}: p-valor = {p}\")"
   ]
  },
  {
   "cell_type": "markdown",
   "id": "d773d297",
   "metadata": {},
   "source": [
    "### Treinar RandomForestRegressor"
   ]
  },
  {
   "cell_type": "code",
   "execution_count": 16,
   "id": "2c6d3a18",
   "metadata": {},
   "outputs": [
    {
     "name": "stdout",
     "output_type": "stream",
     "text": [
      "RMSE médio na validação cruzada: 6.48\n"
     ]
    }
   ],
   "source": [
    "selected_features = ['Idade', 'Renda', 'Investimentos', 'Ativos', 'Dívidas']\n",
    "X = df_clientes[selected_features]\n",
    "y = df_clientes[target]\n",
    "\n",
    "X_train, X_test, y_train, y_test = train_test_split(X, y, test_size=0.5, random_state=42)\n",
    "\n",
    "model = RandomForestRegressor(random_state=42)\n",
    "cv_scores = cross_val_score(model, X_train, y_train, cv=5, scoring='neg_root_mean_squared_error')\n",
    "\n",
    "print(f\"RMSE médio na validação cruzada: {-cv_scores.mean():.2f}\")"
   ]
  },
  {
   "cell_type": "markdown",
   "id": "bd6456d4",
   "metadata": {},
   "source": [
    "### Otimização com Optuna"
   ]
  },
  {
   "cell_type": "code",
   "execution_count": 18,
   "id": "b00253fd",
   "metadata": {},
   "outputs": [
    {
     "name": "stderr",
     "output_type": "stream",
     "text": [
      "[I 2025-05-12 21:24:25,523] A new study created in memory with name: no-name-07ef4762-34c1-446b-8017-0bcca0bdb657\n",
      "[I 2025-05-12 21:24:26,170] Trial 0 finished with value: 10.46202440497487 and parameters: {'n_estimators': 186, 'max_depth': 3, 'min_samples_split': 9}. Best is trial 0 with value: 10.46202440497487.\n",
      "[I 2025-05-12 21:24:26,849] Trial 1 finished with value: 6.930663287791922 and parameters: {'n_estimators': 150, 'max_depth': 10, 'min_samples_split': 7}. Best is trial 1 with value: 6.930663287791922.\n",
      "[I 2025-05-12 21:24:27,401] Trial 2 finished with value: 6.963422959211755 and parameters: {'n_estimators': 129, 'max_depth': 7, 'min_samples_split': 6}. Best is trial 1 with value: 6.930663287791922.\n",
      "[I 2025-05-12 21:24:27,876] Trial 3 finished with value: 7.840738919376122 and parameters: {'n_estimators': 120, 'max_depth': 5, 'min_samples_split': 7}. Best is trial 1 with value: 6.930663287791922.\n",
      "[I 2025-05-12 21:24:28,322] Trial 4 finished with value: 6.485985119119669 and parameters: {'n_estimators': 91, 'max_depth': 9, 'min_samples_split': 2}. Best is trial 4 with value: 6.485985119119669.\n",
      "[I 2025-05-12 21:24:28,837] Trial 5 finished with value: 8.676494100988595 and parameters: {'n_estimators': 138, 'max_depth': 4, 'min_samples_split': 7}. Best is trial 4 with value: 6.485985119119669.\n",
      "[I 2025-05-12 21:24:29,670] Trial 6 finished with value: 7.387007636419017 and parameters: {'n_estimators': 194, 'max_depth': 9, 'min_samples_split': 9}. Best is trial 4 with value: 6.485985119119669.\n",
      "[I 2025-05-12 21:24:30,010] Trial 7 finished with value: 6.84723665249228 and parameters: {'n_estimators': 72, 'max_depth': 7, 'min_samples_split': 4}. Best is trial 4 with value: 6.485985119119669.\n",
      "[I 2025-05-12 21:24:30,555] Trial 8 finished with value: 8.66360502224135 and parameters: {'n_estimators': 155, 'max_depth': 4, 'min_samples_split': 7}. Best is trial 4 with value: 6.485985119119669.\n",
      "[I 2025-05-12 21:24:31,130] Trial 9 finished with value: 7.702957998825807 and parameters: {'n_estimators': 156, 'max_depth': 5, 'min_samples_split': 5}. Best is trial 4 with value: 6.485985119119669.\n",
      "[I 2025-05-12 21:24:31,395] Trial 10 finished with value: 6.75611563130964 and parameters: {'n_estimators': 50, 'max_depth': 9, 'min_samples_split': 2}. Best is trial 4 with value: 6.485985119119669.\n",
      "[I 2025-05-12 21:24:31,652] Trial 11 finished with value: 6.760204577351029 and parameters: {'n_estimators': 51, 'max_depth': 9, 'min_samples_split': 2}. Best is trial 4 with value: 6.485985119119669.\n",
      "[I 2025-05-12 21:24:32,092] Trial 12 finished with value: 6.539212605031129 and parameters: {'n_estimators': 93, 'max_depth': 8, 'min_samples_split': 2}. Best is trial 4 with value: 6.485985119119669.\n",
      "[I 2025-05-12 21:24:32,563] Trial 13 finished with value: 6.55946447989184 and parameters: {'n_estimators': 98, 'max_depth': 8, 'min_samples_split': 3}. Best is trial 4 with value: 6.485985119119669.\n",
      "[I 2025-05-12 21:24:33,043] Trial 14 finished with value: 6.51573906764667 and parameters: {'n_estimators': 96, 'max_depth': 10, 'min_samples_split': 4}. Best is trial 4 with value: 6.485985119119669.\n",
      "[I 2025-05-12 21:24:33,529] Trial 15 finished with value: 6.5200217445038575 and parameters: {'n_estimators': 99, 'max_depth': 10, 'min_samples_split': 4}. Best is trial 4 with value: 6.485985119119669.\n",
      "[I 2025-05-12 21:24:33,927] Trial 16 finished with value: 6.561266538749455 and parameters: {'n_estimators': 78, 'max_depth': 10, 'min_samples_split': 4}. Best is trial 4 with value: 6.485985119119669.\n",
      "[I 2025-05-12 21:24:34,431] Trial 17 finished with value: 6.562805687518534 and parameters: {'n_estimators': 108, 'max_depth': 8, 'min_samples_split': 3}. Best is trial 4 with value: 6.485985119119669.\n",
      "[I 2025-05-12 21:24:34,753] Trial 18 finished with value: 7.200100977642489 and parameters: {'n_estimators': 77, 'max_depth': 6, 'min_samples_split': 5}. Best is trial 4 with value: 6.485985119119669.\n",
      "[I 2025-05-12 21:24:35,297] Trial 19 finished with value: 6.474591137183725 and parameters: {'n_estimators': 113, 'max_depth': 9, 'min_samples_split': 3}. Best is trial 19 with value: 6.474591137183725.\n",
      "[I 2025-05-12 21:24:35,817] Trial 20 finished with value: 6.560105492941498 and parameters: {'n_estimators': 118, 'max_depth': 8, 'min_samples_split': 3}. Best is trial 19 with value: 6.474591137183725.\n",
      "[I 2025-05-12 21:24:36,245] Trial 21 finished with value: 6.485156451160283 and parameters: {'n_estimators': 87, 'max_depth': 9, 'min_samples_split': 3}. Best is trial 19 with value: 6.474591137183725.\n",
      "[I 2025-05-12 21:24:36,575] Trial 22 finished with value: 6.615952483377286 and parameters: {'n_estimators': 64, 'max_depth': 9, 'min_samples_split': 2}. Best is trial 19 with value: 6.474591137183725.\n",
      "[I 2025-05-12 21:24:37,062] Trial 23 finished with value: 6.704638510234496 and parameters: {'n_estimators': 111, 'max_depth': 7, 'min_samples_split': 3}. Best is trial 19 with value: 6.474591137183725.\n",
      "[I 2025-05-12 21:24:37,455] Trial 24 finished with value: 6.656374697427573 and parameters: {'n_estimators': 84, 'max_depth': 9, 'min_samples_split': 5}. Best is trial 19 with value: 6.474591137183725.\n",
      "[I 2025-05-12 21:24:38,059] Trial 25 finished with value: 6.601429309091675 and parameters: {'n_estimators': 134, 'max_depth': 8, 'min_samples_split': 3}. Best is trial 19 with value: 6.474591137183725.\n",
      "[I 2025-05-12 21:24:38,327] Trial 26 finished with value: 7.928140331651998 and parameters: {'n_estimators': 65, 'max_depth': 6, 'min_samples_split': 10}. Best is trial 19 with value: 6.474591137183725.\n",
      "[I 2025-05-12 21:24:38,764] Trial 27 finished with value: 6.501867931335927 and parameters: {'n_estimators': 88, 'max_depth': 9, 'min_samples_split': 2}. Best is trial 19 with value: 6.474591137183725.\n",
      "[I 2025-05-12 21:24:39,270] Trial 28 finished with value: 6.7010399749451155 and parameters: {'n_estimators': 108, 'max_depth': 10, 'min_samples_split': 6}. Best is trial 19 with value: 6.474591137183725.\n",
      "[I 2025-05-12 21:24:40,002] Trial 29 finished with value: 6.779986824071792 and parameters: {'n_estimators': 174, 'max_depth': 7, 'min_samples_split': 3}. Best is trial 19 with value: 6.474591137183725.\n",
      "[I 2025-05-12 21:24:40,298] Trial 30 finished with value: 6.7226910243665365 and parameters: {'n_estimators': 63, 'max_depth': 8, 'min_samples_split': 4}. Best is trial 19 with value: 6.474591137183725.\n",
      "[I 2025-05-12 21:24:40,734] Trial 31 finished with value: 6.509451112654051 and parameters: {'n_estimators': 87, 'max_depth': 9, 'min_samples_split': 2}. Best is trial 19 with value: 6.474591137183725.\n",
      "[I 2025-05-12 21:24:41,160] Trial 32 finished with value: 6.509451112654051 and parameters: {'n_estimators': 87, 'max_depth': 9, 'min_samples_split': 2}. Best is trial 19 with value: 6.474591137183725.\n",
      "[I 2025-05-12 21:24:41,684] Trial 33 finished with value: 6.4651543945058485 and parameters: {'n_estimators': 105, 'max_depth': 10, 'min_samples_split': 2}. Best is trial 33 with value: 6.4651543945058485.\n",
      "[I 2025-05-12 21:24:42,325] Trial 34 finished with value: 6.476781718767437 and parameters: {'n_estimators': 124, 'max_depth': 10, 'min_samples_split': 3}. Best is trial 33 with value: 6.4651543945058485.\n",
      "[I 2025-05-12 21:24:42,996] Trial 35 finished with value: 7.1521807451558175 and parameters: {'n_estimators': 144, 'max_depth': 10, 'min_samples_split': 8}. Best is trial 33 with value: 6.4651543945058485.\n",
      "[I 2025-05-12 21:24:43,583] Trial 36 finished with value: 6.612104696072497 and parameters: {'n_estimators': 125, 'max_depth': 10, 'min_samples_split': 5}. Best is trial 33 with value: 6.4651543945058485.\n",
      "[I 2025-05-12 21:24:44,147] Trial 37 finished with value: 6.455405394295139 and parameters: {'n_estimators': 118, 'max_depth': 10, 'min_samples_split': 3}. Best is trial 37 with value: 6.455405394295139.\n",
      "[I 2025-05-12 21:24:44,724] Trial 38 finished with value: 6.714864071992036 and parameters: {'n_estimators': 122, 'max_depth': 10, 'min_samples_split': 6}. Best is trial 37 with value: 6.455405394295139.\n",
      "[I 2025-05-12 21:24:45,388] Trial 39 finished with value: 6.528263662911549 and parameters: {'n_estimators': 131, 'max_depth': 10, 'min_samples_split': 4}. Best is trial 37 with value: 6.455405394295139.\n",
      "[I 2025-05-12 21:24:45,952] Trial 40 finished with value: 6.4529674136485555 and parameters: {'n_estimators': 115, 'max_depth': 10, 'min_samples_split': 3}. Best is trial 40 with value: 6.4529674136485555.\n",
      "[I 2025-05-12 21:24:46,502] Trial 41 finished with value: 6.459585728628767 and parameters: {'n_estimators': 116, 'max_depth': 10, 'min_samples_split': 3}. Best is trial 40 with value: 6.4529674136485555.\n",
      "[I 2025-05-12 21:24:47,063] Trial 42 finished with value: 6.4529674136485555 and parameters: {'n_estimators': 115, 'max_depth': 10, 'min_samples_split': 3}. Best is trial 40 with value: 6.4529674136485555.\n",
      "[I 2025-05-12 21:24:47,586] Trial 43 finished with value: 6.542853684612692 and parameters: {'n_estimators': 104, 'max_depth': 10, 'min_samples_split': 4}. Best is trial 40 with value: 6.4529674136485555.\n",
      "[I 2025-05-12 21:24:48,260] Trial 44 finished with value: 6.5280543880852555 and parameters: {'n_estimators': 140, 'max_depth': 10, 'min_samples_split': 2}. Best is trial 40 with value: 6.4529674136485555.\n",
      "[I 2025-05-12 21:24:48,694] Trial 45 finished with value: 8.4171387838401 and parameters: {'n_estimators': 115, 'max_depth': 4, 'min_samples_split': 3}. Best is trial 40 with value: 6.4529674136485555.\n",
      "[I 2025-05-12 21:24:49,047] Trial 46 finished with value: 10.239294444390636 and parameters: {'n_estimators': 103, 'max_depth': 3, 'min_samples_split': 2}. Best is trial 40 with value: 6.4529674136485555.\n",
      "[I 2025-05-12 21:24:49,772] Trial 47 finished with value: 6.542596252611507 and parameters: {'n_estimators': 146, 'max_depth': 10, 'min_samples_split': 4}. Best is trial 40 with value: 6.4529674136485555.\n",
      "[I 2025-05-12 21:24:50,577] Trial 48 finished with value: 6.546764395607977 and parameters: {'n_estimators': 168, 'max_depth': 9, 'min_samples_split': 2}. Best is trial 40 with value: 6.4529674136485555.\n",
      "[I 2025-05-12 21:24:51,178] Trial 49 finished with value: 6.624358313919646 and parameters: {'n_estimators': 131, 'max_depth': 10, 'min_samples_split': 5}. Best is trial 40 with value: 6.4529674136485555.\n",
      "[I 2025-05-12 21:24:51,734] Trial 50 finished with value: 7.10294602263711 and parameters: {'n_estimators': 121, 'max_depth': 10, 'min_samples_split': 8}. Best is trial 40 with value: 6.4529674136485555.\n",
      "[I 2025-05-12 21:24:52,270] Trial 51 finished with value: 6.473535424305701 and parameters: {'n_estimators': 115, 'max_depth': 9, 'min_samples_split': 3}. Best is trial 40 with value: 6.4529674136485555.\n",
      "[I 2025-05-12 21:24:52,772] Trial 52 finished with value: 6.458815374003386 and parameters: {'n_estimators': 102, 'max_depth': 10, 'min_samples_split': 3}. Best is trial 40 with value: 6.4529674136485555.\n",
      "[I 2025-05-12 21:24:53,259] Trial 53 finished with value: 6.460527419233923 and parameters: {'n_estimators': 101, 'max_depth': 10, 'min_samples_split': 3}. Best is trial 40 with value: 6.4529674136485555.\n",
      "[I 2025-05-12 21:24:53,764] Trial 54 finished with value: 6.525354176703718 and parameters: {'n_estimators': 98, 'max_depth': 10, 'min_samples_split': 4}. Best is trial 40 with value: 6.4529674136485555.\n",
      "[I 2025-05-12 21:24:54,409] Trial 55 finished with value: 6.484247145963752 and parameters: {'n_estimators': 128, 'max_depth': 10, 'min_samples_split': 3}. Best is trial 40 with value: 6.4529674136485555.\n",
      "[I 2025-05-12 21:24:54,859] Trial 56 finished with value: 6.5452768595360835 and parameters: {'n_estimators': 94, 'max_depth': 9, 'min_samples_split': 4}. Best is trial 40 with value: 6.4529674136485555.\n",
      "[I 2025-05-12 21:24:55,379] Trial 57 finished with value: 6.451779690433767 and parameters: {'n_estimators': 110, 'max_depth': 10, 'min_samples_split': 3}. Best is trial 57 with value: 6.451779690433767.\n",
      "[I 2025-05-12 21:24:55,949] Trial 58 finished with value: 6.542484632331437 and parameters: {'n_estimators': 118, 'max_depth': 9, 'min_samples_split': 4}. Best is trial 57 with value: 6.451779690433767.\n",
      "[I 2025-05-12 21:24:56,493] Trial 59 finished with value: 6.453501503398144 and parameters: {'n_estimators': 111, 'max_depth': 10, 'min_samples_split': 3}. Best is trial 57 with value: 6.451779690433767.\n",
      "[I 2025-05-12 21:24:56,915] Trial 60 finished with value: 7.558449637229383 and parameters: {'n_estimators': 110, 'max_depth': 5, 'min_samples_split': 3}. Best is trial 57 with value: 6.451779690433767.\n",
      "[I 2025-05-12 21:24:57,484] Trial 61 finished with value: 6.451059867058539 and parameters: {'n_estimators': 114, 'max_depth': 10, 'min_samples_split': 3}. Best is trial 61 with value: 6.451059867058539.\n",
      "[I 2025-05-12 21:24:58,487] Trial 62 finished with value: 6.528087678593742 and parameters: {'n_estimators': 200, 'max_depth': 9, 'min_samples_split': 3}. Best is trial 61 with value: 6.451059867058539.\n",
      "[I 2025-05-12 21:24:59,019] Trial 63 finished with value: 6.52761612148475 and parameters: {'n_estimators': 109, 'max_depth': 10, 'min_samples_split': 4}. Best is trial 61 with value: 6.451059867058539.\n",
      "[I 2025-05-12 21:24:59,667] Trial 64 finished with value: 6.673115134135706 and parameters: {'n_estimators': 138, 'max_depth': 9, 'min_samples_split': 5}. Best is trial 61 with value: 6.451059867058539.\n",
      "[I 2025-05-12 21:25:00,147] Trial 65 finished with value: 6.4415763935061 and parameters: {'n_estimators': 93, 'max_depth': 10, 'min_samples_split': 2}. Best is trial 65 with value: 6.4415763935061.\n",
      "[I 2025-05-12 21:25:00,627] Trial 66 finished with value: 6.475538253169621 and parameters: {'n_estimators': 92, 'max_depth': 9, 'min_samples_split': 2}. Best is trial 65 with value: 6.4415763935061.\n",
      "[I 2025-05-12 21:25:01,048] Trial 67 finished with value: 6.51940629382207 and parameters: {'n_estimators': 80, 'max_depth': 10, 'min_samples_split': 2}. Best is trial 65 with value: 6.4415763935061.\n",
      "[I 2025-05-12 21:25:01,578] Trial 68 finished with value: 6.565134626677228 and parameters: {'n_estimators': 113, 'max_depth': 8, 'min_samples_split': 2}. Best is trial 65 with value: 6.4415763935061.\n",
      "[I 2025-05-12 21:25:02,216] Trial 69 finished with value: 6.484247145963752 and parameters: {'n_estimators': 128, 'max_depth': 10, 'min_samples_split': 3}. Best is trial 65 with value: 6.4415763935061.\n",
      "[I 2025-05-12 21:25:02,775] Trial 70 finished with value: 6.48221146601649 and parameters: {'n_estimators': 107, 'max_depth': 9, 'min_samples_split': 2}. Best is trial 65 with value: 6.4415763935061.\n",
      "[I 2025-05-12 21:25:03,263] Trial 71 finished with value: 6.468021881646756 and parameters: {'n_estimators': 98, 'max_depth': 10, 'min_samples_split': 3}. Best is trial 65 with value: 6.4415763935061.\n",
      "[I 2025-05-12 21:25:03,834] Trial 72 finished with value: 6.455405394295139 and parameters: {'n_estimators': 118, 'max_depth': 10, 'min_samples_split': 3}. Best is trial 65 with value: 6.4415763935061.\n",
      "[I 2025-05-12 21:25:04,413] Trial 73 finished with value: 6.47184077778643 and parameters: {'n_estimators': 120, 'max_depth': 10, 'min_samples_split': 3}. Best is trial 65 with value: 6.4415763935061.\n",
      "[I 2025-05-12 21:25:05,026] Trial 74 finished with value: 6.526339296559129 and parameters: {'n_estimators': 125, 'max_depth': 10, 'min_samples_split': 4}. Best is trial 65 with value: 6.4415763935061.\n",
      "[I 2025-05-12 21:25:05,555] Trial 75 finished with value: 6.453646800210485 and parameters: {'n_estimators': 113, 'max_depth': 10, 'min_samples_split': 3}. Best is trial 65 with value: 6.4415763935061.\n",
      "[I 2025-05-12 21:25:06,010] Trial 76 finished with value: 7.062823405255048 and parameters: {'n_estimators': 114, 'max_depth': 6, 'min_samples_split': 2}. Best is trial 65 with value: 6.4415763935061.\n",
      "[I 2025-05-12 21:25:06,674] Trial 77 finished with value: 6.5021554311856455 and parameters: {'n_estimators': 135, 'max_depth': 10, 'min_samples_split': 3}. Best is trial 65 with value: 6.4415763935061.\n",
      "[I 2025-05-12 21:25:07,177] Trial 78 finished with value: 7.484105108662026 and parameters: {'n_estimators': 106, 'max_depth': 9, 'min_samples_split': 10}. Best is trial 65 with value: 6.4415763935061.\n",
      "[I 2025-05-12 21:25:07,759] Trial 79 finished with value: 6.456657250614055 and parameters: {'n_estimators': 111, 'max_depth': 10, 'min_samples_split': 2}. Best is trial 65 with value: 6.4415763935061.\n",
      "[I 2025-05-12 21:25:08,211] Trial 80 finished with value: 6.517967305850238 and parameters: {'n_estimators': 95, 'max_depth': 10, 'min_samples_split': 4}. Best is trial 65 with value: 6.4415763935061.\n",
      "[I 2025-05-12 21:25:08,809] Trial 81 finished with value: 6.449240639831195 and parameters: {'n_estimators': 119, 'max_depth': 10, 'min_samples_split': 3}. Best is trial 65 with value: 6.4415763935061.\n",
      "[I 2025-05-12 21:25:09,461] Trial 82 finished with value: 6.476684948000451 and parameters: {'n_estimators': 122, 'max_depth': 10, 'min_samples_split': 3}. Best is trial 65 with value: 6.4415763935061.\n",
      "[I 2025-05-12 21:25:10,022] Trial 83 finished with value: 6.453501503398144 and parameters: {'n_estimators': 111, 'max_depth': 10, 'min_samples_split': 3}. Best is trial 65 with value: 6.4415763935061.\n",
      "[I 2025-05-12 21:25:10,573] Trial 84 finished with value: 6.453501503398144 and parameters: {'n_estimators': 111, 'max_depth': 10, 'min_samples_split': 3}. Best is trial 65 with value: 6.4415763935061.\n",
      "[I 2025-05-12 21:25:11,088] Trial 85 finished with value: 6.492755189459641 and parameters: {'n_estimators': 105, 'max_depth': 9, 'min_samples_split': 2}. Best is trial 65 with value: 6.4415763935061.\n",
      "[I 2025-05-12 21:25:11,505] Trial 86 finished with value: 6.852134145298609 and parameters: {'n_estimators': 90, 'max_depth': 10, 'min_samples_split': 7}. Best is trial 65 with value: 6.4415763935061.\n",
      "[I 2025-05-12 21:25:11,969] Trial 87 finished with value: 6.476660920440334 and parameters: {'n_estimators': 101, 'max_depth': 9, 'min_samples_split': 3}. Best is trial 65 with value: 6.4415763935061.\n",
      "[I 2025-05-12 21:25:12,583] Trial 88 finished with value: 6.526918596430133 and parameters: {'n_estimators': 127, 'max_depth': 10, 'min_samples_split': 4}. Best is trial 65 with value: 6.4415763935061.\n",
      "[I 2025-05-12 21:25:12,985] Trial 89 finished with value: 6.497355244877596 and parameters: {'n_estimators': 72, 'max_depth': 10, 'min_samples_split': 3}. Best is trial 65 with value: 6.4415763935061.\n",
      "[I 2025-05-12 21:25:13,554] Trial 90 finished with value: 6.465149807726196 and parameters: {'n_estimators': 109, 'max_depth': 10, 'min_samples_split': 2}. Best is trial 65 with value: 6.4415763935061.\n",
      "[I 2025-05-12 21:25:14,130] Trial 91 finished with value: 6.461522787084899 and parameters: {'n_estimators': 112, 'max_depth': 10, 'min_samples_split': 3}. Best is trial 65 with value: 6.4415763935061.\n",
      "[I 2025-05-12 21:25:14,717] Trial 92 finished with value: 6.459585728628767 and parameters: {'n_estimators': 116, 'max_depth': 10, 'min_samples_split': 3}. Best is trial 65 with value: 6.4415763935061.\n",
      "[I 2025-05-12 21:25:15,348] Trial 93 finished with value: 6.530056153468331 and parameters: {'n_estimators': 123, 'max_depth': 10, 'min_samples_split': 4}. Best is trial 65 with value: 6.4415763935061.\n",
      "[I 2025-05-12 21:25:15,959] Trial 94 finished with value: 6.47184077778643 and parameters: {'n_estimators': 120, 'max_depth': 10, 'min_samples_split': 3}. Best is trial 65 with value: 6.4415763935061.\n",
      "[I 2025-05-12 21:25:16,473] Trial 95 finished with value: 6.523228636885372 and parameters: {'n_estimators': 107, 'max_depth': 10, 'min_samples_split': 4}. Best is trial 65 with value: 6.4415763935061.\n",
      "[I 2025-05-12 21:25:17,128] Trial 96 finished with value: 6.495240728294614 and parameters: {'n_estimators': 132, 'max_depth': 9, 'min_samples_split': 3}. Best is trial 65 with value: 6.4415763935061.\n",
      "[I 2025-05-12 21:25:17,654] Trial 97 finished with value: 6.460527419233923 and parameters: {'n_estimators': 101, 'max_depth': 10, 'min_samples_split': 3}. Best is trial 65 with value: 6.4415763935061.\n",
      "[I 2025-05-12 21:25:18,230] Trial 98 finished with value: 6.482540766512092 and parameters: {'n_estimators': 117, 'max_depth': 9, 'min_samples_split': 2}. Best is trial 65 with value: 6.4415763935061.\n",
      "[I 2025-05-12 21:25:18,768] Trial 99 finished with value: 6.518145473601197 and parameters: {'n_estimators': 113, 'max_depth': 10, 'min_samples_split': 4}. Best is trial 65 with value: 6.4415763935061.\n"
     ]
    },
    {
     "name": "stdout",
     "output_type": "stream",
     "text": [
      "Melhores parâmetros: {'n_estimators': 93, 'max_depth': 10, 'min_samples_split': 2}\n",
      "Melhor métrica: 6.4415763935061\n"
     ]
    }
   ],
   "source": [
    "def objective(trial):\n",
    "    params = {\n",
    "        'n_estimators': trial.suggest_int('n_estimators', 50, 200),\n",
    "        'max_depth': trial.suggest_int('max_depth', 3, 10),\n",
    "        'min_samples_split': trial.suggest_int('min_samples_split', 2, 10)\n",
    "    }\n",
    "\n",
    "    model = RandomForestRegressor(**params, random_state=42)\n",
    "    score = cross_val_score(\n",
    "        model, X_train, y_train, cv=3,\n",
    "        scoring='neg_root_mean_squared_error'\n",
    "    ).mean()\n",
    "\n",
    "    return -score\n",
    "\n",
    "study = optuna.create_study(direction='minimize')\n",
    "study.optimize(objective, n_trials=100)\n",
    "\n",
    "best_params = study.best_params\n",
    "best_metric = study.best_value\n",
    "\n",
    "print(f\"Melhores parâmetros: {best_params}\")\n",
    "print(f\"Melhor métrica: {best_metric}\")"
   ]
  },
  {
   "cell_type": "markdown",
   "id": "83193cdc",
   "metadata": {},
   "source": [
    "### Treino e avaliação final"
   ]
  },
  {
   "cell_type": "code",
   "execution_count": 19,
   "id": "033837fa",
   "metadata": {},
   "outputs": [
    {
     "name": "stdout",
     "output_type": "stream",
     "text": [
      "RMSE no conjunto de teste: 5.50\n"
     ]
    }
   ],
   "source": [
    "best_model = RandomForestRegressor(**best_params, random_state=42)\n",
    "best_model.fit(X_train, y_train)\n",
    "\n",
    "y_pred = best_model.predict(X_test)\n",
    "rmse = root_mean_squared_error(y_test, y_pred)\n",
    "print(f\"RMSE no conjunto de teste: {rmse:.2f}\")"
   ]
  },
  {
   "cell_type": "markdown",
   "id": "416a4584",
   "metadata": {},
   "source": [
    "### Salvar modelo"
   ]
  },
  {
   "cell_type": "code",
   "execution_count": 20,
   "id": "774798bf",
   "metadata": {},
   "outputs": [
    {
     "data": {
      "text/plain": [
       "['modelo_inadimplencia.pkl']"
      ]
     },
     "execution_count": 20,
     "metadata": {},
     "output_type": "execute_result"
    }
   ],
   "source": [
    "joblib.dump(best_model, 'modelo_inadimplencia.pkl')"
   ]
  },
  {
   "cell_type": "markdown",
   "id": "dcc60090",
   "metadata": {},
   "source": [
    "### Abrir Base Prospects"
   ]
  },
  {
   "cell_type": "code",
   "execution_count": 22,
   "id": "bdaf9644",
   "metadata": {},
   "outputs": [],
   "source": [
    "df_prospects = pd.read_csv('./datasets/prospects.csv')"
   ]
  },
  {
   "cell_type": "code",
   "execution_count": 23,
   "id": "c037c7fe",
   "metadata": {},
   "outputs": [
    {
     "name": "stdout",
     "output_type": "stream",
     "text": [
      "<class 'pandas.core.frame.DataFrame'>\n",
      "RangeIndex: 500 entries, 0 to 499\n",
      "Data columns (total 23 columns):\n",
      " #   Column                 Non-Null Count  Dtype \n",
      "---  ------                 --------------  ----- \n",
      " 0   ID_Prospect            500 non-null    object\n",
      " 1   Nome                   500 non-null    object\n",
      " 2   Idade                  500 non-null    int64 \n",
      " 3   Viagens                500 non-null    int64 \n",
      " 4   Restaurantes           500 non-null    int64 \n",
      " 5   Entretenimento         500 non-null    int64 \n",
      " 6   Cashback               500 non-null    int64 \n",
      " 7   Compras online         500 non-null    int64 \n",
      " 8   Farmácias              500 non-null    int64 \n",
      " 9   Programas de Milhagem  500 non-null    int64 \n",
      " 10  Postos de Combustível  500 non-null    int64 \n",
      " 11  Mercados               500 non-null    int64 \n",
      " 12  Cidade                 500 non-null    object\n",
      " 13  Cargo                  500 non-null    object\n",
      " 14  Estado Civil           500 non-null    object\n",
      " 15  Tempo na Empresa       500 non-null    int64 \n",
      " 16  Pessoas em Casa        500 non-null    int64 \n",
      " 17  Moradia                500 non-null    object\n",
      " 18  Possui Carro           500 non-null    bool  \n",
      " 19  Renda                  500 non-null    int64 \n",
      " 20  Investimentos          500 non-null    int64 \n",
      " 21  Ativos                 500 non-null    int64 \n",
      " 22  Dívidas                500 non-null    int64 \n",
      "dtypes: bool(1), int64(16), object(6)\n",
      "memory usage: 86.6+ KB\n"
     ]
    }
   ],
   "source": [
    "df_prospects.info()"
   ]
  },
  {
   "cell_type": "markdown",
   "id": "4db9af68",
   "metadata": {},
   "source": [
    "### Visualizar primeiros e últimos registros"
   ]
  },
  {
   "cell_type": "code",
   "execution_count": 24,
   "id": "296928ee",
   "metadata": {},
   "outputs": [
    {
     "name": "stdout",
     "output_type": "stream",
     "text": [
      "Primeiros registros:\n"
     ]
    },
    {
     "data": {
      "text/html": [
       "<div>\n",
       "<style scoped>\n",
       "    .dataframe tbody tr th:only-of-type {\n",
       "        vertical-align: middle;\n",
       "    }\n",
       "\n",
       "    .dataframe tbody tr th {\n",
       "        vertical-align: top;\n",
       "    }\n",
       "\n",
       "    .dataframe thead th {\n",
       "        text-align: right;\n",
       "    }\n",
       "</style>\n",
       "<table border=\"1\" class=\"dataframe\">\n",
       "  <thead>\n",
       "    <tr style=\"text-align: right;\">\n",
       "      <th></th>\n",
       "      <th>ID_Prospect</th>\n",
       "      <th>Nome</th>\n",
       "      <th>Idade</th>\n",
       "      <th>Viagens</th>\n",
       "      <th>Restaurantes</th>\n",
       "      <th>Entretenimento</th>\n",
       "      <th>Cashback</th>\n",
       "      <th>Compras online</th>\n",
       "      <th>Farmácias</th>\n",
       "      <th>Programas de Milhagem</th>\n",
       "      <th>Postos de Combustível</th>\n",
       "      <th>Mercados</th>\n",
       "      <th>Cidade</th>\n",
       "      <th>Cargo</th>\n",
       "      <th>Estado Civil</th>\n",
       "      <th>Tempo na Empresa</th>\n",
       "      <th>Pessoas em Casa</th>\n",
       "      <th>Moradia</th>\n",
       "      <th>Possui Carro</th>\n",
       "      <th>Renda</th>\n",
       "      <th>Investimentos</th>\n",
       "      <th>Ativos</th>\n",
       "      <th>Dívidas</th>\n",
       "    </tr>\n",
       "  </thead>\n",
       "  <tbody>\n",
       "    <tr>\n",
       "      <th>0</th>\n",
       "      <td>de943fb0-5e23-4e7f-8130-1aa76b33f4dc</td>\n",
       "      <td>Francisco Fonseca</td>\n",
       "      <td>24</td>\n",
       "      <td>1</td>\n",
       "      <td>1</td>\n",
       "      <td>4</td>\n",
       "      <td>5</td>\n",
       "      <td>4</td>\n",
       "      <td>1</td>\n",
       "      <td>5</td>\n",
       "      <td>1</td>\n",
       "      <td>2</td>\n",
       "      <td>Brasília</td>\n",
       "      <td>Coach</td>\n",
       "      <td>Divorciado</td>\n",
       "      <td>14</td>\n",
       "      <td>6</td>\n",
       "      <td>Próprio</td>\n",
       "      <td>True</td>\n",
       "      <td>46006</td>\n",
       "      <td>736831</td>\n",
       "      <td>371505</td>\n",
       "      <td>88180</td>\n",
       "    </tr>\n",
       "    <tr>\n",
       "      <th>1</th>\n",
       "      <td>5050d0e5-5d35-4cb1-a208-596a3ee4ac1d</td>\n",
       "      <td>Melissa Mendes</td>\n",
       "      <td>58</td>\n",
       "      <td>1</td>\n",
       "      <td>4</td>\n",
       "      <td>5</td>\n",
       "      <td>3</td>\n",
       "      <td>2</td>\n",
       "      <td>3</td>\n",
       "      <td>3</td>\n",
       "      <td>1</td>\n",
       "      <td>2</td>\n",
       "      <td>São Paulo</td>\n",
       "      <td>Especialista em agronegócios</td>\n",
       "      <td>Solteiro</td>\n",
       "      <td>4</td>\n",
       "      <td>2</td>\n",
       "      <td>Próprio</td>\n",
       "      <td>False</td>\n",
       "      <td>38086</td>\n",
       "      <td>374702</td>\n",
       "      <td>1828554</td>\n",
       "      <td>31206</td>\n",
       "    </tr>\n",
       "    <tr>\n",
       "      <th>2</th>\n",
       "      <td>435005c0-50ea-4755-acef-b4362c08dccd</td>\n",
       "      <td>Lucca Costa</td>\n",
       "      <td>18</td>\n",
       "      <td>2</td>\n",
       "      <td>4</td>\n",
       "      <td>1</td>\n",
       "      <td>1</td>\n",
       "      <td>3</td>\n",
       "      <td>1</td>\n",
       "      <td>3</td>\n",
       "      <td>2</td>\n",
       "      <td>2</td>\n",
       "      <td>Campo Grande</td>\n",
       "      <td>Cobaia Médica</td>\n",
       "      <td>Divorciado</td>\n",
       "      <td>20</td>\n",
       "      <td>6</td>\n",
       "      <td>Próprio</td>\n",
       "      <td>False</td>\n",
       "      <td>42531</td>\n",
       "      <td>933858</td>\n",
       "      <td>1295274</td>\n",
       "      <td>178144</td>\n",
       "    </tr>\n",
       "    <tr>\n",
       "      <th>3</th>\n",
       "      <td>4e9951b4-1790-484c-ab25-189aa9089241</td>\n",
       "      <td>Francisco da Luz</td>\n",
       "      <td>20</td>\n",
       "      <td>4</td>\n",
       "      <td>3</td>\n",
       "      <td>1</td>\n",
       "      <td>4</td>\n",
       "      <td>1</td>\n",
       "      <td>4</td>\n",
       "      <td>2</td>\n",
       "      <td>2</td>\n",
       "      <td>4</td>\n",
       "      <td>Manaus</td>\n",
       "      <td>Classificador contábil</td>\n",
       "      <td>Solteiro</td>\n",
       "      <td>11</td>\n",
       "      <td>6</td>\n",
       "      <td>Próprio</td>\n",
       "      <td>True</td>\n",
       "      <td>16112</td>\n",
       "      <td>698799</td>\n",
       "      <td>1574952</td>\n",
       "      <td>434757</td>\n",
       "    </tr>\n",
       "    <tr>\n",
       "      <th>4</th>\n",
       "      <td>cb434840-2bf0-4516-8a79-8c9ada489c03</td>\n",
       "      <td>Sr. Vinícius Costela</td>\n",
       "      <td>22</td>\n",
       "      <td>1</td>\n",
       "      <td>1</td>\n",
       "      <td>4</td>\n",
       "      <td>3</td>\n",
       "      <td>5</td>\n",
       "      <td>2</td>\n",
       "      <td>3</td>\n",
       "      <td>1</td>\n",
       "      <td>2</td>\n",
       "      <td>Goiânia</td>\n",
       "      <td>Sapateiro</td>\n",
       "      <td>Solteiro</td>\n",
       "      <td>0</td>\n",
       "      <td>3</td>\n",
       "      <td>Próprio</td>\n",
       "      <td>True</td>\n",
       "      <td>3059</td>\n",
       "      <td>920950</td>\n",
       "      <td>449866</td>\n",
       "      <td>224609</td>\n",
       "    </tr>\n",
       "    <tr>\n",
       "      <th>5</th>\n",
       "      <td>cbadf676-7690-4837-891d-9f9d7eb20d95</td>\n",
       "      <td>Emanuelly da Mota</td>\n",
       "      <td>20</td>\n",
       "      <td>5</td>\n",
       "      <td>5</td>\n",
       "      <td>3</td>\n",
       "      <td>1</td>\n",
       "      <td>1</td>\n",
       "      <td>5</td>\n",
       "      <td>3</td>\n",
       "      <td>5</td>\n",
       "      <td>1</td>\n",
       "      <td>Porto Alegre</td>\n",
       "      <td>Paginador</td>\n",
       "      <td>Divorciado</td>\n",
       "      <td>19</td>\n",
       "      <td>5</td>\n",
       "      <td>Alugado</td>\n",
       "      <td>False</td>\n",
       "      <td>23682</td>\n",
       "      <td>796881</td>\n",
       "      <td>1572953</td>\n",
       "      <td>127732</td>\n",
       "    </tr>\n",
       "    <tr>\n",
       "      <th>6</th>\n",
       "      <td>2b07d568-893c-4199-8927-b47ce77afeef</td>\n",
       "      <td>Arthur Gabriel da Cruz</td>\n",
       "      <td>76</td>\n",
       "      <td>3</td>\n",
       "      <td>5</td>\n",
       "      <td>3</td>\n",
       "      <td>2</td>\n",
       "      <td>1</td>\n",
       "      <td>3</td>\n",
       "      <td>4</td>\n",
       "      <td>1</td>\n",
       "      <td>1</td>\n",
       "      <td>São Paulo</td>\n",
       "      <td>Digitador</td>\n",
       "      <td>Viúvo</td>\n",
       "      <td>15</td>\n",
       "      <td>5</td>\n",
       "      <td>Alugado</td>\n",
       "      <td>True</td>\n",
       "      <td>27069</td>\n",
       "      <td>598939</td>\n",
       "      <td>898573</td>\n",
       "      <td>494353</td>\n",
       "    </tr>\n",
       "    <tr>\n",
       "      <th>7</th>\n",
       "      <td>ca81a1c4-9cc5-4519-a781-8bc6509a6e39</td>\n",
       "      <td>Benicio Barbosa</td>\n",
       "      <td>76</td>\n",
       "      <td>5</td>\n",
       "      <td>1</td>\n",
       "      <td>1</td>\n",
       "      <td>5</td>\n",
       "      <td>4</td>\n",
       "      <td>4</td>\n",
       "      <td>4</td>\n",
       "      <td>3</td>\n",
       "      <td>1</td>\n",
       "      <td>Florianópolis</td>\n",
       "      <td>Metalúrgico</td>\n",
       "      <td>Casado</td>\n",
       "      <td>15</td>\n",
       "      <td>5</td>\n",
       "      <td>Próprio</td>\n",
       "      <td>True</td>\n",
       "      <td>47966</td>\n",
       "      <td>932984</td>\n",
       "      <td>456768</td>\n",
       "      <td>347189</td>\n",
       "    </tr>\n",
       "    <tr>\n",
       "      <th>8</th>\n",
       "      <td>c2fa002d-97ca-4abf-b473-098651f7dd58</td>\n",
       "      <td>Danilo Novaes</td>\n",
       "      <td>30</td>\n",
       "      <td>5</td>\n",
       "      <td>3</td>\n",
       "      <td>3</td>\n",
       "      <td>5</td>\n",
       "      <td>3</td>\n",
       "      <td>2</td>\n",
       "      <td>1</td>\n",
       "      <td>1</td>\n",
       "      <td>4</td>\n",
       "      <td>Fortaleza</td>\n",
       "      <td>Engenheiro florestal</td>\n",
       "      <td>Viúvo</td>\n",
       "      <td>12</td>\n",
       "      <td>2</td>\n",
       "      <td>Próprio</td>\n",
       "      <td>False</td>\n",
       "      <td>1527</td>\n",
       "      <td>228554</td>\n",
       "      <td>336970</td>\n",
       "      <td>331813</td>\n",
       "    </tr>\n",
       "    <tr>\n",
       "      <th>9</th>\n",
       "      <td>f7a15aaf-9b2c-4094-abb7-d7882b9054e0</td>\n",
       "      <td>Rebeca Aragão</td>\n",
       "      <td>40</td>\n",
       "      <td>1</td>\n",
       "      <td>1</td>\n",
       "      <td>4</td>\n",
       "      <td>2</td>\n",
       "      <td>4</td>\n",
       "      <td>3</td>\n",
       "      <td>3</td>\n",
       "      <td>2</td>\n",
       "      <td>4</td>\n",
       "      <td>Belo Horizonte</td>\n",
       "      <td>Lixeiro/Coletor de lixo</td>\n",
       "      <td>Divorciado</td>\n",
       "      <td>3</td>\n",
       "      <td>4</td>\n",
       "      <td>Próprio</td>\n",
       "      <td>True</td>\n",
       "      <td>39149</td>\n",
       "      <td>64118</td>\n",
       "      <td>1316458</td>\n",
       "      <td>97921</td>\n",
       "    </tr>\n",
       "  </tbody>\n",
       "</table>\n",
       "</div>"
      ],
      "text/plain": [
       "                            ID_Prospect                    Nome  Idade  \\\n",
       "0  de943fb0-5e23-4e7f-8130-1aa76b33f4dc       Francisco Fonseca     24   \n",
       "1  5050d0e5-5d35-4cb1-a208-596a3ee4ac1d          Melissa Mendes     58   \n",
       "2  435005c0-50ea-4755-acef-b4362c08dccd             Lucca Costa     18   \n",
       "3  4e9951b4-1790-484c-ab25-189aa9089241        Francisco da Luz     20   \n",
       "4  cb434840-2bf0-4516-8a79-8c9ada489c03    Sr. Vinícius Costela     22   \n",
       "5  cbadf676-7690-4837-891d-9f9d7eb20d95       Emanuelly da Mota     20   \n",
       "6  2b07d568-893c-4199-8927-b47ce77afeef  Arthur Gabriel da Cruz     76   \n",
       "7  ca81a1c4-9cc5-4519-a781-8bc6509a6e39         Benicio Barbosa     76   \n",
       "8  c2fa002d-97ca-4abf-b473-098651f7dd58           Danilo Novaes     30   \n",
       "9  f7a15aaf-9b2c-4094-abb7-d7882b9054e0           Rebeca Aragão     40   \n",
       "\n",
       "   Viagens  Restaurantes  Entretenimento  Cashback  Compras online  Farmácias  \\\n",
       "0        1             1               4         5               4          1   \n",
       "1        1             4               5         3               2          3   \n",
       "2        2             4               1         1               3          1   \n",
       "3        4             3               1         4               1          4   \n",
       "4        1             1               4         3               5          2   \n",
       "5        5             5               3         1               1          5   \n",
       "6        3             5               3         2               1          3   \n",
       "7        5             1               1         5               4          4   \n",
       "8        5             3               3         5               3          2   \n",
       "9        1             1               4         2               4          3   \n",
       "\n",
       "   Programas de Milhagem  Postos de Combustível  Mercados          Cidade  \\\n",
       "0                      5                      1         2        Brasília   \n",
       "1                      3                      1         2       São Paulo   \n",
       "2                      3                      2         2    Campo Grande   \n",
       "3                      2                      2         4          Manaus   \n",
       "4                      3                      1         2         Goiânia   \n",
       "5                      3                      5         1    Porto Alegre   \n",
       "6                      4                      1         1       São Paulo   \n",
       "7                      4                      3         1   Florianópolis   \n",
       "8                      1                      1         4       Fortaleza   \n",
       "9                      3                      2         4  Belo Horizonte   \n",
       "\n",
       "                          Cargo Estado Civil  Tempo na Empresa  \\\n",
       "0                         Coach   Divorciado                14   \n",
       "1  Especialista em agronegócios     Solteiro                 4   \n",
       "2                 Cobaia Médica   Divorciado                20   \n",
       "3        Classificador contábil     Solteiro                11   \n",
       "4                     Sapateiro     Solteiro                 0   \n",
       "5                     Paginador   Divorciado                19   \n",
       "6                     Digitador        Viúvo                15   \n",
       "7                   Metalúrgico       Casado                15   \n",
       "8          Engenheiro florestal        Viúvo                12   \n",
       "9       Lixeiro/Coletor de lixo   Divorciado                 3   \n",
       "\n",
       "   Pessoas em Casa  Moradia  Possui Carro  Renda  Investimentos   Ativos  \\\n",
       "0                6  Próprio          True  46006         736831   371505   \n",
       "1                2  Próprio         False  38086         374702  1828554   \n",
       "2                6  Próprio         False  42531         933858  1295274   \n",
       "3                6  Próprio          True  16112         698799  1574952   \n",
       "4                3  Próprio          True   3059         920950   449866   \n",
       "5                5  Alugado         False  23682         796881  1572953   \n",
       "6                5  Alugado          True  27069         598939   898573   \n",
       "7                5  Próprio          True  47966         932984   456768   \n",
       "8                2  Próprio         False   1527         228554   336970   \n",
       "9                4  Próprio          True  39149          64118  1316458   \n",
       "\n",
       "   Dívidas  \n",
       "0    88180  \n",
       "1    31206  \n",
       "2   178144  \n",
       "3   434757  \n",
       "4   224609  \n",
       "5   127732  \n",
       "6   494353  \n",
       "7   347189  \n",
       "8   331813  \n",
       "9    97921  "
      ]
     },
     "metadata": {},
     "output_type": "display_data"
    }
   ],
   "source": [
    "print(\"Primeiros registros:\")\n",
    "display(df_prospects.head(10))"
   ]
  },
  {
   "cell_type": "code",
   "execution_count": 25,
   "id": "25a9f6e9",
   "metadata": {},
   "outputs": [
    {
     "name": "stdout",
     "output_type": "stream",
     "text": [
      "\n",
      "Últimos registros:\n"
     ]
    },
    {
     "data": {
      "text/html": [
       "<div>\n",
       "<style scoped>\n",
       "    .dataframe tbody tr th:only-of-type {\n",
       "        vertical-align: middle;\n",
       "    }\n",
       "\n",
       "    .dataframe tbody tr th {\n",
       "        vertical-align: top;\n",
       "    }\n",
       "\n",
       "    .dataframe thead th {\n",
       "        text-align: right;\n",
       "    }\n",
       "</style>\n",
       "<table border=\"1\" class=\"dataframe\">\n",
       "  <thead>\n",
       "    <tr style=\"text-align: right;\">\n",
       "      <th></th>\n",
       "      <th>ID_Prospect</th>\n",
       "      <th>Nome</th>\n",
       "      <th>Idade</th>\n",
       "      <th>Viagens</th>\n",
       "      <th>Restaurantes</th>\n",
       "      <th>Entretenimento</th>\n",
       "      <th>Cashback</th>\n",
       "      <th>Compras online</th>\n",
       "      <th>Farmácias</th>\n",
       "      <th>Programas de Milhagem</th>\n",
       "      <th>Postos de Combustível</th>\n",
       "      <th>Mercados</th>\n",
       "      <th>Cidade</th>\n",
       "      <th>Cargo</th>\n",
       "      <th>Estado Civil</th>\n",
       "      <th>Tempo na Empresa</th>\n",
       "      <th>Pessoas em Casa</th>\n",
       "      <th>Moradia</th>\n",
       "      <th>Possui Carro</th>\n",
       "      <th>Renda</th>\n",
       "      <th>Investimentos</th>\n",
       "      <th>Ativos</th>\n",
       "      <th>Dívidas</th>\n",
       "    </tr>\n",
       "  </thead>\n",
       "  <tbody>\n",
       "    <tr>\n",
       "      <th>490</th>\n",
       "      <td>3a6575d6-bdee-46d8-b0a2-23e19f85d7f3</td>\n",
       "      <td>Elisa Silveira</td>\n",
       "      <td>49</td>\n",
       "      <td>1</td>\n",
       "      <td>4</td>\n",
       "      <td>3</td>\n",
       "      <td>3</td>\n",
       "      <td>5</td>\n",
       "      <td>5</td>\n",
       "      <td>1</td>\n",
       "      <td>3</td>\n",
       "      <td>2</td>\n",
       "      <td>São Paulo</td>\n",
       "      <td>Engenheiro de processos</td>\n",
       "      <td>Divorciado</td>\n",
       "      <td>8</td>\n",
       "      <td>3</td>\n",
       "      <td>Alugado</td>\n",
       "      <td>True</td>\n",
       "      <td>12637</td>\n",
       "      <td>6163</td>\n",
       "      <td>274584</td>\n",
       "      <td>406907</td>\n",
       "    </tr>\n",
       "    <tr>\n",
       "      <th>491</th>\n",
       "      <td>efc6cef1-74fe-4a65-867b-9a8840730c64</td>\n",
       "      <td>Dr. Brayan Leão</td>\n",
       "      <td>59</td>\n",
       "      <td>4</td>\n",
       "      <td>5</td>\n",
       "      <td>2</td>\n",
       "      <td>5</td>\n",
       "      <td>4</td>\n",
       "      <td>5</td>\n",
       "      <td>5</td>\n",
       "      <td>1</td>\n",
       "      <td>2</td>\n",
       "      <td>Goiânia</td>\n",
       "      <td>Pintor</td>\n",
       "      <td>Divorciado</td>\n",
       "      <td>20</td>\n",
       "      <td>3</td>\n",
       "      <td>Alugado</td>\n",
       "      <td>True</td>\n",
       "      <td>39957</td>\n",
       "      <td>331568</td>\n",
       "      <td>1054865</td>\n",
       "      <td>209592</td>\n",
       "    </tr>\n",
       "    <tr>\n",
       "      <th>492</th>\n",
       "      <td>f76d8230-2f72-4161-a5ea-e97fb130c88a</td>\n",
       "      <td>Samuel Ferreira</td>\n",
       "      <td>46</td>\n",
       "      <td>4</td>\n",
       "      <td>1</td>\n",
       "      <td>2</td>\n",
       "      <td>1</td>\n",
       "      <td>3</td>\n",
       "      <td>1</td>\n",
       "      <td>5</td>\n",
       "      <td>2</td>\n",
       "      <td>3</td>\n",
       "      <td>Salvador</td>\n",
       "      <td>Petroleiro</td>\n",
       "      <td>Viúvo</td>\n",
       "      <td>11</td>\n",
       "      <td>3</td>\n",
       "      <td>Alugado</td>\n",
       "      <td>True</td>\n",
       "      <td>16734</td>\n",
       "      <td>827124</td>\n",
       "      <td>889117</td>\n",
       "      <td>284008</td>\n",
       "    </tr>\n",
       "    <tr>\n",
       "      <th>493</th>\n",
       "      <td>d99bc9ae-46b7-43df-83ec-5ab52e507689</td>\n",
       "      <td>Lucca Ferreira</td>\n",
       "      <td>50</td>\n",
       "      <td>1</td>\n",
       "      <td>1</td>\n",
       "      <td>1</td>\n",
       "      <td>2</td>\n",
       "      <td>5</td>\n",
       "      <td>2</td>\n",
       "      <td>4</td>\n",
       "      <td>2</td>\n",
       "      <td>1</td>\n",
       "      <td>São Paulo</td>\n",
       "      <td>Numerólogo</td>\n",
       "      <td>Divorciado</td>\n",
       "      <td>3</td>\n",
       "      <td>2</td>\n",
       "      <td>Alugado</td>\n",
       "      <td>False</td>\n",
       "      <td>25595</td>\n",
       "      <td>63026</td>\n",
       "      <td>210868</td>\n",
       "      <td>285994</td>\n",
       "    </tr>\n",
       "    <tr>\n",
       "      <th>494</th>\n",
       "      <td>5280d1a3-7f61-4870-bb02-9d36a5f9e43d</td>\n",
       "      <td>Sr. João Miguel Moraes</td>\n",
       "      <td>37</td>\n",
       "      <td>2</td>\n",
       "      <td>2</td>\n",
       "      <td>1</td>\n",
       "      <td>1</td>\n",
       "      <td>2</td>\n",
       "      <td>5</td>\n",
       "      <td>5</td>\n",
       "      <td>2</td>\n",
       "      <td>3</td>\n",
       "      <td>Florianópolis</td>\n",
       "      <td>Empregado doméstico</td>\n",
       "      <td>Casado</td>\n",
       "      <td>5</td>\n",
       "      <td>1</td>\n",
       "      <td>Alugado</td>\n",
       "      <td>True</td>\n",
       "      <td>45047</td>\n",
       "      <td>405521</td>\n",
       "      <td>1096751</td>\n",
       "      <td>63731</td>\n",
       "    </tr>\n",
       "    <tr>\n",
       "      <th>495</th>\n",
       "      <td>9f6c824b-f107-4cab-a12f-84dd3b2bd1cb</td>\n",
       "      <td>Mateus Siqueira</td>\n",
       "      <td>64</td>\n",
       "      <td>4</td>\n",
       "      <td>2</td>\n",
       "      <td>4</td>\n",
       "      <td>1</td>\n",
       "      <td>2</td>\n",
       "      <td>5</td>\n",
       "      <td>5</td>\n",
       "      <td>1</td>\n",
       "      <td>4</td>\n",
       "      <td>Porto Alegre</td>\n",
       "      <td>Capitão</td>\n",
       "      <td>Viúvo</td>\n",
       "      <td>19</td>\n",
       "      <td>1</td>\n",
       "      <td>Próprio</td>\n",
       "      <td>False</td>\n",
       "      <td>43468</td>\n",
       "      <td>509704</td>\n",
       "      <td>898442</td>\n",
       "      <td>252781</td>\n",
       "    </tr>\n",
       "    <tr>\n",
       "      <th>496</th>\n",
       "      <td>ffd7325a-fbcb-4f8d-9a3a-e6417b339ceb</td>\n",
       "      <td>Elisa Santos</td>\n",
       "      <td>29</td>\n",
       "      <td>1</td>\n",
       "      <td>1</td>\n",
       "      <td>1</td>\n",
       "      <td>3</td>\n",
       "      <td>2</td>\n",
       "      <td>1</td>\n",
       "      <td>3</td>\n",
       "      <td>1</td>\n",
       "      <td>1</td>\n",
       "      <td>Fortaleza</td>\n",
       "      <td>Perito criminal</td>\n",
       "      <td>Solteiro</td>\n",
       "      <td>14</td>\n",
       "      <td>1</td>\n",
       "      <td>Próprio</td>\n",
       "      <td>True</td>\n",
       "      <td>18628</td>\n",
       "      <td>587861</td>\n",
       "      <td>765846</td>\n",
       "      <td>456844</td>\n",
       "    </tr>\n",
       "    <tr>\n",
       "      <th>497</th>\n",
       "      <td>051fa9d2-f447-484c-a0b2-c062b224b0cf</td>\n",
       "      <td>Sr. Vinícius Leão</td>\n",
       "      <td>68</td>\n",
       "      <td>1</td>\n",
       "      <td>5</td>\n",
       "      <td>5</td>\n",
       "      <td>3</td>\n",
       "      <td>1</td>\n",
       "      <td>2</td>\n",
       "      <td>2</td>\n",
       "      <td>4</td>\n",
       "      <td>1</td>\n",
       "      <td>Recife</td>\n",
       "      <td>Jogador de golfe</td>\n",
       "      <td>Divorciado</td>\n",
       "      <td>2</td>\n",
       "      <td>1</td>\n",
       "      <td>Alugado</td>\n",
       "      <td>False</td>\n",
       "      <td>43112</td>\n",
       "      <td>318696</td>\n",
       "      <td>758764</td>\n",
       "      <td>136074</td>\n",
       "    </tr>\n",
       "    <tr>\n",
       "      <th>498</th>\n",
       "      <td>041df498-64ef-4a8c-9587-daf6f942c0c5</td>\n",
       "      <td>Ayla Farias</td>\n",
       "      <td>77</td>\n",
       "      <td>3</td>\n",
       "      <td>4</td>\n",
       "      <td>5</td>\n",
       "      <td>4</td>\n",
       "      <td>2</td>\n",
       "      <td>5</td>\n",
       "      <td>4</td>\n",
       "      <td>3</td>\n",
       "      <td>3</td>\n",
       "      <td>Salvador</td>\n",
       "      <td>Meeiro</td>\n",
       "      <td>Solteiro</td>\n",
       "      <td>19</td>\n",
       "      <td>2</td>\n",
       "      <td>Próprio</td>\n",
       "      <td>False</td>\n",
       "      <td>33670</td>\n",
       "      <td>82048</td>\n",
       "      <td>495614</td>\n",
       "      <td>230262</td>\n",
       "    </tr>\n",
       "    <tr>\n",
       "      <th>499</th>\n",
       "      <td>9dbc78a3-4dfb-4dab-a28e-6df251a55237</td>\n",
       "      <td>Catarina Almeida</td>\n",
       "      <td>46</td>\n",
       "      <td>1</td>\n",
       "      <td>5</td>\n",
       "      <td>5</td>\n",
       "      <td>4</td>\n",
       "      <td>2</td>\n",
       "      <td>4</td>\n",
       "      <td>2</td>\n",
       "      <td>5</td>\n",
       "      <td>3</td>\n",
       "      <td>Salvador</td>\n",
       "      <td>Separador</td>\n",
       "      <td>Solteiro</td>\n",
       "      <td>4</td>\n",
       "      <td>6</td>\n",
       "      <td>Próprio</td>\n",
       "      <td>False</td>\n",
       "      <td>29876</td>\n",
       "      <td>570323</td>\n",
       "      <td>458770</td>\n",
       "      <td>492807</td>\n",
       "    </tr>\n",
       "  </tbody>\n",
       "</table>\n",
       "</div>"
      ],
      "text/plain": [
       "                              ID_Prospect                    Nome  Idade  \\\n",
       "490  3a6575d6-bdee-46d8-b0a2-23e19f85d7f3          Elisa Silveira     49   \n",
       "491  efc6cef1-74fe-4a65-867b-9a8840730c64         Dr. Brayan Leão     59   \n",
       "492  f76d8230-2f72-4161-a5ea-e97fb130c88a         Samuel Ferreira     46   \n",
       "493  d99bc9ae-46b7-43df-83ec-5ab52e507689          Lucca Ferreira     50   \n",
       "494  5280d1a3-7f61-4870-bb02-9d36a5f9e43d  Sr. João Miguel Moraes     37   \n",
       "495  9f6c824b-f107-4cab-a12f-84dd3b2bd1cb         Mateus Siqueira     64   \n",
       "496  ffd7325a-fbcb-4f8d-9a3a-e6417b339ceb            Elisa Santos     29   \n",
       "497  051fa9d2-f447-484c-a0b2-c062b224b0cf       Sr. Vinícius Leão     68   \n",
       "498  041df498-64ef-4a8c-9587-daf6f942c0c5             Ayla Farias     77   \n",
       "499  9dbc78a3-4dfb-4dab-a28e-6df251a55237        Catarina Almeida     46   \n",
       "\n",
       "     Viagens  Restaurantes  Entretenimento  Cashback  Compras online  \\\n",
       "490        1             4               3         3               5   \n",
       "491        4             5               2         5               4   \n",
       "492        4             1               2         1               3   \n",
       "493        1             1               1         2               5   \n",
       "494        2             2               1         1               2   \n",
       "495        4             2               4         1               2   \n",
       "496        1             1               1         3               2   \n",
       "497        1             5               5         3               1   \n",
       "498        3             4               5         4               2   \n",
       "499        1             5               5         4               2   \n",
       "\n",
       "     Farmácias  Programas de Milhagem  Postos de Combustível  Mercados  \\\n",
       "490          5                      1                      3         2   \n",
       "491          5                      5                      1         2   \n",
       "492          1                      5                      2         3   \n",
       "493          2                      4                      2         1   \n",
       "494          5                      5                      2         3   \n",
       "495          5                      5                      1         4   \n",
       "496          1                      3                      1         1   \n",
       "497          2                      2                      4         1   \n",
       "498          5                      4                      3         3   \n",
       "499          4                      2                      5         3   \n",
       "\n",
       "            Cidade                    Cargo Estado Civil  Tempo na Empresa  \\\n",
       "490      São Paulo  Engenheiro de processos   Divorciado                 8   \n",
       "491        Goiânia                   Pintor   Divorciado                20   \n",
       "492       Salvador               Petroleiro        Viúvo                11   \n",
       "493      São Paulo               Numerólogo   Divorciado                 3   \n",
       "494  Florianópolis      Empregado doméstico       Casado                 5   \n",
       "495   Porto Alegre                  Capitão        Viúvo                19   \n",
       "496      Fortaleza          Perito criminal     Solteiro                14   \n",
       "497         Recife         Jogador de golfe   Divorciado                 2   \n",
       "498       Salvador                   Meeiro     Solteiro                19   \n",
       "499       Salvador                Separador     Solteiro                 4   \n",
       "\n",
       "     Pessoas em Casa  Moradia  Possui Carro  Renda  Investimentos   Ativos  \\\n",
       "490                3  Alugado          True  12637           6163   274584   \n",
       "491                3  Alugado          True  39957         331568  1054865   \n",
       "492                3  Alugado          True  16734         827124   889117   \n",
       "493                2  Alugado         False  25595          63026   210868   \n",
       "494                1  Alugado          True  45047         405521  1096751   \n",
       "495                1  Próprio         False  43468         509704   898442   \n",
       "496                1  Próprio          True  18628         587861   765846   \n",
       "497                1  Alugado         False  43112         318696   758764   \n",
       "498                2  Próprio         False  33670          82048   495614   \n",
       "499                6  Próprio         False  29876         570323   458770   \n",
       "\n",
       "     Dívidas  \n",
       "490   406907  \n",
       "491   209592  \n",
       "492   284008  \n",
       "493   285994  \n",
       "494    63731  \n",
       "495   252781  \n",
       "496   456844  \n",
       "497   136074  \n",
       "498   230262  \n",
       "499   492807  "
      ]
     },
     "metadata": {},
     "output_type": "display_data"
    }
   ],
   "source": [
    "print(\"\\nÚltimos registros:\")\n",
    "display(df_prospects.tail(10))"
   ]
  },
  {
   "cell_type": "markdown",
   "id": "7107907b",
   "metadata": {},
   "source": [
    "### Mostrar estatísticas das variáveis numéricas"
   ]
  },
  {
   "cell_type": "code",
   "execution_count": 26,
   "id": "54b3d303",
   "metadata": {},
   "outputs": [
    {
     "data": {
      "text/html": [
       "<div>\n",
       "<style scoped>\n",
       "    .dataframe tbody tr th:only-of-type {\n",
       "        vertical-align: middle;\n",
       "    }\n",
       "\n",
       "    .dataframe tbody tr th {\n",
       "        vertical-align: top;\n",
       "    }\n",
       "\n",
       "    .dataframe thead th {\n",
       "        text-align: right;\n",
       "    }\n",
       "</style>\n",
       "<table border=\"1\" class=\"dataframe\">\n",
       "  <thead>\n",
       "    <tr style=\"text-align: right;\">\n",
       "      <th></th>\n",
       "      <th>count</th>\n",
       "      <th>mean</th>\n",
       "      <th>std</th>\n",
       "      <th>min</th>\n",
       "      <th>25%</th>\n",
       "      <th>50%</th>\n",
       "      <th>75%</th>\n",
       "      <th>max</th>\n",
       "    </tr>\n",
       "  </thead>\n",
       "  <tbody>\n",
       "    <tr>\n",
       "      <th>Idade</th>\n",
       "      <td>500.00000</td>\n",
       "      <td>48.13800</td>\n",
       "      <td>18.11705</td>\n",
       "      <td>18.00000</td>\n",
       "      <td>32.00000</td>\n",
       "      <td>48.00000</td>\n",
       "      <td>63.25000</td>\n",
       "      <td>80.00000</td>\n",
       "    </tr>\n",
       "    <tr>\n",
       "      <th>Viagens</th>\n",
       "      <td>500.00000</td>\n",
       "      <td>2.94800</td>\n",
       "      <td>1.42877</td>\n",
       "      <td>1.00000</td>\n",
       "      <td>2.00000</td>\n",
       "      <td>3.00000</td>\n",
       "      <td>4.00000</td>\n",
       "      <td>5.00000</td>\n",
       "    </tr>\n",
       "    <tr>\n",
       "      <th>Restaurantes</th>\n",
       "      <td>500.00000</td>\n",
       "      <td>3.12600</td>\n",
       "      <td>1.43466</td>\n",
       "      <td>1.00000</td>\n",
       "      <td>2.00000</td>\n",
       "      <td>3.00000</td>\n",
       "      <td>4.00000</td>\n",
       "      <td>5.00000</td>\n",
       "    </tr>\n",
       "    <tr>\n",
       "      <th>Entretenimento</th>\n",
       "      <td>500.00000</td>\n",
       "      <td>3.00600</td>\n",
       "      <td>1.43040</td>\n",
       "      <td>1.00000</td>\n",
       "      <td>2.00000</td>\n",
       "      <td>3.00000</td>\n",
       "      <td>4.00000</td>\n",
       "      <td>5.00000</td>\n",
       "    </tr>\n",
       "    <tr>\n",
       "      <th>Cashback</th>\n",
       "      <td>500.00000</td>\n",
       "      <td>2.91400</td>\n",
       "      <td>1.42782</td>\n",
       "      <td>1.00000</td>\n",
       "      <td>2.00000</td>\n",
       "      <td>3.00000</td>\n",
       "      <td>4.00000</td>\n",
       "      <td>5.00000</td>\n",
       "    </tr>\n",
       "    <tr>\n",
       "      <th>Compras online</th>\n",
       "      <td>500.00000</td>\n",
       "      <td>2.93600</td>\n",
       "      <td>1.39420</td>\n",
       "      <td>1.00000</td>\n",
       "      <td>2.00000</td>\n",
       "      <td>3.00000</td>\n",
       "      <td>4.00000</td>\n",
       "      <td>5.00000</td>\n",
       "    </tr>\n",
       "    <tr>\n",
       "      <th>Farmácias</th>\n",
       "      <td>500.00000</td>\n",
       "      <td>2.95800</td>\n",
       "      <td>1.36967</td>\n",
       "      <td>1.00000</td>\n",
       "      <td>2.00000</td>\n",
       "      <td>3.00000</td>\n",
       "      <td>4.00000</td>\n",
       "      <td>5.00000</td>\n",
       "    </tr>\n",
       "    <tr>\n",
       "      <th>Programas de Milhagem</th>\n",
       "      <td>500.00000</td>\n",
       "      <td>3.08000</td>\n",
       "      <td>1.45528</td>\n",
       "      <td>1.00000</td>\n",
       "      <td>2.00000</td>\n",
       "      <td>3.00000</td>\n",
       "      <td>4.00000</td>\n",
       "      <td>5.00000</td>\n",
       "    </tr>\n",
       "    <tr>\n",
       "      <th>Postos de Combustível</th>\n",
       "      <td>500.00000</td>\n",
       "      <td>2.98800</td>\n",
       "      <td>1.42967</td>\n",
       "      <td>1.00000</td>\n",
       "      <td>2.00000</td>\n",
       "      <td>3.00000</td>\n",
       "      <td>4.00000</td>\n",
       "      <td>5.00000</td>\n",
       "    </tr>\n",
       "    <tr>\n",
       "      <th>Mercados</th>\n",
       "      <td>500.00000</td>\n",
       "      <td>2.99200</td>\n",
       "      <td>1.41561</td>\n",
       "      <td>1.00000</td>\n",
       "      <td>2.00000</td>\n",
       "      <td>3.00000</td>\n",
       "      <td>4.00000</td>\n",
       "      <td>5.00000</td>\n",
       "    </tr>\n",
       "    <tr>\n",
       "      <th>Tempo na Empresa</th>\n",
       "      <td>500.00000</td>\n",
       "      <td>9.67600</td>\n",
       "      <td>6.08548</td>\n",
       "      <td>0.00000</td>\n",
       "      <td>4.00000</td>\n",
       "      <td>9.00000</td>\n",
       "      <td>15.00000</td>\n",
       "      <td>20.00000</td>\n",
       "    </tr>\n",
       "    <tr>\n",
       "      <th>Pessoas em Casa</th>\n",
       "      <td>500.00000</td>\n",
       "      <td>3.44600</td>\n",
       "      <td>1.68902</td>\n",
       "      <td>1.00000</td>\n",
       "      <td>2.00000</td>\n",
       "      <td>3.00000</td>\n",
       "      <td>5.00000</td>\n",
       "      <td>6.00000</td>\n",
       "    </tr>\n",
       "    <tr>\n",
       "      <th>Renda</th>\n",
       "      <td>500.00000</td>\n",
       "      <td>24382.74800</td>\n",
       "      <td>13771.63516</td>\n",
       "      <td>1035.00000</td>\n",
       "      <td>12788.00000</td>\n",
       "      <td>23542.00000</td>\n",
       "      <td>36373.50000</td>\n",
       "      <td>49755.00000</td>\n",
       "    </tr>\n",
       "    <tr>\n",
       "      <th>Investimentos</th>\n",
       "      <td>500.00000</td>\n",
       "      <td>492080.45400</td>\n",
       "      <td>299296.27833</td>\n",
       "      <td>4633.00000</td>\n",
       "      <td>232767.25000</td>\n",
       "      <td>475070.00000</td>\n",
       "      <td>770409.25000</td>\n",
       "      <td>996338.00000</td>\n",
       "    </tr>\n",
       "    <tr>\n",
       "      <th>Ativos</th>\n",
       "      <td>500.00000</td>\n",
       "      <td>1023245.15800</td>\n",
       "      <td>614011.43378</td>\n",
       "      <td>5153.00000</td>\n",
       "      <td>454288.00000</td>\n",
       "      <td>1047575.50000</td>\n",
       "      <td>1575179.50000</td>\n",
       "      <td>1999861.00000</td>\n",
       "    </tr>\n",
       "    <tr>\n",
       "      <th>Dívidas</th>\n",
       "      <td>500.00000</td>\n",
       "      <td>242693.75000</td>\n",
       "      <td>142889.78114</td>\n",
       "      <td>479.00000</td>\n",
       "      <td>120485.00000</td>\n",
       "      <td>243617.00000</td>\n",
       "      <td>364049.00000</td>\n",
       "      <td>498469.00000</td>\n",
       "    </tr>\n",
       "  </tbody>\n",
       "</table>\n",
       "</div>"
      ],
      "text/plain": [
       "                          count          mean          std        min  \\\n",
       "Idade                 500.00000      48.13800     18.11705   18.00000   \n",
       "Viagens               500.00000       2.94800      1.42877    1.00000   \n",
       "Restaurantes          500.00000       3.12600      1.43466    1.00000   \n",
       "Entretenimento        500.00000       3.00600      1.43040    1.00000   \n",
       "Cashback              500.00000       2.91400      1.42782    1.00000   \n",
       "Compras online        500.00000       2.93600      1.39420    1.00000   \n",
       "Farmácias             500.00000       2.95800      1.36967    1.00000   \n",
       "Programas de Milhagem 500.00000       3.08000      1.45528    1.00000   \n",
       "Postos de Combustível 500.00000       2.98800      1.42967    1.00000   \n",
       "Mercados              500.00000       2.99200      1.41561    1.00000   \n",
       "Tempo na Empresa      500.00000       9.67600      6.08548    0.00000   \n",
       "Pessoas em Casa       500.00000       3.44600      1.68902    1.00000   \n",
       "Renda                 500.00000   24382.74800  13771.63516 1035.00000   \n",
       "Investimentos         500.00000  492080.45400 299296.27833 4633.00000   \n",
       "Ativos                500.00000 1023245.15800 614011.43378 5153.00000   \n",
       "Dívidas               500.00000  242693.75000 142889.78114  479.00000   \n",
       "\n",
       "                               25%           50%           75%           max  \n",
       "Idade                     32.00000      48.00000      63.25000      80.00000  \n",
       "Viagens                    2.00000       3.00000       4.00000       5.00000  \n",
       "Restaurantes               2.00000       3.00000       4.00000       5.00000  \n",
       "Entretenimento             2.00000       3.00000       4.00000       5.00000  \n",
       "Cashback                   2.00000       3.00000       4.00000       5.00000  \n",
       "Compras online             2.00000       3.00000       4.00000       5.00000  \n",
       "Farmácias                  2.00000       3.00000       4.00000       5.00000  \n",
       "Programas de Milhagem      2.00000       3.00000       4.00000       5.00000  \n",
       "Postos de Combustível      2.00000       3.00000       4.00000       5.00000  \n",
       "Mercados                   2.00000       3.00000       4.00000       5.00000  \n",
       "Tempo na Empresa           4.00000       9.00000      15.00000      20.00000  \n",
       "Pessoas em Casa            2.00000       3.00000       5.00000       6.00000  \n",
       "Renda                  12788.00000   23542.00000   36373.50000   49755.00000  \n",
       "Investimentos         232767.25000  475070.00000  770409.25000  996338.00000  \n",
       "Ativos                454288.00000 1047575.50000 1575179.50000 1999861.00000  \n",
       "Dívidas               120485.00000  243617.00000  364049.00000  498469.00000  "
      ]
     },
     "metadata": {},
     "output_type": "display_data"
    }
   ],
   "source": [
    "num_vars = df_prospects.select_dtypes(include=['number']).columns\n",
    "cat_vars = df_prospects.select_dtypes(include=['object']).columns\n",
    "target = 'Probabilidade Inadimplencia'\n",
    "\n",
    "display(df_prospects[num_vars].describe().T)"
   ]
  },
  {
   "cell_type": "markdown",
   "id": "b628d35a",
   "metadata": {},
   "source": [
    "### Mostrar valores possíveis para as variáveis categóricas"
   ]
  },
  {
   "cell_type": "code",
   "execution_count": 27,
   "id": "0b798012",
   "metadata": {},
   "outputs": [
    {
     "name": "stdout",
     "output_type": "stream",
     "text": [
      "\n",
      "ID_Prospect: 500 valores únicos\n",
      "ID_Prospect\n",
      "9dbc78a3-4dfb-4dab-a28e-6df251a55237    1\n",
      "de943fb0-5e23-4e7f-8130-1aa76b33f4dc    1\n",
      "5050d0e5-5d35-4cb1-a208-596a3ee4ac1d    1\n",
      "435005c0-50ea-4755-acef-b4362c08dccd    1\n",
      "7ab56d4d-3ebc-41f0-8a13-3a648b3e0a70    1\n",
      "c7673f11-4d04-48c9-9de6-2ed00db8debc    1\n",
      "edfe34cf-0594-419b-a41a-01d81c770edb    1\n",
      "9d97a3c4-ccdb-456e-adec-b5f609421590    1\n",
      "3f547971-eac2-4712-82cd-eba6a560fa67    1\n",
      "da61ba8e-58af-43c7-92f7-0afef70c048d    1\n",
      "Name: count, dtype: int64\n",
      "\n",
      "Nome: 497 valores únicos\n",
      "Nome\n",
      "Mateus Teixeira          2\n",
      "Maria Duarte             2\n",
      "Caio Novais              2\n",
      "Enzo Ramos               1\n",
      "Luiz Fernando Sampaio    1\n",
      "Caio Vasconcelos         1\n",
      "Rael Fogaça              1\n",
      "Yan Moraes               1\n",
      "Leandro Garcia           1\n",
      "Sra. Letícia Pastor      1\n",
      "Name: count, dtype: int64\n",
      "\n",
      "Cidade: 15 valores únicos\n",
      "Cidade\n",
      "São Paulo         45\n",
      "Florianópolis     44\n",
      "Salvador          44\n",
      "Manaus            42\n",
      "Recife            38\n",
      "Porto Alegre      36\n",
      "Curitiba          35\n",
      "Goiânia           33\n",
      "Belém             33\n",
      "Belo Horizonte    31\n",
      "Name: count, dtype: int64\n",
      "\n",
      "Cargo: 365 valores únicos\n",
      "Cargo\n",
      "Bioquímico                  6\n",
      "Arrumadeira                 5\n",
      "Atendente                   5\n",
      "Agricultor                  4\n",
      "Crítico                     3\n",
      "Bancário                    3\n",
      "Jogador de tênis de mesa    3\n",
      "Assessor parlamentar        3\n",
      "Digitador                   3\n",
      "Empregado doméstico         3\n",
      "Name: count, dtype: int64\n",
      "\n",
      "Estado Civil: 4 valores únicos\n",
      "Estado Civil\n",
      "Divorciado    129\n",
      "Solteiro      125\n",
      "Viúvo         124\n",
      "Casado        122\n",
      "Name: count, dtype: int64\n",
      "\n",
      "Moradia: 2 valores únicos\n",
      "Moradia\n",
      "Alugado    251\n",
      "Próprio    249\n",
      "Name: count, dtype: int64\n"
     ]
    }
   ],
   "source": [
    "for var in cat_vars:\n",
    "    print(f\"\\n{var}: {df_prospects[var].nunique()} valores únicos\")\n",
    "    print(df_prospects[var].value_counts().head(10))"
   ]
  },
  {
   "cell_type": "markdown",
   "id": "b036029f",
   "metadata": {},
   "source": [
    "### Apresentar histograma das variáveis numéricas"
   ]
  },
  {
   "cell_type": "code",
   "execution_count": 28,
   "id": "534d0f81",
   "metadata": {},
   "outputs": [
    {
     "data": {
      "application/vnd.plotly.v1+json": {
       "config": {
        "plotlyServerURL": "https://plot.ly"
       },
       "data": [
        {
         "name": "Idade",
         "type": "histogram",
         "x": {
          "bdata": "GDoSFBYUTEweKDxCS09MREA4GiNQGksURU0lRzonPzcaRB0VKUorEx4ZKT4dThsVMSAUTS02PToTPEhPKCQhJy4aG1A0LDYbQiA5Iy40JC83L0EcHCgmOR0YMh80HidNSi1BS0g2EjEeEys2GyocK0kwFzA3FS40NBkkNzRDNycTExcXJkQ5Nkg9NS88QyMfLDspMD4wLBMWRxIfPkIzFyNBL0glGCJJLig1IkElQD05UEEjPSgVODFQNTIuSTBLQUUgRRoTRkM9PUdEOxMYNSxCIkIdRkFGTz03Jyk+Gz8zRRwnMEJOFCAgLBc/FBMWQzg0QBc7MjA2GTYfNxZJNywsEi9KIRpHLUE2MDMkM04YISU7HkFQREwhND9LPiEpLCUhGTgmGRsSEhY+KkFIKzsaSxswGjYuMiA+QT42GkpFMhYnSS81R08hPikuIzIyHUwgIEg0GTotOCAkOSU6OFA5TChMNEckNEUvHSszEzNDKFAwPhxEGEcrHkwcTBRHTTclTUxMOzIkE08ZHj8pPxoZNhUgHB0nQkwsFBU/LidQPBsXG0UrPSQZSUgzMUccLBYkJUYYFhs+JyYvHkpDRxNHICobF0ohOBNJQTE3HTA/NB0nHipPQDsSQkwWJzYxPCo7J05GHSlENzE7LjIlQB1ETS4=",
          "dtype": "i1"
         },
         "xaxis": "x",
         "yaxis": "y"
        },
        {
         "name": "Viagens",
         "type": "histogram",
         "x": {
          "bdata": "AQECBAEFAwUFAQUFAwIEAQUCAgQBBQUCAgIFAQECAwMBAwQEBQQDAwECBQIEBQIEAwQDAQIEAQQDBAMEAQQFBQICAwEFAgMCAgEFAgQCAwUFAgEBBQUDBQIFBAMCAQIEAgUFBQUBBAEFAwMFBAMEBAQEAgIDBQUBAgQDBQIFAQUCBQMBBQUBAgIEBQEFAwEEAQMCAgIBBQQEAQICAwMDBAQEAgEFAgEEBQIBBAQEAgIEAQQDBQEDBAEEBQEEAwEDAQEFBQICBQIFAgQBAwIBBAUBAwMFAgQDAgEEBQMCAQEEAwUFAgECAgUEAQQBBAEEBQMBBAUFAgUEBAECBQUBAQMFBAEEAQMFAQEFBAMDBQIFAQQCAgUDAwQFBQUBAwIDBAEEAgMDBQEDAQIEAQQCBAICBAIBAwEDBAUBBQEEAQQFBQQBBQIBAQECAQMFBAEDAQQDAgMCAwMCAgIEAQMCBAIBAwQFAgIBBAEBAgQCAQQDAgQDBAQBBAECBQQDBAEEAwEBAQQDBAUCAQQDAwEEAwUCAwQEBQIDAgIEAgEFBQQEAQIDAwQDBAMCAgECBAEFAwEBBAQDBAUEAgICAQEEAwMCAwIDAwIBAgUBAwQCBQQDBAUBBAQFAQUFAwUEAgECAwEEAQICBQIDBQEEBAECBAEBAwE=",
          "dtype": "i1"
         },
         "xaxis": "x2",
         "yaxis": "y2"
        },
        {
         "name": "Restaurantes",
         "type": "histogram",
         "x": {
          "bdata": "AQQEAwEFBQEDAQIFBAQBBQMBBAMDAQEFAQECAQUCBQMCBQEFBAEEAwQEAwMFAgICAQIDBQEEBAMEBAEEAgQCBAEBAQUDAQQFAgIDAQMFBQEFAgUDAwEFAQEBBAIBBQUFBQMBBQICAwUFAwUCAwEBAwIDAwICAQMCBQMEBQMDAgUFBQUCAQQBAwUBAQUBBQIDAgQFBAICBQIEBAMEBQUDAwECBQQBBAEEAwQEBAEBAwQEBQUBAwEFBQUFBAUFAgQCBQEDBAUDBAQEAgUFBAUEBQUCBAMBBAMCAgICBAIBBQEEBQUDBQUCBAEBBAQEAgQCAwIDAQMEAgMCAQQEAgMEAQECBQIBAgEFBAMEBQUBBAMDBAMBBAQBBQEFBAIEAgEDBAIBAQIDBQQEBAIFBQQFBAEDAQQEAQQDAQMCBAICAQMCBQEFBAMCBAMCBAUFBAMFBQQFAwQBBAMCBAMEBAQCBAMDBAUDBQIFAgQEAQQCBQEFBAMCAgQEBQEFAQMFBAMEAwICBQMCAwUCAQQCBQIFAgEBAQMFBAMEAgUFAQUDBQMEBQQCBAQCAwEBAQMBBAUFBQMDAwUFAQMDAgUFBQMEAgMEAwUEBAIFBQEBAgQCBQIBAQQBBQIDAwQFAwICAQMFAwIEBAIEBQEBAgQFAQECAgEFBAU=",
          "dtype": "i1"
         },
         "xaxis": "x3",
         "yaxis": "y3"
        },
        {
         "name": "Entretenimento",
         "type": "histogram",
         "x": {
          "bdata": "BAUBAQQDAwEDBAIEAwIBBQUFAgICBAUFBAUCAwQDBAIDBAMEAQECBQEFAgIEBQIFAgQDBAEBAwMEBAEBBQIDAgICAgUBAQUDAgIDAgUEAgIDAQIFBAIEBQIFBQEDAQQCBQEFAQUDAgEDAwUBAQUBAwMFAwQDAwECAQQEAwIFAgMFAgUFBQIDAwUBAgUFBAMEBQQBAwQFAQUCAwIDBQUEAQUBAQUFAQMEAQMBAQMDBAIFAwIBBQEFBQQDBQQBAgQEBQMCAQMDAQMCBAEFBAMDBQEBBQECAgQFAwQBAwEEBAMFAQUFAgICBAEBBAIDAwUCAgUEBQUBAQEDAwIBAQUFBAQDAQQBBQMCBAICBQIEAwEFBQEEAQIEAQQCAwIEAQEEBAMDAgEFBAUCAgUBAgEEBQIEBAIBAQIFBQQEAQMFBAEDBAIFAgQEAgEEBAMFBQUFAQUEAwEBBQQFAgEDAQQBBAUCAwMBAQMDAQUFAgECAQIEBAMCBQIFAgMDBAUBAgUBBQUDAgUDAQIEAwUCBQMBAwICBQQBAwUDAgQCAgIEAgQDAQEFAwMEBAEEAgMDAQMEAQMCAwMEAwIFBAMCAQQDBAQBBQQFAQMEAQIDBAIEBQQEAQUFAgMEBAIDAQUDAgICAwECBAMDAQEEBAMCAgEBBAEFBQU=",
          "dtype": "i1"
         },
         "xaxis": "x4",
         "yaxis": "y4"
        },
        {
         "name": "Cashback",
         "type": "histogram",
         "x": {
          "bdata": "BQMBBAMBAgUFAgIFBQEDBAQEAQICAwUCBAUFAgUEBAMDBAECBQQCAQUDAgIBBQIDAQEFBQUFBQIDAwQBAgMDBQEBAQICAwEBAgMCBQQCAgMDAwIEAgUCAwEDBAUEAQIFBAEEAwMEBQUBAQEDAQMBBAQDAwQCAwQBAwMBBAEFAQMDAQECAQQFAQQBBAICAgIEAgIBBQEEAQQCAwIDAwQDAQIDBQIEAQICAgICAQECAgQEBQEBBQIEBQUDAQIBAgMBAgIDAwUEAwEEAQQCAQIEAgEEAgIFBQEBAQUFBQEDAQIEBQQFAwMDAQEEAgIDBQUDBAMBBAUDBAUCBQUEAgQBAwEDBQICAwMBBAUCBAEEAgMFBAIDAgICAwQCAQIBAQUBAgQBAQUCAwQEAQMDAgUCBQIBAwICBAEEBQEEBQUCAwIBAwQFAwQBAwUBAgQBAwEEAwEDBAMDBQUDAQQEBAECBAUDAgMCAwEDAwEBBQECAQIEBAUEBQUCBAUEAgQBAwEEAwQEBAEBAQEBAwUCBQEFAQEFAwQDAwEFBQQBBQIBAgMBAgUDBQUEBQMCBQQEBAUEAQQBBQEEAQMBAgMEAQQBAwIBBQQDAwQFBQIFBQUEBQMBAwQEAQUEBAQCAwEFBAQFAwMBAQIDAQICBQMFAQIBAQMDBAQ=",
          "dtype": "i1"
         },
         "xaxis": "x5",
         "yaxis": "y5"
        },
        {
         "name": "Compras online",
         "type": "histogram",
         "x": {
          "bdata": "BAIDAQUBAQQDBAMDBQICAQQFAQUCAQIBAQQEAwUCAQIDAwMEAwIEAQMDAgIFAgICBAUBAgQFBQEDBQIFBAMFBAQBAgEDAgICBQQBAwEEBAUCAwMFAwIEAQMDAgIFAgEFAgEDAgMCBQUEBQEEAQUCBQIDAgIDBQEFAgIEBAEEBAMEBAQFAQQDAQQFAgUCBAUBBAEFBAEEAwEBAgUBAQMBBAEDAQIEBQMBBAIDAQICAwQFBQIFAgEBBQQBBAICBAEBBQEFBAQDBAMCAgEEBAIEAQMCAQMBAwIDAQUBBQQCBAMCAgMCAwQBAwUBBAEDAwUDAgMDAwUCBAEFBAUBAwIEBQIFBAMBBQIDBQUDBAMCBQUEBAMBAwMCAwEBBAMFAgQFBAUCAgIBAwEEBAMEAwMCAgIFBAQFAwEFAwICBQMBAwMDAQICAwMCAgQDBQUCAwMEAQEFAQIBAQMEBQMCAQUEAQUDBAUDBAECAgUCBAMDAQIBAgEFAwIDAQUEBQEEBQEFAgEBBAQEAgEEAQECAwMEBQUEAgIFAwEBAwIDAgIEAQIDAgMCBQECBAQEAQUFAgMBAgEDAQEFAwIBBAQEBAQFAgQFAgMDAQIBAgQCAgUEAQUEBQMBBQQDBQQCAQQDBQMDAgQFAwUBAwUCAQUEAwUCAgIBAgI=",
          "dtype": "i1"
         },
         "xaxis": "x6",
         "yaxis": "y6"
        },
        {
         "name": "Farmácias",
         "type": "histogram",
         "x": {
          "bdata": "AQMBBAIFAwQCAwMCBQQCAwICAgECBAIBBQMDAgEDAwQBBAUCAwIBAQICAgQCAQUDAwMCBQEEBQUFBAMDBAMEAgEDBAMCBAECAgQCBAQCAgQFAgMDAgECAgMFAwQFBAEBAgIBAQQDAQQEAgUDAgIEBAIDAQQBAQMCBAMEAwUFBQEFBAEEAwIEBAQEAQMFAQUDAgMEAgUCBAIBBAMCBAQFBQIBAQIDAQIBAgMDAgEEAgEDBAEEAQICAQEBAgIDAgQEAgIBAgUDAwUFAwMCBQQFAwIEBAUEAwEDAgUDBQIEAgMDAQEFAgIDAwIFAwIBAgIEBAQEBAEDBAUFAQIFAwEEAgEDAQMDBAQFBQQEBAIFBAICAQICAgEFBQEFBQQFAgECAgQFAwQDBQMBBAQBBQICAwEFBQQDAQICAwECBQQFAwQBAgEBAgUFAQMFAgUCAQQCBQEEBAEDAQMCBAEBAwMDAQEEAQIDAgMEBQQEAwEBAgUCAwMDAgMFAQQCBQUCAQQBAQECBQEFAwMCAgMFAQIFAwUDBQIFBAMEBQUCBQMCAwQCAgUBBAMDBAIEAwQCBAICAgQEAgUEBQIDBAEEAQEFBAEBAwIFBQQBAQUCBAIEBAQDBAQEAQMBBQIEBQQBAwIDBAMFAwUCAwQFAwUFAQIFBQECBQQ=",
          "dtype": "i1"
         },
         "xaxis": "x7",
         "yaxis": "y7"
        },
        {
         "name": "Programas de Milhagem",
         "type": "histogram",
         "x": {
          "bdata": "BQMDAgMDBAQBAwEBBAMFBQEFBQEEAwEDAQMBBAUBAwMFAgUBAgEBAgUFAgQCBAEBAgQBAwICBQUEBQMCAgMDBQQDAwMCBQQFBQQDAQQDAgUDAgMBBAMEAgUFBQIBBAMBBAIEBQIFBAMCBQIFAQQDAwIFAgMEAwUEBQIEAwUDBAMBBQMDAwQBAwEDAwIFBAUBAwMFAgUBBAEDAQECAQUCBQUCBQQEAwMBAQQFBQMEAwUFAwMCBQMEAQEBBAUFAgUBAwEBBQEEBAMFAgUFBQIBAgQBAgUCAgUFAwUFAgUCAQEEAwMCAwMFAQICAgICBQIDBQMEAwEEAgQFBQUEBQMFBQUBAgMCBAMEBQIFBQUBAgEFBQEEAwEFAQMBBQIFBAMCAgEBAgEDAgQCAQUFBAEFAgUFBQQBAgQBAQICAgMEBAQEAgUFBQEDAgUEAQUCBAUFBQQBBAUEBQQEBQUDAQUBAgEBAQIBAgUEAQEFAwMBAwMDBQQCAgMEAgQDAwQFAwEBAgMFAwUEAwEEAQECAQMCAgUCAQQBBAECAwUFAQUCAwEEAQIBBAIBAwMEBAICAgQEAwMEAQEBAgUFBAIEAgUEBQECBAICAQUDAwEBBAQFAwQEAQEDBAIEBAQFAgIDAgQDAQQBAQUFBQQBBAEFBQQFBQMCBAI=",
          "dtype": "i1"
         },
         "xaxis": "x8",
         "yaxis": "y8"
        },
        {
         "name": "Postos de Combustível",
         "type": "histogram",
         "x": {
          "bdata": "AQECAgEFAQMBAgECAwMBAQQFAgQEBAECAwEDAgQDAwUBAQIBAgUDBAEEBAEEBAEEBQIDBAEBBAMDBAIFBAICBQMFBAUEBAQFAgEDBQMFBAEBAQQFBAUCAQEBAwIBBAEEBAUEAgEFAwQDBAMFAwUBAgECBQUBBAMBBAQCAQQEBQIBAQICAQEDAgMCAgEDAwECAwEDAgECBQQDAgIEAgQEAgUCBQICAQQFBQEBAgUCBQQDAgQFBQMCAQQCBQUBAQECBQMBAwMEBQQDBQUEBAQEAQMDBQUDBQEFAwMFAQMEAQMFBQUDAwQFBQMEBQQEAQMCBQIBBAIEAQUEBAUDAQMBAQUBBAIDAQUEBAIFAgUDAQUFBAIBAwQDAQECAQIEBAQBAwIEAQEFAwQCAwMBAwEEBAECBQQCBAIFAwUFAgQCBQMEAgMDAwUDAQIFAwEEBAEBAQUCAgQBBAQFAgMFAgIFAwIDBQQCAQQEAwECAQMDBQMFBQQDAwIFAQUDAQQFAQMFAwQFBAMCBAUEBAQCAwQBBQIEBAMCAgQEAwECAwIDAgEEAQEBBQUCBQECAwMCAgMBBQUFBQIBAwUDBQEBAQQFAgMEAQEEBQIFAgMFAwIFBQMFAQICAgQFAwQFBQQBAgMDBAIEAwECAQEEAgMBAgICAQEEAwU=",
          "dtype": "i1"
         },
         "xaxis": "x9",
         "yaxis": "y9"
        },
        {
         "name": "Mercados",
         "type": "histogram",
         "x": {
          "bdata": "AgICBAIBAQEEBAEBBQUCBAUEBQMDAgIFBAMFAwIFBAQFAgIBAwQBAgICAgUBAwUCAwUBBQICBQIEAwQEAwMFBQMEAwMCBQMDAQECAQMBBQEEBAEDBAIEAgMEBAEEAQMEAQIEBAIFBAMEAQUCBAMBAwUFAQUFBAUBAgUFBQUCBQQFAwIDAgIDBAIDBAUFAgUBAgEBAwEBAwIDAgEEAQUFBAQBBQQBBQQCAwEDBQMDBAQEAgMFAwIBAwIEAQQFBAICAwEDAwMEAgIBBAQBBAIBBAQBAwMBBAEBAwICAQEDBQECBAEEAQICAwIEAwECAwIFAQEDBAQBBAUEBAEFAQUEAwEEBAMCAgECAwQFAwICBQIBBQQFAwQBAwUFAgEBAQIEBQQDBQUFAwEDBAEFBQUDBAMFAQIEAwUCBQUFAgUCBAEDBQMBAQMCBQIDAQQFBAUCAgIDAQUBBAUCAQMDAgQFBAQDBAQDAwUEAQUCAwUCAwQFAwIEAgMCBAECAgEDBQUFAgEBBAIEAQMCBQICAQICAQEFBQMDAwIFAgQEBQQEAgUBBAICAgIEBAQFAQEEBQUDAwEDAQQFAgUEBQUBAQECAgQDBQICAwEBBAUEAQQBBQEFAwEFAQMEBQMCAwICBAIBAgQFBQMCAwECBAICAwEDBAEBAwM=",
          "dtype": "i1"
         },
         "xaxis": "x10",
         "yaxis": "y10"
        },
        {
         "name": "Tempo na Empresa",
         "type": "histogram",
         "x": {
          "bdata": "DgQUCwATDw8MAxIMAggFEAEQFAADCw0CDQgOCAkHEgwQCA0PBQQUAhATEA8PDAQHFAsCBQYPBwQADRIGCgINAwYMBgoBEQgKBA4FBRMKBQ8FChAPBQMFAQ0ECQAEAAgFFBMUDQwKDRMGAwsIAxIJBAcFDBMLDwgHERASAQUPBBAREQAHDhACBBANDQ0IERETAhIECQwHAwMDCQkTCgQSBg0AAxMTCAoEDwUDAg0DDQsFCAUOEQIBBhMKDg8ODAQUBwsIBAwLBgUNBAUTCwUBBgESDRMBABMFAwcIDw4EEQQEDQ4EBQYABQQKEgkMAgkSBQcQBxIHEQYUDA8MEggUDg4SABQGFAsIBAASAAQJFAcMBAwBCRMMCAkFBRMBEQoJCwETBQEKDAMLEAgNEQAFEwIKAw0KDxQSBAMPAQwBDwwDABASDBIHDhMNDgcNBgsMFAQPBhAHEQALChIUDAkDCA0GBAIICBIBBxQLBQAFEgoGBxQMDxANDwwMEAYCAgAJAQ8DBgMREgsMBQAJDgACCQsKCQIQEQoAAg8PAAIPAgYSABQHEQMKEhIABhQBAAYTEgYKEAwMFAUTCAAECAMIEgIICQQBBAEKAggTDAAOEhEEABIMFA8LEAcJBQgJBgwBEQUTBAIIBg0BAwgUCwMFEw4CEwQ=",
          "dtype": "i1"
         },
         "xaxis": "x11",
         "yaxis": "y11"
        },
        {
         "name": "Pessoas em Casa",
         "type": "histogram",
         "x": {
          "bdata": "BgIGBgMFBQUCBAEEAgQBBAMDAgYCBgYFBAMCBgYDBgQBAgEFBAIGAwYGBQQBBAMBBQQBAQUCBgECAgYBBQMDAgMBAwQCAQICAwMCAgUFAQMCBgUDAwEBAwUGBAMEAQIEAQIBAQMDBQUEAQUGBQEDAgIBAgMFAgMGBAUBAQYDAwQBBAYGAgYGBQEDAgQDBQQBBgYDAgUEBAIEAgYDBQIBAwIFAwEFAwQGAwUBAQQFBQYFAgMCAQYBAwEFAQEFBQEFAQYEBQYBAQUDAwEEAwEDBQQCAgICBAECBQIDBAMGAwECBAYEBQUFAQIEAwYFBAUDAgMFBAEGAgUDAgEFBQIDAQICBQYEBAMGAwQGAwIGAwEFBgECBQECAwMGBQQGAwIEAgMFBgICBAQFBAYGAQUFBgQDAQYFAwQFBAMDAwEFBgUCBQYBBQMBBAMEBQIDBQUBAQUDAQMGAQIFBQQBBQEFAgQCBAMFBAMGBAUDAwEGAQIDAwUEBQYBAgYGBgMCBgECBgECBQMDBQYDAwQBBQQBBAQDAwQDAwMCAwMBAgUBBAYCBAUFBgMDBAQFAwEFAQQDAgUCAwUEBQQCAwUDAgQBAQMEBQYBBAYGAgQEBAEGBQMFBgIGAgYGAgICBgYDAQIFAQQEBgYCAQIGAQMDAwIBAQEBAgY=",
          "dtype": "i1"
         },
         "xaxis": "x12",
         "yaxis": "y12"
        },
        {
         "name": "Renda",
         "type": "histogram",
         "x": {
          "bdata": "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",
          "dtype": "i4"
         },
         "xaxis": "x13",
         "yaxis": "y13"
        },
        {
         "name": "Investimentos",
         "type": "histogram",
         "x": {
          "bdata": "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",
          "dtype": "i4"
         },
         "xaxis": "x14",
         "yaxis": "y14"
        },
        {
         "name": "Ativos",
         "type": "histogram",
         "x": {
          "bdata": "MasFAMrmGwCqwxMAKAgYAErdBgBZABgADbYNAED4BgBKJAUAahYUAAcuAAA1NQAAUnwBAN0IBADhIR0Ahp4RAI/dGQA5EgMAeNYCABZKFADs2xgAMmMLAKGvGwDeKBIA5GkWAHlIBgAE4g0AbjQbALNuBgBGewIAVIMOAH/9HAAkkAQAF8wDABb9FgAQ2QMA0sQVAEd5EgAvLxEABBgbAGQfAQAbFwQAqUobAD11AQBAohQArGcIANRRCwCo4BUAph4VANtNGQCAigAAqR0IAOjODgB33RQApUgTAFxDCwDb5AkArhQBAAe6EwBivAUAZCgLALZPEwAehwEA9VMYAH2cGQCxVRoA1BMeAFwhBwAM3AUAwLUcAHQxCgDhHxgADhccADjUGADs7QAAEvILACiDCwCUQxgAstADANtHCwDLDAcA4z8GAHiqAADIDRUAp1gcADHaBABOORUAQ44UAJyYHACUPRIA0CwXAFOTEwAgcBAAUSkFADUNFgC1ABsAJloDAI36BQBlMwAAcWgNAAnWGwDTGhQAr8wTAPWDHgBrshIALkABAIMSHADrkQcA/GgeAHn8EABDBR4Aix0TAAX3DwCypg8AvfIWAJR4BQBqwAoARIQEAGegDwCQLg8A3wcKAMZODwB4rAwAYnoSACMDHgCjjgMA33UAAOP2BgB3ZhwAGUIZAEUxGQArFRYAIk8WAGu+BwCLthIAN58OAN0kGgCLCwYAVaUVALyJGwDYmBoAkaAaAPxuFwCcYRQAfh0BAB8bBQA4iBcA36IaADPiBgBSiAsAzAQSAKcfDwBaMAIA+LsUAKm+EwDNCQsA3C8cADpPAADxJhIAyVAQAPdTBQCv2xYAc4wSADB1FwC5zAMANQ0GAJuHFgCnHgcA90QZAN+fCgCQAgcAoREEABsgGADetQsA9D8DAGlzAgAAKwEAtWoNABoeFQALNgcAr8UYANipFgDfcwYAvQEYANwdCQAihh0ASK4RAABBBwB4OAgAx78MAN/WGgC7xwYATpoNAPxpGQCVLRAAa9QZAM9/FwCugwYAYvYQAEIOGABHjhwA6hoXAF4xAACmIwYA94oWALxtDwAilQgADsQFAPFFHADNrg4A0bkXAHFCGAAQqxQA2RYAAIniCwDIiwUAl3oZAJBpHQD1Nw4AP+MJAGdIDgCsthwAGB0GAA/sGgDRIwgA2IAHAPpEHAAZhAgALDYLAIXmAgArMhYAtJkAAG5jHgA87BUAHq8IAMIJHgAPZR0Ahp0RABewGAAC+RsABmMAAE4NBwCrowEAijscAPRRFgACmA0ASWkcALYLGACtcgQAi2oYADNGHACO+RYAfCkTAMCxBAB6pRQAoysTAG04EwAGaA0AL/8TAGLGFQBFrA4AiwMMADd0FgDNEQQA4ZIFAChbHgDqsBEAfIYFAKCyHACqiAAAICYZADcoHgCPFRUA8HMZACbeDwAXgBAAT9IAAH9OGwAVWQIAMVMVAIeWAAB0Sh0ARCUWAGANHQDhIRcAZ5wZAJB2HgBVcxIA9awXAOOtDADSZgEAr/UOAOZyCQANLhQAT/IVALj5AACZXgYAXi4IAAr5GQD7vw0Ai/EFAMfxBgBjPgUASMIbAMDsCAB08goAiNQGAEKPCQANehkAM2gEABQMCQCgPh0AmzcEAGWFAABd4hYATpUBAPnzEwBLSwwA2kYYAL7lGQDhMgIAN1cBAJeDGQCEFRMAi0IdAA8YFADD+AgAWoITAPhyDQDDMA4AHzUMAAQpDwAubxwAZLkGAAKZEQDfzBUAaqEPAEWXHADuWBcA3V0BAL7DCwDlJBEAzLwZAFmxAAAJWB0A60oaADuiBgASjB0AITUZAFY8CQCytQ4A9sIVAOOnGwA2PxsAjwgZAFF3GwD7EREAbVsJAMMFFgCGIxcABlMDANaUCgBOEAEArOgEAGgpGwCNeQQAwKILAJHKDAC/qhIAma4FAANeAwBL9REAuzEPABfWAADDABAAQFAFAGfrAwBiWR0ATjwNANh3DADr5AYAQjcTAMjyEABzphwABQ4eAKmnEgCREx0A1IwCAFeZBwCynQUAI1gTAM7nGAB+QQAALCoAAC4LFwA4+gQAIwQZAMfzHQD+Hh0A+UccANG5EgAX6AsAOSICAMT7AgD8tRMAndQcAO57CgBE9wEA8fEIAEaqCQDCWwsAT3wVAJexAAAhFAAAPWoCAGz3DwAawgEA198HAHTvDwA9VwIARbgRABlpFgCXsxoAX6sZAIOuCgAiExwA/BAWAJbKFABbhR0AaksaAItHGQDn2gsA4vwbAC8uAgCk8wYA+5UPACbzDQBWHQUASBIOADb5HAD5PBkAmPUBAFBBAABFfR0AvaQPAKbCDAAY9R0A1WwAAPCzDAASUxsAti4aAPLqGAARQBUAJ1kXAMkLEwBbLxwAbVEdAFdbAgB3tBIAOCUDADzZDABKZQoAaesTAG1RAgBS+AIAN4cWAO0RHAAXRAcAQocFAO9FHgDtIwgAlagdAOjIEACbZAsAvvgIAK6cHQAN+QkArAQVABvBEAAwggIAAicOAHRbEAB6yhMA97gZAEjRCwB2HQwA+0AcAHZ5DADwAwUAltYVAJgwBACRGBAAHZENALQ3AwAvvBAAirUNAJavCwDskwsA/o8HABIABwA=",
          "dtype": "i4"
         },
         "xaxis": "x15",
         "yaxis": "y15"
        },
        {
         "name": "Dívidas",
         "type": "histogram",
         "x": {
          "bdata": "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",
          "dtype": "i4"
         },
         "xaxis": "x16",
         "yaxis": "y16"
        }
       ],
       "layout": {
        "annotations": [
         {
          "font": {
           "size": 16
          },
          "showarrow": false,
          "text": "Idade",
          "x": 0.14444444444444446,
          "xanchor": "center",
          "xref": "paper",
          "y": 0.9999999999999999,
          "yanchor": "bottom",
          "yref": "paper"
         },
         {
          "font": {
           "size": 16
          },
          "showarrow": false,
          "text": "Viagens",
          "x": 0.5,
          "xanchor": "center",
          "xref": "paper",
          "y": 0.9999999999999999,
          "yanchor": "bottom",
          "yref": "paper"
         },
         {
          "font": {
           "size": 16
          },
          "showarrow": false,
          "text": "Restaurantes",
          "x": 0.8555555555555556,
          "xanchor": "center",
          "xref": "paper",
          "y": 0.9999999999999999,
          "yanchor": "bottom",
          "yref": "paper"
         },
         {
          "font": {
           "size": 16
          },
          "showarrow": false,
          "text": "Entretenimento",
          "x": 0.14444444444444446,
          "xanchor": "center",
          "xref": "paper",
          "y": 0.8194444444444444,
          "yanchor": "bottom",
          "yref": "paper"
         },
         {
          "font": {
           "size": 16
          },
          "showarrow": false,
          "text": "Cashback",
          "x": 0.5,
          "xanchor": "center",
          "xref": "paper",
          "y": 0.8194444444444444,
          "yanchor": "bottom",
          "yref": "paper"
         },
         {
          "font": {
           "size": 16
          },
          "showarrow": false,
          "text": "Compras online",
          "x": 0.8555555555555556,
          "xanchor": "center",
          "xref": "paper",
          "y": 0.8194444444444444,
          "yanchor": "bottom",
          "yref": "paper"
         },
         {
          "font": {
           "size": 16
          },
          "showarrow": false,
          "text": "Farmácias",
          "x": 0.14444444444444446,
          "xanchor": "center",
          "xref": "paper",
          "y": 0.638888888888889,
          "yanchor": "bottom",
          "yref": "paper"
         },
         {
          "font": {
           "size": 16
          },
          "showarrow": false,
          "text": "Programas de Milhagem",
          "x": 0.5,
          "xanchor": "center",
          "xref": "paper",
          "y": 0.638888888888889,
          "yanchor": "bottom",
          "yref": "paper"
         },
         {
          "font": {
           "size": 16
          },
          "showarrow": false,
          "text": "Postos de Combustível",
          "x": 0.8555555555555556,
          "xanchor": "center",
          "xref": "paper",
          "y": 0.638888888888889,
          "yanchor": "bottom",
          "yref": "paper"
         },
         {
          "font": {
           "size": 16
          },
          "showarrow": false,
          "text": "Mercados",
          "x": 0.14444444444444446,
          "xanchor": "center",
          "xref": "paper",
          "y": 0.4583333333333333,
          "yanchor": "bottom",
          "yref": "paper"
         },
         {
          "font": {
           "size": 16
          },
          "showarrow": false,
          "text": "Tempo na Empresa",
          "x": 0.5,
          "xanchor": "center",
          "xref": "paper",
          "y": 0.4583333333333333,
          "yanchor": "bottom",
          "yref": "paper"
         },
         {
          "font": {
           "size": 16
          },
          "showarrow": false,
          "text": "Pessoas em Casa",
          "x": 0.8555555555555556,
          "xanchor": "center",
          "xref": "paper",
          "y": 0.4583333333333333,
          "yanchor": "bottom",
          "yref": "paper"
         },
         {
          "font": {
           "size": 16
          },
          "showarrow": false,
          "text": "Renda",
          "x": 0.14444444444444446,
          "xanchor": "center",
          "xref": "paper",
          "y": 0.2777777777777778,
          "yanchor": "bottom",
          "yref": "paper"
         },
         {
          "font": {
           "size": 16
          },
          "showarrow": false,
          "text": "Investimentos",
          "x": 0.5,
          "xanchor": "center",
          "xref": "paper",
          "y": 0.2777777777777778,
          "yanchor": "bottom",
          "yref": "paper"
         },
         {
          "font": {
           "size": 16
          },
          "showarrow": false,
          "text": "Ativos",
          "x": 0.8555555555555556,
          "xanchor": "center",
          "xref": "paper",
          "y": 0.2777777777777778,
          "yanchor": "bottom",
          "yref": "paper"
         },
         {
          "font": {
           "size": 16
          },
          "showarrow": false,
          "text": "Dívidas",
          "x": 0.14444444444444446,
          "xanchor": "center",
          "xref": "paper",
          "y": 0.09722222222222222,
          "yanchor": "bottom",
          "yref": "paper"
         }
        ],
        "height": 1800,
        "showlegend": false,
        "template": {
         "data": {
          "bar": [
           {
            "error_x": {
             "color": "#2a3f5f"
            },
            "error_y": {
             "color": "#2a3f5f"
            },
            "marker": {
             "line": {
              "color": "#E5ECF6",
              "width": 0.5
             },
             "pattern": {
              "fillmode": "overlay",
              "size": 10,
              "solidity": 0.2
             }
            },
            "type": "bar"
           }
          ],
          "barpolar": [
           {
            "marker": {
             "line": {
              "color": "#E5ECF6",
              "width": 0.5
             },
             "pattern": {
              "fillmode": "overlay",
              "size": 10,
              "solidity": 0.2
             }
            },
            "type": "barpolar"
           }
          ],
          "carpet": [
           {
            "aaxis": {
             "endlinecolor": "#2a3f5f",
             "gridcolor": "white",
             "linecolor": "white",
             "minorgridcolor": "white",
             "startlinecolor": "#2a3f5f"
            },
            "baxis": {
             "endlinecolor": "#2a3f5f",
             "gridcolor": "white",
             "linecolor": "white",
             "minorgridcolor": "white",
             "startlinecolor": "#2a3f5f"
            },
            "type": "carpet"
           }
          ],
          "choropleth": [
           {
            "colorbar": {
             "outlinewidth": 0,
             "ticks": ""
            },
            "type": "choropleth"
           }
          ],
          "contour": [
           {
            "colorbar": {
             "outlinewidth": 0,
             "ticks": ""
            },
            "colorscale": [
             [
              0,
              "#0d0887"
             ],
             [
              0.1111111111111111,
              "#46039f"
             ],
             [
              0.2222222222222222,
              "#7201a8"
             ],
             [
              0.3333333333333333,
              "#9c179e"
             ],
             [
              0.4444444444444444,
              "#bd3786"
             ],
             [
              0.5555555555555556,
              "#d8576b"
             ],
             [
              0.6666666666666666,
              "#ed7953"
             ],
             [
              0.7777777777777778,
              "#fb9f3a"
             ],
             [
              0.8888888888888888,
              "#fdca26"
             ],
             [
              1,
              "#f0f921"
             ]
            ],
            "type": "contour"
           }
          ],
          "contourcarpet": [
           {
            "colorbar": {
             "outlinewidth": 0,
             "ticks": ""
            },
            "type": "contourcarpet"
           }
          ],
          "heatmap": [
           {
            "colorbar": {
             "outlinewidth": 0,
             "ticks": ""
            },
            "colorscale": [
             [
              0,
              "#0d0887"
             ],
             [
              0.1111111111111111,
              "#46039f"
             ],
             [
              0.2222222222222222,
              "#7201a8"
             ],
             [
              0.3333333333333333,
              "#9c179e"
             ],
             [
              0.4444444444444444,
              "#bd3786"
             ],
             [
              0.5555555555555556,
              "#d8576b"
             ],
             [
              0.6666666666666666,
              "#ed7953"
             ],
             [
              0.7777777777777778,
              "#fb9f3a"
             ],
             [
              0.8888888888888888,
              "#fdca26"
             ],
             [
              1,
              "#f0f921"
             ]
            ],
            "type": "heatmap"
           }
          ],
          "histogram": [
           {
            "marker": {
             "pattern": {
              "fillmode": "overlay",
              "size": 10,
              "solidity": 0.2
             }
            },
            "type": "histogram"
           }
          ],
          "histogram2d": [
           {
            "colorbar": {
             "outlinewidth": 0,
             "ticks": ""
            },
            "colorscale": [
             [
              0,
              "#0d0887"
             ],
             [
              0.1111111111111111,
              "#46039f"
             ],
             [
              0.2222222222222222,
              "#7201a8"
             ],
             [
              0.3333333333333333,
              "#9c179e"
             ],
             [
              0.4444444444444444,
              "#bd3786"
             ],
             [
              0.5555555555555556,
              "#d8576b"
             ],
             [
              0.6666666666666666,
              "#ed7953"
             ],
             [
              0.7777777777777778,
              "#fb9f3a"
             ],
             [
              0.8888888888888888,
              "#fdca26"
             ],
             [
              1,
              "#f0f921"
             ]
            ],
            "type": "histogram2d"
           }
          ],
          "histogram2dcontour": [
           {
            "colorbar": {
             "outlinewidth": 0,
             "ticks": ""
            },
            "colorscale": [
             [
              0,
              "#0d0887"
             ],
             [
              0.1111111111111111,
              "#46039f"
             ],
             [
              0.2222222222222222,
              "#7201a8"
             ],
             [
              0.3333333333333333,
              "#9c179e"
             ],
             [
              0.4444444444444444,
              "#bd3786"
             ],
             [
              0.5555555555555556,
              "#d8576b"
             ],
             [
              0.6666666666666666,
              "#ed7953"
             ],
             [
              0.7777777777777778,
              "#fb9f3a"
             ],
             [
              0.8888888888888888,
              "#fdca26"
             ],
             [
              1,
              "#f0f921"
             ]
            ],
            "type": "histogram2dcontour"
           }
          ],
          "mesh3d": [
           {
            "colorbar": {
             "outlinewidth": 0,
             "ticks": ""
            },
            "type": "mesh3d"
           }
          ],
          "parcoords": [
           {
            "line": {
             "colorbar": {
              "outlinewidth": 0,
              "ticks": ""
             }
            },
            "type": "parcoords"
           }
          ],
          "pie": [
           {
            "automargin": true,
            "type": "pie"
           }
          ],
          "scatter": [
           {
            "fillpattern": {
             "fillmode": "overlay",
             "size": 10,
             "solidity": 0.2
            },
            "type": "scatter"
           }
          ],
          "scatter3d": [
           {
            "line": {
             "colorbar": {
              "outlinewidth": 0,
              "ticks": ""
             }
            },
            "marker": {
             "colorbar": {
              "outlinewidth": 0,
              "ticks": ""
             }
            },
            "type": "scatter3d"
           }
          ],
          "scattercarpet": [
           {
            "marker": {
             "colorbar": {
              "outlinewidth": 0,
              "ticks": ""
             }
            },
            "type": "scattercarpet"
           }
          ],
          "scattergeo": [
           {
            "marker": {
             "colorbar": {
              "outlinewidth": 0,
              "ticks": ""
             }
            },
            "type": "scattergeo"
           }
          ],
          "scattergl": [
           {
            "marker": {
             "colorbar": {
              "outlinewidth": 0,
              "ticks": ""
             }
            },
            "type": "scattergl"
           }
          ],
          "scattermap": [
           {
            "marker": {
             "colorbar": {
              "outlinewidth": 0,
              "ticks": ""
             }
            },
            "type": "scattermap"
           }
          ],
          "scattermapbox": [
           {
            "marker": {
             "colorbar": {
              "outlinewidth": 0,
              "ticks": ""
             }
            },
            "type": "scattermapbox"
           }
          ],
          "scatterpolar": [
           {
            "marker": {
             "colorbar": {
              "outlinewidth": 0,
              "ticks": ""
             }
            },
            "type": "scatterpolar"
           }
          ],
          "scatterpolargl": [
           {
            "marker": {
             "colorbar": {
              "outlinewidth": 0,
              "ticks": ""
             }
            },
            "type": "scatterpolargl"
           }
          ],
          "scatterternary": [
           {
            "marker": {
             "colorbar": {
              "outlinewidth": 0,
              "ticks": ""
             }
            },
            "type": "scatterternary"
           }
          ],
          "surface": [
           {
            "colorbar": {
             "outlinewidth": 0,
             "ticks": ""
            },
            "colorscale": [
             [
              0,
              "#0d0887"
             ],
             [
              0.1111111111111111,
              "#46039f"
             ],
             [
              0.2222222222222222,
              "#7201a8"
             ],
             [
              0.3333333333333333,
              "#9c179e"
             ],
             [
              0.4444444444444444,
              "#bd3786"
             ],
             [
              0.5555555555555556,
              "#d8576b"
             ],
             [
              0.6666666666666666,
              "#ed7953"
             ],
             [
              0.7777777777777778,
              "#fb9f3a"
             ],
             [
              0.8888888888888888,
              "#fdca26"
             ],
             [
              1,
              "#f0f921"
             ]
            ],
            "type": "surface"
           }
          ],
          "table": [
           {
            "cells": {
             "fill": {
              "color": "#EBF0F8"
             },
             "line": {
              "color": "white"
             }
            },
            "header": {
             "fill": {
              "color": "#C8D4E3"
             },
             "line": {
              "color": "white"
             }
            },
            "type": "table"
           }
          ]
         },
         "layout": {
          "annotationdefaults": {
           "arrowcolor": "#2a3f5f",
           "arrowhead": 0,
           "arrowwidth": 1
          },
          "autotypenumbers": "strict",
          "coloraxis": {
           "colorbar": {
            "outlinewidth": 0,
            "ticks": ""
           }
          },
          "colorscale": {
           "diverging": [
            [
             0,
             "#8e0152"
            ],
            [
             0.1,
             "#c51b7d"
            ],
            [
             0.2,
             "#de77ae"
            ],
            [
             0.3,
             "#f1b6da"
            ],
            [
             0.4,
             "#fde0ef"
            ],
            [
             0.5,
             "#f7f7f7"
            ],
            [
             0.6,
             "#e6f5d0"
            ],
            [
             0.7,
             "#b8e186"
            ],
            [
             0.8,
             "#7fbc41"
            ],
            [
             0.9,
             "#4d9221"
            ],
            [
             1,
             "#276419"
            ]
           ],
           "sequential": [
            [
             0,
             "#0d0887"
            ],
            [
             0.1111111111111111,
             "#46039f"
            ],
            [
             0.2222222222222222,
             "#7201a8"
            ],
            [
             0.3333333333333333,
             "#9c179e"
            ],
            [
             0.4444444444444444,
             "#bd3786"
            ],
            [
             0.5555555555555556,
             "#d8576b"
            ],
            [
             0.6666666666666666,
             "#ed7953"
            ],
            [
             0.7777777777777778,
             "#fb9f3a"
            ],
            [
             0.8888888888888888,
             "#fdca26"
            ],
            [
             1,
             "#f0f921"
            ]
           ],
           "sequentialminus": [
            [
             0,
             "#0d0887"
            ],
            [
             0.1111111111111111,
             "#46039f"
            ],
            [
             0.2222222222222222,
             "#7201a8"
            ],
            [
             0.3333333333333333,
             "#9c179e"
            ],
            [
             0.4444444444444444,
             "#bd3786"
            ],
            [
             0.5555555555555556,
             "#d8576b"
            ],
            [
             0.6666666666666666,
             "#ed7953"
            ],
            [
             0.7777777777777778,
             "#fb9f3a"
            ],
            [
             0.8888888888888888,
             "#fdca26"
            ],
            [
             1,
             "#f0f921"
            ]
           ]
          },
          "colorway": [
           "#636efa",
           "#EF553B",
           "#00cc96",
           "#ab63fa",
           "#FFA15A",
           "#19d3f3",
           "#FF6692",
           "#B6E880",
           "#FF97FF",
           "#FECB52"
          ],
          "font": {
           "color": "#2a3f5f"
          },
          "geo": {
           "bgcolor": "white",
           "lakecolor": "white",
           "landcolor": "#E5ECF6",
           "showlakes": true,
           "showland": true,
           "subunitcolor": "white"
          },
          "hoverlabel": {
           "align": "left"
          },
          "hovermode": "closest",
          "mapbox": {
           "style": "light"
          },
          "paper_bgcolor": "white",
          "plot_bgcolor": "#E5ECF6",
          "polar": {
           "angularaxis": {
            "gridcolor": "white",
            "linecolor": "white",
            "ticks": ""
           },
           "bgcolor": "#E5ECF6",
           "radialaxis": {
            "gridcolor": "white",
            "linecolor": "white",
            "ticks": ""
           }
          },
          "scene": {
           "xaxis": {
            "backgroundcolor": "#E5ECF6",
            "gridcolor": "white",
            "gridwidth": 2,
            "linecolor": "white",
            "showbackground": true,
            "ticks": "",
            "zerolinecolor": "white"
           },
           "yaxis": {
            "backgroundcolor": "#E5ECF6",
            "gridcolor": "white",
            "gridwidth": 2,
            "linecolor": "white",
            "showbackground": true,
            "ticks": "",
            "zerolinecolor": "white"
           },
           "zaxis": {
            "backgroundcolor": "#E5ECF6",
            "gridcolor": "white",
            "gridwidth": 2,
            "linecolor": "white",
            "showbackground": true,
            "ticks": "",
            "zerolinecolor": "white"
           }
          },
          "shapedefaults": {
           "line": {
            "color": "#2a3f5f"
           }
          },
          "ternary": {
           "aaxis": {
            "gridcolor": "white",
            "linecolor": "white",
            "ticks": ""
           },
           "baxis": {
            "gridcolor": "white",
            "linecolor": "white",
            "ticks": ""
           },
           "bgcolor": "#E5ECF6",
           "caxis": {
            "gridcolor": "white",
            "linecolor": "white",
            "ticks": ""
           }
          },
          "title": {
           "x": 0.05
          },
          "xaxis": {
           "automargin": true,
           "gridcolor": "white",
           "linecolor": "white",
           "ticks": "",
           "title": {
            "standoff": 15
           },
           "zerolinecolor": "white",
           "zerolinewidth": 2
          },
          "yaxis": {
           "automargin": true,
           "gridcolor": "white",
           "linecolor": "white",
           "ticks": "",
           "title": {
            "standoff": 15
           },
           "zerolinecolor": "white",
           "zerolinewidth": 2
          }
         }
        },
        "title": {
         "text": "Histogramas das Variáveis Numéricas"
        },
        "width": 1200,
        "xaxis": {
         "anchor": "y",
         "domain": [
          0,
          0.2888888888888889
         ]
        },
        "xaxis10": {
         "anchor": "y10",
         "domain": [
          0,
          0.2888888888888889
         ]
        },
        "xaxis11": {
         "anchor": "y11",
         "domain": [
          0.35555555555555557,
          0.6444444444444445
         ]
        },
        "xaxis12": {
         "anchor": "y12",
         "domain": [
          0.7111111111111111,
          1
         ]
        },
        "xaxis13": {
         "anchor": "y13",
         "domain": [
          0,
          0.2888888888888889
         ]
        },
        "xaxis14": {
         "anchor": "y14",
         "domain": [
          0.35555555555555557,
          0.6444444444444445
         ]
        },
        "xaxis15": {
         "anchor": "y15",
         "domain": [
          0.7111111111111111,
          1
         ]
        },
        "xaxis16": {
         "anchor": "y16",
         "domain": [
          0,
          0.2888888888888889
         ]
        },
        "xaxis17": {
         "anchor": "y17",
         "domain": [
          0.35555555555555557,
          0.6444444444444445
         ]
        },
        "xaxis18": {
         "anchor": "y18",
         "domain": [
          0.7111111111111111,
          1
         ]
        },
        "xaxis2": {
         "anchor": "y2",
         "domain": [
          0.35555555555555557,
          0.6444444444444445
         ]
        },
        "xaxis3": {
         "anchor": "y3",
         "domain": [
          0.7111111111111111,
          1
         ]
        },
        "xaxis4": {
         "anchor": "y4",
         "domain": [
          0,
          0.2888888888888889
         ]
        },
        "xaxis5": {
         "anchor": "y5",
         "domain": [
          0.35555555555555557,
          0.6444444444444445
         ]
        },
        "xaxis6": {
         "anchor": "y6",
         "domain": [
          0.7111111111111111,
          1
         ]
        },
        "xaxis7": {
         "anchor": "y7",
         "domain": [
          0,
          0.2888888888888889
         ]
        },
        "xaxis8": {
         "anchor": "y8",
         "domain": [
          0.35555555555555557,
          0.6444444444444445
         ]
        },
        "xaxis9": {
         "anchor": "y9",
         "domain": [
          0.7111111111111111,
          1
         ]
        },
        "yaxis": {
         "anchor": "x",
         "domain": [
          0.9027777777777777,
          0.9999999999999999
         ]
        },
        "yaxis10": {
         "anchor": "x10",
         "domain": [
          0.3611111111111111,
          0.4583333333333333
         ]
        },
        "yaxis11": {
         "anchor": "x11",
         "domain": [
          0.3611111111111111,
          0.4583333333333333
         ]
        },
        "yaxis12": {
         "anchor": "x12",
         "domain": [
          0.3611111111111111,
          0.4583333333333333
         ]
        },
        "yaxis13": {
         "anchor": "x13",
         "domain": [
          0.18055555555555555,
          0.2777777777777778
         ]
        },
        "yaxis14": {
         "anchor": "x14",
         "domain": [
          0.18055555555555555,
          0.2777777777777778
         ]
        },
        "yaxis15": {
         "anchor": "x15",
         "domain": [
          0.18055555555555555,
          0.2777777777777778
         ]
        },
        "yaxis16": {
         "anchor": "x16",
         "domain": [
          0,
          0.09722222222222222
         ]
        },
        "yaxis17": {
         "anchor": "x17",
         "domain": [
          0,
          0.09722222222222222
         ]
        },
        "yaxis18": {
         "anchor": "x18",
         "domain": [
          0,
          0.09722222222222222
         ]
        },
        "yaxis2": {
         "anchor": "x2",
         "domain": [
          0.9027777777777777,
          0.9999999999999999
         ]
        },
        "yaxis3": {
         "anchor": "x3",
         "domain": [
          0.9027777777777777,
          0.9999999999999999
         ]
        },
        "yaxis4": {
         "anchor": "x4",
         "domain": [
          0.7222222222222222,
          0.8194444444444444
         ]
        },
        "yaxis5": {
         "anchor": "x5",
         "domain": [
          0.7222222222222222,
          0.8194444444444444
         ]
        },
        "yaxis6": {
         "anchor": "x6",
         "domain": [
          0.7222222222222222,
          0.8194444444444444
         ]
        },
        "yaxis7": {
         "anchor": "x7",
         "domain": [
          0.5416666666666667,
          0.638888888888889
         ]
        },
        "yaxis8": {
         "anchor": "x8",
         "domain": [
          0.5416666666666667,
          0.638888888888889
         ]
        },
        "yaxis9": {
         "anchor": "x9",
         "domain": [
          0.5416666666666667,
          0.638888888888889
         ]
        }
       }
      }
     },
     "metadata": {},
     "output_type": "display_data"
    }
   ],
   "source": [
    "# Número de colunas desejadas\n",
    "num_cols = 3\n",
    "\n",
    "# Calcular o número de linhas necessárias\n",
    "num_rows = math.ceil(len(num_vars) / num_cols)\n",
    "\n",
    "# Criar subplots\n",
    "fig = make_subplots(rows=num_rows, cols=num_cols, subplot_titles=num_vars)\n",
    "\n",
    "# Adicionar histogramas para cada variável numérica\n",
    "for i, var in enumerate(num_vars):\n",
    "    row = (i // num_cols) + 1\n",
    "    col = (i % num_cols) + 1\n",
    "    fig.add_trace(\n",
    "        go.Histogram(x=df_prospects[var], name=var),\n",
    "        row=row, col=col\n",
    "    )\n",
    "\n",
    "# Atualizar layout para remover a legenda\n",
    "fig.update_layout(\n",
    "    height=300*num_rows,\n",
    "    width=1200,\n",
    "    title_text=\"Histogramas das Variáveis Numéricas\",\n",
    "    showlegend=False\n",
    ")\n",
    "\n",
    "fig.show()"
   ]
  },
  {
   "cell_type": "markdown",
   "id": "f3e60384",
   "metadata": {},
   "source": [
    "### Gráficos de barras para cada variável categórica"
   ]
  },
  {
   "cell_type": "code",
   "execution_count": 29,
   "id": "d07776c6",
   "metadata": {},
   "outputs": [
    {
     "data": {
      "application/vnd.plotly.v1+json": {
       "config": {
        "plotlyServerURL": "https://plot.ly"
       },
       "data": [
        {
         "name": "ID_Prospect",
         "type": "bar",
         "x": [
          "9dbc78a3-4dfb-4dab-a28e-6df251a55237",
          "de943fb0-5e23-4e7f-8130-1aa76b33f4dc",
          "5050d0e5-5d35-4cb1-a208-596a3ee4ac1d",
          "435005c0-50ea-4755-acef-b4362c08dccd",
          "7ab56d4d-3ebc-41f0-8a13-3a648b3e0a70",
          "c7673f11-4d04-48c9-9de6-2ed00db8debc",
          "edfe34cf-0594-419b-a41a-01d81c770edb",
          "9d97a3c4-ccdb-456e-adec-b5f609421590",
          "3f547971-eac2-4712-82cd-eba6a560fa67",
          "da61ba8e-58af-43c7-92f7-0afef70c048d"
         ],
         "xaxis": "x",
         "y": {
          "bdata": "AQEBAQEBAQEBAQ==",
          "dtype": "i1"
         },
         "yaxis": "y"
        },
        {
         "name": "Nome",
         "type": "bar",
         "x": [
          "Mateus Teixeira",
          "Maria Duarte",
          "Caio Novais",
          "Enzo Ramos",
          "Luiz Fernando Sampaio",
          "Caio Vasconcelos",
          "Rael Fogaça",
          "Yan Moraes",
          "Leandro Garcia",
          "Sra. Letícia Pastor"
         ],
         "xaxis": "x2",
         "y": {
          "bdata": "AgICAQEBAQEBAQ==",
          "dtype": "i1"
         },
         "yaxis": "y2"
        },
        {
         "name": "Cidade",
         "type": "bar",
         "x": [
          "São Paulo",
          "Florianópolis",
          "Salvador",
          "Manaus",
          "Recife",
          "Porto Alegre",
          "Curitiba",
          "Goiânia",
          "Belém",
          "Belo Horizonte"
         ],
         "xaxis": "x3",
         "y": {
          "bdata": "LSwsKiYkIyEhHw==",
          "dtype": "i1"
         },
         "yaxis": "y3"
        },
        {
         "name": "Cargo",
         "type": "bar",
         "x": [
          "Bioquímico",
          "Arrumadeira",
          "Atendente",
          "Agricultor",
          "Crítico",
          "Bancário",
          "Jogador de tênis de mesa",
          "Assessor parlamentar",
          "Digitador",
          "Empregado doméstico"
         ],
         "xaxis": "x4",
         "y": {
          "bdata": "BgUFBAMDAwMDAw==",
          "dtype": "i1"
         },
         "yaxis": "y4"
        },
        {
         "name": "Estado Civil",
         "type": "bar",
         "x": [
          "Divorciado",
          "Solteiro",
          "Viúvo",
          "Casado"
         ],
         "xaxis": "x5",
         "y": {
          "bdata": "gQB9AHwAegA=",
          "dtype": "i2"
         },
         "yaxis": "y5"
        },
        {
         "name": "Moradia",
         "type": "bar",
         "x": [
          "Alugado",
          "Próprio"
         ],
         "xaxis": "x6",
         "y": {
          "bdata": "+wD5AA==",
          "dtype": "i2"
         },
         "yaxis": "y6"
        }
       ],
       "layout": {
        "annotations": [
         {
          "font": {
           "size": 16
          },
          "showarrow": false,
          "text": "ID_Prospect",
          "x": 0.14444444444444446,
          "xanchor": "center",
          "xref": "paper",
          "y": 1,
          "yanchor": "bottom",
          "yref": "paper"
         },
         {
          "font": {
           "size": 16
          },
          "showarrow": false,
          "text": "Nome",
          "x": 0.5,
          "xanchor": "center",
          "xref": "paper",
          "y": 1,
          "yanchor": "bottom",
          "yref": "paper"
         },
         {
          "font": {
           "size": 16
          },
          "showarrow": false,
          "text": "Cidade",
          "x": 0.8555555555555556,
          "xanchor": "center",
          "xref": "paper",
          "y": 1,
          "yanchor": "bottom",
          "yref": "paper"
         },
         {
          "font": {
           "size": 16
          },
          "showarrow": false,
          "text": "Cargo",
          "x": 0.14444444444444446,
          "xanchor": "center",
          "xref": "paper",
          "y": 0.375,
          "yanchor": "bottom",
          "yref": "paper"
         },
         {
          "font": {
           "size": 16
          },
          "showarrow": false,
          "text": "Estado Civil",
          "x": 0.5,
          "xanchor": "center",
          "xref": "paper",
          "y": 0.375,
          "yanchor": "bottom",
          "yref": "paper"
         },
         {
          "font": {
           "size": 16
          },
          "showarrow": false,
          "text": "Moradia",
          "x": 0.8555555555555556,
          "xanchor": "center",
          "xref": "paper",
          "y": 0.375,
          "yanchor": "bottom",
          "yref": "paper"
         }
        ],
        "height": 1000,
        "showlegend": false,
        "template": {
         "data": {
          "bar": [
           {
            "error_x": {
             "color": "#2a3f5f"
            },
            "error_y": {
             "color": "#2a3f5f"
            },
            "marker": {
             "line": {
              "color": "#E5ECF6",
              "width": 0.5
             },
             "pattern": {
              "fillmode": "overlay",
              "size": 10,
              "solidity": 0.2
             }
            },
            "type": "bar"
           }
          ],
          "barpolar": [
           {
            "marker": {
             "line": {
              "color": "#E5ECF6",
              "width": 0.5
             },
             "pattern": {
              "fillmode": "overlay",
              "size": 10,
              "solidity": 0.2
             }
            },
            "type": "barpolar"
           }
          ],
          "carpet": [
           {
            "aaxis": {
             "endlinecolor": "#2a3f5f",
             "gridcolor": "white",
             "linecolor": "white",
             "minorgridcolor": "white",
             "startlinecolor": "#2a3f5f"
            },
            "baxis": {
             "endlinecolor": "#2a3f5f",
             "gridcolor": "white",
             "linecolor": "white",
             "minorgridcolor": "white",
             "startlinecolor": "#2a3f5f"
            },
            "type": "carpet"
           }
          ],
          "choropleth": [
           {
            "colorbar": {
             "outlinewidth": 0,
             "ticks": ""
            },
            "type": "choropleth"
           }
          ],
          "contour": [
           {
            "colorbar": {
             "outlinewidth": 0,
             "ticks": ""
            },
            "colorscale": [
             [
              0,
              "#0d0887"
             ],
             [
              0.1111111111111111,
              "#46039f"
             ],
             [
              0.2222222222222222,
              "#7201a8"
             ],
             [
              0.3333333333333333,
              "#9c179e"
             ],
             [
              0.4444444444444444,
              "#bd3786"
             ],
             [
              0.5555555555555556,
              "#d8576b"
             ],
             [
              0.6666666666666666,
              "#ed7953"
             ],
             [
              0.7777777777777778,
              "#fb9f3a"
             ],
             [
              0.8888888888888888,
              "#fdca26"
             ],
             [
              1,
              "#f0f921"
             ]
            ],
            "type": "contour"
           }
          ],
          "contourcarpet": [
           {
            "colorbar": {
             "outlinewidth": 0,
             "ticks": ""
            },
            "type": "contourcarpet"
           }
          ],
          "heatmap": [
           {
            "colorbar": {
             "outlinewidth": 0,
             "ticks": ""
            },
            "colorscale": [
             [
              0,
              "#0d0887"
             ],
             [
              0.1111111111111111,
              "#46039f"
             ],
             [
              0.2222222222222222,
              "#7201a8"
             ],
             [
              0.3333333333333333,
              "#9c179e"
             ],
             [
              0.4444444444444444,
              "#bd3786"
             ],
             [
              0.5555555555555556,
              "#d8576b"
             ],
             [
              0.6666666666666666,
              "#ed7953"
             ],
             [
              0.7777777777777778,
              "#fb9f3a"
             ],
             [
              0.8888888888888888,
              "#fdca26"
             ],
             [
              1,
              "#f0f921"
             ]
            ],
            "type": "heatmap"
           }
          ],
          "histogram": [
           {
            "marker": {
             "pattern": {
              "fillmode": "overlay",
              "size": 10,
              "solidity": 0.2
             }
            },
            "type": "histogram"
           }
          ],
          "histogram2d": [
           {
            "colorbar": {
             "outlinewidth": 0,
             "ticks": ""
            },
            "colorscale": [
             [
              0,
              "#0d0887"
             ],
             [
              0.1111111111111111,
              "#46039f"
             ],
             [
              0.2222222222222222,
              "#7201a8"
             ],
             [
              0.3333333333333333,
              "#9c179e"
             ],
             [
              0.4444444444444444,
              "#bd3786"
             ],
             [
              0.5555555555555556,
              "#d8576b"
             ],
             [
              0.6666666666666666,
              "#ed7953"
             ],
             [
              0.7777777777777778,
              "#fb9f3a"
             ],
             [
              0.8888888888888888,
              "#fdca26"
             ],
             [
              1,
              "#f0f921"
             ]
            ],
            "type": "histogram2d"
           }
          ],
          "histogram2dcontour": [
           {
            "colorbar": {
             "outlinewidth": 0,
             "ticks": ""
            },
            "colorscale": [
             [
              0,
              "#0d0887"
             ],
             [
              0.1111111111111111,
              "#46039f"
             ],
             [
              0.2222222222222222,
              "#7201a8"
             ],
             [
              0.3333333333333333,
              "#9c179e"
             ],
             [
              0.4444444444444444,
              "#bd3786"
             ],
             [
              0.5555555555555556,
              "#d8576b"
             ],
             [
              0.6666666666666666,
              "#ed7953"
             ],
             [
              0.7777777777777778,
              "#fb9f3a"
             ],
             [
              0.8888888888888888,
              "#fdca26"
             ],
             [
              1,
              "#f0f921"
             ]
            ],
            "type": "histogram2dcontour"
           }
          ],
          "mesh3d": [
           {
            "colorbar": {
             "outlinewidth": 0,
             "ticks": ""
            },
            "type": "mesh3d"
           }
          ],
          "parcoords": [
           {
            "line": {
             "colorbar": {
              "outlinewidth": 0,
              "ticks": ""
             }
            },
            "type": "parcoords"
           }
          ],
          "pie": [
           {
            "automargin": true,
            "type": "pie"
           }
          ],
          "scatter": [
           {
            "fillpattern": {
             "fillmode": "overlay",
             "size": 10,
             "solidity": 0.2
            },
            "type": "scatter"
           }
          ],
          "scatter3d": [
           {
            "line": {
             "colorbar": {
              "outlinewidth": 0,
              "ticks": ""
             }
            },
            "marker": {
             "colorbar": {
              "outlinewidth": 0,
              "ticks": ""
             }
            },
            "type": "scatter3d"
           }
          ],
          "scattercarpet": [
           {
            "marker": {
             "colorbar": {
              "outlinewidth": 0,
              "ticks": ""
             }
            },
            "type": "scattercarpet"
           }
          ],
          "scattergeo": [
           {
            "marker": {
             "colorbar": {
              "outlinewidth": 0,
              "ticks": ""
             }
            },
            "type": "scattergeo"
           }
          ],
          "scattergl": [
           {
            "marker": {
             "colorbar": {
              "outlinewidth": 0,
              "ticks": ""
             }
            },
            "type": "scattergl"
           }
          ],
          "scattermap": [
           {
            "marker": {
             "colorbar": {
              "outlinewidth": 0,
              "ticks": ""
             }
            },
            "type": "scattermap"
           }
          ],
          "scattermapbox": [
           {
            "marker": {
             "colorbar": {
              "outlinewidth": 0,
              "ticks": ""
             }
            },
            "type": "scattermapbox"
           }
          ],
          "scatterpolar": [
           {
            "marker": {
             "colorbar": {
              "outlinewidth": 0,
              "ticks": ""
             }
            },
            "type": "scatterpolar"
           }
          ],
          "scatterpolargl": [
           {
            "marker": {
             "colorbar": {
              "outlinewidth": 0,
              "ticks": ""
             }
            },
            "type": "scatterpolargl"
           }
          ],
          "scatterternary": [
           {
            "marker": {
             "colorbar": {
              "outlinewidth": 0,
              "ticks": ""
             }
            },
            "type": "scatterternary"
           }
          ],
          "surface": [
           {
            "colorbar": {
             "outlinewidth": 0,
             "ticks": ""
            },
            "colorscale": [
             [
              0,
              "#0d0887"
             ],
             [
              0.1111111111111111,
              "#46039f"
             ],
             [
              0.2222222222222222,
              "#7201a8"
             ],
             [
              0.3333333333333333,
              "#9c179e"
             ],
             [
              0.4444444444444444,
              "#bd3786"
             ],
             [
              0.5555555555555556,
              "#d8576b"
             ],
             [
              0.6666666666666666,
              "#ed7953"
             ],
             [
              0.7777777777777778,
              "#fb9f3a"
             ],
             [
              0.8888888888888888,
              "#fdca26"
             ],
             [
              1,
              "#f0f921"
             ]
            ],
            "type": "surface"
           }
          ],
          "table": [
           {
            "cells": {
             "fill": {
              "color": "#EBF0F8"
             },
             "line": {
              "color": "white"
             }
            },
            "header": {
             "fill": {
              "color": "#C8D4E3"
             },
             "line": {
              "color": "white"
             }
            },
            "type": "table"
           }
          ]
         },
         "layout": {
          "annotationdefaults": {
           "arrowcolor": "#2a3f5f",
           "arrowhead": 0,
           "arrowwidth": 1
          },
          "autotypenumbers": "strict",
          "coloraxis": {
           "colorbar": {
            "outlinewidth": 0,
            "ticks": ""
           }
          },
          "colorscale": {
           "diverging": [
            [
             0,
             "#8e0152"
            ],
            [
             0.1,
             "#c51b7d"
            ],
            [
             0.2,
             "#de77ae"
            ],
            [
             0.3,
             "#f1b6da"
            ],
            [
             0.4,
             "#fde0ef"
            ],
            [
             0.5,
             "#f7f7f7"
            ],
            [
             0.6,
             "#e6f5d0"
            ],
            [
             0.7,
             "#b8e186"
            ],
            [
             0.8,
             "#7fbc41"
            ],
            [
             0.9,
             "#4d9221"
            ],
            [
             1,
             "#276419"
            ]
           ],
           "sequential": [
            [
             0,
             "#0d0887"
            ],
            [
             0.1111111111111111,
             "#46039f"
            ],
            [
             0.2222222222222222,
             "#7201a8"
            ],
            [
             0.3333333333333333,
             "#9c179e"
            ],
            [
             0.4444444444444444,
             "#bd3786"
            ],
            [
             0.5555555555555556,
             "#d8576b"
            ],
            [
             0.6666666666666666,
             "#ed7953"
            ],
            [
             0.7777777777777778,
             "#fb9f3a"
            ],
            [
             0.8888888888888888,
             "#fdca26"
            ],
            [
             1,
             "#f0f921"
            ]
           ],
           "sequentialminus": [
            [
             0,
             "#0d0887"
            ],
            [
             0.1111111111111111,
             "#46039f"
            ],
            [
             0.2222222222222222,
             "#7201a8"
            ],
            [
             0.3333333333333333,
             "#9c179e"
            ],
            [
             0.4444444444444444,
             "#bd3786"
            ],
            [
             0.5555555555555556,
             "#d8576b"
            ],
            [
             0.6666666666666666,
             "#ed7953"
            ],
            [
             0.7777777777777778,
             "#fb9f3a"
            ],
            [
             0.8888888888888888,
             "#fdca26"
            ],
            [
             1,
             "#f0f921"
            ]
           ]
          },
          "colorway": [
           "#636efa",
           "#EF553B",
           "#00cc96",
           "#ab63fa",
           "#FFA15A",
           "#19d3f3",
           "#FF6692",
           "#B6E880",
           "#FF97FF",
           "#FECB52"
          ],
          "font": {
           "color": "#2a3f5f"
          },
          "geo": {
           "bgcolor": "white",
           "lakecolor": "white",
           "landcolor": "#E5ECF6",
           "showlakes": true,
           "showland": true,
           "subunitcolor": "white"
          },
          "hoverlabel": {
           "align": "left"
          },
          "hovermode": "closest",
          "mapbox": {
           "style": "light"
          },
          "paper_bgcolor": "white",
          "plot_bgcolor": "#E5ECF6",
          "polar": {
           "angularaxis": {
            "gridcolor": "white",
            "linecolor": "white",
            "ticks": ""
           },
           "bgcolor": "#E5ECF6",
           "radialaxis": {
            "gridcolor": "white",
            "linecolor": "white",
            "ticks": ""
           }
          },
          "scene": {
           "xaxis": {
            "backgroundcolor": "#E5ECF6",
            "gridcolor": "white",
            "gridwidth": 2,
            "linecolor": "white",
            "showbackground": true,
            "ticks": "",
            "zerolinecolor": "white"
           },
           "yaxis": {
            "backgroundcolor": "#E5ECF6",
            "gridcolor": "white",
            "gridwidth": 2,
            "linecolor": "white",
            "showbackground": true,
            "ticks": "",
            "zerolinecolor": "white"
           },
           "zaxis": {
            "backgroundcolor": "#E5ECF6",
            "gridcolor": "white",
            "gridwidth": 2,
            "linecolor": "white",
            "showbackground": true,
            "ticks": "",
            "zerolinecolor": "white"
           }
          },
          "shapedefaults": {
           "line": {
            "color": "#2a3f5f"
           }
          },
          "ternary": {
           "aaxis": {
            "gridcolor": "white",
            "linecolor": "white",
            "ticks": ""
           },
           "baxis": {
            "gridcolor": "white",
            "linecolor": "white",
            "ticks": ""
           },
           "bgcolor": "#E5ECF6",
           "caxis": {
            "gridcolor": "white",
            "linecolor": "white",
            "ticks": ""
           }
          },
          "title": {
           "x": 0.05
          },
          "xaxis": {
           "automargin": true,
           "gridcolor": "white",
           "linecolor": "white",
           "ticks": "",
           "title": {
            "standoff": 15
           },
           "zerolinecolor": "white",
           "zerolinewidth": 2
          },
          "yaxis": {
           "automargin": true,
           "gridcolor": "white",
           "linecolor": "white",
           "ticks": "",
           "title": {
            "standoff": 15
           },
           "zerolinecolor": "white",
           "zerolinewidth": 2
          }
         }
        },
        "title": {
         "text": "Gráficos de Barras das Variáveis Categóricas"
        },
        "width": 1200,
        "xaxis": {
         "anchor": "y",
         "domain": [
          0,
          0.2888888888888889
         ]
        },
        "xaxis2": {
         "anchor": "y2",
         "domain": [
          0.35555555555555557,
          0.6444444444444445
         ]
        },
        "xaxis3": {
         "anchor": "y3",
         "domain": [
          0.7111111111111111,
          1
         ]
        },
        "xaxis4": {
         "anchor": "y4",
         "domain": [
          0,
          0.2888888888888889
         ]
        },
        "xaxis5": {
         "anchor": "y5",
         "domain": [
          0.35555555555555557,
          0.6444444444444445
         ]
        },
        "xaxis6": {
         "anchor": "y6",
         "domain": [
          0.7111111111111111,
          1
         ]
        },
        "yaxis": {
         "anchor": "x",
         "domain": [
          0.625,
          1
         ]
        },
        "yaxis2": {
         "anchor": "x2",
         "domain": [
          0.625,
          1
         ]
        },
        "yaxis3": {
         "anchor": "x3",
         "domain": [
          0.625,
          1
         ]
        },
        "yaxis4": {
         "anchor": "x4",
         "domain": [
          0,
          0.375
         ]
        },
        "yaxis5": {
         "anchor": "x5",
         "domain": [
          0,
          0.375
         ]
        },
        "yaxis6": {
         "anchor": "x6",
         "domain": [
          0,
          0.375
         ]
        }
       }
      }
     },
     "metadata": {},
     "output_type": "display_data"
    }
   ],
   "source": [
    "# Número de colunas desejadas\n",
    "num_cols = 3\n",
    "\n",
    "# Calcular o número de linhas necessárias\n",
    "num_rows = math.ceil(len(cat_vars) / num_cols)\n",
    "\n",
    "# Criar subplots\n",
    "fig = make_subplots(rows=num_rows, cols=num_cols, subplot_titles=cat_vars)\n",
    "\n",
    "# Adicionar gráficos de barras para cada variável categórica\n",
    "for i, var in enumerate(cat_vars):\n",
    "    row = (i // num_cols) + 1\n",
    "    col = (i % num_cols) + 1\n",
    "    fig.add_trace(\n",
    "        go.Bar(\n",
    "            x=df_prospects[var].value_counts().index[:10],\n",
    "            y=df_prospects[var].value_counts().values[:10],\n",
    "            name=var\n",
    "        ),\n",
    "        row=row, col=col\n",
    "    )\n",
    "\n",
    "# Atualizar layout\n",
    "fig.update_layout(\n",
    "    height=500*num_rows,\n",
    "    width=1200,\n",
    "    title_text=\"Gráficos de Barras das Variáveis Categóricas\",\n",
    "    showlegend=False\n",
    ")\n",
    "\n",
    "fig.show()\n"
   ]
  },
  {
   "cell_type": "markdown",
   "id": "3168060a",
   "metadata": {},
   "source": [
    "### Carregar modelo"
   ]
  },
  {
   "cell_type": "code",
   "execution_count": 30,
   "id": "77995ac2",
   "metadata": {},
   "outputs": [],
   "source": [
    "modelo = joblib.load('modelo_inadimplencia.pkl')"
   ]
  },
  {
   "cell_type": "markdown",
   "id": "96344096",
   "metadata": {},
   "source": [
    "### Preparar dados"
   ]
  },
  {
   "cell_type": "code",
   "execution_count": 31,
   "id": "61936175",
   "metadata": {},
   "outputs": [],
   "source": [
    "selected_features = ['Idade', 'Renda', 'Investimentos', 'Ativos', 'Dívidas']\n",
    "X_prospects = df_prospects[selected_features]"
   ]
  },
  {
   "cell_type": "markdown",
   "id": "2c7ee622",
   "metadata": {},
   "source": [
    "### Realizar predição"
   ]
  },
  {
   "cell_type": "code",
   "execution_count": 32,
   "id": "03fcc915",
   "metadata": {},
   "outputs": [],
   "source": [
    "df_prospects['Probabilidade Inadimplencia'] = modelo.predict(X_prospects)\n",
    "df_prospects['Probabilidade Inadimplencia'] = round(df_prospects['Probabilidade Inadimplencia'], 2)"
   ]
  },
  {
   "cell_type": "markdown",
   "id": "1b56ab48",
   "metadata": {},
   "source": [
    "### Calcular score"
   ]
  },
  {
   "cell_type": "code",
   "execution_count": 33,
   "id": "4b831e13",
   "metadata": {},
   "outputs": [],
   "source": [
    "def calcular_score(row):\n",
    "    renda_norm = min(row['Renda'] / 50000, 1)\n",
    "    invest_norm = min(row['Investimentos'] / 1e6, 1)\n",
    "    ativos_norm = min(row['Ativos'] / 2e6, 1)\n",
    "    dividas_norm = min(row['Dívidas'] / 5e5, 1)\n",
    "\n",
    "    score_base = (renda_norm*0.4 + invest_norm*0.3 + ativos_norm*0.2 - dividas_norm*0.4) * 1000\n",
    "    score_ajustado = score_base * (1 - (row['Probabilidade Inadimplencia'] / 100))\n",
    "    \n",
    "    return int(round(max(0, min(1000, score_ajustado))))\n",
    "\n",
    "df_prospects['Score'] = df_prospects.apply(calcular_score, axis=1)"
   ]
  },
  {
   "cell_type": "markdown",
   "id": "c076bf5f",
   "metadata": {},
   "source": [
    "### Salvar resultados"
   ]
  },
  {
   "cell_type": "code",
   "execution_count": 34,
   "id": "06ad93f6",
   "metadata": {},
   "outputs": [],
   "source": [
    "df_prospects.to_csv('./datasets/prospects_com_score.csv', index=False)"
   ]
  }
 ],
 "metadata": {
  "kernelspec": {
   "display_name": "Projeto_ML",
   "language": "python",
   "name": "python3"
  },
  "language_info": {
   "codemirror_mode": {
    "name": "ipython",
    "version": 3
   },
   "file_extension": ".py",
   "mimetype": "text/x-python",
   "name": "python",
   "nbconvert_exporter": "python",
   "pygments_lexer": "ipython3",
   "version": "3.12.1"
  }
 },
 "nbformat": 4,
 "nbformat_minor": 5
}
